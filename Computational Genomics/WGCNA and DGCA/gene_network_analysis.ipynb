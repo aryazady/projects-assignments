{
  "cells": [
    {
      "cell_type": "code",
      "execution_count": 1,
      "metadata": {
        "colab": {
          "base_uri": "https://localhost:8080/"
        },
        "id": "MNxQarkMgrDK",
        "outputId": "921682d1-b4c9-46e1-be58-4b821f90be79",
        "vscode": {
          "languageId": "r"
        }
      },
      "outputs": [
        {
          "name": "stderr",
          "output_type": "stream",
          "text": [
            "Installing package into ‘/usr/local/lib/R/site-library’\n",
            "(as ‘lib’ is unspecified)\n",
            "\n",
            "Installing package into ‘/usr/local/lib/R/site-library’\n",
            "(as ‘lib’ is unspecified)\n",
            "\n",
            "Installing package into ‘/usr/local/lib/R/site-library’\n",
            "(as ‘lib’ is unspecified)\n",
            "\n",
            "Installing package into ‘/usr/local/lib/R/site-library’\n",
            "(as ‘lib’ is unspecified)\n",
            "\n",
            "also installing the dependencies ‘bitops’, ‘gtools’, ‘caTools’\n",
            "\n",
            "\n",
            "Installing package into ‘/usr/local/lib/R/site-library’\n",
            "(as ‘lib’ is unspecified)\n",
            "\n",
            "'getOption(\"repos\")' replaces Bioconductor standard repositories, see\n",
            "'?repositories' for details\n",
            "\n",
            "replacement repositories:\n",
            "    CRAN: https://cran.rstudio.com\n",
            "\n",
            "\n",
            "Bioconductor version 3.16 (BiocManager 1.30.19), R 4.2.2 Patched (2022-11-10\n",
            "  r83330)\n",
            "\n",
            "Installing package(s) 'BiocVersion', 'WGCNA'\n",
            "\n",
            "also installing the dependencies ‘zlibbioc’, ‘RCurl’, ‘GenomeInfoDbData’, ‘deldir’, ‘RcppEigen’, ‘XVector’, ‘GenomeInfoDb’, ‘png’, ‘jpeg’, ‘interp’, ‘checkmate’, ‘htmlwidgets’, ‘plogr’, ‘Biostrings’, ‘Formula’, ‘latticeExtra’, ‘gridExtra’, ‘htmlTable’, ‘viridis’, ‘iterators’, ‘BiocGenerics’, ‘Biobase’, ‘IRanges’, ‘RSQLite’, ‘S4Vectors’, ‘KEGGREST’, ‘dynamicTreeCut’, ‘fastcluster’, ‘matrixStats’, ‘Hmisc’, ‘impute’, ‘foreach’, ‘doParallel’, ‘preprocessCore’, ‘GO.db’, ‘AnnotationDbi’, ‘Rcpp’\n",
            "\n",
            "\n",
            "Old packages: 'bit', 'bslib', 'data.table', 'devtools', 'digest', 'dplyr',\n",
            "  'forcats', 'gargle', 'gert', 'highr', 'isoband', 'jsonlite', 'openssl',\n",
            "  'pkgload', 'roxygen2', 'stringr', 'testthat', 'tidyverse', 'tinytex', 'utf8',\n",
            "  'whisker', 'xfun', 'boot', 'codetools', 'foreign', 'nlme'\n",
            "\n",
            "Installing package into ‘/usr/local/lib/R/site-library’\n",
            "(as ‘lib’ is unspecified)\n",
            "\n"
          ]
        }
      ],
      "source": [
        "#### Install Dependencies for library ####\n",
        "install.packages(\"magrittr\")\n",
        "install.packages(\"data.table\")\n",
        "install.packages(\"ggplot2\")\n",
        "install.packages(\"gplots\")\n",
        "install.packages(\"BiocManager\")\n",
        "library(\"BiocManager\")\n",
        "BiocManager::install(\"WGCNA\")\n",
        "install.packages(\"DGCA\")"
      ]
    },
    {
      "cell_type": "code",
      "execution_count": 1,
      "metadata": {
        "colab": {
          "base_uri": "https://localhost:8080/"
        },
        "id": "ZFdLKGpcgyAc",
        "outputId": "e36296f8-5cac-4faa-c69f-23f7b7fd97a3",
        "vscode": {
          "languageId": "r"
        }
      },
      "outputs": [
        {
          "name": "stderr",
          "output_type": "stream",
          "text": [
            "\n",
            "Attaching package: ‘gplots’\n",
            "\n",
            "\n",
            "The following object is masked from ‘package:stats’:\n",
            "\n",
            "    lowess\n",
            "\n",
            "\n",
            "Loading required package: dynamicTreeCut\n",
            "\n",
            "Loading required package: fastcluster\n",
            "\n",
            "\n",
            "Attaching package: ‘fastcluster’\n",
            "\n",
            "\n",
            "The following object is masked from ‘package:stats’:\n",
            "\n",
            "    hclust\n",
            "\n",
            "\n",
            "\n",
            "\n",
            "\n",
            "Attaching package: ‘WGCNA’\n",
            "\n",
            "\n",
            "The following object is masked from ‘package:stats’:\n",
            "\n",
            "    cor\n",
            "\n",
            "\n"
          ]
        }
      ],
      "source": [
        "library(magrittr)\n",
        "library(data.table)\n",
        "library(ggplot2)\n",
        "library(gplots)\n",
        "library(WGCNA)\n",
        "library(DGCA)"
      ]
    },
    {
      "cell_type": "code",
      "execution_count": 2,
      "metadata": {
        "id": "KpIJeDUBlAM5",
        "vscode": {
          "languageId": "r"
        }
      },
      "outputs": [],
      "source": [
        "### downloading data\n",
        "clinical_patient_url <- \"https://drive.google.com/uc?id=1vHyUxYv9Tmk2Pa_TR49NZ0IsKIR1WzWb&export=download\"\n",
        "clinical_sample_url <- \"https://drive.google.com/uc?id=1w6lGMtvoPAQfV4rHYSa6loo8bVdTrRiy&export=download\"\n",
        "gbm_url <- \"https://drive.google.com/uc?id=1_4P14tcl4U2VMKUIaZcUD7XqlTfcAbxw&export=download\"\n",
        "\n",
        "clinical_patient <- \"./data_clinical_patient.txt\"\n",
        "clinical_sample <- \"./data_clinical_sample.txt\"\n",
        "gbm <- \"./GBM.uncv2.mRNAseq_RSEM_normalized_log2.txt\"\n",
        "\n",
        "download.file(clinical_patient_url, clinical_patient)\n",
        "download.file(clinical_sample_url, clinical_sample)\n",
        "download.file(gbm_url, gbm)\n",
        "\n",
        "clin.patient <- read.table(\"./data_clinical_patient.txt\", sep = \"\\t\", header = T)\n",
        "clin.sample <- read.table(\"./data_clinical_sample.txt\", sep = \"\\t\", header = T)\n",
        "gbm.data <- fread(\"./GBM.uncv2.mRNAseq_RSEM_normalized_log2.txt\")"
      ]
    },
    {
      "cell_type": "code",
      "execution_count": 3,
      "metadata": {
        "id": "Dul1-ZyDlUrB",
        "vscode": {
          "languageId": "r"
        }
      },
      "outputs": [],
      "source": [
        "exprData <- gbm.data\n",
        "exprData$gene <- exprData$gene %>% gsub(\"\\\\|.*\", \"\", .)\n",
        "exprData <- exprData[-which(exprData$gene == \"?\"),]\n",
        "\n",
        "n_occur <- data.frame(table(exprData$gene))\n",
        "dup_id <- which(exprData$gene %in% n_occur$Var1[n_occur$Freq > 1])\n",
        "exprData <- as.data.frame(exprData[-dup_id[2],])\n",
        "\n",
        "exprData <- exprData[,c(1,which(substr(colnames(exprData), 14, 15) == \"01\" | substr(colnames(exprData), 14, 15) == \"11\"))]\n",
        "rownames(exprData) <- exprData$gene\n",
        "exprData <- exprData[,-1] %>% na.omit()\n",
        "\n",
        "traitData <- data.frame(sample_id=colnames(exprData), disease_status=substr(colnames(exprData), 14, 15))\n",
        "traitData$Tumor[which(traitData$disease_status == \"01\")] <- as.numeric(\"1\")\n",
        "traitData$Tumor[which(traitData$disease_status == \"11\")] <- as.numeric(\"0\")\n",
        "traitData$Normal[which(traitData$disease_status == \"01\")] <- as.numeric(\"0\")\n",
        "traitData$Normal[which(traitData$disease_status == \"11\")] <- as.numeric(\"1\")\n",
        "rownames(traitData) <- traitData$sample_id\n",
        "traitData <- traitData[,-c(1,2)]"
      ]
    },
    {
      "cell_type": "code",
      "execution_count": 4,
      "metadata": {
        "colab": {
          "base_uri": "https://localhost:8080/",
          "height": 286
        },
        "id": "n6avnjw2lRW4",
        "outputId": "1db12f64-9c76-4b91-f1b9-8b6a16ea1fc8",
        "vscode": {
          "languageId": "r"
        }
      },
      "outputs": [
        {
          "data": {
            "text/html": [
              "<table class=\"dataframe\">\n",
              "<caption>A data.frame: 6 × 2</caption>\n",
              "<thead>\n",
              "\t<tr><th></th><th scope=col>Tumor</th><th scope=col>Normal</th></tr>\n",
              "\t<tr><th></th><th scope=col>&lt;dbl&gt;</th><th scope=col>&lt;dbl&gt;</th></tr>\n",
              "</thead>\n",
              "<tbody>\n",
              "\t<tr><th scope=row>TCGA-02-0047-01</th><td>1</td><td>0</td></tr>\n",
              "\t<tr><th scope=row>TCGA-02-0055-01</th><td>1</td><td>0</td></tr>\n",
              "\t<tr><th scope=row>TCGA-02-2483-01</th><td>1</td><td>0</td></tr>\n",
              "\t<tr><th scope=row>TCGA-02-2485-01</th><td>1</td><td>0</td></tr>\n",
              "\t<tr><th scope=row>TCGA-02-2486-01</th><td>1</td><td>0</td></tr>\n",
              "\t<tr><th scope=row>TCGA-06-0125-01</th><td>1</td><td>0</td></tr>\n",
              "</tbody>\n",
              "</table>\n"
            ],
            "text/latex": [
              "A data.frame: 6 × 2\n",
              "\\begin{tabular}{r|ll}\n",
              "  & Tumor & Normal\\\\\n",
              "  & <dbl> & <dbl>\\\\\n",
              "\\hline\n",
              "\tTCGA-02-0047-01 & 1 & 0\\\\\n",
              "\tTCGA-02-0055-01 & 1 & 0\\\\\n",
              "\tTCGA-02-2483-01 & 1 & 0\\\\\n",
              "\tTCGA-02-2485-01 & 1 & 0\\\\\n",
              "\tTCGA-02-2486-01 & 1 & 0\\\\\n",
              "\tTCGA-06-0125-01 & 1 & 0\\\\\n",
              "\\end{tabular}\n"
            ],
            "text/markdown": [
              "\n",
              "A data.frame: 6 × 2\n",
              "\n",
              "| <!--/--> | Tumor &lt;dbl&gt; | Normal &lt;dbl&gt; |\n",
              "|---|---|---|\n",
              "| TCGA-02-0047-01 | 1 | 0 |\n",
              "| TCGA-02-0055-01 | 1 | 0 |\n",
              "| TCGA-02-2483-01 | 1 | 0 |\n",
              "| TCGA-02-2485-01 | 1 | 0 |\n",
              "| TCGA-02-2486-01 | 1 | 0 |\n",
              "| TCGA-06-0125-01 | 1 | 0 |\n",
              "\n"
            ],
            "text/plain": [
              "                Tumor Normal\n",
              "TCGA-02-0047-01 1     0     \n",
              "TCGA-02-0055-01 1     0     \n",
              "TCGA-02-2483-01 1     0     \n",
              "TCGA-02-2485-01 1     0     \n",
              "TCGA-02-2486-01 1     0     \n",
              "TCGA-06-0125-01 1     0     "
            ]
          },
          "metadata": {},
          "output_type": "display_data"
        }
      ],
      "source": [
        "head(traitData)"
      ]
    },
    {
      "cell_type": "code",
      "execution_count": 7,
      "metadata": {
        "colab": {
          "base_uri": "https://localhost:8080/"
        },
        "id": "zjdnA6opld4A",
        "outputId": "c44566a5-c9bb-451c-fc9b-f2cd22a110ab",
        "vscode": {
          "languageId": "r"
        }
      },
      "outputs": [
        {
          "name": "stdout",
          "output_type": "stream",
          "text": [
            "Allowing multi-threading with up to 2 threads.\n"
          ]
        }
      ],
      "source": [
        "# enableWGCNAThreads()\n",
        "allowWGCNAThreads(2)\n",
        "options(stringsAsFactors = FALSE)"
      ]
    },
    {
      "cell_type": "code",
      "execution_count": 6,
      "metadata": {
        "id": "9Bz2bbv9locE",
        "vscode": {
          "languageId": "r"
        }
      },
      "outputs": [],
      "source": [
        "exprData <- as.data.frame(t(exprData))"
      ]
    },
    {
      "cell_type": "code",
      "execution_count": 8,
      "metadata": {
        "colab": {
          "base_uri": "https://localhost:8080/",
          "height": 618
        },
        "id": "Ryv5330Mlqft",
        "outputId": "5173d3b9-0d23-4a71-a776-76cfbe44a5ff",
        "vscode": {
          "languageId": "r"
        }
      },
      "outputs": [
        {
          "data": {
            "text/html": [
              "<table class=\"dataframe\">\n",
              "<caption>A data.frame: 6 × 14259</caption>\n",
              "<thead>\n",
              "\t<tr><th></th><th scope=col>A1BG</th><th scope=col>A2BP1</th><th scope=col>A2LD1</th><th scope=col>A2M</th><th scope=col>A4GALT</th><th scope=col>AAAS</th><th scope=col>AACS</th><th scope=col>AADAT</th><th scope=col>AAGAB</th><th scope=col>AAK1</th><th scope=col>⋯</th><th scope=col>ZW10</th><th scope=col>ZWILCH</th><th scope=col>ZWINT</th><th scope=col>ZXDA</th><th scope=col>ZXDB</th><th scope=col>ZXDC</th><th scope=col>ZYG11B</th><th scope=col>ZYX</th><th scope=col>ZZEF1</th><th scope=col>ZZZ3</th></tr>\n",
              "\t<tr><th></th><th scope=col>&lt;dbl&gt;</th><th scope=col>&lt;dbl&gt;</th><th scope=col>&lt;dbl&gt;</th><th scope=col>&lt;dbl&gt;</th><th scope=col>&lt;dbl&gt;</th><th scope=col>&lt;dbl&gt;</th><th scope=col>&lt;dbl&gt;</th><th scope=col>&lt;dbl&gt;</th><th scope=col>&lt;dbl&gt;</th><th scope=col>&lt;dbl&gt;</th><th scope=col>⋯</th><th scope=col>&lt;dbl&gt;</th><th scope=col>&lt;dbl&gt;</th><th scope=col>&lt;dbl&gt;</th><th scope=col>&lt;dbl&gt;</th><th scope=col>&lt;dbl&gt;</th><th scope=col>&lt;dbl&gt;</th><th scope=col>&lt;dbl&gt;</th><th scope=col>&lt;dbl&gt;</th><th scope=col>&lt;dbl&gt;</th><th scope=col>&lt;dbl&gt;</th></tr>\n",
              "</thead>\n",
              "<tbody>\n",
              "\t<tr><th scope=row>TCGA-02-0047-01</th><td>6.965864</td><td>7.934455</td><td>5.783258</td><td>15.05377</td><td>5.180474</td><td> 8.865786</td><td>8.912540</td><td>7.867686</td><td>10.006052</td><td>10.453281</td><td>⋯</td><td>8.171274</td><td>8.023537</td><td>8.659774</td><td>6.025751</td><td>8.477739</td><td>10.114814</td><td>10.237409</td><td>11.91736</td><td>10.448212</td><td>9.237409</td></tr>\n",
              "\t<tr><th scope=row>TCGA-02-0055-01</th><td>8.613988</td><td>7.101725</td><td>6.392558</td><td>15.38789</td><td>8.929958</td><td> 9.216296</td><td>8.309745</td><td>6.640820</td><td>10.410639</td><td> 9.965178</td><td>⋯</td><td>8.518233</td><td>8.869007</td><td>7.939874</td><td>5.413015</td><td>8.130871</td><td> 9.247236</td><td> 9.852462</td><td>13.48701</td><td> 9.243237</td><td>9.488141</td></tr>\n",
              "\t<tr><th scope=row>TCGA-02-2483-01</th><td>8.086679</td><td>6.794793</td><td>5.110079</td><td>14.36212</td><td>6.442375</td><td>10.104049</td><td>8.945699</td><td>8.017969</td><td> 9.920152</td><td> 9.440623</td><td>⋯</td><td>9.106813</td><td>9.414139</td><td>9.386141</td><td>4.279434</td><td>8.665767</td><td> 9.758689</td><td>10.239186</td><td>12.30686</td><td> 9.700586</td><td>9.462370</td></tr>\n",
              "\t<tr><th scope=row>TCGA-02-2485-01</th><td>6.391336</td><td>8.006427</td><td>6.980547</td><td>12.92899</td><td>7.278339</td><td> 9.985571</td><td>8.249283</td><td>7.569856</td><td>10.358494</td><td> 9.367363</td><td>⋯</td><td>8.419459</td><td>8.782624</td><td>8.787592</td><td>5.749789</td><td>8.099536</td><td>10.394156</td><td>10.063395</td><td>12.31372</td><td>10.154215</td><td>9.452192</td></tr>\n",
              "\t<tr><th scope=row>TCGA-02-2486-01</th><td>6.758305</td><td>2.093662</td><td>7.573878</td><td>15.32233</td><td>5.456228</td><td> 9.454976</td><td>8.614979</td><td>7.762038</td><td>10.534825</td><td> 8.983272</td><td>⋯</td><td>8.716757</td><td>7.381015</td><td>6.217041</td><td>4.986743</td><td>7.630600</td><td> 9.349699</td><td> 9.429687</td><td>12.92926</td><td> 9.293331</td><td>9.042860</td></tr>\n",
              "\t<tr><th scope=row>TCGA-06-0125-01</th><td>7.655826</td><td>5.715797</td><td>6.828434</td><td>13.44798</td><td>6.681851</td><td> 9.696093</td><td>8.815706</td><td>8.262992</td><td> 9.689701</td><td> 9.671797</td><td>⋯</td><td>8.550061</td><td>8.807426</td><td>8.585685</td><td>5.854317</td><td>8.780050</td><td>10.176754</td><td>10.271101</td><td>13.82542</td><td>10.399799</td><td>9.511926</td></tr>\n",
              "</tbody>\n",
              "</table>\n"
            ],
            "text/latex": [
              "A data.frame: 6 × 14259\n",
              "\\begin{tabular}{r|lllllllllllllllllllll}\n",
              "  & A1BG & A2BP1 & A2LD1 & A2M & A4GALT & AAAS & AACS & AADAT & AAGAB & AAK1 & ⋯ & ZW10 & ZWILCH & ZWINT & ZXDA & ZXDB & ZXDC & ZYG11B & ZYX & ZZEF1 & ZZZ3\\\\\n",
              "  & <dbl> & <dbl> & <dbl> & <dbl> & <dbl> & <dbl> & <dbl> & <dbl> & <dbl> & <dbl> & ⋯ & <dbl> & <dbl> & <dbl> & <dbl> & <dbl> & <dbl> & <dbl> & <dbl> & <dbl> & <dbl>\\\\\n",
              "\\hline\n",
              "\tTCGA-02-0047-01 & 6.965864 & 7.934455 & 5.783258 & 15.05377 & 5.180474 &  8.865786 & 8.912540 & 7.867686 & 10.006052 & 10.453281 & ⋯ & 8.171274 & 8.023537 & 8.659774 & 6.025751 & 8.477739 & 10.114814 & 10.237409 & 11.91736 & 10.448212 & 9.237409\\\\\n",
              "\tTCGA-02-0055-01 & 8.613988 & 7.101725 & 6.392558 & 15.38789 & 8.929958 &  9.216296 & 8.309745 & 6.640820 & 10.410639 &  9.965178 & ⋯ & 8.518233 & 8.869007 & 7.939874 & 5.413015 & 8.130871 &  9.247236 &  9.852462 & 13.48701 &  9.243237 & 9.488141\\\\\n",
              "\tTCGA-02-2483-01 & 8.086679 & 6.794793 & 5.110079 & 14.36212 & 6.442375 & 10.104049 & 8.945699 & 8.017969 &  9.920152 &  9.440623 & ⋯ & 9.106813 & 9.414139 & 9.386141 & 4.279434 & 8.665767 &  9.758689 & 10.239186 & 12.30686 &  9.700586 & 9.462370\\\\\n",
              "\tTCGA-02-2485-01 & 6.391336 & 8.006427 & 6.980547 & 12.92899 & 7.278339 &  9.985571 & 8.249283 & 7.569856 & 10.358494 &  9.367363 & ⋯ & 8.419459 & 8.782624 & 8.787592 & 5.749789 & 8.099536 & 10.394156 & 10.063395 & 12.31372 & 10.154215 & 9.452192\\\\\n",
              "\tTCGA-02-2486-01 & 6.758305 & 2.093662 & 7.573878 & 15.32233 & 5.456228 &  9.454976 & 8.614979 & 7.762038 & 10.534825 &  8.983272 & ⋯ & 8.716757 & 7.381015 & 6.217041 & 4.986743 & 7.630600 &  9.349699 &  9.429687 & 12.92926 &  9.293331 & 9.042860\\\\\n",
              "\tTCGA-06-0125-01 & 7.655826 & 5.715797 & 6.828434 & 13.44798 & 6.681851 &  9.696093 & 8.815706 & 8.262992 &  9.689701 &  9.671797 & ⋯ & 8.550061 & 8.807426 & 8.585685 & 5.854317 & 8.780050 & 10.176754 & 10.271101 & 13.82542 & 10.399799 & 9.511926\\\\\n",
              "\\end{tabular}\n"
            ],
            "text/markdown": [
              "\n",
              "A data.frame: 6 × 14259\n",
              "\n",
              "| <!--/--> | A1BG &lt;dbl&gt; | A2BP1 &lt;dbl&gt; | A2LD1 &lt;dbl&gt; | A2M &lt;dbl&gt; | A4GALT &lt;dbl&gt; | AAAS &lt;dbl&gt; | AACS &lt;dbl&gt; | AADAT &lt;dbl&gt; | AAGAB &lt;dbl&gt; | AAK1 &lt;dbl&gt; | ⋯ ⋯ | ZW10 &lt;dbl&gt; | ZWILCH &lt;dbl&gt; | ZWINT &lt;dbl&gt; | ZXDA &lt;dbl&gt; | ZXDB &lt;dbl&gt; | ZXDC &lt;dbl&gt; | ZYG11B &lt;dbl&gt; | ZYX &lt;dbl&gt; | ZZEF1 &lt;dbl&gt; | ZZZ3 &lt;dbl&gt; |\n",
              "|---|---|---|---|---|---|---|---|---|---|---|---|---|---|---|---|---|---|---|---|---|---|\n",
              "| TCGA-02-0047-01 | 6.965864 | 7.934455 | 5.783258 | 15.05377 | 5.180474 |  8.865786 | 8.912540 | 7.867686 | 10.006052 | 10.453281 | ⋯ | 8.171274 | 8.023537 | 8.659774 | 6.025751 | 8.477739 | 10.114814 | 10.237409 | 11.91736 | 10.448212 | 9.237409 |\n",
              "| TCGA-02-0055-01 | 8.613988 | 7.101725 | 6.392558 | 15.38789 | 8.929958 |  9.216296 | 8.309745 | 6.640820 | 10.410639 |  9.965178 | ⋯ | 8.518233 | 8.869007 | 7.939874 | 5.413015 | 8.130871 |  9.247236 |  9.852462 | 13.48701 |  9.243237 | 9.488141 |\n",
              "| TCGA-02-2483-01 | 8.086679 | 6.794793 | 5.110079 | 14.36212 | 6.442375 | 10.104049 | 8.945699 | 8.017969 |  9.920152 |  9.440623 | ⋯ | 9.106813 | 9.414139 | 9.386141 | 4.279434 | 8.665767 |  9.758689 | 10.239186 | 12.30686 |  9.700586 | 9.462370 |\n",
              "| TCGA-02-2485-01 | 6.391336 | 8.006427 | 6.980547 | 12.92899 | 7.278339 |  9.985571 | 8.249283 | 7.569856 | 10.358494 |  9.367363 | ⋯ | 8.419459 | 8.782624 | 8.787592 | 5.749789 | 8.099536 | 10.394156 | 10.063395 | 12.31372 | 10.154215 | 9.452192 |\n",
              "| TCGA-02-2486-01 | 6.758305 | 2.093662 | 7.573878 | 15.32233 | 5.456228 |  9.454976 | 8.614979 | 7.762038 | 10.534825 |  8.983272 | ⋯ | 8.716757 | 7.381015 | 6.217041 | 4.986743 | 7.630600 |  9.349699 |  9.429687 | 12.92926 |  9.293331 | 9.042860 |\n",
              "| TCGA-06-0125-01 | 7.655826 | 5.715797 | 6.828434 | 13.44798 | 6.681851 |  9.696093 | 8.815706 | 8.262992 |  9.689701 |  9.671797 | ⋯ | 8.550061 | 8.807426 | 8.585685 | 5.854317 | 8.780050 | 10.176754 | 10.271101 | 13.82542 | 10.399799 | 9.511926 |\n",
              "\n"
            ],
            "text/plain": [
              "                A1BG     A2BP1    A2LD1    A2M      A4GALT   AAAS      AACS    \n",
              "TCGA-02-0047-01 6.965864 7.934455 5.783258 15.05377 5.180474  8.865786 8.912540\n",
              "TCGA-02-0055-01 8.613988 7.101725 6.392558 15.38789 8.929958  9.216296 8.309745\n",
              "TCGA-02-2483-01 8.086679 6.794793 5.110079 14.36212 6.442375 10.104049 8.945699\n",
              "TCGA-02-2485-01 6.391336 8.006427 6.980547 12.92899 7.278339  9.985571 8.249283\n",
              "TCGA-02-2486-01 6.758305 2.093662 7.573878 15.32233 5.456228  9.454976 8.614979\n",
              "TCGA-06-0125-01 7.655826 5.715797 6.828434 13.44798 6.681851  9.696093 8.815706\n",
              "                AADAT    AAGAB     AAK1      ⋯ ZW10     ZWILCH   ZWINT   \n",
              "TCGA-02-0047-01 7.867686 10.006052 10.453281 ⋯ 8.171274 8.023537 8.659774\n",
              "TCGA-02-0055-01 6.640820 10.410639  9.965178 ⋯ 8.518233 8.869007 7.939874\n",
              "TCGA-02-2483-01 8.017969  9.920152  9.440623 ⋯ 9.106813 9.414139 9.386141\n",
              "TCGA-02-2485-01 7.569856 10.358494  9.367363 ⋯ 8.419459 8.782624 8.787592\n",
              "TCGA-02-2486-01 7.762038 10.534825  8.983272 ⋯ 8.716757 7.381015 6.217041\n",
              "TCGA-06-0125-01 8.262992  9.689701  9.671797 ⋯ 8.550061 8.807426 8.585685\n",
              "                ZXDA     ZXDB     ZXDC      ZYG11B    ZYX      ZZEF1    \n",
              "TCGA-02-0047-01 6.025751 8.477739 10.114814 10.237409 11.91736 10.448212\n",
              "TCGA-02-0055-01 5.413015 8.130871  9.247236  9.852462 13.48701  9.243237\n",
              "TCGA-02-2483-01 4.279434 8.665767  9.758689 10.239186 12.30686  9.700586\n",
              "TCGA-02-2485-01 5.749789 8.099536 10.394156 10.063395 12.31372 10.154215\n",
              "TCGA-02-2486-01 4.986743 7.630600  9.349699  9.429687 12.92926  9.293331\n",
              "TCGA-06-0125-01 5.854317 8.780050 10.176754 10.271101 13.82542 10.399799\n",
              "                ZZZ3    \n",
              "TCGA-02-0047-01 9.237409\n",
              "TCGA-02-0055-01 9.488141\n",
              "TCGA-02-2483-01 9.462370\n",
              "TCGA-02-2485-01 9.452192\n",
              "TCGA-02-2486-01 9.042860\n",
              "TCGA-06-0125-01 9.511926"
            ]
          },
          "metadata": {},
          "output_type": "display_data"
        }
      ],
      "source": [
        "head(exprData)"
      ]
    },
    {
      "cell_type": "code",
      "execution_count": 10,
      "metadata": {
        "colab": {
          "base_uri": "https://localhost:8080/",
          "height": 69
        },
        "id": "1WFyqp9Wouon",
        "outputId": "334208d3-f568-4e7d-c47c-7b1df42a54c4",
        "vscode": {
          "languageId": "r"
        }
      },
      "outputs": [
        {
          "name": "stdout",
          "output_type": "stream",
          "text": [
            " Flagging genes and samples with too many missing values...\n",
            "  ..step 1\n"
          ]
        },
        {
          "data": {
            "text/html": [
              "TRUE"
            ],
            "text/latex": [
              "TRUE"
            ],
            "text/markdown": [
              "TRUE"
            ],
            "text/plain": [
              "[1] TRUE"
            ]
          },
          "metadata": {},
          "output_type": "display_data"
        }
      ],
      "source": [
        "gsg <- goodSamplesGenes(exprData)\n",
        "gsg$allOK"
      ]
    },
    {
      "cell_type": "code",
      "execution_count": 9,
      "metadata": {
        "id": "m6KWuf72lrBv",
        "vscode": {
          "languageId": "r"
        }
      },
      "outputs": [],
      "source": [
        "dir.create(\"./Result\", showWarnings = TRUE, recursive = FALSE, mode = \"0777\")"
      ]
    },
    {
      "cell_type": "code",
      "execution_count": null,
      "metadata": {
        "colab": {
          "base_uri": "https://localhost:8080/",
          "height": 34
        },
        "id": "LjfZSJFKlt18",
        "outputId": "d814e88d-283e-41c6-a79c-2a1cdef50877",
        "vscode": {
          "languageId": "r"
        }
      },
      "outputs": [
        {
          "data": {
            "text/html": [
              "<strong>png:</strong> 2"
            ],
            "text/latex": [
              "\\textbf{png:} 2"
            ],
            "text/markdown": [
              "**png:** 2"
            ],
            "text/plain": [
              "png \n",
              "  2 "
            ]
          },
          "metadata": {},
          "output_type": "display_data"
        }
      ],
      "source": [
        "# plot the sample tree\n",
        "pdf(\"./Result/sampleTree.pdf\")\n",
        "sampleTree <- hclust(dist(exprData), method = \"average\")\n",
        "options(repr.plot.width=20, repr.plot.height=10)\n",
        "par(cex = 0.3)\n",
        "par(mar = c(0,4,2,0))\n",
        "plot(sampleTree, main = \"Sample clustering to detect outliers\", sub=\"\", xlab=\"\", cex.lab = 1.5, cex.axis = 1.5, cex.main = 2)\n",
        "abline(h=215, col=\"red\")\n",
        "dev.off()"
      ]
    },
    {
      "cell_type": "code",
      "execution_count": null,
      "metadata": {
        "colab": {
          "base_uri": "https://localhost:8080/",
          "height": 69
        },
        "id": "qQ2xFrA2lv1N",
        "outputId": "64126b99-5b5a-43a3-b501-e15fa1a88677",
        "vscode": {
          "languageId": "r"
        }
      },
      "outputs": [
        {
          "data": {
            "text/plain": [
              "clust\n",
              "  0   1 \n",
              "  1 157 "
            ]
          },
          "metadata": {},
          "output_type": "display_data"
        }
      ],
      "source": [
        "# cut tree\n",
        "clust <- cutreeStatic(sampleTree, cutHeight = 215, minSize = 10)\n",
        "table(clust)\n",
        "keepSamples <- clust == 1\n",
        "exprData <- exprData[keepSamples,]\n",
        "traitData <- traitData[-which(rownames(traitData) == \"TCGA-06-2569-01\"),]"
      ]
    },
    {
      "cell_type": "code",
      "execution_count": null,
      "metadata": {
        "colab": {
          "base_uri": "https://localhost:8080/",
          "height": 312
        },
        "id": "xJfujlATl8p2",
        "outputId": "6c1cf5be-cf9a-4d81-f296-9cdf24d6c5fb",
        "vscode": {
          "languageId": "r"
        }
      },
      "outputs": [
        {
          "name": "stdout",
          "output_type": "stream",
          "text": [
            "   Power SFT.R.sq  slope truncated.R.sq  mean.k. median.k. max.k.\n",
            "1      1    0.101  1.080          0.969 2600.000  2.54e+03 4480.0\n",
            "2      2    0.219 -0.871          0.949  750.000  6.83e+02 1970.0\n",
            "3      3    0.658 -1.640          0.967  276.000  2.26e+02 1060.0\n",
            "4      4    0.760 -2.040          0.962  119.000  8.55e+01  647.0\n",
            "5      5    0.789 -2.200          0.967   57.800  3.56e+01  423.0\n",
            "6      6    0.803 -2.250          0.975   30.700  1.59e+01  291.0\n",
            "7      7    0.814 -2.260          0.982   17.500  7.49e+00  207.0\n",
            "8      8    0.807 -2.260          0.984   10.500  3.74e+00  151.0\n",
            "9      9    0.814 -2.200          0.985    6.660  1.92e+00  113.0\n",
            "10    10    0.817 -2.130          0.983    4.390  1.03e+00   86.0\n",
            "11    12    0.864 -1.860          0.982    2.100  3.27e-01   51.9\n",
            "12    14    0.911 -1.720          0.989    1.120  1.15e-01   36.7\n",
            "13    16    0.931 -1.660          0.992    0.649  4.35e-02   28.6\n",
            "14    18    0.949 -1.590          0.991    0.402  1.74e-02   22.7\n",
            "15    20    0.960 -1.530          0.992    0.263  7.25e-03   18.2\n"
          ]
        },
        {
          "data": {
            "text/html": [
              "<strong>png:</strong> 2"
            ],
            "text/latex": [
              "\\textbf{png:} 2"
            ],
            "text/markdown": [
              "**png:** 2"
            ],
            "text/plain": [
              "png \n",
              "  2 "
            ]
          },
          "metadata": {},
          "output_type": "display_data"
        }
      ],
      "source": [
        "# choose a soft-threshold power\n",
        "powers = c(seq(1, 10, by = 1), seq(12, 20, by = 2))\n",
        "softThresh <- pickSoftThreshold(exprData, indent = 0)\n",
        "pdf(\"./Result/Beta_MeanConnectivity.pdf\")\n",
        "options(repr.plot.width=12, repr.plot.height=20)\n",
        "par(mfrow = c(1,2))\n",
        "cex1 = 0.9\n",
        "plot(softThresh$fitIndices[,1], -sign(softThresh$fitIndices[,3])*softThresh$fitIndices[,2], xlab=\"Soft Threshold (power)\",ylab=\"Scale Free Topology Model Fit, signed R^2\", type=\"n\", main = paste(\"Scale independence\"));\n",
        "text(softThresh$fitIndices[,1], -sign(softThresh$fitIndices[,3])*softThresh$fitIndices[,2],labels=powers,cex=cex1,col=\"blue\")\n",
        "abline(h=0.9, col=\"red\")\n",
        "plot(softThresh$fitIndices[,1], softThresh$fitIndices[,5], xlab=\"Soft Threshold (power)\",ylab=\"Mean Connectivity\", type=\"n\",main = paste(\"Mean connectivity\"))\n",
        "text(softThresh$fitIndices[,1], softThresh$fitIndices[,5], labels=powers, cex=cex1,col=\"blue\")\n",
        "dev.off()"
      ]
    },
    {
      "cell_type": "code",
      "execution_count": null,
      "metadata": {
        "colab": {
          "base_uri": "https://localhost:8080/",
          "height": 52
        },
        "id": "Z2VtMybTl-oe",
        "outputId": "6b7c81ea-445a-47fb-daf9-59a4a2113226",
        "vscode": {
          "languageId": "r"
        }
      },
      "outputs": [
        {
          "data": {
            "text/html": [
              "<strong>png:</strong> 2"
            ],
            "text/latex": [
              "\\textbf{png:} 2"
            ],
            "text/markdown": [
              "**png:** 2"
            ],
            "text/plain": [
              "png \n",
              "  2 "
            ]
          },
          "metadata": {},
          "output_type": "display_data"
        },
        {
          "data": {
            "text/html": [
              "<strong>png:</strong> 2"
            ],
            "text/latex": [
              "\\textbf{png:} 2"
            ],
            "text/markdown": [
              "**png:** 2"
            ],
            "text/plain": [
              "png \n",
              "  2 "
            ]
          },
          "metadata": {},
          "output_type": "display_data"
        }
      ],
      "source": [
        "# construction of weighted gene co-expression network\n",
        "net <- blockwiseModules(exprData, saveTOMs = TRUE, saveTOMFileBase = \"./Result/TOM\", power = 14, minModuleSize = 30, mergeCutHeight = 0.25)\n",
        "mergedColors <- labels2colors(net$colors)\n",
        "\n",
        "pdf(\"./Result/clusterDendrogram.pdf\")\n",
        "options(repr.plot.width=14, repr.plot.height=20) \n",
        "plotDendroAndColors(net$dendrograms[[1]], mergedColors[net$blockGenes[[1]]], \"Module\\nColors\", dendroLabels = FALSE, hang = 0.03, addGuide = TRUE, guideHang = 0.05)\n",
        "dev.off()\n",
        "\n",
        "moduleLabels = net$colors\n",
        "moduleColors = labels2colors(moduleLabels)\n",
        "\n",
        "geneTree = net$dendrograms[[1]]\n",
        "nGenes = ncol(exprData)\n",
        "nSamples = nrow(exprData)\n",
        "MEs0 = moduleEigengenes(exprData, moduleColors)$eigengenes\n",
        "MEs = orderMEs(MEs0)\n",
        "moduleTraitCor = cor(MEs, traitData, use = \"p\")\n",
        "moduleTraitPvalue = corPvalueStudent(moduleTraitCor, nSamples)\n",
        "\n",
        "pdf(\"./Result/module_trait_relationship.pdf\")\n",
        "options(repr.plot.width=14, repr.plot.height=14)\n",
        "textMatrix = paste(signif(moduleTraitCor, 2), \"\\n(\",signif(moduleTraitPvalue, 1), \")\", sep = \"\")\n",
        "dim(textMatrix) = dim(moduleTraitCor)\n",
        "par(mar = c(6, 8.5, 3, 3))\n",
        "labeledHeatmap(Matrix = moduleTraitCor, xLabels = names(traitData), yLabels = names(MEs), ySymbols = names(MEs), colorLabels = FALSE,\n",
        "               colors = blueWhiteRed(50),\n",
        "               textMatrix = textMatrix, setStdMargins = FALSE, cex.text = 0.5, zlim = c(-1,1), main = paste(\"Module-trait relationships\"))\n",
        "dev.off()\n",
        "\n",
        "Tumor <- as.data.frame(traitData$Tumor)\n",
        "Normal <- as.data.frame(traitData$Normal)\n",
        "names(Tumor) <- \"Tumor\"\n",
        "names(Normal) <- \"Normal\"\n",
        "\n",
        "# *** Modules with |ME| > 0.5 were selected ***"
      ]
    },
    {
      "cell_type": "code",
      "execution_count": null,
      "metadata": {
        "id": "LZCYJzzsmNWf",
        "vscode": {
          "languageId": "r"
        }
      },
      "outputs": [],
      "source": [
        "# Brown Module\n",
        "modNames <- substring(names(MEs), 3)\n",
        "geneModuleMembership <- as.data.frame(cor(exprData, MEs, use = \"p\"))\n",
        "MMPvalue <- as.data.frame(corPvalueStudent(as.matrix(geneModuleMembership), nSamples))\n",
        "names(geneModuleMembership) <- paste(\"MM\", modNames, sep=\"\")\n",
        "names(MMPvalue) <- paste(\"p.MM\", modNames, sep=\"\")\n",
        "geneTraitSignificance <- as.data.frame(cor(exprData, Normal, use = \"p\"))\n",
        "GSPvalue <- as.data.frame(corPvalueStudent(as.matrix(geneTraitSignificance), nSamples))\n",
        "names(geneTraitSignificance) <- paste(\"GS.\", names(Normal), sep=\"\")\n",
        "names(GSPvalue) <- paste(\"p.GS.\", names(Normal), sep=\"\")"
      ]
    },
    {
      "cell_type": "code",
      "execution_count": null,
      "metadata": {
        "colab": {
          "base_uri": "https://localhost:8080/",
          "height": 34
        },
        "id": "q_SjvU9nmzFU",
        "outputId": "445d8ebf-8a67-46bd-cda0-8dce6ac934b6",
        "vscode": {
          "languageId": "r"
        }
      },
      "outputs": [
        {
          "data": {
            "text/html": [
              "<strong>png:</strong> 2"
            ],
            "text/latex": [
              "\\textbf{png:} 2"
            ],
            "text/markdown": [
              "**png:** 2"
            ],
            "text/plain": [
              "png \n",
              "  2 "
            ]
          },
          "metadata": {},
          "output_type": "display_data"
        }
      ],
      "source": [
        "# identifying genes with high GS and MM\n",
        "module <- \"brown\"\n",
        "column <- match(module, modNames)\n",
        "moduleGenes <- moduleColors == module\n",
        "pdf(\"./Result/scatterBrown.pdf\")\n",
        "par(mfrow = c(1,1))\n",
        "verboseScatterplot(abs(geneModuleMembership[moduleGenes, column]), abs(geneTraitSignificance[moduleGenes, 1]),\n",
        "                   xlab = paste(\"Module Membership in\", module, \"module\"),\n",
        "                   ylab = \"Gene significance for Normal\",\n",
        "                   main = paste(\"Module membership vs. gene significance\\n\"),\n",
        "                   cex.main = 1.2, cex.lab = 1.2, cex.axis = 1.2, col = module)\n",
        "dev.off()"
      ]
    },
    {
      "cell_type": "code",
      "execution_count": null,
      "metadata": {
        "id": "NnATjnq6m0rL",
        "vscode": {
          "languageId": "r"
        }
      },
      "outputs": [],
      "source": [
        "# Yellow Module\n",
        "modNames <- substring(names(MEs), 3)\n",
        "geneModuleMembership <- as.data.frame(cor(exprData, MEs, use = \"p\"))\n",
        "MMPvalue <- as.data.frame(corPvalueStudent(as.matrix(geneModuleMembership), nSamples))\n",
        "names(geneModuleMembership) <- paste(\"MM\", modNames, sep=\"\")\n",
        "names(MMPvalue) <- paste(\"p.MM\", modNames, sep=\"\")\n",
        "geneTraitSignificance <- as.data.frame(cor(exprData, Tumor, use = \"p\"))\n",
        "GSPvalue <- as.data.frame(corPvalueStudent(as.matrix(geneTraitSignificance), nSamples))\n",
        "names(geneTraitSignificance) <- paste(\"GS.\", names(Tumor), sep=\"\")\n",
        "names(GSPvalue) <- paste(\"p.GS.\", names(Tumor), sep=\"\")"
      ]
    },
    {
      "cell_type": "code",
      "execution_count": null,
      "metadata": {
        "colab": {
          "base_uri": "https://localhost:8080/",
          "height": 34
        },
        "id": "9Nzppgnkm2Tk",
        "outputId": "dea08153-1611-4b15-f22f-7d4da85a45b4",
        "vscode": {
          "languageId": "r"
        }
      },
      "outputs": [
        {
          "data": {
            "text/html": [
              "<strong>png:</strong> 2"
            ],
            "text/latex": [
              "\\textbf{png:} 2"
            ],
            "text/markdown": [
              "**png:** 2"
            ],
            "text/plain": [
              "png \n",
              "  2 "
            ]
          },
          "metadata": {},
          "output_type": "display_data"
        }
      ],
      "source": [
        "# identifying genes with high GS and MM\n",
        "module <- \"yellow\"\n",
        "column <- match(module, modNames)\n",
        "moduleGenes <- moduleColors == module\n",
        "pdf(\"./Result/scatterYellow.pdf\")\n",
        "par(mfrow = c(1,1))\n",
        "verboseScatterplot(abs(geneModuleMembership[moduleGenes, column]), abs(geneTraitSignificance[moduleGenes, 1]),\n",
        "                   xlab = paste(\"Module Membership in\", module, \"module\"),\n",
        "                   ylab = \"Gene significance for Tumor\",\n",
        "                   main = paste(\"Module membership vs. gene significance\\n\"),\n",
        "                   cex.main = 1.2, cex.lab = 1.2, cex.axis = 1.2, col = module)\n",
        "dev.off()"
      ]
    },
    {
      "cell_type": "code",
      "execution_count": null,
      "metadata": {
        "id": "enl8UTaZm4GM",
        "vscode": {
          "languageId": "r"
        }
      },
      "outputs": [],
      "source": [
        "# Black Module\n",
        "modNames <- substring(names(MEs), 3)\n",
        "geneModuleMembership <- as.data.frame(cor(exprData, MEs, use = \"p\"))\n",
        "MMPvalue <- as.data.frame(corPvalueStudent(as.matrix(geneModuleMembership), nSamples))\n",
        "names(geneModuleMembership) <- paste(\"MM\", modNames, sep=\"\")\n",
        "names(MMPvalue) <- paste(\"p.MM\", modNames, sep=\"\")\n",
        "geneTraitSignificance <- as.data.frame(cor(exprData, Normal, use = \"p\"))\n",
        "GSPvalue <- as.data.frame(corPvalueStudent(as.matrix(geneTraitSignificance), nSamples))\n",
        "names(geneTraitSignificance) <- paste(\"GS.\", names(Normal), sep=\"\")\n",
        "names(GSPvalue) <- paste(\"p.GS.\", names(Normal), sep=\"\")"
      ]
    },
    {
      "cell_type": "code",
      "execution_count": null,
      "metadata": {
        "colab": {
          "base_uri": "https://localhost:8080/",
          "height": 34
        },
        "id": "bNW0L9Uym5yS",
        "outputId": "a3e34a73-25a7-47cf-9aef-f6ccc28f06a1",
        "vscode": {
          "languageId": "r"
        }
      },
      "outputs": [
        {
          "data": {
            "text/html": [
              "<strong>png:</strong> 2"
            ],
            "text/latex": [
              "\\textbf{png:} 2"
            ],
            "text/markdown": [
              "**png:** 2"
            ],
            "text/plain": [
              "png \n",
              "  2 "
            ]
          },
          "metadata": {},
          "output_type": "display_data"
        }
      ],
      "source": [
        "# identifying genes with high GS and MM\n",
        "module <- \"black\"\n",
        "column <- match(module, modNames)\n",
        "moduleGenes <- moduleColors == module\n",
        "pdf(\"./Result/scatterBlack.pdf\")\n",
        "par(mfrow = c(1,1))\n",
        "verboseScatterplot(abs(geneModuleMembership[moduleGenes, column]), abs(geneTraitSignificance[moduleGenes, 1]),\n",
        "                   xlab = paste(\"Module Membership in\", module, \"module\"),\n",
        "                   ylab = \"Gene significance for Normal\",\n",
        "                   main = paste(\"Module membership vs. gene significance\\n\"),\n",
        "                   cex.main = 1.2, cex.lab = 1.2, cex.axis = 1.2, col = module)\n",
        "dev.off()\n",
        "\n",
        "# *** Module with r > 0.5 was selected ***\n",
        "# yellowModuleGenes <- colnames(exprData)[moduleColors == \"yellow\"]\n",
        "# blackModuleGenes <- colnames(exprData)[moduleColors == \"black\"]\n",
        "brownModuleGenes <- colnames(exprData)[moduleColors == \"brown\"]"
      ]
    },
    {
      "cell_type": "code",
      "execution_count": null,
      "metadata": {
        "colab": {
          "base_uri": "https://localhost:8080/",
          "height": 1000
        },
        "id": "8sRzy5wsm7r5",
        "outputId": "a6e73e2b-16e1-43af-cd19-8b84b9736528",
        "vscode": {
          "languageId": "r"
        }
      },
      "outputs": [
        {
          "name": "stderr",
          "output_type": "stream",
          "text": [
            "Calculating permutation number 1.\n",
            "\n",
            "Calculating permutation number 2.\n",
            "\n",
            "Calculating permutation number 3.\n",
            "\n",
            "Calculating permutation number 4.\n",
            "\n",
            "Calculating permutation number 5.\n",
            "\n",
            "Calculating permutation number 6.\n",
            "\n",
            "Calculating permutation number 7.\n",
            "\n",
            "Calculating permutation number 8.\n",
            "\n",
            "Calculating permutation number 9.\n",
            "\n",
            "Calculating permutation number 10.\n",
            "\n",
            "Calculating empirical p-values using the permutation sample statistics.\n",
            "\n",
            "Sorting the combination of the actual and permuted test statistics.\n",
            "\n",
            "Finding the proportion of each actual test statistic greater than the permuted test statistics.\n",
            "\n",
            "Calculating qvalues from the empirical p-values.\n",
            "\n",
            "Classifying the differential correlation calls.\n",
            "\n"
          ]
        },
        {
          "data": {
            "text/html": [
              "<table class=\"dataframe\">\n",
              "<caption>A data.frame: 37675 × 11</caption>\n",
              "<thead>\n",
              "\t<tr><th></th><th scope=col>Gene1</th><th scope=col>Gene2</th><th scope=col>Mesenchymal_cor</th><th scope=col>Mesenchymal_pVal</th><th scope=col>NonMesenchymal_cor</th><th scope=col>NonMesenchymal_pVal</th><th scope=col>zScoreDiff</th><th scope=col>pValDiff</th><th scope=col>empPVals</th><th scope=col>pValDiff_adj</th><th scope=col>Classes</th></tr>\n",
              "\t<tr><th></th><th scope=col>&lt;chr&gt;</th><th scope=col>&lt;chr&gt;</th><th scope=col>&lt;dbl&gt;</th><th scope=col>&lt;dbl&gt;</th><th scope=col>&lt;dbl&gt;</th><th scope=col>&lt;dbl&gt;</th><th scope=col>&lt;dbl&gt;</th><th scope=col>&lt;dbl&gt;</th><th scope=col>&lt;dbl&gt;</th><th scope=col>&lt;dbl&gt;</th><th scope=col>&lt;fct&gt;</th></tr>\n",
              "</thead>\n",
              "<tbody>\n",
              "\t<tr><th scope=row>1</th><td>KIF20A      </td><td>TACC3 </td><td>0.92555679</td><td>0.000000e+00</td><td> 0.5951233</td><td>4.213563e-11</td><td>-5.233454</td><td>1.663710e-07</td><td>2.654280e-06</td><td>0.04470458</td><td>+/+</td></tr>\n",
              "\t<tr><th scope=row>2</th><td>CCNA2       </td><td>TACC3 </td><td>0.89753257</td><td>0.000000e+00</td><td> 0.4908162</td><td>1.630576e-07</td><td>-5.129677</td><td>2.902401e-07</td><td>2.654280e-06</td><td>0.04470458</td><td>+/+</td></tr>\n",
              "\t<tr><th scope=row>3</th><td>FAM83D      </td><td>TACC3 </td><td>0.88072067</td><td>0.000000e+00</td><td> 0.4519165</td><td>1.861864e-06</td><td>-4.960687</td><td>7.024443e-07</td><td>5.308560e-06</td><td>0.05960611</td><td>+/+</td></tr>\n",
              "\t<tr><th scope=row>4</th><td>PLK1        </td><td>TACC3 </td><td>0.87915142</td><td>2.220446e-16</td><td> 0.4609545</td><td>1.085745e-06</td><td>-4.858515</td><td>1.182695e-06</td><td>2.123424e-05</td><td>0.10218190</td><td>+/+</td></tr>\n",
              "\t<tr><th scope=row>5</th><td>SPC25       </td><td>TACC3 </td><td>0.85477035</td><td>1.065814e-14</td><td> 0.3811259</td><td>7.750565e-05</td><td>-4.851438</td><td>1.225694e-06</td><td>2.123424e-05</td><td>0.10218190</td><td>+/+</td></tr>\n",
              "\t<tr><th scope=row>6</th><td>NCAPG       </td><td>TACC3 </td><td>0.90139514</td><td>0.000000e+00</td><td> 0.5490051</td><td>2.307432e-09</td><td>-4.798217</td><td>1.600845e-06</td><td>2.123424e-05</td><td>0.10218190</td><td>+/+</td></tr>\n",
              "\t<tr><th scope=row>7</th><td>TACC3       </td><td>TPX2  </td><td>0.92138146</td><td>0.000000e+00</td><td> 0.6264923</td><td>1.884271e-12</td><td>-4.797214</td><td>1.608880e-06</td><td>2.123424e-05</td><td>0.10218190</td><td>+/+</td></tr>\n",
              "\t<tr><th scope=row>8</th><td>CENPA       </td><td>TACC3 </td><td>0.88531942</td><td>0.000000e+00</td><td> 0.5032419</td><td>7.014512e-08</td><td>-4.706761</td><td>2.516831e-06</td><td>3.715992e-05</td><td>0.14443018</td><td>+/+</td></tr>\n",
              "\t<tr><th scope=row>9</th><td>GTSE1       </td><td>TACC3 </td><td>0.88364752</td><td>0.000000e+00</td><td> 0.5053586</td><td>6.055230e-08</td><td>-4.648254</td><td>3.347564e-06</td><td>5.043132e-05</td><td>0.14443018</td><td>+/+</td></tr>\n",
              "\t<tr><th scope=row>10</th><td>FAM83D      </td><td>KIF20A</td><td>0.93109161</td><td>0.000000e+00</td><td> 0.6857612</td><td>1.776357e-15</td><td>-4.597794</td><td>4.269885e-06</td><td>5.308560e-05</td><td>0.14443018</td><td>+/+</td></tr>\n",
              "\t<tr><th scope=row>11</th><td>DLGAP5      </td><td>TACC3 </td><td>0.87941831</td><td>2.220446e-16</td><td> 0.5010520</td><td>8.158722e-08</td><td>-4.574786</td><td>4.767080e-06</td><td>5.308560e-05</td><td>0.14443018</td><td>+/+</td></tr>\n",
              "\t<tr><th scope=row>12</th><td>KIF2C       </td><td>TACC3 </td><td>0.91459857</td><td>0.000000e+00</td><td> 0.6255144</td><td>2.086997e-12</td><td>-4.566174</td><td>4.967059e-06</td><td>5.573988e-05</td><td>0.14443018</td><td>+/+</td></tr>\n",
              "\t<tr><th scope=row>13</th><td>CDC20       </td><td>TACC3 </td><td>0.89740118</td><td>0.000000e+00</td><td> 0.5643594</td><td>6.514185e-10</td><td>-4.558181</td><td>5.159856e-06</td><td>5.573988e-05</td><td>0.14443018</td><td>+/+</td></tr>\n",
              "\t<tr><th scope=row>14</th><td>CENPE       </td><td>TACC3 </td><td>0.89679085</td><td>0.000000e+00</td><td> 0.5657397</td><td>5.795595e-10</td><td>-4.529513</td><td>5.911977e-06</td><td>6.901128e-05</td><td>0.14528988</td><td>+/+</td></tr>\n",
              "\t<tr><th scope=row>15</th><td>LOC100128191</td><td>TCF19 </td><td>0.88816504</td><td>0.000000e+00</td><td> 0.5365115</td><td>6.166531e-09</td><td>-4.527167</td><td>5.977975e-06</td><td>6.901128e-05</td><td>0.14528988</td><td>+/+</td></tr>\n",
              "\t<tr><th scope=row>16</th><td>CCNB1       </td><td>TACC3 </td><td>0.83887074</td><td>9.769963e-14</td><td> 0.3830145</td><td>7.091229e-05</td><td>-4.526267</td><td>6.003465e-06</td><td>6.901128e-05</td><td>0.14528988</td><td>+/+</td></tr>\n",
              "\t<tr><th scope=row>17</th><td>CCNF        </td><td>TACC3 </td><td>0.86874539</td><td>1.332268e-15</td><td> 0.4859996</td><td>2.241253e-07</td><td>-4.433769</td><td>9.259993e-06</td><td>7.697412e-05</td><td>0.15252151</td><td>+/+</td></tr>\n",
              "\t<tr><th scope=row>18</th><td>CKAP2L      </td><td>TACC3 </td><td>0.87900953</td><td>2.220446e-16</td><td> 0.5310141</td><td>9.385297e-09</td><td>-4.337573</td><td>1.440646e-05</td><td>9.820836e-05</td><td>0.16662616</td><td>+/+</td></tr>\n",
              "\t<tr><th scope=row>19</th><td>KIF4A       </td><td>TACC3 </td><td>0.88878510</td><td>0.000000e+00</td><td> 0.5633899</td><td>7.069256e-10</td><td>-4.329170</td><td>1.496727e-05</td><td>1.061712e-04</td><td>0.16662616</td><td>+/+</td></tr>\n",
              "\t<tr><th scope=row>20</th><td>ASF1B       </td><td>TCF19 </td><td>0.91886656</td><td>0.000000e+00</td><td> 0.6663250</td><td>2.131628e-14</td><td>-4.325089</td><td>1.524702e-05</td><td>1.061712e-04</td><td>0.16662616</td><td>+/+</td></tr>\n",
              "\t<tr><th scope=row>21</th><td>CDK1        </td><td>TACC3 </td><td>0.83191476</td><td>2.389200e-13</td><td> 0.3952074</td><td>3.941890e-05</td><td>-4.318266</td><td>1.572600e-05</td><td>1.061712e-04</td><td>0.16662616</td><td>+/+</td></tr>\n",
              "\t<tr><th scope=row>22</th><td>BUB1        </td><td>TACC3 </td><td>0.88351459</td><td>0.000000e+00</td><td> 0.5485846</td><td>2.386625e-09</td><td>-4.311834</td><td>1.619062e-05</td><td>1.088255e-04</td><td>0.16662616</td><td>+/+</td></tr>\n",
              "\t<tr><th scope=row>23</th><td>MELK        </td><td>TACC3 </td><td>0.88621177</td><td>0.000000e+00</td><td> 0.5582615</td><td>1.084789e-09</td><td>-4.303375</td><td>1.682156e-05</td><td>1.220969e-04</td><td>0.17881832</td><td>+/+</td></tr>\n",
              "\t<tr><th scope=row>24</th><td>CCNB2       </td><td>TACC3 </td><td>0.86174859</td><td>3.774758e-15</td><td> 0.4870171</td><td>2.096448e-07</td><td>-4.271488</td><td>1.941732e-05</td><td>1.486397e-04</td><td>0.20199847</td><td>+/+</td></tr>\n",
              "\t<tr><th scope=row>25</th><td>KIF11       </td><td>TACC3 </td><td>0.87191835</td><td>8.881784e-16</td><td> 0.5204513</td><td>2.060315e-08</td><td>-4.249854</td><td>2.139095e-05</td><td>1.566025e-04</td><td>0.20199847</td><td>+/+</td></tr>\n",
              "\t<tr><th scope=row>26</th><td>CDCA5       </td><td>TACC3 </td><td>0.90417314</td><td>0.000000e+00</td><td> 0.6242567</td><td>2.378764e-12</td><td>-4.242141</td><td>2.213972e-05</td><td>1.592568e-04</td><td>0.20199847</td><td>+/+</td></tr>\n",
              "\t<tr><th scope=row>27</th><td>CDT1        </td><td>TCF19 </td><td>0.90178251</td><td>0.000000e+00</td><td> 0.6162946</td><td>5.373924e-12</td><td>-4.242101</td><td>2.214372e-05</td><td>1.619111e-04</td><td>0.20199847</td><td>+/+</td></tr>\n",
              "\t<tr><th scope=row>28</th><td>FAM72D      </td><td>SOX11 </td><td>0.11229220</td><td>4.473240e-01</td><td> 0.7023399</td><td>2.220446e-16</td><td> 4.222426</td><td>2.416872e-05</td><td>1.831453e-04</td><td>0.21581521</td><td>0/+</td></tr>\n",
              "\t<tr><th scope=row>29</th><td>AURKB       </td><td>TACC3 </td><td>0.85061150</td><td>1.953993e-14</td><td> 0.4618933</td><td>1.025676e-06</td><td>-4.219697</td><td>2.446307e-05</td><td>1.857996e-04</td><td>0.21581521</td><td>+/+</td></tr>\n",
              "\t<tr><th scope=row>30</th><td>REEP5       </td><td>SPSB4 </td><td>0.09475318</td><td>5.217769e-01</td><td>-0.5771383</td><td>2.161880e-10</td><td>-4.189407</td><td>2.796847e-05</td><td>1.990710e-04</td><td>0.22072886</td><td>0/-</td></tr>\n",
              "\t<tr><th scope=row>⋮</th><td>⋮</td><td>⋮</td><td>⋮</td><td>⋮</td><td>⋮</td><td>⋮</td><td>⋮</td><td>⋮</td><td>⋮</td><td>⋮</td><td>⋮</td></tr>\n",
              "\t<tr><th scope=row>37646</th><td>BRCA2    </td><td>FBXO5   </td><td> 0.55608278</td><td>4.068354e-05</td><td> 0.55622299</td><td>1.283495e-09</td><td> 0.0011291772</td><td>0.9990990</td><td>0.9990896</td><td>0.8939657</td><td>+/+</td></tr>\n",
              "\t<tr><th scope=row>37647</th><td>CKAP2L   </td><td>YBX1    </td><td> 0.45327798</td><td>1.214917e-03</td><td> 0.45341459</td><td>1.704458e-06</td><td> 0.0009563942</td><td>0.9992369</td><td>0.9992064</td><td>0.8940062</td><td>+/+</td></tr>\n",
              "\t<tr><th scope=row>37648</th><td>MTA2     </td><td>POLD3   </td><td> 0.35951218</td><td>1.208509e-02</td><td> 0.35936354</td><td>2.077691e-04</td><td>-0.0009494056</td><td>0.9992425</td><td>0.9992117</td><td>0.8940062</td><td>+/+</td></tr>\n",
              "\t<tr><th scope=row>37649</th><td>CENPI    </td><td>DLGAP5  </td><td> 0.80454922</td><td>5.599965e-12</td><td> 0.80449010</td><td>0.000000e+00</td><td>-0.0009322016</td><td>0.9992562</td><td>0.9992276</td><td>0.8940062</td><td>+/+</td></tr>\n",
              "\t<tr><th scope=row>37650</th><td>NCAPG    </td><td>PTTG1   </td><td> 0.80172239</td><td>7.540413e-12</td><td> 0.80167184</td><td>0.000000e+00</td><td>-0.0007869671</td><td>0.9993721</td><td>0.9993603</td><td>0.8940062</td><td>+/+</td></tr>\n",
              "\t<tr><th scope=row>37651</th><td>GJC1     </td><td>TPX2    </td><td> 0.50922642</td><td>2.187748e-04</td><td> 0.50912485</td><td>4.649560e-08</td><td>-0.0007626806</td><td>0.9993915</td><td>0.9993709</td><td>0.8940062</td><td>+/+</td></tr>\n",
              "\t<tr><th scope=row>37652</th><td>FBXO5    </td><td>IQGAP3  </td><td> 0.56661394</td><td>2.689798e-05</td><td> 0.56652109</td><td>5.423226e-10</td><td>-0.0007606337</td><td>0.9993931</td><td>0.9993736</td><td>0.8940062</td><td>+/+</td></tr>\n",
              "\t<tr><th scope=row>37653</th><td>DSN1     </td><td>E2F7    </td><td> 0.55444747</td><td>4.332921e-05</td><td> 0.55453884</td><td>1.473584e-09</td><td> 0.0007338910</td><td>0.9994144</td><td>0.9993948</td><td>0.8940062</td><td>+/+</td></tr>\n",
              "\t<tr><th scope=row>37654</th><td>ARHGAP11A</td><td>KNTC1   </td><td> 0.70622932</td><td>2.049426e-08</td><td> 0.70628884</td><td>0.000000e+00</td><td> 0.0006606053</td><td>0.9994729</td><td>0.9994506</td><td>0.8940062</td><td>+/+</td></tr>\n",
              "\t<tr><th scope=row>37655</th><td>TPX2     </td><td>ZNF300  </td><td> 0.53657843</td><td>8.446146e-05</td><td> 0.53649655</td><td>6.173660e-09</td><td>-0.0006395551</td><td>0.9994897</td><td>0.9994745</td><td>0.8940062</td><td>+/+</td></tr>\n",
              "\t<tr><th scope=row>37656</th><td>CBX2     </td><td>PPM1D   </td><td> 0.62476084</td><td>2.072812e-06</td><td> 0.62469175</td><td>2.273737e-12</td><td>-0.0006302117</td><td>0.9994972</td><td>0.9994877</td><td>0.8940062</td><td>+/+</td></tr>\n",
              "\t<tr><th scope=row>37657</th><td>C21orf45 </td><td>RBL1    </td><td> 0.33706235</td><td>1.914514e-02</td><td> 0.33715817</td><td>5.298259e-04</td><td> 0.0006012695</td><td>0.9995203</td><td>0.9995116</td><td>0.8940062</td><td>+/+</td></tr>\n",
              "\t<tr><th scope=row>37658</th><td>C16orf75 </td><td>CKAP2   </td><td> 0.42556557</td><td>2.565697e-03</td><td> 0.42547746</td><td>8.276226e-06</td><td>-0.0005984641</td><td>0.9995225</td><td>0.9995143</td><td>0.8940062</td><td>+/+</td></tr>\n",
              "\t<tr><th scope=row>37659</th><td>POLA2    </td><td>SPC25   </td><td> 0.71723801</td><td>9.730846e-09</td><td> 0.71718670</td><td>0.000000e+00</td><td>-0.0005876503</td><td>0.9995311</td><td>0.9995249</td><td>0.8940062</td><td>+/+</td></tr>\n",
              "\t<tr><th scope=row>37660</th><td>CENPK    </td><td>GSG2    </td><td> 0.60856322</td><td>4.455878e-06</td><td> 0.60849897</td><td>1.167644e-11</td><td>-0.0005675126</td><td>0.9995472</td><td>0.9995355</td><td>0.8940062</td><td>+/+</td></tr>\n",
              "\t<tr><th scope=row>37661</th><td>DLGAP5   </td><td>EXO1    </td><td> 0.84926865</td><td>2.375877e-14</td><td> 0.84929076</td><td>0.000000e+00</td><td> 0.0004411656</td><td>0.9996480</td><td>0.9996364</td><td>0.8940062</td><td>+/+</td></tr>\n",
              "\t<tr><th scope=row>37662</th><td>C5orf34  </td><td>MEX3A   </td><td> 0.48972092</td><td>4.112490e-04</td><td> 0.48966342</td><td>1.760348e-07</td><td>-0.0004206949</td><td>0.9996643</td><td>0.9996523</td><td>0.8940062</td><td>+/+</td></tr>\n",
              "\t<tr><th scope=row>37663</th><td>ESPL1    </td><td>SSRP1   </td><td> 0.61416800</td><td>3.435747e-06</td><td> 0.61421337</td><td>6.624923e-12</td><td> 0.0004051326</td><td>0.9996768</td><td>0.9996603</td><td>0.8940062</td><td>+/+</td></tr>\n",
              "\t<tr><th scope=row>37664</th><td>PLK4     </td><td>TYMS    </td><td> 0.65384328</td><td>4.677059e-07</td><td> 0.65387942</td><td>9.259260e-14</td><td> 0.0003511594</td><td>0.9997198</td><td>0.9997133</td><td>0.8940062</td><td>+/+</td></tr>\n",
              "\t<tr><th scope=row>37665</th><td>DEPDC1B  </td><td>MCM2    </td><td> 0.62861629</td><td>1.716517e-06</td><td> 0.62865305</td><td>1.501688e-12</td><td> 0.0003380071</td><td>0.9997303</td><td>0.9997319</td><td>0.8940062</td><td>+/+</td></tr>\n",
              "\t<tr><th scope=row>37666</th><td>ARHGAP11A</td><td>C18orf54</td><td> 0.67839162</td><td>1.168804e-07</td><td> 0.67842332</td><td>4.662937e-15</td><td> 0.0003267009</td><td>0.9997393</td><td>0.9997425</td><td>0.8940062</td><td>+/+</td></tr>\n",
              "\t<tr><th scope=row>37667</th><td>ATAD5    </td><td>MLF1IP  </td><td> 0.55459615</td><td>4.308231e-05</td><td> 0.55456241</td><td>1.470747e-09</td><td>-0.0002709740</td><td>0.9997838</td><td>0.9997930</td><td>0.8940062</td><td>+/+</td></tr>\n",
              "\t<tr><th scope=row>37668</th><td>CENPN    </td><td>ESPL1   </td><td> 0.58476280</td><td>1.274150e-05</td><td> 0.58479231</td><td>1.091176e-10</td><td> 0.0002494347</td><td>0.9998010</td><td>0.9998115</td><td>0.8940062</td><td>+/+</td></tr>\n",
              "\t<tr><th scope=row>37669</th><td>CEP78    </td><td>DBF4    </td><td> 0.54854485</td><td>5.424528e-05</td><td> 0.54857554</td><td>2.388361e-09</td><td> 0.0002441202</td><td>0.9998052</td><td>0.9998195</td><td>0.8940062</td><td>+/+</td></tr>\n",
              "\t<tr><th scope=row>37670</th><td>NONO     </td><td>PLK1    </td><td> 0.63589412</td><td>1.193863e-06</td><td> 0.63592009</td><td>6.907808e-13</td><td> 0.0002425047</td><td>0.9998065</td><td>0.9998195</td><td>0.8940062</td><td>+/+</td></tr>\n",
              "\t<tr><th scope=row>37671</th><td>IGF2BP3  </td><td>SSRP1   </td><td> 0.09694508</td><td>5.121476e-01</td><td> 0.09698185</td><td>3.322034e-01</td><td> 0.0002064646</td><td>0.9998353</td><td>0.9998381</td><td>0.8940062</td><td>0/0</td></tr>\n",
              "\t<tr><th scope=row>37672</th><td>C1orf106 </td><td>TK1     </td><td> 0.34010116</td><td>1.802218e-02</td><td> 0.34012907</td><td>4.693099e-04</td><td> 0.0001755343</td><td>0.9998599</td><td>0.9998620</td><td>0.8940062</td><td>+/+</td></tr>\n",
              "\t<tr><th scope=row>37673</th><td>CDC20    </td><td>PRR11   </td><td> 0.61742459</td><td>2.947190e-06</td><td> 0.61740625</td><td>4.802381e-12</td><td>-0.0001647976</td><td>0.9998685</td><td>0.9998726</td><td>0.8940062</td><td>+/+</td></tr>\n",
              "\t<tr><th scope=row>37674</th><td>MELK     </td><td>RFC5    </td><td> 0.58865657</td><td>1.079042e-05</td><td> 0.58867097</td><td>7.663958e-11</td><td> 0.0001225573</td><td>0.9999022</td><td>0.9999044</td><td>0.8940062</td><td>+/+</td></tr>\n",
              "\t<tr><th scope=row>37675</th><td>CCDC99   </td><td>SPRYD3  </td><td>-0.52142314</td><td>1.445533e-04</td><td>-0.52143811</td><td>1.916564e-08</td><td>-0.0001143543</td><td>0.9999088</td><td>0.9999044</td><td>0.8940062</td><td>-/-</td></tr>\n",
              "</tbody>\n",
              "</table>\n"
            ],
            "text/latex": [
              "A data.frame: 37675 × 11\n",
              "\\begin{tabular}{r|lllllllllll}\n",
              "  & Gene1 & Gene2 & Mesenchymal\\_cor & Mesenchymal\\_pVal & NonMesenchymal\\_cor & NonMesenchymal\\_pVal & zScoreDiff & pValDiff & empPVals & pValDiff\\_adj & Classes\\\\\n",
              "  & <chr> & <chr> & <dbl> & <dbl> & <dbl> & <dbl> & <dbl> & <dbl> & <dbl> & <dbl> & <fct>\\\\\n",
              "\\hline\n",
              "\t1 & KIF20A       & TACC3  & 0.92555679 & 0.000000e+00 &  0.5951233 & 4.213563e-11 & -5.233454 & 1.663710e-07 & 2.654280e-06 & 0.04470458 & +/+\\\\\n",
              "\t2 & CCNA2        & TACC3  & 0.89753257 & 0.000000e+00 &  0.4908162 & 1.630576e-07 & -5.129677 & 2.902401e-07 & 2.654280e-06 & 0.04470458 & +/+\\\\\n",
              "\t3 & FAM83D       & TACC3  & 0.88072067 & 0.000000e+00 &  0.4519165 & 1.861864e-06 & -4.960687 & 7.024443e-07 & 5.308560e-06 & 0.05960611 & +/+\\\\\n",
              "\t4 & PLK1         & TACC3  & 0.87915142 & 2.220446e-16 &  0.4609545 & 1.085745e-06 & -4.858515 & 1.182695e-06 & 2.123424e-05 & 0.10218190 & +/+\\\\\n",
              "\t5 & SPC25        & TACC3  & 0.85477035 & 1.065814e-14 &  0.3811259 & 7.750565e-05 & -4.851438 & 1.225694e-06 & 2.123424e-05 & 0.10218190 & +/+\\\\\n",
              "\t6 & NCAPG        & TACC3  & 0.90139514 & 0.000000e+00 &  0.5490051 & 2.307432e-09 & -4.798217 & 1.600845e-06 & 2.123424e-05 & 0.10218190 & +/+\\\\\n",
              "\t7 & TACC3        & TPX2   & 0.92138146 & 0.000000e+00 &  0.6264923 & 1.884271e-12 & -4.797214 & 1.608880e-06 & 2.123424e-05 & 0.10218190 & +/+\\\\\n",
              "\t8 & CENPA        & TACC3  & 0.88531942 & 0.000000e+00 &  0.5032419 & 7.014512e-08 & -4.706761 & 2.516831e-06 & 3.715992e-05 & 0.14443018 & +/+\\\\\n",
              "\t9 & GTSE1        & TACC3  & 0.88364752 & 0.000000e+00 &  0.5053586 & 6.055230e-08 & -4.648254 & 3.347564e-06 & 5.043132e-05 & 0.14443018 & +/+\\\\\n",
              "\t10 & FAM83D       & KIF20A & 0.93109161 & 0.000000e+00 &  0.6857612 & 1.776357e-15 & -4.597794 & 4.269885e-06 & 5.308560e-05 & 0.14443018 & +/+\\\\\n",
              "\t11 & DLGAP5       & TACC3  & 0.87941831 & 2.220446e-16 &  0.5010520 & 8.158722e-08 & -4.574786 & 4.767080e-06 & 5.308560e-05 & 0.14443018 & +/+\\\\\n",
              "\t12 & KIF2C        & TACC3  & 0.91459857 & 0.000000e+00 &  0.6255144 & 2.086997e-12 & -4.566174 & 4.967059e-06 & 5.573988e-05 & 0.14443018 & +/+\\\\\n",
              "\t13 & CDC20        & TACC3  & 0.89740118 & 0.000000e+00 &  0.5643594 & 6.514185e-10 & -4.558181 & 5.159856e-06 & 5.573988e-05 & 0.14443018 & +/+\\\\\n",
              "\t14 & CENPE        & TACC3  & 0.89679085 & 0.000000e+00 &  0.5657397 & 5.795595e-10 & -4.529513 & 5.911977e-06 & 6.901128e-05 & 0.14528988 & +/+\\\\\n",
              "\t15 & LOC100128191 & TCF19  & 0.88816504 & 0.000000e+00 &  0.5365115 & 6.166531e-09 & -4.527167 & 5.977975e-06 & 6.901128e-05 & 0.14528988 & +/+\\\\\n",
              "\t16 & CCNB1        & TACC3  & 0.83887074 & 9.769963e-14 &  0.3830145 & 7.091229e-05 & -4.526267 & 6.003465e-06 & 6.901128e-05 & 0.14528988 & +/+\\\\\n",
              "\t17 & CCNF         & TACC3  & 0.86874539 & 1.332268e-15 &  0.4859996 & 2.241253e-07 & -4.433769 & 9.259993e-06 & 7.697412e-05 & 0.15252151 & +/+\\\\\n",
              "\t18 & CKAP2L       & TACC3  & 0.87900953 & 2.220446e-16 &  0.5310141 & 9.385297e-09 & -4.337573 & 1.440646e-05 & 9.820836e-05 & 0.16662616 & +/+\\\\\n",
              "\t19 & KIF4A        & TACC3  & 0.88878510 & 0.000000e+00 &  0.5633899 & 7.069256e-10 & -4.329170 & 1.496727e-05 & 1.061712e-04 & 0.16662616 & +/+\\\\\n",
              "\t20 & ASF1B        & TCF19  & 0.91886656 & 0.000000e+00 &  0.6663250 & 2.131628e-14 & -4.325089 & 1.524702e-05 & 1.061712e-04 & 0.16662616 & +/+\\\\\n",
              "\t21 & CDK1         & TACC3  & 0.83191476 & 2.389200e-13 &  0.3952074 & 3.941890e-05 & -4.318266 & 1.572600e-05 & 1.061712e-04 & 0.16662616 & +/+\\\\\n",
              "\t22 & BUB1         & TACC3  & 0.88351459 & 0.000000e+00 &  0.5485846 & 2.386625e-09 & -4.311834 & 1.619062e-05 & 1.088255e-04 & 0.16662616 & +/+\\\\\n",
              "\t23 & MELK         & TACC3  & 0.88621177 & 0.000000e+00 &  0.5582615 & 1.084789e-09 & -4.303375 & 1.682156e-05 & 1.220969e-04 & 0.17881832 & +/+\\\\\n",
              "\t24 & CCNB2        & TACC3  & 0.86174859 & 3.774758e-15 &  0.4870171 & 2.096448e-07 & -4.271488 & 1.941732e-05 & 1.486397e-04 & 0.20199847 & +/+\\\\\n",
              "\t25 & KIF11        & TACC3  & 0.87191835 & 8.881784e-16 &  0.5204513 & 2.060315e-08 & -4.249854 & 2.139095e-05 & 1.566025e-04 & 0.20199847 & +/+\\\\\n",
              "\t26 & CDCA5        & TACC3  & 0.90417314 & 0.000000e+00 &  0.6242567 & 2.378764e-12 & -4.242141 & 2.213972e-05 & 1.592568e-04 & 0.20199847 & +/+\\\\\n",
              "\t27 & CDT1         & TCF19  & 0.90178251 & 0.000000e+00 &  0.6162946 & 5.373924e-12 & -4.242101 & 2.214372e-05 & 1.619111e-04 & 0.20199847 & +/+\\\\\n",
              "\t28 & FAM72D       & SOX11  & 0.11229220 & 4.473240e-01 &  0.7023399 & 2.220446e-16 &  4.222426 & 2.416872e-05 & 1.831453e-04 & 0.21581521 & 0/+\\\\\n",
              "\t29 & AURKB        & TACC3  & 0.85061150 & 1.953993e-14 &  0.4618933 & 1.025676e-06 & -4.219697 & 2.446307e-05 & 1.857996e-04 & 0.21581521 & +/+\\\\\n",
              "\t30 & REEP5        & SPSB4  & 0.09475318 & 5.217769e-01 & -0.5771383 & 2.161880e-10 & -4.189407 & 2.796847e-05 & 1.990710e-04 & 0.22072886 & 0/-\\\\\n",
              "\t⋮ & ⋮ & ⋮ & ⋮ & ⋮ & ⋮ & ⋮ & ⋮ & ⋮ & ⋮ & ⋮ & ⋮\\\\\n",
              "\t37646 & BRCA2     & FBXO5    &  0.55608278 & 4.068354e-05 &  0.55622299 & 1.283495e-09 &  0.0011291772 & 0.9990990 & 0.9990896 & 0.8939657 & +/+\\\\\n",
              "\t37647 & CKAP2L    & YBX1     &  0.45327798 & 1.214917e-03 &  0.45341459 & 1.704458e-06 &  0.0009563942 & 0.9992369 & 0.9992064 & 0.8940062 & +/+\\\\\n",
              "\t37648 & MTA2      & POLD3    &  0.35951218 & 1.208509e-02 &  0.35936354 & 2.077691e-04 & -0.0009494056 & 0.9992425 & 0.9992117 & 0.8940062 & +/+\\\\\n",
              "\t37649 & CENPI     & DLGAP5   &  0.80454922 & 5.599965e-12 &  0.80449010 & 0.000000e+00 & -0.0009322016 & 0.9992562 & 0.9992276 & 0.8940062 & +/+\\\\\n",
              "\t37650 & NCAPG     & PTTG1    &  0.80172239 & 7.540413e-12 &  0.80167184 & 0.000000e+00 & -0.0007869671 & 0.9993721 & 0.9993603 & 0.8940062 & +/+\\\\\n",
              "\t37651 & GJC1      & TPX2     &  0.50922642 & 2.187748e-04 &  0.50912485 & 4.649560e-08 & -0.0007626806 & 0.9993915 & 0.9993709 & 0.8940062 & +/+\\\\\n",
              "\t37652 & FBXO5     & IQGAP3   &  0.56661394 & 2.689798e-05 &  0.56652109 & 5.423226e-10 & -0.0007606337 & 0.9993931 & 0.9993736 & 0.8940062 & +/+\\\\\n",
              "\t37653 & DSN1      & E2F7     &  0.55444747 & 4.332921e-05 &  0.55453884 & 1.473584e-09 &  0.0007338910 & 0.9994144 & 0.9993948 & 0.8940062 & +/+\\\\\n",
              "\t37654 & ARHGAP11A & KNTC1    &  0.70622932 & 2.049426e-08 &  0.70628884 & 0.000000e+00 &  0.0006606053 & 0.9994729 & 0.9994506 & 0.8940062 & +/+\\\\\n",
              "\t37655 & TPX2      & ZNF300   &  0.53657843 & 8.446146e-05 &  0.53649655 & 6.173660e-09 & -0.0006395551 & 0.9994897 & 0.9994745 & 0.8940062 & +/+\\\\\n",
              "\t37656 & CBX2      & PPM1D    &  0.62476084 & 2.072812e-06 &  0.62469175 & 2.273737e-12 & -0.0006302117 & 0.9994972 & 0.9994877 & 0.8940062 & +/+\\\\\n",
              "\t37657 & C21orf45  & RBL1     &  0.33706235 & 1.914514e-02 &  0.33715817 & 5.298259e-04 &  0.0006012695 & 0.9995203 & 0.9995116 & 0.8940062 & +/+\\\\\n",
              "\t37658 & C16orf75  & CKAP2    &  0.42556557 & 2.565697e-03 &  0.42547746 & 8.276226e-06 & -0.0005984641 & 0.9995225 & 0.9995143 & 0.8940062 & +/+\\\\\n",
              "\t37659 & POLA2     & SPC25    &  0.71723801 & 9.730846e-09 &  0.71718670 & 0.000000e+00 & -0.0005876503 & 0.9995311 & 0.9995249 & 0.8940062 & +/+\\\\\n",
              "\t37660 & CENPK     & GSG2     &  0.60856322 & 4.455878e-06 &  0.60849897 & 1.167644e-11 & -0.0005675126 & 0.9995472 & 0.9995355 & 0.8940062 & +/+\\\\\n",
              "\t37661 & DLGAP5    & EXO1     &  0.84926865 & 2.375877e-14 &  0.84929076 & 0.000000e+00 &  0.0004411656 & 0.9996480 & 0.9996364 & 0.8940062 & +/+\\\\\n",
              "\t37662 & C5orf34   & MEX3A    &  0.48972092 & 4.112490e-04 &  0.48966342 & 1.760348e-07 & -0.0004206949 & 0.9996643 & 0.9996523 & 0.8940062 & +/+\\\\\n",
              "\t37663 & ESPL1     & SSRP1    &  0.61416800 & 3.435747e-06 &  0.61421337 & 6.624923e-12 &  0.0004051326 & 0.9996768 & 0.9996603 & 0.8940062 & +/+\\\\\n",
              "\t37664 & PLK4      & TYMS     &  0.65384328 & 4.677059e-07 &  0.65387942 & 9.259260e-14 &  0.0003511594 & 0.9997198 & 0.9997133 & 0.8940062 & +/+\\\\\n",
              "\t37665 & DEPDC1B   & MCM2     &  0.62861629 & 1.716517e-06 &  0.62865305 & 1.501688e-12 &  0.0003380071 & 0.9997303 & 0.9997319 & 0.8940062 & +/+\\\\\n",
              "\t37666 & ARHGAP11A & C18orf54 &  0.67839162 & 1.168804e-07 &  0.67842332 & 4.662937e-15 &  0.0003267009 & 0.9997393 & 0.9997425 & 0.8940062 & +/+\\\\\n",
              "\t37667 & ATAD5     & MLF1IP   &  0.55459615 & 4.308231e-05 &  0.55456241 & 1.470747e-09 & -0.0002709740 & 0.9997838 & 0.9997930 & 0.8940062 & +/+\\\\\n",
              "\t37668 & CENPN     & ESPL1    &  0.58476280 & 1.274150e-05 &  0.58479231 & 1.091176e-10 &  0.0002494347 & 0.9998010 & 0.9998115 & 0.8940062 & +/+\\\\\n",
              "\t37669 & CEP78     & DBF4     &  0.54854485 & 5.424528e-05 &  0.54857554 & 2.388361e-09 &  0.0002441202 & 0.9998052 & 0.9998195 & 0.8940062 & +/+\\\\\n",
              "\t37670 & NONO      & PLK1     &  0.63589412 & 1.193863e-06 &  0.63592009 & 6.907808e-13 &  0.0002425047 & 0.9998065 & 0.9998195 & 0.8940062 & +/+\\\\\n",
              "\t37671 & IGF2BP3   & SSRP1    &  0.09694508 & 5.121476e-01 &  0.09698185 & 3.322034e-01 &  0.0002064646 & 0.9998353 & 0.9998381 & 0.8940062 & 0/0\\\\\n",
              "\t37672 & C1orf106  & TK1      &  0.34010116 & 1.802218e-02 &  0.34012907 & 4.693099e-04 &  0.0001755343 & 0.9998599 & 0.9998620 & 0.8940062 & +/+\\\\\n",
              "\t37673 & CDC20     & PRR11    &  0.61742459 & 2.947190e-06 &  0.61740625 & 4.802381e-12 & -0.0001647976 & 0.9998685 & 0.9998726 & 0.8940062 & +/+\\\\\n",
              "\t37674 & MELK      & RFC5     &  0.58865657 & 1.079042e-05 &  0.58867097 & 7.663958e-11 &  0.0001225573 & 0.9999022 & 0.9999044 & 0.8940062 & +/+\\\\\n",
              "\t37675 & CCDC99    & SPRYD3   & -0.52142314 & 1.445533e-04 & -0.52143811 & 1.916564e-08 & -0.0001143543 & 0.9999088 & 0.9999044 & 0.8940062 & -/-\\\\\n",
              "\\end{tabular}\n"
            ],
            "text/markdown": [
              "\n",
              "A data.frame: 37675 × 11\n",
              "\n",
              "| <!--/--> | Gene1 &lt;chr&gt; | Gene2 &lt;chr&gt; | Mesenchymal_cor &lt;dbl&gt; | Mesenchymal_pVal &lt;dbl&gt; | NonMesenchymal_cor &lt;dbl&gt; | NonMesenchymal_pVal &lt;dbl&gt; | zScoreDiff &lt;dbl&gt; | pValDiff &lt;dbl&gt; | empPVals &lt;dbl&gt; | pValDiff_adj &lt;dbl&gt; | Classes &lt;fct&gt; |\n",
              "|---|---|---|---|---|---|---|---|---|---|---|---|\n",
              "| 1 | KIF20A       | TACC3  | 0.92555679 | 0.000000e+00 |  0.5951233 | 4.213563e-11 | -5.233454 | 1.663710e-07 | 2.654280e-06 | 0.04470458 | +/+ |\n",
              "| 2 | CCNA2        | TACC3  | 0.89753257 | 0.000000e+00 |  0.4908162 | 1.630576e-07 | -5.129677 | 2.902401e-07 | 2.654280e-06 | 0.04470458 | +/+ |\n",
              "| 3 | FAM83D       | TACC3  | 0.88072067 | 0.000000e+00 |  0.4519165 | 1.861864e-06 | -4.960687 | 7.024443e-07 | 5.308560e-06 | 0.05960611 | +/+ |\n",
              "| 4 | PLK1         | TACC3  | 0.87915142 | 2.220446e-16 |  0.4609545 | 1.085745e-06 | -4.858515 | 1.182695e-06 | 2.123424e-05 | 0.10218190 | +/+ |\n",
              "| 5 | SPC25        | TACC3  | 0.85477035 | 1.065814e-14 |  0.3811259 | 7.750565e-05 | -4.851438 | 1.225694e-06 | 2.123424e-05 | 0.10218190 | +/+ |\n",
              "| 6 | NCAPG        | TACC3  | 0.90139514 | 0.000000e+00 |  0.5490051 | 2.307432e-09 | -4.798217 | 1.600845e-06 | 2.123424e-05 | 0.10218190 | +/+ |\n",
              "| 7 | TACC3        | TPX2   | 0.92138146 | 0.000000e+00 |  0.6264923 | 1.884271e-12 | -4.797214 | 1.608880e-06 | 2.123424e-05 | 0.10218190 | +/+ |\n",
              "| 8 | CENPA        | TACC3  | 0.88531942 | 0.000000e+00 |  0.5032419 | 7.014512e-08 | -4.706761 | 2.516831e-06 | 3.715992e-05 | 0.14443018 | +/+ |\n",
              "| 9 | GTSE1        | TACC3  | 0.88364752 | 0.000000e+00 |  0.5053586 | 6.055230e-08 | -4.648254 | 3.347564e-06 | 5.043132e-05 | 0.14443018 | +/+ |\n",
              "| 10 | FAM83D       | KIF20A | 0.93109161 | 0.000000e+00 |  0.6857612 | 1.776357e-15 | -4.597794 | 4.269885e-06 | 5.308560e-05 | 0.14443018 | +/+ |\n",
              "| 11 | DLGAP5       | TACC3  | 0.87941831 | 2.220446e-16 |  0.5010520 | 8.158722e-08 | -4.574786 | 4.767080e-06 | 5.308560e-05 | 0.14443018 | +/+ |\n",
              "| 12 | KIF2C        | TACC3  | 0.91459857 | 0.000000e+00 |  0.6255144 | 2.086997e-12 | -4.566174 | 4.967059e-06 | 5.573988e-05 | 0.14443018 | +/+ |\n",
              "| 13 | CDC20        | TACC3  | 0.89740118 | 0.000000e+00 |  0.5643594 | 6.514185e-10 | -4.558181 | 5.159856e-06 | 5.573988e-05 | 0.14443018 | +/+ |\n",
              "| 14 | CENPE        | TACC3  | 0.89679085 | 0.000000e+00 |  0.5657397 | 5.795595e-10 | -4.529513 | 5.911977e-06 | 6.901128e-05 | 0.14528988 | +/+ |\n",
              "| 15 | LOC100128191 | TCF19  | 0.88816504 | 0.000000e+00 |  0.5365115 | 6.166531e-09 | -4.527167 | 5.977975e-06 | 6.901128e-05 | 0.14528988 | +/+ |\n",
              "| 16 | CCNB1        | TACC3  | 0.83887074 | 9.769963e-14 |  0.3830145 | 7.091229e-05 | -4.526267 | 6.003465e-06 | 6.901128e-05 | 0.14528988 | +/+ |\n",
              "| 17 | CCNF         | TACC3  | 0.86874539 | 1.332268e-15 |  0.4859996 | 2.241253e-07 | -4.433769 | 9.259993e-06 | 7.697412e-05 | 0.15252151 | +/+ |\n",
              "| 18 | CKAP2L       | TACC3  | 0.87900953 | 2.220446e-16 |  0.5310141 | 9.385297e-09 | -4.337573 | 1.440646e-05 | 9.820836e-05 | 0.16662616 | +/+ |\n",
              "| 19 | KIF4A        | TACC3  | 0.88878510 | 0.000000e+00 |  0.5633899 | 7.069256e-10 | -4.329170 | 1.496727e-05 | 1.061712e-04 | 0.16662616 | +/+ |\n",
              "| 20 | ASF1B        | TCF19  | 0.91886656 | 0.000000e+00 |  0.6663250 | 2.131628e-14 | -4.325089 | 1.524702e-05 | 1.061712e-04 | 0.16662616 | +/+ |\n",
              "| 21 | CDK1         | TACC3  | 0.83191476 | 2.389200e-13 |  0.3952074 | 3.941890e-05 | -4.318266 | 1.572600e-05 | 1.061712e-04 | 0.16662616 | +/+ |\n",
              "| 22 | BUB1         | TACC3  | 0.88351459 | 0.000000e+00 |  0.5485846 | 2.386625e-09 | -4.311834 | 1.619062e-05 | 1.088255e-04 | 0.16662616 | +/+ |\n",
              "| 23 | MELK         | TACC3  | 0.88621177 | 0.000000e+00 |  0.5582615 | 1.084789e-09 | -4.303375 | 1.682156e-05 | 1.220969e-04 | 0.17881832 | +/+ |\n",
              "| 24 | CCNB2        | TACC3  | 0.86174859 | 3.774758e-15 |  0.4870171 | 2.096448e-07 | -4.271488 | 1.941732e-05 | 1.486397e-04 | 0.20199847 | +/+ |\n",
              "| 25 | KIF11        | TACC3  | 0.87191835 | 8.881784e-16 |  0.5204513 | 2.060315e-08 | -4.249854 | 2.139095e-05 | 1.566025e-04 | 0.20199847 | +/+ |\n",
              "| 26 | CDCA5        | TACC3  | 0.90417314 | 0.000000e+00 |  0.6242567 | 2.378764e-12 | -4.242141 | 2.213972e-05 | 1.592568e-04 | 0.20199847 | +/+ |\n",
              "| 27 | CDT1         | TCF19  | 0.90178251 | 0.000000e+00 |  0.6162946 | 5.373924e-12 | -4.242101 | 2.214372e-05 | 1.619111e-04 | 0.20199847 | +/+ |\n",
              "| 28 | FAM72D       | SOX11  | 0.11229220 | 4.473240e-01 |  0.7023399 | 2.220446e-16 |  4.222426 | 2.416872e-05 | 1.831453e-04 | 0.21581521 | 0/+ |\n",
              "| 29 | AURKB        | TACC3  | 0.85061150 | 1.953993e-14 |  0.4618933 | 1.025676e-06 | -4.219697 | 2.446307e-05 | 1.857996e-04 | 0.21581521 | +/+ |\n",
              "| 30 | REEP5        | SPSB4  | 0.09475318 | 5.217769e-01 | -0.5771383 | 2.161880e-10 | -4.189407 | 2.796847e-05 | 1.990710e-04 | 0.22072886 | 0/- |\n",
              "| ⋮ | ⋮ | ⋮ | ⋮ | ⋮ | ⋮ | ⋮ | ⋮ | ⋮ | ⋮ | ⋮ | ⋮ |\n",
              "| 37646 | BRCA2     | FBXO5    |  0.55608278 | 4.068354e-05 |  0.55622299 | 1.283495e-09 |  0.0011291772 | 0.9990990 | 0.9990896 | 0.8939657 | +/+ |\n",
              "| 37647 | CKAP2L    | YBX1     |  0.45327798 | 1.214917e-03 |  0.45341459 | 1.704458e-06 |  0.0009563942 | 0.9992369 | 0.9992064 | 0.8940062 | +/+ |\n",
              "| 37648 | MTA2      | POLD3    |  0.35951218 | 1.208509e-02 |  0.35936354 | 2.077691e-04 | -0.0009494056 | 0.9992425 | 0.9992117 | 0.8940062 | +/+ |\n",
              "| 37649 | CENPI     | DLGAP5   |  0.80454922 | 5.599965e-12 |  0.80449010 | 0.000000e+00 | -0.0009322016 | 0.9992562 | 0.9992276 | 0.8940062 | +/+ |\n",
              "| 37650 | NCAPG     | PTTG1    |  0.80172239 | 7.540413e-12 |  0.80167184 | 0.000000e+00 | -0.0007869671 | 0.9993721 | 0.9993603 | 0.8940062 | +/+ |\n",
              "| 37651 | GJC1      | TPX2     |  0.50922642 | 2.187748e-04 |  0.50912485 | 4.649560e-08 | -0.0007626806 | 0.9993915 | 0.9993709 | 0.8940062 | +/+ |\n",
              "| 37652 | FBXO5     | IQGAP3   |  0.56661394 | 2.689798e-05 |  0.56652109 | 5.423226e-10 | -0.0007606337 | 0.9993931 | 0.9993736 | 0.8940062 | +/+ |\n",
              "| 37653 | DSN1      | E2F7     |  0.55444747 | 4.332921e-05 |  0.55453884 | 1.473584e-09 |  0.0007338910 | 0.9994144 | 0.9993948 | 0.8940062 | +/+ |\n",
              "| 37654 | ARHGAP11A | KNTC1    |  0.70622932 | 2.049426e-08 |  0.70628884 | 0.000000e+00 |  0.0006606053 | 0.9994729 | 0.9994506 | 0.8940062 | +/+ |\n",
              "| 37655 | TPX2      | ZNF300   |  0.53657843 | 8.446146e-05 |  0.53649655 | 6.173660e-09 | -0.0006395551 | 0.9994897 | 0.9994745 | 0.8940062 | +/+ |\n",
              "| 37656 | CBX2      | PPM1D    |  0.62476084 | 2.072812e-06 |  0.62469175 | 2.273737e-12 | -0.0006302117 | 0.9994972 | 0.9994877 | 0.8940062 | +/+ |\n",
              "| 37657 | C21orf45  | RBL1     |  0.33706235 | 1.914514e-02 |  0.33715817 | 5.298259e-04 |  0.0006012695 | 0.9995203 | 0.9995116 | 0.8940062 | +/+ |\n",
              "| 37658 | C16orf75  | CKAP2    |  0.42556557 | 2.565697e-03 |  0.42547746 | 8.276226e-06 | -0.0005984641 | 0.9995225 | 0.9995143 | 0.8940062 | +/+ |\n",
              "| 37659 | POLA2     | SPC25    |  0.71723801 | 9.730846e-09 |  0.71718670 | 0.000000e+00 | -0.0005876503 | 0.9995311 | 0.9995249 | 0.8940062 | +/+ |\n",
              "| 37660 | CENPK     | GSG2     |  0.60856322 | 4.455878e-06 |  0.60849897 | 1.167644e-11 | -0.0005675126 | 0.9995472 | 0.9995355 | 0.8940062 | +/+ |\n",
              "| 37661 | DLGAP5    | EXO1     |  0.84926865 | 2.375877e-14 |  0.84929076 | 0.000000e+00 |  0.0004411656 | 0.9996480 | 0.9996364 | 0.8940062 | +/+ |\n",
              "| 37662 | C5orf34   | MEX3A    |  0.48972092 | 4.112490e-04 |  0.48966342 | 1.760348e-07 | -0.0004206949 | 0.9996643 | 0.9996523 | 0.8940062 | +/+ |\n",
              "| 37663 | ESPL1     | SSRP1    |  0.61416800 | 3.435747e-06 |  0.61421337 | 6.624923e-12 |  0.0004051326 | 0.9996768 | 0.9996603 | 0.8940062 | +/+ |\n",
              "| 37664 | PLK4      | TYMS     |  0.65384328 | 4.677059e-07 |  0.65387942 | 9.259260e-14 |  0.0003511594 | 0.9997198 | 0.9997133 | 0.8940062 | +/+ |\n",
              "| 37665 | DEPDC1B   | MCM2     |  0.62861629 | 1.716517e-06 |  0.62865305 | 1.501688e-12 |  0.0003380071 | 0.9997303 | 0.9997319 | 0.8940062 | +/+ |\n",
              "| 37666 | ARHGAP11A | C18orf54 |  0.67839162 | 1.168804e-07 |  0.67842332 | 4.662937e-15 |  0.0003267009 | 0.9997393 | 0.9997425 | 0.8940062 | +/+ |\n",
              "| 37667 | ATAD5     | MLF1IP   |  0.55459615 | 4.308231e-05 |  0.55456241 | 1.470747e-09 | -0.0002709740 | 0.9997838 | 0.9997930 | 0.8940062 | +/+ |\n",
              "| 37668 | CENPN     | ESPL1    |  0.58476280 | 1.274150e-05 |  0.58479231 | 1.091176e-10 |  0.0002494347 | 0.9998010 | 0.9998115 | 0.8940062 | +/+ |\n",
              "| 37669 | CEP78     | DBF4     |  0.54854485 | 5.424528e-05 |  0.54857554 | 2.388361e-09 |  0.0002441202 | 0.9998052 | 0.9998195 | 0.8940062 | +/+ |\n",
              "| 37670 | NONO      | PLK1     |  0.63589412 | 1.193863e-06 |  0.63592009 | 6.907808e-13 |  0.0002425047 | 0.9998065 | 0.9998195 | 0.8940062 | +/+ |\n",
              "| 37671 | IGF2BP3   | SSRP1    |  0.09694508 | 5.121476e-01 |  0.09698185 | 3.322034e-01 |  0.0002064646 | 0.9998353 | 0.9998381 | 0.8940062 | 0/0 |\n",
              "| 37672 | C1orf106  | TK1      |  0.34010116 | 1.802218e-02 |  0.34012907 | 4.693099e-04 |  0.0001755343 | 0.9998599 | 0.9998620 | 0.8940062 | +/+ |\n",
              "| 37673 | CDC20     | PRR11    |  0.61742459 | 2.947190e-06 |  0.61740625 | 4.802381e-12 | -0.0001647976 | 0.9998685 | 0.9998726 | 0.8940062 | +/+ |\n",
              "| 37674 | MELK      | RFC5     |  0.58865657 | 1.079042e-05 |  0.58867097 | 7.663958e-11 |  0.0001225573 | 0.9999022 | 0.9999044 | 0.8940062 | +/+ |\n",
              "| 37675 | CCDC99    | SPRYD3   | -0.52142314 | 1.445533e-04 | -0.52143811 | 1.916564e-08 | -0.0001143543 | 0.9999088 | 0.9999044 | 0.8940062 | -/- |\n",
              "\n"
            ],
            "text/plain": [
              "      Gene1        Gene2    Mesenchymal_cor Mesenchymal_pVal NonMesenchymal_cor\n",
              "1     KIF20A       TACC3    0.92555679      0.000000e+00      0.5951233        \n",
              "2     CCNA2        TACC3    0.89753257      0.000000e+00      0.4908162        \n",
              "3     FAM83D       TACC3    0.88072067      0.000000e+00      0.4519165        \n",
              "4     PLK1         TACC3    0.87915142      2.220446e-16      0.4609545        \n",
              "5     SPC25        TACC3    0.85477035      1.065814e-14      0.3811259        \n",
              "6     NCAPG        TACC3    0.90139514      0.000000e+00      0.5490051        \n",
              "7     TACC3        TPX2     0.92138146      0.000000e+00      0.6264923        \n",
              "8     CENPA        TACC3    0.88531942      0.000000e+00      0.5032419        \n",
              "9     GTSE1        TACC3    0.88364752      0.000000e+00      0.5053586        \n",
              "10    FAM83D       KIF20A   0.93109161      0.000000e+00      0.6857612        \n",
              "11    DLGAP5       TACC3    0.87941831      2.220446e-16      0.5010520        \n",
              "12    KIF2C        TACC3    0.91459857      0.000000e+00      0.6255144        \n",
              "13    CDC20        TACC3    0.89740118      0.000000e+00      0.5643594        \n",
              "14    CENPE        TACC3    0.89679085      0.000000e+00      0.5657397        \n",
              "15    LOC100128191 TCF19    0.88816504      0.000000e+00      0.5365115        \n",
              "16    CCNB1        TACC3    0.83887074      9.769963e-14      0.3830145        \n",
              "17    CCNF         TACC3    0.86874539      1.332268e-15      0.4859996        \n",
              "18    CKAP2L       TACC3    0.87900953      2.220446e-16      0.5310141        \n",
              "19    KIF4A        TACC3    0.88878510      0.000000e+00      0.5633899        \n",
              "20    ASF1B        TCF19    0.91886656      0.000000e+00      0.6663250        \n",
              "21    CDK1         TACC3    0.83191476      2.389200e-13      0.3952074        \n",
              "22    BUB1         TACC3    0.88351459      0.000000e+00      0.5485846        \n",
              "23    MELK         TACC3    0.88621177      0.000000e+00      0.5582615        \n",
              "24    CCNB2        TACC3    0.86174859      3.774758e-15      0.4870171        \n",
              "25    KIF11        TACC3    0.87191835      8.881784e-16      0.5204513        \n",
              "26    CDCA5        TACC3    0.90417314      0.000000e+00      0.6242567        \n",
              "27    CDT1         TCF19    0.90178251      0.000000e+00      0.6162946        \n",
              "28    FAM72D       SOX11    0.11229220      4.473240e-01      0.7023399        \n",
              "29    AURKB        TACC3    0.85061150      1.953993e-14      0.4618933        \n",
              "30    REEP5        SPSB4    0.09475318      5.217769e-01     -0.5771383        \n",
              "⋮     ⋮            ⋮        ⋮               ⋮                ⋮                 \n",
              "37646 BRCA2        FBXO5     0.55608278     4.068354e-05      0.55622299       \n",
              "37647 CKAP2L       YBX1      0.45327798     1.214917e-03      0.45341459       \n",
              "37648 MTA2         POLD3     0.35951218     1.208509e-02      0.35936354       \n",
              "37649 CENPI        DLGAP5    0.80454922     5.599965e-12      0.80449010       \n",
              "37650 NCAPG        PTTG1     0.80172239     7.540413e-12      0.80167184       \n",
              "37651 GJC1         TPX2      0.50922642     2.187748e-04      0.50912485       \n",
              "37652 FBXO5        IQGAP3    0.56661394     2.689798e-05      0.56652109       \n",
              "37653 DSN1         E2F7      0.55444747     4.332921e-05      0.55453884       \n",
              "37654 ARHGAP11A    KNTC1     0.70622932     2.049426e-08      0.70628884       \n",
              "37655 TPX2         ZNF300    0.53657843     8.446146e-05      0.53649655       \n",
              "37656 CBX2         PPM1D     0.62476084     2.072812e-06      0.62469175       \n",
              "37657 C21orf45     RBL1      0.33706235     1.914514e-02      0.33715817       \n",
              "37658 C16orf75     CKAP2     0.42556557     2.565697e-03      0.42547746       \n",
              "37659 POLA2        SPC25     0.71723801     9.730846e-09      0.71718670       \n",
              "37660 CENPK        GSG2      0.60856322     4.455878e-06      0.60849897       \n",
              "37661 DLGAP5       EXO1      0.84926865     2.375877e-14      0.84929076       \n",
              "37662 C5orf34      MEX3A     0.48972092     4.112490e-04      0.48966342       \n",
              "37663 ESPL1        SSRP1     0.61416800     3.435747e-06      0.61421337       \n",
              "37664 PLK4         TYMS      0.65384328     4.677059e-07      0.65387942       \n",
              "37665 DEPDC1B      MCM2      0.62861629     1.716517e-06      0.62865305       \n",
              "37666 ARHGAP11A    C18orf54  0.67839162     1.168804e-07      0.67842332       \n",
              "37667 ATAD5        MLF1IP    0.55459615     4.308231e-05      0.55456241       \n",
              "37668 CENPN        ESPL1     0.58476280     1.274150e-05      0.58479231       \n",
              "37669 CEP78        DBF4      0.54854485     5.424528e-05      0.54857554       \n",
              "37670 NONO         PLK1      0.63589412     1.193863e-06      0.63592009       \n",
              "37671 IGF2BP3      SSRP1     0.09694508     5.121476e-01      0.09698185       \n",
              "37672 C1orf106     TK1       0.34010116     1.802218e-02      0.34012907       \n",
              "37673 CDC20        PRR11     0.61742459     2.947190e-06      0.61740625       \n",
              "37674 MELK         RFC5      0.58865657     1.079042e-05      0.58867097       \n",
              "37675 CCDC99       SPRYD3   -0.52142314     1.445533e-04     -0.52143811       \n",
              "      NonMesenchymal_pVal zScoreDiff    pValDiff     empPVals     pValDiff_adj\n",
              "1     4.213563e-11        -5.233454     1.663710e-07 2.654280e-06 0.04470458  \n",
              "2     1.630576e-07        -5.129677     2.902401e-07 2.654280e-06 0.04470458  \n",
              "3     1.861864e-06        -4.960687     7.024443e-07 5.308560e-06 0.05960611  \n",
              "4     1.085745e-06        -4.858515     1.182695e-06 2.123424e-05 0.10218190  \n",
              "5     7.750565e-05        -4.851438     1.225694e-06 2.123424e-05 0.10218190  \n",
              "6     2.307432e-09        -4.798217     1.600845e-06 2.123424e-05 0.10218190  \n",
              "7     1.884271e-12        -4.797214     1.608880e-06 2.123424e-05 0.10218190  \n",
              "8     7.014512e-08        -4.706761     2.516831e-06 3.715992e-05 0.14443018  \n",
              "9     6.055230e-08        -4.648254     3.347564e-06 5.043132e-05 0.14443018  \n",
              "10    1.776357e-15        -4.597794     4.269885e-06 5.308560e-05 0.14443018  \n",
              "11    8.158722e-08        -4.574786     4.767080e-06 5.308560e-05 0.14443018  \n",
              "12    2.086997e-12        -4.566174     4.967059e-06 5.573988e-05 0.14443018  \n",
              "13    6.514185e-10        -4.558181     5.159856e-06 5.573988e-05 0.14443018  \n",
              "14    5.795595e-10        -4.529513     5.911977e-06 6.901128e-05 0.14528988  \n",
              "15    6.166531e-09        -4.527167     5.977975e-06 6.901128e-05 0.14528988  \n",
              "16    7.091229e-05        -4.526267     6.003465e-06 6.901128e-05 0.14528988  \n",
              "17    2.241253e-07        -4.433769     9.259993e-06 7.697412e-05 0.15252151  \n",
              "18    9.385297e-09        -4.337573     1.440646e-05 9.820836e-05 0.16662616  \n",
              "19    7.069256e-10        -4.329170     1.496727e-05 1.061712e-04 0.16662616  \n",
              "20    2.131628e-14        -4.325089     1.524702e-05 1.061712e-04 0.16662616  \n",
              "21    3.941890e-05        -4.318266     1.572600e-05 1.061712e-04 0.16662616  \n",
              "22    2.386625e-09        -4.311834     1.619062e-05 1.088255e-04 0.16662616  \n",
              "23    1.084789e-09        -4.303375     1.682156e-05 1.220969e-04 0.17881832  \n",
              "24    2.096448e-07        -4.271488     1.941732e-05 1.486397e-04 0.20199847  \n",
              "25    2.060315e-08        -4.249854     2.139095e-05 1.566025e-04 0.20199847  \n",
              "26    2.378764e-12        -4.242141     2.213972e-05 1.592568e-04 0.20199847  \n",
              "27    5.373924e-12        -4.242101     2.214372e-05 1.619111e-04 0.20199847  \n",
              "28    2.220446e-16         4.222426     2.416872e-05 1.831453e-04 0.21581521  \n",
              "29    1.025676e-06        -4.219697     2.446307e-05 1.857996e-04 0.21581521  \n",
              "30    2.161880e-10        -4.189407     2.796847e-05 1.990710e-04 0.22072886  \n",
              "⋮     ⋮                   ⋮             ⋮            ⋮            ⋮           \n",
              "37646 1.283495e-09         0.0011291772 0.9990990    0.9990896    0.8939657   \n",
              "37647 1.704458e-06         0.0009563942 0.9992369    0.9992064    0.8940062   \n",
              "37648 2.077691e-04        -0.0009494056 0.9992425    0.9992117    0.8940062   \n",
              "37649 0.000000e+00        -0.0009322016 0.9992562    0.9992276    0.8940062   \n",
              "37650 0.000000e+00        -0.0007869671 0.9993721    0.9993603    0.8940062   \n",
              "37651 4.649560e-08        -0.0007626806 0.9993915    0.9993709    0.8940062   \n",
              "37652 5.423226e-10        -0.0007606337 0.9993931    0.9993736    0.8940062   \n",
              "37653 1.473584e-09         0.0007338910 0.9994144    0.9993948    0.8940062   \n",
              "37654 0.000000e+00         0.0006606053 0.9994729    0.9994506    0.8940062   \n",
              "37655 6.173660e-09        -0.0006395551 0.9994897    0.9994745    0.8940062   \n",
              "37656 2.273737e-12        -0.0006302117 0.9994972    0.9994877    0.8940062   \n",
              "37657 5.298259e-04         0.0006012695 0.9995203    0.9995116    0.8940062   \n",
              "37658 8.276226e-06        -0.0005984641 0.9995225    0.9995143    0.8940062   \n",
              "37659 0.000000e+00        -0.0005876503 0.9995311    0.9995249    0.8940062   \n",
              "37660 1.167644e-11        -0.0005675126 0.9995472    0.9995355    0.8940062   \n",
              "37661 0.000000e+00         0.0004411656 0.9996480    0.9996364    0.8940062   \n",
              "37662 1.760348e-07        -0.0004206949 0.9996643    0.9996523    0.8940062   \n",
              "37663 6.624923e-12         0.0004051326 0.9996768    0.9996603    0.8940062   \n",
              "37664 9.259260e-14         0.0003511594 0.9997198    0.9997133    0.8940062   \n",
              "37665 1.501688e-12         0.0003380071 0.9997303    0.9997319    0.8940062   \n",
              "37666 4.662937e-15         0.0003267009 0.9997393    0.9997425    0.8940062   \n",
              "37667 1.470747e-09        -0.0002709740 0.9997838    0.9997930    0.8940062   \n",
              "37668 1.091176e-10         0.0002494347 0.9998010    0.9998115    0.8940062   \n",
              "37669 2.388361e-09         0.0002441202 0.9998052    0.9998195    0.8940062   \n",
              "37670 6.907808e-13         0.0002425047 0.9998065    0.9998195    0.8940062   \n",
              "37671 3.322034e-01         0.0002064646 0.9998353    0.9998381    0.8940062   \n",
              "37672 4.693099e-04         0.0001755343 0.9998599    0.9998620    0.8940062   \n",
              "37673 4.802381e-12        -0.0001647976 0.9998685    0.9998726    0.8940062   \n",
              "37674 7.663958e-11         0.0001225573 0.9999022    0.9999044    0.8940062   \n",
              "37675 1.916564e-08        -0.0001143543 0.9999088    0.9999044    0.8940062   \n",
              "      Classes\n",
              "1     +/+    \n",
              "2     +/+    \n",
              "3     +/+    \n",
              "4     +/+    \n",
              "5     +/+    \n",
              "6     +/+    \n",
              "7     +/+    \n",
              "8     +/+    \n",
              "9     +/+    \n",
              "10    +/+    \n",
              "11    +/+    \n",
              "12    +/+    \n",
              "13    +/+    \n",
              "14    +/+    \n",
              "15    +/+    \n",
              "16    +/+    \n",
              "17    +/+    \n",
              "18    +/+    \n",
              "19    +/+    \n",
              "20    +/+    \n",
              "21    +/+    \n",
              "22    +/+    \n",
              "23    +/+    \n",
              "24    +/+    \n",
              "25    +/+    \n",
              "26    +/+    \n",
              "27    +/+    \n",
              "28    0/+    \n",
              "29    +/+    \n",
              "30    0/-    \n",
              "⋮     ⋮      \n",
              "37646 +/+    \n",
              "37647 +/+    \n",
              "37648 +/+    \n",
              "37649 +/+    \n",
              "37650 +/+    \n",
              "37651 +/+    \n",
              "37652 +/+    \n",
              "37653 +/+    \n",
              "37654 +/+    \n",
              "37655 +/+    \n",
              "37656 +/+    \n",
              "37657 +/+    \n",
              "37658 +/+    \n",
              "37659 +/+    \n",
              "37660 +/+    \n",
              "37661 +/+    \n",
              "37662 +/+    \n",
              "37663 +/+    \n",
              "37664 +/+    \n",
              "37665 +/+    \n",
              "37666 +/+    \n",
              "37667 +/+    \n",
              "37668 +/+    \n",
              "37669 +/+    \n",
              "37670 +/+    \n",
              "37671 0/0    \n",
              "37672 +/+    \n",
              "37673 +/+    \n",
              "37674 +/+    \n",
              "37675 -/-    "
            ]
          },
          "metadata": {},
          "output_type": "display_data"
        },
        {
          "name": "stderr",
          "output_type": "stream",
          "text": [
            "Classifying the differential correlation calls.\n",
            "\n"
          ]
        },
        {
          "data": {
            "text/html": [
              "<table class=\"dataframe\">\n",
              "<caption>A data.frame: 32 × 10</caption>\n",
              "<thead>\n",
              "\t<tr><th></th><th scope=col>Gene1</th><th scope=col>Gene2</th><th scope=col>corA</th><th scope=col>corA_pVal</th><th scope=col>corB</th><th scope=col>corB_pVal</th><th scope=col>zScoreDiff</th><th scope=col>pValDiff</th><th scope=col>pValDiff_adj</th><th scope=col>Classes</th></tr>\n",
              "\t<tr><th></th><th scope=col>&lt;chr&gt;</th><th scope=col>&lt;chr&gt;</th><th scope=col>&lt;dbl&gt;</th><th scope=col>&lt;dbl&gt;</th><th scope=col>&lt;dbl&gt;</th><th scope=col>&lt;dbl&gt;</th><th scope=col>&lt;dbl&gt;</th><th scope=col>&lt;dbl&gt;</th><th scope=col>&lt;dbl&gt;</th><th scope=col>&lt;fct&gt;</th></tr>\n",
              "</thead>\n",
              "<tbody>\n",
              "\t<tr><th scope=row>1</th><td>KIF20A      </td><td>TACC3 </td><td>0.92555679</td><td>0.000000e+00</td><td> 0.5951233</td><td>4.213563e-11</td><td>-5.233454</td><td>1.663710e-07</td><td>0.005467398</td><td>+/+</td></tr>\n",
              "\t<tr><th scope=row>2</th><td>CCNA2       </td><td>TACC3 </td><td>0.89753257</td><td>0.000000e+00</td><td> 0.4908162</td><td>1.630576e-07</td><td>-5.129677</td><td>2.902401e-07</td><td>0.005467398</td><td>+/+</td></tr>\n",
              "\t<tr><th scope=row>3</th><td>FAM83D      </td><td>TACC3 </td><td>0.88072067</td><td>0.000000e+00</td><td> 0.4519165</td><td>1.861864e-06</td><td>-4.960687</td><td>7.024443e-07</td><td>0.008659221</td><td>+/+</td></tr>\n",
              "\t<tr><th scope=row>4</th><td>PLK1        </td><td>TACC3 </td><td>0.87915142</td><td>2.220446e-16</td><td> 0.4609545</td><td>1.085745e-06</td><td>-4.858515</td><td>1.182695e-06</td><td>0.008659221</td><td>+/+</td></tr>\n",
              "\t<tr><th scope=row>5</th><td>SPC25       </td><td>TACC3 </td><td>0.85477035</td><td>1.065814e-14</td><td> 0.3811259</td><td>7.750565e-05</td><td>-4.851438</td><td>1.225694e-06</td><td>0.008659221</td><td>+/+</td></tr>\n",
              "\t<tr><th scope=row>6</th><td>NCAPG       </td><td>TACC3 </td><td>0.90139514</td><td>0.000000e+00</td><td> 0.5490051</td><td>2.307432e-09</td><td>-4.798217</td><td>1.600845e-06</td><td>0.008659221</td><td>+/+</td></tr>\n",
              "\t<tr><th scope=row>7</th><td>TACC3       </td><td>TPX2  </td><td>0.92138146</td><td>0.000000e+00</td><td> 0.6264923</td><td>1.884271e-12</td><td>-4.797214</td><td>1.608880e-06</td><td>0.008659221</td><td>+/+</td></tr>\n",
              "\t<tr><th scope=row>8</th><td>CENPA       </td><td>TACC3 </td><td>0.88531942</td><td>0.000000e+00</td><td> 0.5032419</td><td>7.014512e-08</td><td>-4.706761</td><td>2.516831e-06</td><td>0.011852703</td><td>+/+</td></tr>\n",
              "\t<tr><th scope=row>9</th><td>GTSE1       </td><td>TACC3 </td><td>0.88364752</td><td>0.000000e+00</td><td> 0.5053586</td><td>6.055230e-08</td><td>-4.648254</td><td>3.347564e-06</td><td>0.014013277</td><td>+/+</td></tr>\n",
              "\t<tr><th scope=row>10</th><td>FAM83D      </td><td>KIF20A</td><td>0.93109161</td><td>0.000000e+00</td><td> 0.6857612</td><td>1.776357e-15</td><td>-4.597794</td><td>4.269885e-06</td><td>0.014136284</td><td>+/+</td></tr>\n",
              "\t<tr><th scope=row>11</th><td>DLGAP5      </td><td>TACC3 </td><td>0.87941831</td><td>2.220446e-16</td><td> 0.5010520</td><td>8.158722e-08</td><td>-4.574786</td><td>4.767080e-06</td><td>0.014136284</td><td>+/+</td></tr>\n",
              "\t<tr><th scope=row>12</th><td>KIF2C       </td><td>TACC3 </td><td>0.91459857</td><td>0.000000e+00</td><td> 0.6255144</td><td>2.086997e-12</td><td>-4.566174</td><td>4.967059e-06</td><td>0.014136284</td><td>+/+</td></tr>\n",
              "\t<tr><th scope=row>13</th><td>CDC20       </td><td>TACC3 </td><td>0.89740118</td><td>0.000000e+00</td><td> 0.5643594</td><td>6.514185e-10</td><td>-4.558181</td><td>5.159856e-06</td><td>0.014136284</td><td>+/+</td></tr>\n",
              "\t<tr><th scope=row>14</th><td>CENPE       </td><td>TACC3 </td><td>0.89679085</td><td>0.000000e+00</td><td> 0.5657397</td><td>5.795595e-10</td><td>-4.529513</td><td>5.911977e-06</td><td>0.014136284</td><td>+/+</td></tr>\n",
              "\t<tr><th scope=row>15</th><td>LOC100128191</td><td>TCF19 </td><td>0.88816504</td><td>0.000000e+00</td><td> 0.5365115</td><td>6.166531e-09</td><td>-4.527167</td><td>5.977975e-06</td><td>0.014136284</td><td>+/+</td></tr>\n",
              "\t<tr><th scope=row>16</th><td>CCNB1       </td><td>TACC3 </td><td>0.83887074</td><td>9.769963e-14</td><td> 0.3830145</td><td>7.091229e-05</td><td>-4.526267</td><td>6.003465e-06</td><td>0.014136284</td><td>+/+</td></tr>\n",
              "\t<tr><th scope=row>17</th><td>CCNF        </td><td>TACC3 </td><td>0.86874539</td><td>1.332268e-15</td><td> 0.4859996</td><td>2.241253e-07</td><td>-4.433769</td><td>9.259993e-06</td><td>0.020521778</td><td>+/+</td></tr>\n",
              "\t<tr><th scope=row>18</th><td>CKAP2L      </td><td>TACC3 </td><td>0.87900953</td><td>2.220446e-16</td><td> 0.5310141</td><td>9.385297e-09</td><td>-4.337573</td><td>1.440646e-05</td><td>0.027554442</td><td>+/+</td></tr>\n",
              "\t<tr><th scope=row>19</th><td>KIF4A       </td><td>TACC3 </td><td>0.88878510</td><td>0.000000e+00</td><td> 0.5633899</td><td>7.069256e-10</td><td>-4.329170</td><td>1.496727e-05</td><td>0.027554442</td><td>+/+</td></tr>\n",
              "\t<tr><th scope=row>20</th><td>ASF1B       </td><td>TCF19 </td><td>0.91886656</td><td>0.000000e+00</td><td> 0.6663250</td><td>2.131628e-14</td><td>-4.325089</td><td>1.524702e-05</td><td>0.027554442</td><td>+/+</td></tr>\n",
              "\t<tr><th scope=row>21</th><td>CDK1        </td><td>TACC3 </td><td>0.83191476</td><td>2.389200e-13</td><td> 0.3952074</td><td>3.941890e-05</td><td>-4.318266</td><td>1.572600e-05</td><td>0.027554442</td><td>+/+</td></tr>\n",
              "\t<tr><th scope=row>22</th><td>BUB1        </td><td>TACC3 </td><td>0.88351459</td><td>0.000000e+00</td><td> 0.5485846</td><td>2.386625e-09</td><td>-4.311834</td><td>1.619062e-05</td><td>0.027554442</td><td>+/+</td></tr>\n",
              "\t<tr><th scope=row>23</th><td>MELK        </td><td>TACC3 </td><td>0.88621177</td><td>0.000000e+00</td><td> 0.5582615</td><td>1.084789e-09</td><td>-4.303375</td><td>1.682156e-05</td><td>0.027554442</td><td>+/+</td></tr>\n",
              "\t<tr><th scope=row>24</th><td>CCNB2       </td><td>TACC3 </td><td>0.86174859</td><td>3.774758e-15</td><td> 0.4870171</td><td>2.096448e-07</td><td>-4.271488</td><td>1.941732e-05</td><td>0.030481150</td><td>+/+</td></tr>\n",
              "\t<tr><th scope=row>25</th><td>KIF11       </td><td>TACC3 </td><td>0.87191835</td><td>8.881784e-16</td><td> 0.5204513</td><td>2.060315e-08</td><td>-4.249854</td><td>2.139095e-05</td><td>0.030898688</td><td>+/+</td></tr>\n",
              "\t<tr><th scope=row>26</th><td>CDCA5       </td><td>TACC3 </td><td>0.90417314</td><td>0.000000e+00</td><td> 0.6242567</td><td>2.378764e-12</td><td>-4.242141</td><td>2.213972e-05</td><td>0.030898688</td><td>+/+</td></tr>\n",
              "\t<tr><th scope=row>27</th><td>CDT1        </td><td>TCF19 </td><td>0.90178251</td><td>0.000000e+00</td><td> 0.6162946</td><td>5.373924e-12</td><td>-4.242101</td><td>2.214372e-05</td><td>0.030898688</td><td>+/+</td></tr>\n",
              "\t<tr><th scope=row>28</th><td>FAM72D      </td><td>SOX11 </td><td>0.11229220</td><td>4.473240e-01</td><td> 0.7023399</td><td>2.220446e-16</td><td> 4.222426</td><td>2.416872e-05</td><td>0.031780906</td><td>0/+</td></tr>\n",
              "\t<tr><th scope=row>29</th><td>AURKB       </td><td>TACC3 </td><td>0.85061150</td><td>1.953993e-14</td><td> 0.4618933</td><td>1.025676e-06</td><td>-4.219697</td><td>2.446307e-05</td><td>0.031780906</td><td>+/+</td></tr>\n",
              "\t<tr><th scope=row>30</th><td>REEP5       </td><td>SPSB4 </td><td>0.09475318</td><td>5.217769e-01</td><td>-0.5771383</td><td>2.161880e-10</td><td>-4.189407</td><td>2.796847e-05</td><td>0.035123737</td><td>0/-</td></tr>\n",
              "\t<tr><th scope=row>31</th><td>CDCA3       </td><td>TACC3 </td><td>0.84201525</td><td>6.439294e-14</td><td> 0.4433578</td><td>3.059493e-06</td><td>-4.180823</td><td>2.904561e-05</td><td>0.035299782</td><td>+/+</td></tr>\n",
              "\t<tr><th scope=row>32</th><td>RRM2        </td><td>TACC3 </td><td>0.85322179</td><td>1.332268e-14</td><td> 0.4779214</td><td>3.779971e-07</td><td>-4.158219</td><td>3.207384e-05</td><td>0.037761936</td><td>+/+</td></tr>\n",
              "</tbody>\n",
              "</table>\n"
            ],
            "text/latex": [
              "A data.frame: 32 × 10\n",
              "\\begin{tabular}{r|llllllllll}\n",
              "  & Gene1 & Gene2 & corA & corA\\_pVal & corB & corB\\_pVal & zScoreDiff & pValDiff & pValDiff\\_adj & Classes\\\\\n",
              "  & <chr> & <chr> & <dbl> & <dbl> & <dbl> & <dbl> & <dbl> & <dbl> & <dbl> & <fct>\\\\\n",
              "\\hline\n",
              "\t1 & KIF20A       & TACC3  & 0.92555679 & 0.000000e+00 &  0.5951233 & 4.213563e-11 & -5.233454 & 1.663710e-07 & 0.005467398 & +/+\\\\\n",
              "\t2 & CCNA2        & TACC3  & 0.89753257 & 0.000000e+00 &  0.4908162 & 1.630576e-07 & -5.129677 & 2.902401e-07 & 0.005467398 & +/+\\\\\n",
              "\t3 & FAM83D       & TACC3  & 0.88072067 & 0.000000e+00 &  0.4519165 & 1.861864e-06 & -4.960687 & 7.024443e-07 & 0.008659221 & +/+\\\\\n",
              "\t4 & PLK1         & TACC3  & 0.87915142 & 2.220446e-16 &  0.4609545 & 1.085745e-06 & -4.858515 & 1.182695e-06 & 0.008659221 & +/+\\\\\n",
              "\t5 & SPC25        & TACC3  & 0.85477035 & 1.065814e-14 &  0.3811259 & 7.750565e-05 & -4.851438 & 1.225694e-06 & 0.008659221 & +/+\\\\\n",
              "\t6 & NCAPG        & TACC3  & 0.90139514 & 0.000000e+00 &  0.5490051 & 2.307432e-09 & -4.798217 & 1.600845e-06 & 0.008659221 & +/+\\\\\n",
              "\t7 & TACC3        & TPX2   & 0.92138146 & 0.000000e+00 &  0.6264923 & 1.884271e-12 & -4.797214 & 1.608880e-06 & 0.008659221 & +/+\\\\\n",
              "\t8 & CENPA        & TACC3  & 0.88531942 & 0.000000e+00 &  0.5032419 & 7.014512e-08 & -4.706761 & 2.516831e-06 & 0.011852703 & +/+\\\\\n",
              "\t9 & GTSE1        & TACC3  & 0.88364752 & 0.000000e+00 &  0.5053586 & 6.055230e-08 & -4.648254 & 3.347564e-06 & 0.014013277 & +/+\\\\\n",
              "\t10 & FAM83D       & KIF20A & 0.93109161 & 0.000000e+00 &  0.6857612 & 1.776357e-15 & -4.597794 & 4.269885e-06 & 0.014136284 & +/+\\\\\n",
              "\t11 & DLGAP5       & TACC3  & 0.87941831 & 2.220446e-16 &  0.5010520 & 8.158722e-08 & -4.574786 & 4.767080e-06 & 0.014136284 & +/+\\\\\n",
              "\t12 & KIF2C        & TACC3  & 0.91459857 & 0.000000e+00 &  0.6255144 & 2.086997e-12 & -4.566174 & 4.967059e-06 & 0.014136284 & +/+\\\\\n",
              "\t13 & CDC20        & TACC3  & 0.89740118 & 0.000000e+00 &  0.5643594 & 6.514185e-10 & -4.558181 & 5.159856e-06 & 0.014136284 & +/+\\\\\n",
              "\t14 & CENPE        & TACC3  & 0.89679085 & 0.000000e+00 &  0.5657397 & 5.795595e-10 & -4.529513 & 5.911977e-06 & 0.014136284 & +/+\\\\\n",
              "\t15 & LOC100128191 & TCF19  & 0.88816504 & 0.000000e+00 &  0.5365115 & 6.166531e-09 & -4.527167 & 5.977975e-06 & 0.014136284 & +/+\\\\\n",
              "\t16 & CCNB1        & TACC3  & 0.83887074 & 9.769963e-14 &  0.3830145 & 7.091229e-05 & -4.526267 & 6.003465e-06 & 0.014136284 & +/+\\\\\n",
              "\t17 & CCNF         & TACC3  & 0.86874539 & 1.332268e-15 &  0.4859996 & 2.241253e-07 & -4.433769 & 9.259993e-06 & 0.020521778 & +/+\\\\\n",
              "\t18 & CKAP2L       & TACC3  & 0.87900953 & 2.220446e-16 &  0.5310141 & 9.385297e-09 & -4.337573 & 1.440646e-05 & 0.027554442 & +/+\\\\\n",
              "\t19 & KIF4A        & TACC3  & 0.88878510 & 0.000000e+00 &  0.5633899 & 7.069256e-10 & -4.329170 & 1.496727e-05 & 0.027554442 & +/+\\\\\n",
              "\t20 & ASF1B        & TCF19  & 0.91886656 & 0.000000e+00 &  0.6663250 & 2.131628e-14 & -4.325089 & 1.524702e-05 & 0.027554442 & +/+\\\\\n",
              "\t21 & CDK1         & TACC3  & 0.83191476 & 2.389200e-13 &  0.3952074 & 3.941890e-05 & -4.318266 & 1.572600e-05 & 0.027554442 & +/+\\\\\n",
              "\t22 & BUB1         & TACC3  & 0.88351459 & 0.000000e+00 &  0.5485846 & 2.386625e-09 & -4.311834 & 1.619062e-05 & 0.027554442 & +/+\\\\\n",
              "\t23 & MELK         & TACC3  & 0.88621177 & 0.000000e+00 &  0.5582615 & 1.084789e-09 & -4.303375 & 1.682156e-05 & 0.027554442 & +/+\\\\\n",
              "\t24 & CCNB2        & TACC3  & 0.86174859 & 3.774758e-15 &  0.4870171 & 2.096448e-07 & -4.271488 & 1.941732e-05 & 0.030481150 & +/+\\\\\n",
              "\t25 & KIF11        & TACC3  & 0.87191835 & 8.881784e-16 &  0.5204513 & 2.060315e-08 & -4.249854 & 2.139095e-05 & 0.030898688 & +/+\\\\\n",
              "\t26 & CDCA5        & TACC3  & 0.90417314 & 0.000000e+00 &  0.6242567 & 2.378764e-12 & -4.242141 & 2.213972e-05 & 0.030898688 & +/+\\\\\n",
              "\t27 & CDT1         & TCF19  & 0.90178251 & 0.000000e+00 &  0.6162946 & 5.373924e-12 & -4.242101 & 2.214372e-05 & 0.030898688 & +/+\\\\\n",
              "\t28 & FAM72D       & SOX11  & 0.11229220 & 4.473240e-01 &  0.7023399 & 2.220446e-16 &  4.222426 & 2.416872e-05 & 0.031780906 & 0/+\\\\\n",
              "\t29 & AURKB        & TACC3  & 0.85061150 & 1.953993e-14 &  0.4618933 & 1.025676e-06 & -4.219697 & 2.446307e-05 & 0.031780906 & +/+\\\\\n",
              "\t30 & REEP5        & SPSB4  & 0.09475318 & 5.217769e-01 & -0.5771383 & 2.161880e-10 & -4.189407 & 2.796847e-05 & 0.035123737 & 0/-\\\\\n",
              "\t31 & CDCA3        & TACC3  & 0.84201525 & 6.439294e-14 &  0.4433578 & 3.059493e-06 & -4.180823 & 2.904561e-05 & 0.035299782 & +/+\\\\\n",
              "\t32 & RRM2         & TACC3  & 0.85322179 & 1.332268e-14 &  0.4779214 & 3.779971e-07 & -4.158219 & 3.207384e-05 & 0.037761936 & +/+\\\\\n",
              "\\end{tabular}\n"
            ],
            "text/markdown": [
              "\n",
              "A data.frame: 32 × 10\n",
              "\n",
              "| <!--/--> | Gene1 &lt;chr&gt; | Gene2 &lt;chr&gt; | corA &lt;dbl&gt; | corA_pVal &lt;dbl&gt; | corB &lt;dbl&gt; | corB_pVal &lt;dbl&gt; | zScoreDiff &lt;dbl&gt; | pValDiff &lt;dbl&gt; | pValDiff_adj &lt;dbl&gt; | Classes &lt;fct&gt; |\n",
              "|---|---|---|---|---|---|---|---|---|---|---|\n",
              "| 1 | KIF20A       | TACC3  | 0.92555679 | 0.000000e+00 |  0.5951233 | 4.213563e-11 | -5.233454 | 1.663710e-07 | 0.005467398 | +/+ |\n",
              "| 2 | CCNA2        | TACC3  | 0.89753257 | 0.000000e+00 |  0.4908162 | 1.630576e-07 | -5.129677 | 2.902401e-07 | 0.005467398 | +/+ |\n",
              "| 3 | FAM83D       | TACC3  | 0.88072067 | 0.000000e+00 |  0.4519165 | 1.861864e-06 | -4.960687 | 7.024443e-07 | 0.008659221 | +/+ |\n",
              "| 4 | PLK1         | TACC3  | 0.87915142 | 2.220446e-16 |  0.4609545 | 1.085745e-06 | -4.858515 | 1.182695e-06 | 0.008659221 | +/+ |\n",
              "| 5 | SPC25        | TACC3  | 0.85477035 | 1.065814e-14 |  0.3811259 | 7.750565e-05 | -4.851438 | 1.225694e-06 | 0.008659221 | +/+ |\n",
              "| 6 | NCAPG        | TACC3  | 0.90139514 | 0.000000e+00 |  0.5490051 | 2.307432e-09 | -4.798217 | 1.600845e-06 | 0.008659221 | +/+ |\n",
              "| 7 | TACC3        | TPX2   | 0.92138146 | 0.000000e+00 |  0.6264923 | 1.884271e-12 | -4.797214 | 1.608880e-06 | 0.008659221 | +/+ |\n",
              "| 8 | CENPA        | TACC3  | 0.88531942 | 0.000000e+00 |  0.5032419 | 7.014512e-08 | -4.706761 | 2.516831e-06 | 0.011852703 | +/+ |\n",
              "| 9 | GTSE1        | TACC3  | 0.88364752 | 0.000000e+00 |  0.5053586 | 6.055230e-08 | -4.648254 | 3.347564e-06 | 0.014013277 | +/+ |\n",
              "| 10 | FAM83D       | KIF20A | 0.93109161 | 0.000000e+00 |  0.6857612 | 1.776357e-15 | -4.597794 | 4.269885e-06 | 0.014136284 | +/+ |\n",
              "| 11 | DLGAP5       | TACC3  | 0.87941831 | 2.220446e-16 |  0.5010520 | 8.158722e-08 | -4.574786 | 4.767080e-06 | 0.014136284 | +/+ |\n",
              "| 12 | KIF2C        | TACC3  | 0.91459857 | 0.000000e+00 |  0.6255144 | 2.086997e-12 | -4.566174 | 4.967059e-06 | 0.014136284 | +/+ |\n",
              "| 13 | CDC20        | TACC3  | 0.89740118 | 0.000000e+00 |  0.5643594 | 6.514185e-10 | -4.558181 | 5.159856e-06 | 0.014136284 | +/+ |\n",
              "| 14 | CENPE        | TACC3  | 0.89679085 | 0.000000e+00 |  0.5657397 | 5.795595e-10 | -4.529513 | 5.911977e-06 | 0.014136284 | +/+ |\n",
              "| 15 | LOC100128191 | TCF19  | 0.88816504 | 0.000000e+00 |  0.5365115 | 6.166531e-09 | -4.527167 | 5.977975e-06 | 0.014136284 | +/+ |\n",
              "| 16 | CCNB1        | TACC3  | 0.83887074 | 9.769963e-14 |  0.3830145 | 7.091229e-05 | -4.526267 | 6.003465e-06 | 0.014136284 | +/+ |\n",
              "| 17 | CCNF         | TACC3  | 0.86874539 | 1.332268e-15 |  0.4859996 | 2.241253e-07 | -4.433769 | 9.259993e-06 | 0.020521778 | +/+ |\n",
              "| 18 | CKAP2L       | TACC3  | 0.87900953 | 2.220446e-16 |  0.5310141 | 9.385297e-09 | -4.337573 | 1.440646e-05 | 0.027554442 | +/+ |\n",
              "| 19 | KIF4A        | TACC3  | 0.88878510 | 0.000000e+00 |  0.5633899 | 7.069256e-10 | -4.329170 | 1.496727e-05 | 0.027554442 | +/+ |\n",
              "| 20 | ASF1B        | TCF19  | 0.91886656 | 0.000000e+00 |  0.6663250 | 2.131628e-14 | -4.325089 | 1.524702e-05 | 0.027554442 | +/+ |\n",
              "| 21 | CDK1         | TACC3  | 0.83191476 | 2.389200e-13 |  0.3952074 | 3.941890e-05 | -4.318266 | 1.572600e-05 | 0.027554442 | +/+ |\n",
              "| 22 | BUB1         | TACC3  | 0.88351459 | 0.000000e+00 |  0.5485846 | 2.386625e-09 | -4.311834 | 1.619062e-05 | 0.027554442 | +/+ |\n",
              "| 23 | MELK         | TACC3  | 0.88621177 | 0.000000e+00 |  0.5582615 | 1.084789e-09 | -4.303375 | 1.682156e-05 | 0.027554442 | +/+ |\n",
              "| 24 | CCNB2        | TACC3  | 0.86174859 | 3.774758e-15 |  0.4870171 | 2.096448e-07 | -4.271488 | 1.941732e-05 | 0.030481150 | +/+ |\n",
              "| 25 | KIF11        | TACC3  | 0.87191835 | 8.881784e-16 |  0.5204513 | 2.060315e-08 | -4.249854 | 2.139095e-05 | 0.030898688 | +/+ |\n",
              "| 26 | CDCA5        | TACC3  | 0.90417314 | 0.000000e+00 |  0.6242567 | 2.378764e-12 | -4.242141 | 2.213972e-05 | 0.030898688 | +/+ |\n",
              "| 27 | CDT1         | TCF19  | 0.90178251 | 0.000000e+00 |  0.6162946 | 5.373924e-12 | -4.242101 | 2.214372e-05 | 0.030898688 | +/+ |\n",
              "| 28 | FAM72D       | SOX11  | 0.11229220 | 4.473240e-01 |  0.7023399 | 2.220446e-16 |  4.222426 | 2.416872e-05 | 0.031780906 | 0/+ |\n",
              "| 29 | AURKB        | TACC3  | 0.85061150 | 1.953993e-14 |  0.4618933 | 1.025676e-06 | -4.219697 | 2.446307e-05 | 0.031780906 | +/+ |\n",
              "| 30 | REEP5        | SPSB4  | 0.09475318 | 5.217769e-01 | -0.5771383 | 2.161880e-10 | -4.189407 | 2.796847e-05 | 0.035123737 | 0/- |\n",
              "| 31 | CDCA3        | TACC3  | 0.84201525 | 6.439294e-14 |  0.4433578 | 3.059493e-06 | -4.180823 | 2.904561e-05 | 0.035299782 | +/+ |\n",
              "| 32 | RRM2         | TACC3  | 0.85322179 | 1.332268e-14 |  0.4779214 | 3.779971e-07 | -4.158219 | 3.207384e-05 | 0.037761936 | +/+ |\n",
              "\n"
            ],
            "text/plain": [
              "   Gene1        Gene2  corA       corA_pVal    corB       corB_pVal   \n",
              "1  KIF20A       TACC3  0.92555679 0.000000e+00  0.5951233 4.213563e-11\n",
              "2  CCNA2        TACC3  0.89753257 0.000000e+00  0.4908162 1.630576e-07\n",
              "3  FAM83D       TACC3  0.88072067 0.000000e+00  0.4519165 1.861864e-06\n",
              "4  PLK1         TACC3  0.87915142 2.220446e-16  0.4609545 1.085745e-06\n",
              "5  SPC25        TACC3  0.85477035 1.065814e-14  0.3811259 7.750565e-05\n",
              "6  NCAPG        TACC3  0.90139514 0.000000e+00  0.5490051 2.307432e-09\n",
              "7  TACC3        TPX2   0.92138146 0.000000e+00  0.6264923 1.884271e-12\n",
              "8  CENPA        TACC3  0.88531942 0.000000e+00  0.5032419 7.014512e-08\n",
              "9  GTSE1        TACC3  0.88364752 0.000000e+00  0.5053586 6.055230e-08\n",
              "10 FAM83D       KIF20A 0.93109161 0.000000e+00  0.6857612 1.776357e-15\n",
              "11 DLGAP5       TACC3  0.87941831 2.220446e-16  0.5010520 8.158722e-08\n",
              "12 KIF2C        TACC3  0.91459857 0.000000e+00  0.6255144 2.086997e-12\n",
              "13 CDC20        TACC3  0.89740118 0.000000e+00  0.5643594 6.514185e-10\n",
              "14 CENPE        TACC3  0.89679085 0.000000e+00  0.5657397 5.795595e-10\n",
              "15 LOC100128191 TCF19  0.88816504 0.000000e+00  0.5365115 6.166531e-09\n",
              "16 CCNB1        TACC3  0.83887074 9.769963e-14  0.3830145 7.091229e-05\n",
              "17 CCNF         TACC3  0.86874539 1.332268e-15  0.4859996 2.241253e-07\n",
              "18 CKAP2L       TACC3  0.87900953 2.220446e-16  0.5310141 9.385297e-09\n",
              "19 KIF4A        TACC3  0.88878510 0.000000e+00  0.5633899 7.069256e-10\n",
              "20 ASF1B        TCF19  0.91886656 0.000000e+00  0.6663250 2.131628e-14\n",
              "21 CDK1         TACC3  0.83191476 2.389200e-13  0.3952074 3.941890e-05\n",
              "22 BUB1         TACC3  0.88351459 0.000000e+00  0.5485846 2.386625e-09\n",
              "23 MELK         TACC3  0.88621177 0.000000e+00  0.5582615 1.084789e-09\n",
              "24 CCNB2        TACC3  0.86174859 3.774758e-15  0.4870171 2.096448e-07\n",
              "25 KIF11        TACC3  0.87191835 8.881784e-16  0.5204513 2.060315e-08\n",
              "26 CDCA5        TACC3  0.90417314 0.000000e+00  0.6242567 2.378764e-12\n",
              "27 CDT1         TCF19  0.90178251 0.000000e+00  0.6162946 5.373924e-12\n",
              "28 FAM72D       SOX11  0.11229220 4.473240e-01  0.7023399 2.220446e-16\n",
              "29 AURKB        TACC3  0.85061150 1.953993e-14  0.4618933 1.025676e-06\n",
              "30 REEP5        SPSB4  0.09475318 5.217769e-01 -0.5771383 2.161880e-10\n",
              "31 CDCA3        TACC3  0.84201525 6.439294e-14  0.4433578 3.059493e-06\n",
              "32 RRM2         TACC3  0.85322179 1.332268e-14  0.4779214 3.779971e-07\n",
              "   zScoreDiff pValDiff     pValDiff_adj Classes\n",
              "1  -5.233454  1.663710e-07 0.005467398  +/+    \n",
              "2  -5.129677  2.902401e-07 0.005467398  +/+    \n",
              "3  -4.960687  7.024443e-07 0.008659221  +/+    \n",
              "4  -4.858515  1.182695e-06 0.008659221  +/+    \n",
              "5  -4.851438  1.225694e-06 0.008659221  +/+    \n",
              "6  -4.798217  1.600845e-06 0.008659221  +/+    \n",
              "7  -4.797214  1.608880e-06 0.008659221  +/+    \n",
              "8  -4.706761  2.516831e-06 0.011852703  +/+    \n",
              "9  -4.648254  3.347564e-06 0.014013277  +/+    \n",
              "10 -4.597794  4.269885e-06 0.014136284  +/+    \n",
              "11 -4.574786  4.767080e-06 0.014136284  +/+    \n",
              "12 -4.566174  4.967059e-06 0.014136284  +/+    \n",
              "13 -4.558181  5.159856e-06 0.014136284  +/+    \n",
              "14 -4.529513  5.911977e-06 0.014136284  +/+    \n",
              "15 -4.527167  5.977975e-06 0.014136284  +/+    \n",
              "16 -4.526267  6.003465e-06 0.014136284  +/+    \n",
              "17 -4.433769  9.259993e-06 0.020521778  +/+    \n",
              "18 -4.337573  1.440646e-05 0.027554442  +/+    \n",
              "19 -4.329170  1.496727e-05 0.027554442  +/+    \n",
              "20 -4.325089  1.524702e-05 0.027554442  +/+    \n",
              "21 -4.318266  1.572600e-05 0.027554442  +/+    \n",
              "22 -4.311834  1.619062e-05 0.027554442  +/+    \n",
              "23 -4.303375  1.682156e-05 0.027554442  +/+    \n",
              "24 -4.271488  1.941732e-05 0.030481150  +/+    \n",
              "25 -4.249854  2.139095e-05 0.030898688  +/+    \n",
              "26 -4.242141  2.213972e-05 0.030898688  +/+    \n",
              "27 -4.242101  2.214372e-05 0.030898688  +/+    \n",
              "28  4.222426  2.416872e-05 0.031780906  0/+    \n",
              "29 -4.219697  2.446307e-05 0.031780906  +/+    \n",
              "30 -4.189407  2.796847e-05 0.035123737  0/-    \n",
              "31 -4.180823  2.904561e-05 0.035299782  +/+    \n",
              "32 -4.158219  3.207384e-05 0.037761936  +/+    "
            ]
          },
          "metadata": {},
          "output_type": "display_data"
        },
        {
          "name": "stderr",
          "output_type": "stream",
          "text": [
            "Calculating permutation number 1.\n",
            "\n",
            "Calculating permutation number 2.\n",
            "\n",
            "Calculating permutation number 3.\n",
            "\n",
            "Calculating permutation number 4.\n",
            "\n",
            "Calculating permutation number 5.\n",
            "\n",
            "Calculating permutation number 6.\n",
            "\n",
            "Calculating permutation number 7.\n",
            "\n",
            "Calculating permutation number 8.\n",
            "\n",
            "Calculating permutation number 9.\n",
            "\n",
            "Calculating permutation number 10.\n",
            "\n",
            "Calculating empirical p-values using the permutation sample statistics.\n",
            "\n",
            "Sorting the combination of the actual and permuted test statistics.\n",
            "\n",
            "Finding the proportion of each actual test statistic greater than the permuted test statistics.\n",
            "\n",
            "Calculating qvalues from the empirical p-values.\n",
            "\n",
            "Classifying the differential correlation calls.\n",
            "\n",
            "Plotting heatmap using heatmap.2...\n",
            "\n"
          ]
        },
        {
          "data": {
            "text/html": [
              "<strong>png:</strong> 2"
            ],
            "text/latex": [
              "\\textbf{png:} 2"
            ],
            "text/markdown": [
              "**png:** 2"
            ],
            "text/plain": [
              "png \n",
              "  2 "
            ]
          },
          "metadata": {},
          "output_type": "display_data"
        },
        {
          "data": {
            "text/html": [
              "<strong>png:</strong> 2"
            ],
            "text/latex": [
              "\\textbf{png:} 2"
            ],
            "text/markdown": [
              "**png:** 2"
            ],
            "text/plain": [
              "png \n",
              "  2 "
            ]
          },
          "metadata": {},
          "output_type": "display_data"
        }
      ],
      "source": [
        "gbm.data$gene <- gbm.data$gene %>% gsub(\"\\\\|.*\", \"\", .)\n",
        "gbm.data <- as.data.frame(gbm.data[-which(gbm.data$gene == \"?\"),])\n",
        "gbm.data <- gbm.data[,c(1,which(substr(colnames(gbm.data), 14, 15) == \"01\"))]\n",
        "\n",
        "n_occur <- data.frame(table(gbm.data$gene))\n",
        "dup_id <- which(gbm.data$gene %in% n_occur$Var1[n_occur$Freq > 1])\n",
        "gbm.data <- gbm.data[-dup_id[2],] # removing duplicate symbol\n",
        "\n",
        "rownames(gbm.data) <- gbm.data$gene\n",
        "gbm.data <- gbm.data[,-1]\n",
        "\n",
        "clin.sample <- clin.sample[,c(2,3)] %>% na.omit()\n",
        "\n",
        "Mesenchymal <- clin.sample$SAMPLE_ID[which(clin.sample$EXPRESSION_SUBTYPE == \"Mesenchymal\")]\n",
        "NonMesenchymal <- clin.sample$SAMPLE_ID[which(clin.sample$EXPRESSION_SUBTYPE != \"Mesenchymal\")]\n",
        "\n",
        "design <- data.table(subtype=rep(\"\", length(colnames(gbm.data))))\n",
        "design <- as.data.frame(design)\n",
        "design[which(colnames(gbm.data) %in% Mesenchymal), \"subtype\"] <- \"Mesenchymal\"\n",
        "design[which(colnames(gbm.data) %in% NonMesenchymal), \"subtype\"] <- \"NonMesenchymal\"\n",
        "subtype <- design$subtype\n",
        "design_matrix <- model.matrix(~ subtype + 0)\n",
        "design_matrix <- design_matrix[,-1]\n",
        "colnames(design_matrix) <- c(\"Mesenchymal\", \"NonMesenchymal\")\n",
        "\n",
        "gbm.data <- gbm.data[which(rownames(gbm.data) %in% brownModuleGenes),]\n",
        "\n",
        "ddcor_res = ddcorAll(inputMat = gbm.data, design = design_matrix, compare = c(\"Mesenchymal\", \"NonMesenchymal\"), heatmapPlot = F)\n",
        "View(ddcor_res)\n",
        "\n",
        "cor_res <- getCors(inputMat = gbm.data, design = design_matrix)\n",
        "pairDCor_res <- pairwiseDCor(cor_res, compare = c(\"Mesenchymal\", \"NonMesenchymal\"))\n",
        "dc_TopPairs = dcTopPairs(pairDCor_res, nPairs = 100128, classify = TRUE, adjust = \"fdr\", plotFdr = F)\n",
        "dc_TopPairs <- dc_TopPairs[which(dc_TopPairs$pValDiff_adj < 0.05),]\n",
        "View(dc_TopPairs)\n",
        "write.csv(dc_TopPairs, \"./Result/differentially_co-expression_gene_network.csv\") #drawing using cytoscape\n",
        "\n",
        "pdf(\"./Result/heatmapPlot.pdf\")\n",
        "options(repr.plot.width = 18, repr.plot.height =20, repr.plot.res = 150)\n",
        "gbm.data_top = filterGenes(gbm.data, filterTypes = c(\"central\", \"dispersion\"),\n",
        "                filterCentralPercentile = 0.65, filterDispersionPercentile = 0.75)\n",
        "\n",
        "ddcor_res = ddcorAll(inputMat = gbm.data_top, design = design_matrix, compare = c(\"Mesenchymal\", \"NonMesenchymal\"), heatmapPlot = TRUE, nPairs = \"all\")\n",
        "dev.off()\n",
        "\n",
        "pdf(\"/content/Result/plotCors.pdf\")\n",
        "options(repr.plot.width = 18, repr.plot.height = 12, repr.plot.res = 150)\n",
        "plotCors(inputMat = gbm.data, design = design_matrix, compare = c(\"Mesenchymal\", \"NonMesenchymal\"), geneA = \"KIF20A\", geneB = \"TACC3\")\n",
        "dev.off()"
      ]
    },
    {
      "cell_type": "code",
      "execution_count": null,
      "metadata": {
        "colab": {
          "base_uri": "https://localhost:8080/"
        },
        "id": "h2fHLVsSm-OH",
        "outputId": "2518018a-ac37-4142-dff3-5a9b0707da79",
        "vscode": {
          "languageId": "r"
        }
      },
      "outputs": [
        {
          "name": "stderr",
          "output_type": "stream",
          "text": [
            "Warning message in as.data.table.list(x, keep.rownames = keep.rownames, check.names = check.names, :\n",
            "“Item 1 has 523 rows but longest item has 542; recycled with remainder.”\n"
          ]
        }
      ],
      "source": [
        "clin.patient <- clin.patient[,c(1,2)] %>% na.omit()\n",
        "clin.sample[\"SAMPLE_ID\"] <- lapply(clin.sample[\"SAMPLE_ID\"], function(x) substr(x, 1, 12))\n",
        "sample.age <- data.table(SAMPLE_ID=clin.sample[which(clin.sample$SAMPLE_ID %in% clin.patient$PATIENT_ID), 1], AGE=clin.patient$AGE)\n",
        "\n",
        "young <- sample.age$SAMPLE_ID[which(sample.age$AGE <= median(sample.age$AGE))]\n",
        "old <- sample.age$SAMPLE_ID[which(sample.age$AGE > median(sample.age$AGE))]"
      ]
    },
    {
      "cell_type": "code",
      "execution_count": null,
      "metadata": {
        "id": "_S6NHXlooFqY",
        "vscode": {
          "languageId": "r"
        }
      },
      "outputs": [],
      "source": [
        "Temp = colnames(gbm.data)\n",
        "Temp = lapply(Temp, FUN=function(x) substr(x, 1, 12))"
      ]
    },
    {
      "cell_type": "code",
      "execution_count": null,
      "metadata": {
        "id": "rKXXXtnKoHWx",
        "vscode": {
          "languageId": "r"
        }
      },
      "outputs": [],
      "source": [
        "design <- data.table(age=rep(\"\", length(colnames(gbm.data))))\n",
        "design <- as.data.frame(design)\n",
        "design[which(Temp %in% young), \"age\"] <- \"young\"\n",
        "design[which(Temp %in% old), \"age\"] <- \"old\""
      ]
    },
    {
      "cell_type": "code",
      "execution_count": null,
      "metadata": {
        "id": "nYk0uOc7oJIZ",
        "vscode": {
          "languageId": "r"
        }
      },
      "outputs": [],
      "source": [
        "age <- design$age"
      ]
    },
    {
      "cell_type": "code",
      "execution_count": null,
      "metadata": {
        "colab": {
          "base_uri": "https://localhost:8080/",
          "height": 138
        },
        "id": "6ubRBc0RoK50",
        "outputId": "36dbe74d-4cd3-4b63-c518-53b257827a48",
        "vscode": {
          "languageId": "r"
        }
      },
      "outputs": [
        {
          "data": {
            "text/html": [
              "<style>\n",
              ".list-inline {list-style: none; margin:0; padding: 0}\n",
              ".list-inline>li {display: inline-block}\n",
              ".list-inline>li:not(:last-child)::after {content: \"\\00b7\"; padding: 0 .5ex}\n",
              "</style>\n",
              "<ol class=list-inline><li>'old'</li><li>'old'</li><li>'young'</li><li>'young'</li><li>'old'</li><li>'old'</li><li>'young'</li><li>'young'</li><li>'young'</li><li>'young'</li><li>'old'</li><li>'young'</li><li>'old'</li><li>'old'</li><li>'young'</li><li>'young'</li><li>'young'</li><li>'old'</li><li>'old'</li><li>'old'</li><li>'old'</li><li>'old'</li><li>'old'</li><li>'old'</li><li>'old'</li><li>'old'</li><li>'young'</li><li>'old'</li><li>'young'</li><li>'young'</li><li>'old'</li><li>'old'</li><li>'old'</li><li>'young'</li><li>'young'</li><li>'old'</li><li>'young'</li><li>'old'</li><li>'young'</li><li>'old'</li><li>'old'</li><li>'old'</li><li>'young'</li><li>'old'</li><li>'old'</li><li>'young'</li><li>'young'</li><li>'old'</li><li>'young'</li><li>'young'</li><li>'young'</li><li>'old'</li><li>'young'</li><li>'old'</li><li>'old'</li><li>'old'</li><li>'old'</li><li>'young'</li><li>'young'</li><li>'old'</li><li>'young'</li><li>'young'</li><li>'young'</li><li>'old'</li><li>'young'</li><li>'young'</li><li>'young'</li><li>'young'</li><li>'old'</li><li>'young'</li><li>'old'</li><li>'young'</li><li>'young'</li><li>'old'</li><li>'old'</li><li>'young'</li><li>'old'</li><li>'young'</li><li>'old'</li><li>'young'</li><li>'young'</li><li>'old'</li><li>'old'</li><li>'old'</li><li>''</li><li>'young'</li><li>'young'</li><li>'young'</li><li>'old'</li><li>'old'</li><li>'old'</li><li>'young'</li><li>'young'</li><li>'old'</li><li>''</li><li>'young'</li><li>'old'</li><li>'old'</li><li>'old'</li><li>'old'</li><li>'old'</li><li>'young'</li><li>'young'</li><li>'old'</li><li>'young'</li><li>'young'</li><li>'young'</li><li>'young'</li><li>'old'</li><li>'old'</li><li>'old'</li><li>'old'</li><li>'old'</li><li>'young'</li><li>'young'</li><li>'old'</li><li>'young'</li><li>''</li><li>'old'</li><li>''</li><li>'old'</li><li>'old'</li><li>'old'</li><li>'young'</li><li>'old'</li><li>'young'</li><li>'old'</li><li>'young'</li><li>'young'</li><li>'old'</li><li>'young'</li><li>'old'</li><li>'old'</li><li>'young'</li><li>'old'</li><li>'young'</li><li>'old'</li><li>'old'</li><li>'young'</li><li>'old'</li><li>'old'</li><li>'old'</li><li>'young'</li><li>'old'</li><li>'young'</li><li>'old'</li><li>'old'</li><li>'old'</li><li>'young'</li><li>'young'</li><li>'old'</li><li>'young'</li><li>'young'</li></ol>\n"
            ],
            "text/latex": [
              "\\begin{enumerate*}\n",
              "\\item 'old'\n",
              "\\item 'old'\n",
              "\\item 'young'\n",
              "\\item 'young'\n",
              "\\item 'old'\n",
              "\\item 'old'\n",
              "\\item 'young'\n",
              "\\item 'young'\n",
              "\\item 'young'\n",
              "\\item 'young'\n",
              "\\item 'old'\n",
              "\\item 'young'\n",
              "\\item 'old'\n",
              "\\item 'old'\n",
              "\\item 'young'\n",
              "\\item 'young'\n",
              "\\item 'young'\n",
              "\\item 'old'\n",
              "\\item 'old'\n",
              "\\item 'old'\n",
              "\\item 'old'\n",
              "\\item 'old'\n",
              "\\item 'old'\n",
              "\\item 'old'\n",
              "\\item 'old'\n",
              "\\item 'old'\n",
              "\\item 'young'\n",
              "\\item 'old'\n",
              "\\item 'young'\n",
              "\\item 'young'\n",
              "\\item 'old'\n",
              "\\item 'old'\n",
              "\\item 'old'\n",
              "\\item 'young'\n",
              "\\item 'young'\n",
              "\\item 'old'\n",
              "\\item 'young'\n",
              "\\item 'old'\n",
              "\\item 'young'\n",
              "\\item 'old'\n",
              "\\item 'old'\n",
              "\\item 'old'\n",
              "\\item 'young'\n",
              "\\item 'old'\n",
              "\\item 'old'\n",
              "\\item 'young'\n",
              "\\item 'young'\n",
              "\\item 'old'\n",
              "\\item 'young'\n",
              "\\item 'young'\n",
              "\\item 'young'\n",
              "\\item 'old'\n",
              "\\item 'young'\n",
              "\\item 'old'\n",
              "\\item 'old'\n",
              "\\item 'old'\n",
              "\\item 'old'\n",
              "\\item 'young'\n",
              "\\item 'young'\n",
              "\\item 'old'\n",
              "\\item 'young'\n",
              "\\item 'young'\n",
              "\\item 'young'\n",
              "\\item 'old'\n",
              "\\item 'young'\n",
              "\\item 'young'\n",
              "\\item 'young'\n",
              "\\item 'young'\n",
              "\\item 'old'\n",
              "\\item 'young'\n",
              "\\item 'old'\n",
              "\\item 'young'\n",
              "\\item 'young'\n",
              "\\item 'old'\n",
              "\\item 'old'\n",
              "\\item 'young'\n",
              "\\item 'old'\n",
              "\\item 'young'\n",
              "\\item 'old'\n",
              "\\item 'young'\n",
              "\\item 'young'\n",
              "\\item 'old'\n",
              "\\item 'old'\n",
              "\\item 'old'\n",
              "\\item ''\n",
              "\\item 'young'\n",
              "\\item 'young'\n",
              "\\item 'young'\n",
              "\\item 'old'\n",
              "\\item 'old'\n",
              "\\item 'old'\n",
              "\\item 'young'\n",
              "\\item 'young'\n",
              "\\item 'old'\n",
              "\\item ''\n",
              "\\item 'young'\n",
              "\\item 'old'\n",
              "\\item 'old'\n",
              "\\item 'old'\n",
              "\\item 'old'\n",
              "\\item 'old'\n",
              "\\item 'young'\n",
              "\\item 'young'\n",
              "\\item 'old'\n",
              "\\item 'young'\n",
              "\\item 'young'\n",
              "\\item 'young'\n",
              "\\item 'young'\n",
              "\\item 'old'\n",
              "\\item 'old'\n",
              "\\item 'old'\n",
              "\\item 'old'\n",
              "\\item 'old'\n",
              "\\item 'young'\n",
              "\\item 'young'\n",
              "\\item 'old'\n",
              "\\item 'young'\n",
              "\\item ''\n",
              "\\item 'old'\n",
              "\\item ''\n",
              "\\item 'old'\n",
              "\\item 'old'\n",
              "\\item 'old'\n",
              "\\item 'young'\n",
              "\\item 'old'\n",
              "\\item 'young'\n",
              "\\item 'old'\n",
              "\\item 'young'\n",
              "\\item 'young'\n",
              "\\item 'old'\n",
              "\\item 'young'\n",
              "\\item 'old'\n",
              "\\item 'old'\n",
              "\\item 'young'\n",
              "\\item 'old'\n",
              "\\item 'young'\n",
              "\\item 'old'\n",
              "\\item 'old'\n",
              "\\item 'young'\n",
              "\\item 'old'\n",
              "\\item 'old'\n",
              "\\item 'old'\n",
              "\\item 'young'\n",
              "\\item 'old'\n",
              "\\item 'young'\n",
              "\\item 'old'\n",
              "\\item 'old'\n",
              "\\item 'old'\n",
              "\\item 'young'\n",
              "\\item 'young'\n",
              "\\item 'old'\n",
              "\\item 'young'\n",
              "\\item 'young'\n",
              "\\end{enumerate*}\n"
            ],
            "text/markdown": [
              "1. 'old'\n",
              "2. 'old'\n",
              "3. 'young'\n",
              "4. 'young'\n",
              "5. 'old'\n",
              "6. 'old'\n",
              "7. 'young'\n",
              "8. 'young'\n",
              "9. 'young'\n",
              "10. 'young'\n",
              "11. 'old'\n",
              "12. 'young'\n",
              "13. 'old'\n",
              "14. 'old'\n",
              "15. 'young'\n",
              "16. 'young'\n",
              "17. 'young'\n",
              "18. 'old'\n",
              "19. 'old'\n",
              "20. 'old'\n",
              "21. 'old'\n",
              "22. 'old'\n",
              "23. 'old'\n",
              "24. 'old'\n",
              "25. 'old'\n",
              "26. 'old'\n",
              "27. 'young'\n",
              "28. 'old'\n",
              "29. 'young'\n",
              "30. 'young'\n",
              "31. 'old'\n",
              "32. 'old'\n",
              "33. 'old'\n",
              "34. 'young'\n",
              "35. 'young'\n",
              "36. 'old'\n",
              "37. 'young'\n",
              "38. 'old'\n",
              "39. 'young'\n",
              "40. 'old'\n",
              "41. 'old'\n",
              "42. 'old'\n",
              "43. 'young'\n",
              "44. 'old'\n",
              "45. 'old'\n",
              "46. 'young'\n",
              "47. 'young'\n",
              "48. 'old'\n",
              "49. 'young'\n",
              "50. 'young'\n",
              "51. 'young'\n",
              "52. 'old'\n",
              "53. 'young'\n",
              "54. 'old'\n",
              "55. 'old'\n",
              "56. 'old'\n",
              "57. 'old'\n",
              "58. 'young'\n",
              "59. 'young'\n",
              "60. 'old'\n",
              "61. 'young'\n",
              "62. 'young'\n",
              "63. 'young'\n",
              "64. 'old'\n",
              "65. 'young'\n",
              "66. 'young'\n",
              "67. 'young'\n",
              "68. 'young'\n",
              "69. 'old'\n",
              "70. 'young'\n",
              "71. 'old'\n",
              "72. 'young'\n",
              "73. 'young'\n",
              "74. 'old'\n",
              "75. 'old'\n",
              "76. 'young'\n",
              "77. 'old'\n",
              "78. 'young'\n",
              "79. 'old'\n",
              "80. 'young'\n",
              "81. 'young'\n",
              "82. 'old'\n",
              "83. 'old'\n",
              "84. 'old'\n",
              "85. ''\n",
              "86. 'young'\n",
              "87. 'young'\n",
              "88. 'young'\n",
              "89. 'old'\n",
              "90. 'old'\n",
              "91. 'old'\n",
              "92. 'young'\n",
              "93. 'young'\n",
              "94. 'old'\n",
              "95. ''\n",
              "96. 'young'\n",
              "97. 'old'\n",
              "98. 'old'\n",
              "99. 'old'\n",
              "100. 'old'\n",
              "101. 'old'\n",
              "102. 'young'\n",
              "103. 'young'\n",
              "104. 'old'\n",
              "105. 'young'\n",
              "106. 'young'\n",
              "107. 'young'\n",
              "108. 'young'\n",
              "109. 'old'\n",
              "110. 'old'\n",
              "111. 'old'\n",
              "112. 'old'\n",
              "113. 'old'\n",
              "114. 'young'\n",
              "115. 'young'\n",
              "116. 'old'\n",
              "117. 'young'\n",
              "118. ''\n",
              "119. 'old'\n",
              "120. ''\n",
              "121. 'old'\n",
              "122. 'old'\n",
              "123. 'old'\n",
              "124. 'young'\n",
              "125. 'old'\n",
              "126. 'young'\n",
              "127. 'old'\n",
              "128. 'young'\n",
              "129. 'young'\n",
              "130. 'old'\n",
              "131. 'young'\n",
              "132. 'old'\n",
              "133. 'old'\n",
              "134. 'young'\n",
              "135. 'old'\n",
              "136. 'young'\n",
              "137. 'old'\n",
              "138. 'old'\n",
              "139. 'young'\n",
              "140. 'old'\n",
              "141. 'old'\n",
              "142. 'old'\n",
              "143. 'young'\n",
              "144. 'old'\n",
              "145. 'young'\n",
              "146. 'old'\n",
              "147. 'old'\n",
              "148. 'old'\n",
              "149. 'young'\n",
              "150. 'young'\n",
              "151. 'old'\n",
              "152. 'young'\n",
              "153. 'young'\n",
              "\n",
              "\n"
            ],
            "text/plain": [
              "  [1] \"old\"   \"old\"   \"young\" \"young\" \"old\"   \"old\"   \"young\" \"young\" \"young\"\n",
              " [10] \"young\" \"old\"   \"young\" \"old\"   \"old\"   \"young\" \"young\" \"young\" \"old\"  \n",
              " [19] \"old\"   \"old\"   \"old\"   \"old\"   \"old\"   \"old\"   \"old\"   \"old\"   \"young\"\n",
              " [28] \"old\"   \"young\" \"young\" \"old\"   \"old\"   \"old\"   \"young\" \"young\" \"old\"  \n",
              " [37] \"young\" \"old\"   \"young\" \"old\"   \"old\"   \"old\"   \"young\" \"old\"   \"old\"  \n",
              " [46] \"young\" \"young\" \"old\"   \"young\" \"young\" \"young\" \"old\"   \"young\" \"old\"  \n",
              " [55] \"old\"   \"old\"   \"old\"   \"young\" \"young\" \"old\"   \"young\" \"young\" \"young\"\n",
              " [64] \"old\"   \"young\" \"young\" \"young\" \"young\" \"old\"   \"young\" \"old\"   \"young\"\n",
              " [73] \"young\" \"old\"   \"old\"   \"young\" \"old\"   \"young\" \"old\"   \"young\" \"young\"\n",
              " [82] \"old\"   \"old\"   \"old\"   \"\"      \"young\" \"young\" \"young\" \"old\"   \"old\"  \n",
              " [91] \"old\"   \"young\" \"young\" \"old\"   \"\"      \"young\" \"old\"   \"old\"   \"old\"  \n",
              "[100] \"old\"   \"old\"   \"young\" \"young\" \"old\"   \"young\" \"young\" \"young\" \"young\"\n",
              "[109] \"old\"   \"old\"   \"old\"   \"old\"   \"old\"   \"young\" \"young\" \"old\"   \"young\"\n",
              "[118] \"\"      \"old\"   \"\"      \"old\"   \"old\"   \"old\"   \"young\" \"old\"   \"young\"\n",
              "[127] \"old\"   \"young\" \"young\" \"old\"   \"young\" \"old\"   \"old\"   \"young\" \"old\"  \n",
              "[136] \"young\" \"old\"   \"old\"   \"young\" \"old\"   \"old\"   \"old\"   \"young\" \"old\"  \n",
              "[145] \"young\" \"old\"   \"old\"   \"old\"   \"young\" \"young\" \"old\"   \"young\" \"young\""
            ]
          },
          "metadata": {},
          "output_type": "display_data"
        }
      ],
      "source": [
        "age"
      ]
    },
    {
      "cell_type": "code",
      "execution_count": null,
      "metadata": {
        "id": "XgOkyweOoM6Z",
        "vscode": {
          "languageId": "r"
        }
      },
      "outputs": [],
      "source": [
        "design_matrix <- model.matrix(~ age + 0)"
      ]
    },
    {
      "cell_type": "code",
      "execution_count": null,
      "metadata": {
        "colab": {
          "base_uri": "https://localhost:8080/",
          "height": 1000
        },
        "id": "lNCWcrLtoO5l",
        "outputId": "e2e6fa36-6f25-4058-c5b0-2445832a7c08",
        "vscode": {
          "languageId": "r"
        }
      },
      "outputs": [
        {
          "data": {
            "text/html": [
              "<table class=\"dataframe\">\n",
              "<caption>A matrix: 153 × 3 of type dbl</caption>\n",
              "<thead>\n",
              "\t<tr><th></th><th scope=col>age</th><th scope=col>ageold</th><th scope=col>ageyoung</th></tr>\n",
              "</thead>\n",
              "<tbody>\n",
              "\t<tr><th scope=row>1</th><td>0</td><td>1</td><td>0</td></tr>\n",
              "\t<tr><th scope=row>2</th><td>0</td><td>1</td><td>0</td></tr>\n",
              "\t<tr><th scope=row>3</th><td>0</td><td>0</td><td>1</td></tr>\n",
              "\t<tr><th scope=row>4</th><td>0</td><td>0</td><td>1</td></tr>\n",
              "\t<tr><th scope=row>5</th><td>0</td><td>1</td><td>0</td></tr>\n",
              "\t<tr><th scope=row>6</th><td>0</td><td>1</td><td>0</td></tr>\n",
              "\t<tr><th scope=row>7</th><td>0</td><td>0</td><td>1</td></tr>\n",
              "\t<tr><th scope=row>8</th><td>0</td><td>0</td><td>1</td></tr>\n",
              "\t<tr><th scope=row>9</th><td>0</td><td>0</td><td>1</td></tr>\n",
              "\t<tr><th scope=row>10</th><td>0</td><td>0</td><td>1</td></tr>\n",
              "\t<tr><th scope=row>11</th><td>0</td><td>1</td><td>0</td></tr>\n",
              "\t<tr><th scope=row>12</th><td>0</td><td>0</td><td>1</td></tr>\n",
              "\t<tr><th scope=row>13</th><td>0</td><td>1</td><td>0</td></tr>\n",
              "\t<tr><th scope=row>14</th><td>0</td><td>1</td><td>0</td></tr>\n",
              "\t<tr><th scope=row>15</th><td>0</td><td>0</td><td>1</td></tr>\n",
              "\t<tr><th scope=row>16</th><td>0</td><td>0</td><td>1</td></tr>\n",
              "\t<tr><th scope=row>17</th><td>0</td><td>0</td><td>1</td></tr>\n",
              "\t<tr><th scope=row>18</th><td>0</td><td>1</td><td>0</td></tr>\n",
              "\t<tr><th scope=row>19</th><td>0</td><td>1</td><td>0</td></tr>\n",
              "\t<tr><th scope=row>20</th><td>0</td><td>1</td><td>0</td></tr>\n",
              "\t<tr><th scope=row>21</th><td>0</td><td>1</td><td>0</td></tr>\n",
              "\t<tr><th scope=row>22</th><td>0</td><td>1</td><td>0</td></tr>\n",
              "\t<tr><th scope=row>23</th><td>0</td><td>1</td><td>0</td></tr>\n",
              "\t<tr><th scope=row>24</th><td>0</td><td>1</td><td>0</td></tr>\n",
              "\t<tr><th scope=row>25</th><td>0</td><td>1</td><td>0</td></tr>\n",
              "\t<tr><th scope=row>26</th><td>0</td><td>1</td><td>0</td></tr>\n",
              "\t<tr><th scope=row>27</th><td>0</td><td>0</td><td>1</td></tr>\n",
              "\t<tr><th scope=row>28</th><td>0</td><td>1</td><td>0</td></tr>\n",
              "\t<tr><th scope=row>29</th><td>0</td><td>0</td><td>1</td></tr>\n",
              "\t<tr><th scope=row>30</th><td>0</td><td>0</td><td>1</td></tr>\n",
              "\t<tr><th scope=row>⋮</th><td>⋮</td><td>⋮</td><td>⋮</td></tr>\n",
              "\t<tr><th scope=row>124</th><td>0</td><td>0</td><td>1</td></tr>\n",
              "\t<tr><th scope=row>125</th><td>0</td><td>1</td><td>0</td></tr>\n",
              "\t<tr><th scope=row>126</th><td>0</td><td>0</td><td>1</td></tr>\n",
              "\t<tr><th scope=row>127</th><td>0</td><td>1</td><td>0</td></tr>\n",
              "\t<tr><th scope=row>128</th><td>0</td><td>0</td><td>1</td></tr>\n",
              "\t<tr><th scope=row>129</th><td>0</td><td>0</td><td>1</td></tr>\n",
              "\t<tr><th scope=row>130</th><td>0</td><td>1</td><td>0</td></tr>\n",
              "\t<tr><th scope=row>131</th><td>0</td><td>0</td><td>1</td></tr>\n",
              "\t<tr><th scope=row>132</th><td>0</td><td>1</td><td>0</td></tr>\n",
              "\t<tr><th scope=row>133</th><td>0</td><td>1</td><td>0</td></tr>\n",
              "\t<tr><th scope=row>134</th><td>0</td><td>0</td><td>1</td></tr>\n",
              "\t<tr><th scope=row>135</th><td>0</td><td>1</td><td>0</td></tr>\n",
              "\t<tr><th scope=row>136</th><td>0</td><td>0</td><td>1</td></tr>\n",
              "\t<tr><th scope=row>137</th><td>0</td><td>1</td><td>0</td></tr>\n",
              "\t<tr><th scope=row>138</th><td>0</td><td>1</td><td>0</td></tr>\n",
              "\t<tr><th scope=row>139</th><td>0</td><td>0</td><td>1</td></tr>\n",
              "\t<tr><th scope=row>140</th><td>0</td><td>1</td><td>0</td></tr>\n",
              "\t<tr><th scope=row>141</th><td>0</td><td>1</td><td>0</td></tr>\n",
              "\t<tr><th scope=row>142</th><td>0</td><td>1</td><td>0</td></tr>\n",
              "\t<tr><th scope=row>143</th><td>0</td><td>0</td><td>1</td></tr>\n",
              "\t<tr><th scope=row>144</th><td>0</td><td>1</td><td>0</td></tr>\n",
              "\t<tr><th scope=row>145</th><td>0</td><td>0</td><td>1</td></tr>\n",
              "\t<tr><th scope=row>146</th><td>0</td><td>1</td><td>0</td></tr>\n",
              "\t<tr><th scope=row>147</th><td>0</td><td>1</td><td>0</td></tr>\n",
              "\t<tr><th scope=row>148</th><td>0</td><td>1</td><td>0</td></tr>\n",
              "\t<tr><th scope=row>149</th><td>0</td><td>0</td><td>1</td></tr>\n",
              "\t<tr><th scope=row>150</th><td>0</td><td>0</td><td>1</td></tr>\n",
              "\t<tr><th scope=row>151</th><td>0</td><td>1</td><td>0</td></tr>\n",
              "\t<tr><th scope=row>152</th><td>0</td><td>0</td><td>1</td></tr>\n",
              "\t<tr><th scope=row>153</th><td>0</td><td>0</td><td>1</td></tr>\n",
              "</tbody>\n",
              "</table>\n"
            ],
            "text/latex": [
              "A matrix: 153 × 3 of type dbl\n",
              "\\begin{tabular}{r|lll}\n",
              "  & age & ageold & ageyoung\\\\\n",
              "\\hline\n",
              "\t1 & 0 & 1 & 0\\\\\n",
              "\t2 & 0 & 1 & 0\\\\\n",
              "\t3 & 0 & 0 & 1\\\\\n",
              "\t4 & 0 & 0 & 1\\\\\n",
              "\t5 & 0 & 1 & 0\\\\\n",
              "\t6 & 0 & 1 & 0\\\\\n",
              "\t7 & 0 & 0 & 1\\\\\n",
              "\t8 & 0 & 0 & 1\\\\\n",
              "\t9 & 0 & 0 & 1\\\\\n",
              "\t10 & 0 & 0 & 1\\\\\n",
              "\t11 & 0 & 1 & 0\\\\\n",
              "\t12 & 0 & 0 & 1\\\\\n",
              "\t13 & 0 & 1 & 0\\\\\n",
              "\t14 & 0 & 1 & 0\\\\\n",
              "\t15 & 0 & 0 & 1\\\\\n",
              "\t16 & 0 & 0 & 1\\\\\n",
              "\t17 & 0 & 0 & 1\\\\\n",
              "\t18 & 0 & 1 & 0\\\\\n",
              "\t19 & 0 & 1 & 0\\\\\n",
              "\t20 & 0 & 1 & 0\\\\\n",
              "\t21 & 0 & 1 & 0\\\\\n",
              "\t22 & 0 & 1 & 0\\\\\n",
              "\t23 & 0 & 1 & 0\\\\\n",
              "\t24 & 0 & 1 & 0\\\\\n",
              "\t25 & 0 & 1 & 0\\\\\n",
              "\t26 & 0 & 1 & 0\\\\\n",
              "\t27 & 0 & 0 & 1\\\\\n",
              "\t28 & 0 & 1 & 0\\\\\n",
              "\t29 & 0 & 0 & 1\\\\\n",
              "\t30 & 0 & 0 & 1\\\\\n",
              "\t⋮ & ⋮ & ⋮ & ⋮\\\\\n",
              "\t124 & 0 & 0 & 1\\\\\n",
              "\t125 & 0 & 1 & 0\\\\\n",
              "\t126 & 0 & 0 & 1\\\\\n",
              "\t127 & 0 & 1 & 0\\\\\n",
              "\t128 & 0 & 0 & 1\\\\\n",
              "\t129 & 0 & 0 & 1\\\\\n",
              "\t130 & 0 & 1 & 0\\\\\n",
              "\t131 & 0 & 0 & 1\\\\\n",
              "\t132 & 0 & 1 & 0\\\\\n",
              "\t133 & 0 & 1 & 0\\\\\n",
              "\t134 & 0 & 0 & 1\\\\\n",
              "\t135 & 0 & 1 & 0\\\\\n",
              "\t136 & 0 & 0 & 1\\\\\n",
              "\t137 & 0 & 1 & 0\\\\\n",
              "\t138 & 0 & 1 & 0\\\\\n",
              "\t139 & 0 & 0 & 1\\\\\n",
              "\t140 & 0 & 1 & 0\\\\\n",
              "\t141 & 0 & 1 & 0\\\\\n",
              "\t142 & 0 & 1 & 0\\\\\n",
              "\t143 & 0 & 0 & 1\\\\\n",
              "\t144 & 0 & 1 & 0\\\\\n",
              "\t145 & 0 & 0 & 1\\\\\n",
              "\t146 & 0 & 1 & 0\\\\\n",
              "\t147 & 0 & 1 & 0\\\\\n",
              "\t148 & 0 & 1 & 0\\\\\n",
              "\t149 & 0 & 0 & 1\\\\\n",
              "\t150 & 0 & 0 & 1\\\\\n",
              "\t151 & 0 & 1 & 0\\\\\n",
              "\t152 & 0 & 0 & 1\\\\\n",
              "\t153 & 0 & 0 & 1\\\\\n",
              "\\end{tabular}\n"
            ],
            "text/markdown": [
              "\n",
              "A matrix: 153 × 3 of type dbl\n",
              "\n",
              "| <!--/--> | age | ageold | ageyoung |\n",
              "|---|---|---|---|\n",
              "| 1 | 0 | 1 | 0 |\n",
              "| 2 | 0 | 1 | 0 |\n",
              "| 3 | 0 | 0 | 1 |\n",
              "| 4 | 0 | 0 | 1 |\n",
              "| 5 | 0 | 1 | 0 |\n",
              "| 6 | 0 | 1 | 0 |\n",
              "| 7 | 0 | 0 | 1 |\n",
              "| 8 | 0 | 0 | 1 |\n",
              "| 9 | 0 | 0 | 1 |\n",
              "| 10 | 0 | 0 | 1 |\n",
              "| 11 | 0 | 1 | 0 |\n",
              "| 12 | 0 | 0 | 1 |\n",
              "| 13 | 0 | 1 | 0 |\n",
              "| 14 | 0 | 1 | 0 |\n",
              "| 15 | 0 | 0 | 1 |\n",
              "| 16 | 0 | 0 | 1 |\n",
              "| 17 | 0 | 0 | 1 |\n",
              "| 18 | 0 | 1 | 0 |\n",
              "| 19 | 0 | 1 | 0 |\n",
              "| 20 | 0 | 1 | 0 |\n",
              "| 21 | 0 | 1 | 0 |\n",
              "| 22 | 0 | 1 | 0 |\n",
              "| 23 | 0 | 1 | 0 |\n",
              "| 24 | 0 | 1 | 0 |\n",
              "| 25 | 0 | 1 | 0 |\n",
              "| 26 | 0 | 1 | 0 |\n",
              "| 27 | 0 | 0 | 1 |\n",
              "| 28 | 0 | 1 | 0 |\n",
              "| 29 | 0 | 0 | 1 |\n",
              "| 30 | 0 | 0 | 1 |\n",
              "| ⋮ | ⋮ | ⋮ | ⋮ |\n",
              "| 124 | 0 | 0 | 1 |\n",
              "| 125 | 0 | 1 | 0 |\n",
              "| 126 | 0 | 0 | 1 |\n",
              "| 127 | 0 | 1 | 0 |\n",
              "| 128 | 0 | 0 | 1 |\n",
              "| 129 | 0 | 0 | 1 |\n",
              "| 130 | 0 | 1 | 0 |\n",
              "| 131 | 0 | 0 | 1 |\n",
              "| 132 | 0 | 1 | 0 |\n",
              "| 133 | 0 | 1 | 0 |\n",
              "| 134 | 0 | 0 | 1 |\n",
              "| 135 | 0 | 1 | 0 |\n",
              "| 136 | 0 | 0 | 1 |\n",
              "| 137 | 0 | 1 | 0 |\n",
              "| 138 | 0 | 1 | 0 |\n",
              "| 139 | 0 | 0 | 1 |\n",
              "| 140 | 0 | 1 | 0 |\n",
              "| 141 | 0 | 1 | 0 |\n",
              "| 142 | 0 | 1 | 0 |\n",
              "| 143 | 0 | 0 | 1 |\n",
              "| 144 | 0 | 1 | 0 |\n",
              "| 145 | 0 | 0 | 1 |\n",
              "| 146 | 0 | 1 | 0 |\n",
              "| 147 | 0 | 1 | 0 |\n",
              "| 148 | 0 | 1 | 0 |\n",
              "| 149 | 0 | 0 | 1 |\n",
              "| 150 | 0 | 0 | 1 |\n",
              "| 151 | 0 | 1 | 0 |\n",
              "| 152 | 0 | 0 | 1 |\n",
              "| 153 | 0 | 0 | 1 |\n",
              "\n"
            ],
            "text/plain": [
              "    age ageold ageyoung\n",
              "1   0   1      0       \n",
              "2   0   1      0       \n",
              "3   0   0      1       \n",
              "4   0   0      1       \n",
              "5   0   1      0       \n",
              "6   0   1      0       \n",
              "7   0   0      1       \n",
              "8   0   0      1       \n",
              "9   0   0      1       \n",
              "10  0   0      1       \n",
              "11  0   1      0       \n",
              "12  0   0      1       \n",
              "13  0   1      0       \n",
              "14  0   1      0       \n",
              "15  0   0      1       \n",
              "16  0   0      1       \n",
              "17  0   0      1       \n",
              "18  0   1      0       \n",
              "19  0   1      0       \n",
              "20  0   1      0       \n",
              "21  0   1      0       \n",
              "22  0   1      0       \n",
              "23  0   1      0       \n",
              "24  0   1      0       \n",
              "25  0   1      0       \n",
              "26  0   1      0       \n",
              "27  0   0      1       \n",
              "28  0   1      0       \n",
              "29  0   0      1       \n",
              "30  0   0      1       \n",
              "⋮   ⋮   ⋮      ⋮       \n",
              "124 0   0      1       \n",
              "125 0   1      0       \n",
              "126 0   0      1       \n",
              "127 0   1      0       \n",
              "128 0   0      1       \n",
              "129 0   0      1       \n",
              "130 0   1      0       \n",
              "131 0   0      1       \n",
              "132 0   1      0       \n",
              "133 0   1      0       \n",
              "134 0   0      1       \n",
              "135 0   1      0       \n",
              "136 0   0      1       \n",
              "137 0   1      0       \n",
              "138 0   1      0       \n",
              "139 0   0      1       \n",
              "140 0   1      0       \n",
              "141 0   1      0       \n",
              "142 0   1      0       \n",
              "143 0   0      1       \n",
              "144 0   1      0       \n",
              "145 0   0      1       \n",
              "146 0   1      0       \n",
              "147 0   1      0       \n",
              "148 0   1      0       \n",
              "149 0   0      1       \n",
              "150 0   0      1       \n",
              "151 0   1      0       \n",
              "152 0   0      1       \n",
              "153 0   0      1       "
            ]
          },
          "metadata": {},
          "output_type": "display_data"
        }
      ],
      "source": [
        "design_matrix"
      ]
    },
    {
      "cell_type": "code",
      "execution_count": null,
      "metadata": {
        "id": "BtUhIFcOoQAB",
        "vscode": {
          "languageId": "r"
        }
      },
      "outputs": [],
      "source": [
        "design_matrix <- design_matrix[,-1]\n",
        "colnames(design_matrix) <- c(\"old\", \"young\")"
      ]
    },
    {
      "cell_type": "code",
      "execution_count": null,
      "metadata": {
        "colab": {
          "base_uri": "https://localhost:8080/",
          "height": 1000
        },
        "id": "gEX2-1ozoSp-",
        "outputId": "818ad199-08ba-4e45-9c5a-4f8c7279d097",
        "vscode": {
          "languageId": "r"
        }
      },
      "outputs": [
        {
          "name": "stderr",
          "output_type": "stream",
          "text": [
            "Calculating permutation number 1.\n",
            "\n",
            "Calculating permutation number 2.\n",
            "\n",
            "Calculating permutation number 3.\n",
            "\n",
            "Calculating permutation number 4.\n",
            "\n",
            "Calculating permutation number 5.\n",
            "\n",
            "Calculating permutation number 6.\n",
            "\n",
            "Calculating permutation number 7.\n",
            "\n",
            "Calculating permutation number 8.\n",
            "\n",
            "Calculating permutation number 9.\n",
            "\n",
            "Calculating permutation number 10.\n",
            "\n",
            "Calculating empirical p-values using the permutation sample statistics.\n",
            "\n",
            "Sorting the combination of the actual and permuted test statistics.\n",
            "\n",
            "Finding the proportion of each actual test statistic greater than the permuted test statistics.\n",
            "\n",
            "Calculating qvalues from the empirical p-values.\n",
            "\n",
            "Classifying the differential correlation calls.\n",
            "\n"
          ]
        },
        {
          "data": {
            "text/html": [
              "<table class=\"dataframe\">\n",
              "<caption>A data.frame: 37675 × 11</caption>\n",
              "<thead>\n",
              "\t<tr><th></th><th scope=col>Gene1</th><th scope=col>Gene2</th><th scope=col>old_cor</th><th scope=col>old_pVal</th><th scope=col>young_cor</th><th scope=col>young_pVal</th><th scope=col>zScoreDiff</th><th scope=col>pValDiff</th><th scope=col>empPVals</th><th scope=col>pValDiff_adj</th><th scope=col>Classes</th></tr>\n",
              "\t<tr><th></th><th scope=col>&lt;chr&gt;</th><th scope=col>&lt;chr&gt;</th><th scope=col>&lt;dbl&gt;</th><th scope=col>&lt;dbl&gt;</th><th scope=col>&lt;dbl&gt;</th><th scope=col>&lt;dbl&gt;</th><th scope=col>&lt;dbl&gt;</th><th scope=col>&lt;dbl&gt;</th><th scope=col>&lt;dbl&gt;</th><th scope=col>&lt;dbl&gt;</th><th scope=col>&lt;fct&gt;</th></tr>\n",
              "</thead>\n",
              "<tbody>\n",
              "\t<tr><th scope=row>1</th><td>KIF2C </td><td>TACC3 </td><td>0.9038750</td><td>0.000000e+00</td><td>0.5204570</td><td>4.562227e-06</td><td>-5.460848</td><td>4.738651e-08</td><td>0.0000663570</td><td>0.9999655</td><td>+/+</td></tr>\n",
              "\t<tr><th scope=row>2</th><td>BUB1  </td><td>TACC3 </td><td>0.8517111</td><td>0.000000e+00</td><td>0.4430742</td><td>1.375201e-04</td><td>-4.687473</td><td>2.765997e-06</td><td>0.0003636364</td><td>0.9999655</td><td>+/+</td></tr>\n",
              "\t<tr><th scope=row>3</th><td>TACC3 </td><td>TPX2  </td><td>0.8769535</td><td>0.000000e+00</td><td>0.5469085</td><td>1.161354e-06</td><td>-4.461891</td><td>8.123962e-06</td><td>0.0005919044</td><td>0.9999655</td><td>+/+</td></tr>\n",
              "\t<tr><th scope=row>4</th><td>CDCA8 </td><td>TACC3 </td><td>0.8527112</td><td>0.000000e+00</td><td>0.4771369</td><td>3.396034e-05</td><td>-4.451593</td><td>8.523548e-06</td><td>0.0005919044</td><td>0.9999655</td><td>+/+</td></tr>\n",
              "\t<tr><th scope=row>5</th><td>HJURP </td><td>TACC3 </td><td>0.8536415</td><td>0.000000e+00</td><td>0.4983408</td><td>1.315380e-05</td><td>-4.306096</td><td>1.661607e-05</td><td>0.0008228268</td><td>0.9999655</td><td>+/+</td></tr>\n",
              "\t<tr><th scope=row>6</th><td>CENPE </td><td>TACC3 </td><td>0.8397971</td><td>0.000000e+00</td><td>0.4801965</td><td>2.973055e-05</td><td>-4.156568</td><td>3.230644e-05</td><td>0.0010723291</td><td>0.9999655</td><td>+/+</td></tr>\n",
              "\t<tr><th scope=row>7</th><td>AURKB </td><td>TACC3 </td><td>0.7846381</td><td>0.000000e+00</td><td>0.3478426</td><td>3.404268e-03</td><td>-4.139238</td><td>3.484615e-05</td><td>0.0011068348</td><td>0.9999655</td><td>+/+</td></tr>\n",
              "\t<tr><th scope=row>8</th><td>CKAP2L</td><td>TACC3 </td><td>0.8262447</td><td>0.000000e+00</td><td>0.4480674</td><td>1.130553e-04</td><td>-4.136655</td><td>3.524048e-05</td><td>0.0011068348</td><td>0.9999655</td><td>+/+</td></tr>\n",
              "\t<tr><th scope=row>9</th><td>NCAPH </td><td>TACC3 </td><td>0.8527448</td><td>0.000000e+00</td><td>0.5321912</td><td>2.522189e-06</td><td>-4.011620</td><td>6.030340e-05</td><td>0.0014226941</td><td>0.9999655</td><td>+/+</td></tr>\n",
              "\t<tr><th scope=row>10</th><td>DLGAP5</td><td>TACC3 </td><td>0.8054588</td><td>0.000000e+00</td><td>0.4162797</td><td>3.742014e-04</td><td>-3.998795</td><td>6.366571e-05</td><td>0.0014625083</td><td>0.9999655</td><td>+/+</td></tr>\n",
              "\t<tr><th scope=row>11</th><td>PLK1  </td><td>TACC3 </td><td>0.7917245</td><td>0.000000e+00</td><td>0.3869698</td><td>1.021043e-03</td><td>-3.981061</td><td>6.860833e-05</td><td>0.0015023225</td><td>0.9999655</td><td>+/+</td></tr>\n",
              "\t<tr><th scope=row>12</th><td>CDC20 </td><td>TACC3 </td><td>0.8285691</td><td>0.000000e+00</td><td>0.4768273</td><td>3.441808e-05</td><td>-3.962460</td><td>7.418130e-05</td><td>0.0016111480</td><td>0.9999655</td><td>+/+</td></tr>\n",
              "\t<tr><th scope=row>13</th><td>FOXM1 </td><td>TACC3 </td><td>0.8417659</td><td>0.000000e+00</td><td>0.5117546</td><td>6.981818e-06</td><td>-3.947042</td><td>7.912264e-05</td><td>0.0016881221</td><td>0.9999655</td><td>+/+</td></tr>\n",
              "\t<tr><th scope=row>14</th><td>GAS2L3</td><td>MELK  </td><td>0.7304780</td><td>1.465494e-14</td><td>0.2711922</td><td>2.419883e-02</td><td>-3.884465</td><td>1.025553e-04</td><td>0.0019641672</td><td>0.9999655</td><td>+/+</td></tr>\n",
              "\t<tr><th scope=row>15</th><td>KIF4A </td><td>TACC3 </td><td>0.8225441</td><td>0.000000e+00</td><td>0.4741998</td><td>3.853991e-05</td><td>-3.869904</td><td>1.088783e-04</td><td>0.0020305242</td><td>0.9999655</td><td>+/+</td></tr>\n",
              "\t<tr><th scope=row>16</th><td>KIFC1 </td><td>TACC3 </td><td>0.8401225</td><td>0.000000e+00</td><td>0.5200939</td><td>4.645028e-06</td><td>-3.845836</td><td>1.201421e-04</td><td>0.0021499668</td><td>0.9999655</td><td>+/+</td></tr>\n",
              "\t<tr><th scope=row>17</th><td>MKI67 </td><td>TACC3 </td><td>0.8217779</td><td>0.000000e+00</td><td>0.4815098</td><td>2.806969e-05</td><td>-3.799333</td><td>1.450858e-04</td><td>0.0023463835</td><td>0.9999655</td><td>+/+</td></tr>\n",
              "\t<tr><th scope=row>18</th><td>UBTD2 </td><td>ZNF93 </td><td>0.2865418</td><td>9.970564e-03</td><td>0.7308241</td><td>1.013412e-12</td><td> 3.789667</td><td>1.508494e-04</td><td>0.0023702721</td><td>0.9999655</td><td>+/+</td></tr>\n",
              "\t<tr><th scope=row>19</th><td>MELK  </td><td>POLA2 </td><td>0.6376677</td><td>2.005802e-10</td><td>0.8805370</td><td>0.000000e+00</td><td> 3.719442</td><td>1.996633e-04</td><td>0.0027551427</td><td>0.9999655</td><td>+/+</td></tr>\n",
              "\t<tr><th scope=row>20</th><td>CCNB2 </td><td>TACC3 </td><td>0.7787035</td><td>0.000000e+00</td><td>0.3959970</td><td>7.568182e-04</td><td>-3.715010</td><td>2.031958e-04</td><td>0.0027896483</td><td>0.9999655</td><td>+/+</td></tr>\n",
              "\t<tr><th scope=row>21</th><td>MYBL2 </td><td>TACC3 </td><td>0.7945334</td><td>0.000000e+00</td><td>0.4320245</td><td>2.099068e-04</td><td>-3.703382</td><td>2.127441e-04</td><td>0.0028692767</td><td>0.9999655</td><td>+/+</td></tr>\n",
              "\t<tr><th scope=row>22</th><td>CDK1  </td><td>GAS2L3</td><td>0.7593301</td><td>4.440892e-16</td><td>0.3571345</td><td>2.591875e-03</td><td>-3.702237</td><td>2.137066e-04</td><td>0.0028772395</td><td>0.9999655</td><td>+/+</td></tr>\n",
              "\t<tr><th scope=row>23</th><td>TACC3 </td><td>TOP2A </td><td>0.8258754</td><td>0.000000e+00</td><td>0.5047461</td><td>9.753128e-06</td><td>-3.692307</td><td>2.222290e-04</td><td>0.0029701393</td><td>0.9999655</td><td>+/+</td></tr>\n",
              "\t<tr><th scope=row>24</th><td>CDCA2 </td><td>TACC3 </td><td>0.7977652</td><td>0.000000e+00</td><td>0.4451766</td><td>1.266791e-04</td><td>-3.658917</td><td>2.532829e-04</td><td>0.0031930989</td><td>0.9999655</td><td>+/+</td></tr>\n",
              "\t<tr><th scope=row>25</th><td>CCNA2 </td><td>TACC3 </td><td>0.7864729</td><td>0.000000e+00</td><td>0.4223971</td><td>2.999196e-04</td><td>-3.645472</td><td>2.669014e-04</td><td>0.0032780358</td><td>0.9999655</td><td>+/+</td></tr>\n",
              "\t<tr><th scope=row>26</th><td>NCAPD2</td><td>POLD3 </td><td>0.3709700</td><td>7.051456e-04</td><td>0.7617008</td><td>2.975398e-14</td><td> 3.640674</td><td>2.719248e-04</td><td>0.0033205043</td><td>0.9999655</td><td>+/+</td></tr>\n",
              "\t<tr><th scope=row>27</th><td>GTSE1 </td><td>TACC3 </td><td>0.7908688</td><td>0.000000e+00</td><td>0.4339845</td><td>1.949419e-04</td><td>-3.630214</td><td>2.831863e-04</td><td>0.0034266755</td><td>0.9999655</td><td>+/+</td></tr>\n",
              "\t<tr><th scope=row>28</th><td>LMNB1 </td><td>ZNF93 </td><td>0.3249713</td><td>3.269865e-03</td><td>0.7365068</td><td>5.493384e-13</td><td> 3.610269</td><td>3.058796e-04</td><td>0.0036045123</td><td>0.9999655</td><td>+/+</td></tr>\n",
              "\t<tr><th scope=row>29</th><td>FAM64A</td><td>TACC3 </td><td>0.7166390</td><td>7.727152e-14</td><td>0.2926648</td><td>1.467368e-02</td><td>-3.572215</td><td>3.539752e-04</td><td>0.0039309887</td><td>0.9999655</td><td>+/+</td></tr>\n",
              "\t<tr><th scope=row>30</th><td>SOX11 </td><td>ZNF93 </td><td>0.3330557</td><td>2.538240e-03</td><td>0.7372536</td><td>5.062617e-13</td><td> 3.565966</td><td>3.625186e-04</td><td>0.0039708029</td><td>0.9999655</td><td>+/+</td></tr>\n",
              "\t<tr><th scope=row>⋮</th><td>⋮</td><td>⋮</td><td>⋮</td><td>⋮</td><td>⋮</td><td>⋮</td><td>⋮</td><td>⋮</td><td>⋮</td><td>⋮</td><td>⋮</td></tr>\n",
              "\t<tr><th scope=row>37646</th><td>CKAP2    </td><td>PSMC3IP </td><td> 0.2899507</td><td>9.083822e-03</td><td> 0.2900579</td><td>1.562294e-02</td><td> 6.976154e-04</td><td>0.9994434</td><td>0.9995647</td><td>0.9999655</td><td>+/+</td></tr>\n",
              "\t<tr><th scope=row>37647</th><td>KIF18B   </td><td>TMEM97  </td><td> 0.6466169</td><td>9.231860e-11</td><td> 0.6466836</td><td>1.941567e-09</td><td> 6.833107e-04</td><td>0.9994548</td><td>0.9995700</td><td>0.9999655</td><td>+/+</td></tr>\n",
              "\t<tr><th scope=row>37648</th><td>FAM83D   </td><td>MELK    </td><td> 0.6717729</td><td>9.028778e-12</td><td> 0.6718353</td><td>2.622580e-10</td><td> 6.780438e-04</td><td>0.9994590</td><td>0.9995753</td><td>0.9999655</td><td>+/+</td></tr>\n",
              "\t<tr><th scope=row>37649</th><td>GINS4    </td><td>RAD51   </td><td> 0.6220474</td><td>7.328085e-10</td><td> 0.6221171</td><td>1.156553e-08</td><td> 6.775201e-04</td><td>0.9994594</td><td>0.9995753</td><td>0.9999655</td><td>+/+</td></tr>\n",
              "\t<tr><th scope=row>37650</th><td>GAS2L3   </td><td>MEX3A   </td><td> 0.3878438</td><td>3.785617e-04</td><td> 0.3879389</td><td>9.891406e-04</td><td> 6.672622e-04</td><td>0.9994676</td><td>0.9995833</td><td>0.9999655</td><td>+/+</td></tr>\n",
              "\t<tr><th scope=row>37651</th><td>RAD51    </td><td>TCF19   </td><td> 0.4849726</td><td>5.140574e-06</td><td> 0.4849087</td><td>2.416281e-05</td><td>-4.975547e-04</td><td>0.9996030</td><td>0.9996762</td><td>0.9999655</td><td>+/+</td></tr>\n",
              "\t<tr><th scope=row>37652</th><td>CDCA4    </td><td>TRAF4   </td><td> 0.4213240</td><td>9.944323e-05</td><td> 0.4213912</td><td>3.111227e-04</td><td> 4.868475e-04</td><td>0.9996116</td><td>0.9996894</td><td>0.9999655</td><td>+/+</td></tr>\n",
              "\t<tr><th scope=row>37653</th><td>FANCG    </td><td>GSG2    </td><td> 0.5940277</td><td>6.308684e-09</td><td> 0.5940777</td><td>7.404029e-08</td><td> 4.601884e-04</td><td>0.9996328</td><td>0.9997001</td><td>0.9999655</td><td>+/+</td></tr>\n",
              "\t<tr><th scope=row>37654</th><td>GEN1     </td><td>SMC2    </td><td> 0.5594272</td><td>6.884525e-08</td><td> 0.5593742</td><td>5.846126e-07</td><td>-4.598904e-04</td><td>0.9996331</td><td>0.9997001</td><td>0.9999655</td><td>+/+</td></tr>\n",
              "\t<tr><th scope=row>37655</th><td>FANCA    </td><td>SPSB4   </td><td> 0.4554972</td><td>2.181310e-05</td><td> 0.4554387</td><td>8.419115e-05</td><td>-4.398978e-04</td><td>0.9996490</td><td>0.9997160</td><td>0.9999655</td><td>+/+</td></tr>\n",
              "\t<tr><th scope=row>37656</th><td>C1orf106 </td><td>C2orf44 </td><td> 0.4862249</td><td>4.819863e-06</td><td> 0.4861699</td><td>2.284654e-05</td><td>-4.297129e-04</td><td>0.9996571</td><td>0.9997240</td><td>0.9999655</td><td>+/+</td></tr>\n",
              "\t<tr><th scope=row>37657</th><td>DIAPH3   </td><td>PRC1    </td><td> 0.5247748</td><td>5.825582e-07</td><td> 0.5248265</td><td>3.668170e-06</td><td> 4.252982e-04</td><td>0.9996607</td><td>0.9997293</td><td>0.9999655</td><td>+/+</td></tr>\n",
              "\t<tr><th scope=row>37658</th><td>DTL      </td><td>H2AFX   </td><td> 0.4885367</td><td>4.276598e-06</td><td> 0.4884832</td><td>2.060375e-05</td><td>-4.189200e-04</td><td>0.9996658</td><td>0.9997319</td><td>0.9999655</td><td>+/+</td></tr>\n",
              "\t<tr><th scope=row>37659</th><td>POC1A    </td><td>XRCC2   </td><td> 0.5239535</td><td>6.110667e-07</td><td> 0.5239030</td><td>3.842201e-06</td><td>-4.145493e-04</td><td>0.9996692</td><td>0.9997399</td><td>0.9999655</td><td>+/+</td></tr>\n",
              "\t<tr><th scope=row>37660</th><td>CEP152   </td><td>KNTC1   </td><td> 0.7437785</td><td>2.664535e-15</td><td> 0.7437491</td><td>2.460254e-13</td><td>-3.923664e-04</td><td>0.9996869</td><td>0.9997585</td><td>0.9999655</td><td>+/+</td></tr>\n",
              "\t<tr><th scope=row>37661</th><td>CDCA5    </td><td>GINS1   </td><td> 0.7542505</td><td>6.661338e-16</td><td> 0.7542778</td><td>7.283063e-14</td><td> 3.772917e-04</td><td>0.9996990</td><td>0.9997638</td><td>0.9999655</td><td>+/+</td></tr>\n",
              "\t<tr><th scope=row>37662</th><td>CENPO    </td><td>REEP5   </td><td>-0.5789652</td><td>1.847550e-08</td><td>-0.5789242</td><td>1.879823e-07</td><td> 3.678540e-04</td><td>0.9997065</td><td>0.9997717</td><td>0.9999655</td><td>-/-</td></tr>\n",
              "\t<tr><th scope=row>37663</th><td>DIAPH3   </td><td>MCM8    </td><td> 0.4443771</td><td>3.638179e-05</td><td> 0.4444235</td><td>1.304688e-04</td><td> 3.443722e-04</td><td>0.9997252</td><td>0.9997850</td><td>0.9999655</td><td>+/+</td></tr>\n",
              "\t<tr><th scope=row>37664</th><td>C1orf106 </td><td>DBF4    </td><td> 0.4257863</td><td>8.231649e-05</td><td> 0.4257456</td><td>2.652317e-04</td><td>-2.965693e-04</td><td>0.9997634</td><td>0.9998089</td><td>0.9999655</td><td>+/+</td></tr>\n",
              "\t<tr><th scope=row>37665</th><td>GINS1    </td><td>MCM2    </td><td> 0.6594814</td><td>2.890133e-11</td><td> 0.6594552</td><td>7.193579e-10</td><td>-2.770858e-04</td><td>0.9997789</td><td>0.9998248</td><td>0.9999655</td><td>+/+</td></tr>\n",
              "\t<tr><th scope=row>37666</th><td>CCNA2    </td><td>FOXM1   </td><td> 0.7497247</td><td>1.332268e-15</td><td> 0.7497416</td><td>1.239009e-13</td><td> 2.298706e-04</td><td>0.9998166</td><td>0.9998912</td><td>0.9999655</td><td>+/+</td></tr>\n",
              "\t<tr><th scope=row>37667</th><td>SFRS1    </td><td>SNRPA   </td><td> 0.3985058</td><td>2.511001e-04</td><td> 0.3985350</td><td>6.946452e-04</td><td> 2.064760e-04</td><td>0.9998353</td><td>0.9999044</td><td>0.9999655</td><td>+/+</td></tr>\n",
              "\t<tr><th scope=row>37668</th><td>CCNB1    </td><td>ECT2    </td><td> 0.8138348</td><td>0.000000e+00</td><td> 0.8138235</td><td>0.000000e+00</td><td>-1.984950e-04</td><td>0.9998416</td><td>0.9999044</td><td>0.9999655</td><td>+/+</td></tr>\n",
              "\t<tr><th scope=row>37669</th><td>ARHGAP11A</td><td>ESCO2   </td><td> 0.7272300</td><td>2.176037e-14</td><td> 0.7272456</td><td>1.478817e-12</td><td> 1.976121e-04</td><td>0.9998423</td><td>0.9999044</td><td>0.9999655</td><td>+/+</td></tr>\n",
              "\t<tr><th scope=row>37670</th><td>KIF18B   </td><td>TMEM194A</td><td> 0.4591866</td><td>1.833507e-05</td><td> 0.4592112</td><td>7.221132e-05</td><td> 1.857531e-04</td><td>0.9998518</td><td>0.9999124</td><td>0.9999655</td><td>+/+</td></tr>\n",
              "\t<tr><th scope=row>37671</th><td>FANCG    </td><td>SSRP1   </td><td> 0.4196596</td><td>1.066357e-04</td><td> 0.4196355</td><td>3.315992e-04</td><td>-1.743699e-04</td><td>0.9998609</td><td>0.9999204</td><td>0.9999655</td><td>+/+</td></tr>\n",
              "\t<tr><th scope=row>37672</th><td>CDCA8    </td><td>PBK     </td><td> 0.8181446</td><td>0.000000e+00</td><td> 0.8181352</td><td>0.000000e+00</td><td>-1.682622e-04</td><td>0.9998657</td><td>0.9999204</td><td>0.9999655</td><td>+/+</td></tr>\n",
              "\t<tr><th scope=row>37673</th><td>FANCG    </td><td>MCM10   </td><td> 0.5906292</td><td>8.078283e-09</td><td> 0.5906451</td><td>9.182239e-08</td><td> 1.455872e-04</td><td>0.9998838</td><td>0.9999336</td><td>0.9999655</td><td>+/+</td></tr>\n",
              "\t<tr><th scope=row>37674</th><td>CDK2     </td><td>SPC25   </td><td> 0.5790106</td><td>1.841721e-08</td><td> 0.5789979</td><td>1.871529e-07</td><td>-1.138126e-04</td><td>0.9999092</td><td>0.9999390</td><td>0.9999655</td><td>+/+</td></tr>\n",
              "\t<tr><th scope=row>37675</th><td>CEP152   </td><td>NONO    </td><td> 0.4218762</td><td>9.715823e-05</td><td> 0.4218707</td><td>3.057349e-04</td><td>-3.967765e-05</td><td>0.9999683</td><td>0.9999814</td><td>0.9999814</td><td>+/+</td></tr>\n",
              "</tbody>\n",
              "</table>\n"
            ],
            "text/latex": [
              "A data.frame: 37675 × 11\n",
              "\\begin{tabular}{r|lllllllllll}\n",
              "  & Gene1 & Gene2 & old\\_cor & old\\_pVal & young\\_cor & young\\_pVal & zScoreDiff & pValDiff & empPVals & pValDiff\\_adj & Classes\\\\\n",
              "  & <chr> & <chr> & <dbl> & <dbl> & <dbl> & <dbl> & <dbl> & <dbl> & <dbl> & <dbl> & <fct>\\\\\n",
              "\\hline\n",
              "\t1 & KIF2C  & TACC3  & 0.9038750 & 0.000000e+00 & 0.5204570 & 4.562227e-06 & -5.460848 & 4.738651e-08 & 0.0000663570 & 0.9999655 & +/+\\\\\n",
              "\t2 & BUB1   & TACC3  & 0.8517111 & 0.000000e+00 & 0.4430742 & 1.375201e-04 & -4.687473 & 2.765997e-06 & 0.0003636364 & 0.9999655 & +/+\\\\\n",
              "\t3 & TACC3  & TPX2   & 0.8769535 & 0.000000e+00 & 0.5469085 & 1.161354e-06 & -4.461891 & 8.123962e-06 & 0.0005919044 & 0.9999655 & +/+\\\\\n",
              "\t4 & CDCA8  & TACC3  & 0.8527112 & 0.000000e+00 & 0.4771369 & 3.396034e-05 & -4.451593 & 8.523548e-06 & 0.0005919044 & 0.9999655 & +/+\\\\\n",
              "\t5 & HJURP  & TACC3  & 0.8536415 & 0.000000e+00 & 0.4983408 & 1.315380e-05 & -4.306096 & 1.661607e-05 & 0.0008228268 & 0.9999655 & +/+\\\\\n",
              "\t6 & CENPE  & TACC3  & 0.8397971 & 0.000000e+00 & 0.4801965 & 2.973055e-05 & -4.156568 & 3.230644e-05 & 0.0010723291 & 0.9999655 & +/+\\\\\n",
              "\t7 & AURKB  & TACC3  & 0.7846381 & 0.000000e+00 & 0.3478426 & 3.404268e-03 & -4.139238 & 3.484615e-05 & 0.0011068348 & 0.9999655 & +/+\\\\\n",
              "\t8 & CKAP2L & TACC3  & 0.8262447 & 0.000000e+00 & 0.4480674 & 1.130553e-04 & -4.136655 & 3.524048e-05 & 0.0011068348 & 0.9999655 & +/+\\\\\n",
              "\t9 & NCAPH  & TACC3  & 0.8527448 & 0.000000e+00 & 0.5321912 & 2.522189e-06 & -4.011620 & 6.030340e-05 & 0.0014226941 & 0.9999655 & +/+\\\\\n",
              "\t10 & DLGAP5 & TACC3  & 0.8054588 & 0.000000e+00 & 0.4162797 & 3.742014e-04 & -3.998795 & 6.366571e-05 & 0.0014625083 & 0.9999655 & +/+\\\\\n",
              "\t11 & PLK1   & TACC3  & 0.7917245 & 0.000000e+00 & 0.3869698 & 1.021043e-03 & -3.981061 & 6.860833e-05 & 0.0015023225 & 0.9999655 & +/+\\\\\n",
              "\t12 & CDC20  & TACC3  & 0.8285691 & 0.000000e+00 & 0.4768273 & 3.441808e-05 & -3.962460 & 7.418130e-05 & 0.0016111480 & 0.9999655 & +/+\\\\\n",
              "\t13 & FOXM1  & TACC3  & 0.8417659 & 0.000000e+00 & 0.5117546 & 6.981818e-06 & -3.947042 & 7.912264e-05 & 0.0016881221 & 0.9999655 & +/+\\\\\n",
              "\t14 & GAS2L3 & MELK   & 0.7304780 & 1.465494e-14 & 0.2711922 & 2.419883e-02 & -3.884465 & 1.025553e-04 & 0.0019641672 & 0.9999655 & +/+\\\\\n",
              "\t15 & KIF4A  & TACC3  & 0.8225441 & 0.000000e+00 & 0.4741998 & 3.853991e-05 & -3.869904 & 1.088783e-04 & 0.0020305242 & 0.9999655 & +/+\\\\\n",
              "\t16 & KIFC1  & TACC3  & 0.8401225 & 0.000000e+00 & 0.5200939 & 4.645028e-06 & -3.845836 & 1.201421e-04 & 0.0021499668 & 0.9999655 & +/+\\\\\n",
              "\t17 & MKI67  & TACC3  & 0.8217779 & 0.000000e+00 & 0.4815098 & 2.806969e-05 & -3.799333 & 1.450858e-04 & 0.0023463835 & 0.9999655 & +/+\\\\\n",
              "\t18 & UBTD2  & ZNF93  & 0.2865418 & 9.970564e-03 & 0.7308241 & 1.013412e-12 &  3.789667 & 1.508494e-04 & 0.0023702721 & 0.9999655 & +/+\\\\\n",
              "\t19 & MELK   & POLA2  & 0.6376677 & 2.005802e-10 & 0.8805370 & 0.000000e+00 &  3.719442 & 1.996633e-04 & 0.0027551427 & 0.9999655 & +/+\\\\\n",
              "\t20 & CCNB2  & TACC3  & 0.7787035 & 0.000000e+00 & 0.3959970 & 7.568182e-04 & -3.715010 & 2.031958e-04 & 0.0027896483 & 0.9999655 & +/+\\\\\n",
              "\t21 & MYBL2  & TACC3  & 0.7945334 & 0.000000e+00 & 0.4320245 & 2.099068e-04 & -3.703382 & 2.127441e-04 & 0.0028692767 & 0.9999655 & +/+\\\\\n",
              "\t22 & CDK1   & GAS2L3 & 0.7593301 & 4.440892e-16 & 0.3571345 & 2.591875e-03 & -3.702237 & 2.137066e-04 & 0.0028772395 & 0.9999655 & +/+\\\\\n",
              "\t23 & TACC3  & TOP2A  & 0.8258754 & 0.000000e+00 & 0.5047461 & 9.753128e-06 & -3.692307 & 2.222290e-04 & 0.0029701393 & 0.9999655 & +/+\\\\\n",
              "\t24 & CDCA2  & TACC3  & 0.7977652 & 0.000000e+00 & 0.4451766 & 1.266791e-04 & -3.658917 & 2.532829e-04 & 0.0031930989 & 0.9999655 & +/+\\\\\n",
              "\t25 & CCNA2  & TACC3  & 0.7864729 & 0.000000e+00 & 0.4223971 & 2.999196e-04 & -3.645472 & 2.669014e-04 & 0.0032780358 & 0.9999655 & +/+\\\\\n",
              "\t26 & NCAPD2 & POLD3  & 0.3709700 & 7.051456e-04 & 0.7617008 & 2.975398e-14 &  3.640674 & 2.719248e-04 & 0.0033205043 & 0.9999655 & +/+\\\\\n",
              "\t27 & GTSE1  & TACC3  & 0.7908688 & 0.000000e+00 & 0.4339845 & 1.949419e-04 & -3.630214 & 2.831863e-04 & 0.0034266755 & 0.9999655 & +/+\\\\\n",
              "\t28 & LMNB1  & ZNF93  & 0.3249713 & 3.269865e-03 & 0.7365068 & 5.493384e-13 &  3.610269 & 3.058796e-04 & 0.0036045123 & 0.9999655 & +/+\\\\\n",
              "\t29 & FAM64A & TACC3  & 0.7166390 & 7.727152e-14 & 0.2926648 & 1.467368e-02 & -3.572215 & 3.539752e-04 & 0.0039309887 & 0.9999655 & +/+\\\\\n",
              "\t30 & SOX11  & ZNF93  & 0.3330557 & 2.538240e-03 & 0.7372536 & 5.062617e-13 &  3.565966 & 3.625186e-04 & 0.0039708029 & 0.9999655 & +/+\\\\\n",
              "\t⋮ & ⋮ & ⋮ & ⋮ & ⋮ & ⋮ & ⋮ & ⋮ & ⋮ & ⋮ & ⋮ & ⋮\\\\\n",
              "\t37646 & CKAP2     & PSMC3IP  &  0.2899507 & 9.083822e-03 &  0.2900579 & 1.562294e-02 &  6.976154e-04 & 0.9994434 & 0.9995647 & 0.9999655 & +/+\\\\\n",
              "\t37647 & KIF18B    & TMEM97   &  0.6466169 & 9.231860e-11 &  0.6466836 & 1.941567e-09 &  6.833107e-04 & 0.9994548 & 0.9995700 & 0.9999655 & +/+\\\\\n",
              "\t37648 & FAM83D    & MELK     &  0.6717729 & 9.028778e-12 &  0.6718353 & 2.622580e-10 &  6.780438e-04 & 0.9994590 & 0.9995753 & 0.9999655 & +/+\\\\\n",
              "\t37649 & GINS4     & RAD51    &  0.6220474 & 7.328085e-10 &  0.6221171 & 1.156553e-08 &  6.775201e-04 & 0.9994594 & 0.9995753 & 0.9999655 & +/+\\\\\n",
              "\t37650 & GAS2L3    & MEX3A    &  0.3878438 & 3.785617e-04 &  0.3879389 & 9.891406e-04 &  6.672622e-04 & 0.9994676 & 0.9995833 & 0.9999655 & +/+\\\\\n",
              "\t37651 & RAD51     & TCF19    &  0.4849726 & 5.140574e-06 &  0.4849087 & 2.416281e-05 & -4.975547e-04 & 0.9996030 & 0.9996762 & 0.9999655 & +/+\\\\\n",
              "\t37652 & CDCA4     & TRAF4    &  0.4213240 & 9.944323e-05 &  0.4213912 & 3.111227e-04 &  4.868475e-04 & 0.9996116 & 0.9996894 & 0.9999655 & +/+\\\\\n",
              "\t37653 & FANCG     & GSG2     &  0.5940277 & 6.308684e-09 &  0.5940777 & 7.404029e-08 &  4.601884e-04 & 0.9996328 & 0.9997001 & 0.9999655 & +/+\\\\\n",
              "\t37654 & GEN1      & SMC2     &  0.5594272 & 6.884525e-08 &  0.5593742 & 5.846126e-07 & -4.598904e-04 & 0.9996331 & 0.9997001 & 0.9999655 & +/+\\\\\n",
              "\t37655 & FANCA     & SPSB4    &  0.4554972 & 2.181310e-05 &  0.4554387 & 8.419115e-05 & -4.398978e-04 & 0.9996490 & 0.9997160 & 0.9999655 & +/+\\\\\n",
              "\t37656 & C1orf106  & C2orf44  &  0.4862249 & 4.819863e-06 &  0.4861699 & 2.284654e-05 & -4.297129e-04 & 0.9996571 & 0.9997240 & 0.9999655 & +/+\\\\\n",
              "\t37657 & DIAPH3    & PRC1     &  0.5247748 & 5.825582e-07 &  0.5248265 & 3.668170e-06 &  4.252982e-04 & 0.9996607 & 0.9997293 & 0.9999655 & +/+\\\\\n",
              "\t37658 & DTL       & H2AFX    &  0.4885367 & 4.276598e-06 &  0.4884832 & 2.060375e-05 & -4.189200e-04 & 0.9996658 & 0.9997319 & 0.9999655 & +/+\\\\\n",
              "\t37659 & POC1A     & XRCC2    &  0.5239535 & 6.110667e-07 &  0.5239030 & 3.842201e-06 & -4.145493e-04 & 0.9996692 & 0.9997399 & 0.9999655 & +/+\\\\\n",
              "\t37660 & CEP152    & KNTC1    &  0.7437785 & 2.664535e-15 &  0.7437491 & 2.460254e-13 & -3.923664e-04 & 0.9996869 & 0.9997585 & 0.9999655 & +/+\\\\\n",
              "\t37661 & CDCA5     & GINS1    &  0.7542505 & 6.661338e-16 &  0.7542778 & 7.283063e-14 &  3.772917e-04 & 0.9996990 & 0.9997638 & 0.9999655 & +/+\\\\\n",
              "\t37662 & CENPO     & REEP5    & -0.5789652 & 1.847550e-08 & -0.5789242 & 1.879823e-07 &  3.678540e-04 & 0.9997065 & 0.9997717 & 0.9999655 & -/-\\\\\n",
              "\t37663 & DIAPH3    & MCM8     &  0.4443771 & 3.638179e-05 &  0.4444235 & 1.304688e-04 &  3.443722e-04 & 0.9997252 & 0.9997850 & 0.9999655 & +/+\\\\\n",
              "\t37664 & C1orf106  & DBF4     &  0.4257863 & 8.231649e-05 &  0.4257456 & 2.652317e-04 & -2.965693e-04 & 0.9997634 & 0.9998089 & 0.9999655 & +/+\\\\\n",
              "\t37665 & GINS1     & MCM2     &  0.6594814 & 2.890133e-11 &  0.6594552 & 7.193579e-10 & -2.770858e-04 & 0.9997789 & 0.9998248 & 0.9999655 & +/+\\\\\n",
              "\t37666 & CCNA2     & FOXM1    &  0.7497247 & 1.332268e-15 &  0.7497416 & 1.239009e-13 &  2.298706e-04 & 0.9998166 & 0.9998912 & 0.9999655 & +/+\\\\\n",
              "\t37667 & SFRS1     & SNRPA    &  0.3985058 & 2.511001e-04 &  0.3985350 & 6.946452e-04 &  2.064760e-04 & 0.9998353 & 0.9999044 & 0.9999655 & +/+\\\\\n",
              "\t37668 & CCNB1     & ECT2     &  0.8138348 & 0.000000e+00 &  0.8138235 & 0.000000e+00 & -1.984950e-04 & 0.9998416 & 0.9999044 & 0.9999655 & +/+\\\\\n",
              "\t37669 & ARHGAP11A & ESCO2    &  0.7272300 & 2.176037e-14 &  0.7272456 & 1.478817e-12 &  1.976121e-04 & 0.9998423 & 0.9999044 & 0.9999655 & +/+\\\\\n",
              "\t37670 & KIF18B    & TMEM194A &  0.4591866 & 1.833507e-05 &  0.4592112 & 7.221132e-05 &  1.857531e-04 & 0.9998518 & 0.9999124 & 0.9999655 & +/+\\\\\n",
              "\t37671 & FANCG     & SSRP1    &  0.4196596 & 1.066357e-04 &  0.4196355 & 3.315992e-04 & -1.743699e-04 & 0.9998609 & 0.9999204 & 0.9999655 & +/+\\\\\n",
              "\t37672 & CDCA8     & PBK      &  0.8181446 & 0.000000e+00 &  0.8181352 & 0.000000e+00 & -1.682622e-04 & 0.9998657 & 0.9999204 & 0.9999655 & +/+\\\\\n",
              "\t37673 & FANCG     & MCM10    &  0.5906292 & 8.078283e-09 &  0.5906451 & 9.182239e-08 &  1.455872e-04 & 0.9998838 & 0.9999336 & 0.9999655 & +/+\\\\\n",
              "\t37674 & CDK2      & SPC25    &  0.5790106 & 1.841721e-08 &  0.5789979 & 1.871529e-07 & -1.138126e-04 & 0.9999092 & 0.9999390 & 0.9999655 & +/+\\\\\n",
              "\t37675 & CEP152    & NONO     &  0.4218762 & 9.715823e-05 &  0.4218707 & 3.057349e-04 & -3.967765e-05 & 0.9999683 & 0.9999814 & 0.9999814 & +/+\\\\\n",
              "\\end{tabular}\n"
            ],
            "text/markdown": [
              "\n",
              "A data.frame: 37675 × 11\n",
              "\n",
              "| <!--/--> | Gene1 &lt;chr&gt; | Gene2 &lt;chr&gt; | old_cor &lt;dbl&gt; | old_pVal &lt;dbl&gt; | young_cor &lt;dbl&gt; | young_pVal &lt;dbl&gt; | zScoreDiff &lt;dbl&gt; | pValDiff &lt;dbl&gt; | empPVals &lt;dbl&gt; | pValDiff_adj &lt;dbl&gt; | Classes &lt;fct&gt; |\n",
              "|---|---|---|---|---|---|---|---|---|---|---|---|\n",
              "| 1 | KIF2C  | TACC3  | 0.9038750 | 0.000000e+00 | 0.5204570 | 4.562227e-06 | -5.460848 | 4.738651e-08 | 0.0000663570 | 0.9999655 | +/+ |\n",
              "| 2 | BUB1   | TACC3  | 0.8517111 | 0.000000e+00 | 0.4430742 | 1.375201e-04 | -4.687473 | 2.765997e-06 | 0.0003636364 | 0.9999655 | +/+ |\n",
              "| 3 | TACC3  | TPX2   | 0.8769535 | 0.000000e+00 | 0.5469085 | 1.161354e-06 | -4.461891 | 8.123962e-06 | 0.0005919044 | 0.9999655 | +/+ |\n",
              "| 4 | CDCA8  | TACC3  | 0.8527112 | 0.000000e+00 | 0.4771369 | 3.396034e-05 | -4.451593 | 8.523548e-06 | 0.0005919044 | 0.9999655 | +/+ |\n",
              "| 5 | HJURP  | TACC3  | 0.8536415 | 0.000000e+00 | 0.4983408 | 1.315380e-05 | -4.306096 | 1.661607e-05 | 0.0008228268 | 0.9999655 | +/+ |\n",
              "| 6 | CENPE  | TACC3  | 0.8397971 | 0.000000e+00 | 0.4801965 | 2.973055e-05 | -4.156568 | 3.230644e-05 | 0.0010723291 | 0.9999655 | +/+ |\n",
              "| 7 | AURKB  | TACC3  | 0.7846381 | 0.000000e+00 | 0.3478426 | 3.404268e-03 | -4.139238 | 3.484615e-05 | 0.0011068348 | 0.9999655 | +/+ |\n",
              "| 8 | CKAP2L | TACC3  | 0.8262447 | 0.000000e+00 | 0.4480674 | 1.130553e-04 | -4.136655 | 3.524048e-05 | 0.0011068348 | 0.9999655 | +/+ |\n",
              "| 9 | NCAPH  | TACC3  | 0.8527448 | 0.000000e+00 | 0.5321912 | 2.522189e-06 | -4.011620 | 6.030340e-05 | 0.0014226941 | 0.9999655 | +/+ |\n",
              "| 10 | DLGAP5 | TACC3  | 0.8054588 | 0.000000e+00 | 0.4162797 | 3.742014e-04 | -3.998795 | 6.366571e-05 | 0.0014625083 | 0.9999655 | +/+ |\n",
              "| 11 | PLK1   | TACC3  | 0.7917245 | 0.000000e+00 | 0.3869698 | 1.021043e-03 | -3.981061 | 6.860833e-05 | 0.0015023225 | 0.9999655 | +/+ |\n",
              "| 12 | CDC20  | TACC3  | 0.8285691 | 0.000000e+00 | 0.4768273 | 3.441808e-05 | -3.962460 | 7.418130e-05 | 0.0016111480 | 0.9999655 | +/+ |\n",
              "| 13 | FOXM1  | TACC3  | 0.8417659 | 0.000000e+00 | 0.5117546 | 6.981818e-06 | -3.947042 | 7.912264e-05 | 0.0016881221 | 0.9999655 | +/+ |\n",
              "| 14 | GAS2L3 | MELK   | 0.7304780 | 1.465494e-14 | 0.2711922 | 2.419883e-02 | -3.884465 | 1.025553e-04 | 0.0019641672 | 0.9999655 | +/+ |\n",
              "| 15 | KIF4A  | TACC3  | 0.8225441 | 0.000000e+00 | 0.4741998 | 3.853991e-05 | -3.869904 | 1.088783e-04 | 0.0020305242 | 0.9999655 | +/+ |\n",
              "| 16 | KIFC1  | TACC3  | 0.8401225 | 0.000000e+00 | 0.5200939 | 4.645028e-06 | -3.845836 | 1.201421e-04 | 0.0021499668 | 0.9999655 | +/+ |\n",
              "| 17 | MKI67  | TACC3  | 0.8217779 | 0.000000e+00 | 0.4815098 | 2.806969e-05 | -3.799333 | 1.450858e-04 | 0.0023463835 | 0.9999655 | +/+ |\n",
              "| 18 | UBTD2  | ZNF93  | 0.2865418 | 9.970564e-03 | 0.7308241 | 1.013412e-12 |  3.789667 | 1.508494e-04 | 0.0023702721 | 0.9999655 | +/+ |\n",
              "| 19 | MELK   | POLA2  | 0.6376677 | 2.005802e-10 | 0.8805370 | 0.000000e+00 |  3.719442 | 1.996633e-04 | 0.0027551427 | 0.9999655 | +/+ |\n",
              "| 20 | CCNB2  | TACC3  | 0.7787035 | 0.000000e+00 | 0.3959970 | 7.568182e-04 | -3.715010 | 2.031958e-04 | 0.0027896483 | 0.9999655 | +/+ |\n",
              "| 21 | MYBL2  | TACC3  | 0.7945334 | 0.000000e+00 | 0.4320245 | 2.099068e-04 | -3.703382 | 2.127441e-04 | 0.0028692767 | 0.9999655 | +/+ |\n",
              "| 22 | CDK1   | GAS2L3 | 0.7593301 | 4.440892e-16 | 0.3571345 | 2.591875e-03 | -3.702237 | 2.137066e-04 | 0.0028772395 | 0.9999655 | +/+ |\n",
              "| 23 | TACC3  | TOP2A  | 0.8258754 | 0.000000e+00 | 0.5047461 | 9.753128e-06 | -3.692307 | 2.222290e-04 | 0.0029701393 | 0.9999655 | +/+ |\n",
              "| 24 | CDCA2  | TACC3  | 0.7977652 | 0.000000e+00 | 0.4451766 | 1.266791e-04 | -3.658917 | 2.532829e-04 | 0.0031930989 | 0.9999655 | +/+ |\n",
              "| 25 | CCNA2  | TACC3  | 0.7864729 | 0.000000e+00 | 0.4223971 | 2.999196e-04 | -3.645472 | 2.669014e-04 | 0.0032780358 | 0.9999655 | +/+ |\n",
              "| 26 | NCAPD2 | POLD3  | 0.3709700 | 7.051456e-04 | 0.7617008 | 2.975398e-14 |  3.640674 | 2.719248e-04 | 0.0033205043 | 0.9999655 | +/+ |\n",
              "| 27 | GTSE1  | TACC3  | 0.7908688 | 0.000000e+00 | 0.4339845 | 1.949419e-04 | -3.630214 | 2.831863e-04 | 0.0034266755 | 0.9999655 | +/+ |\n",
              "| 28 | LMNB1  | ZNF93  | 0.3249713 | 3.269865e-03 | 0.7365068 | 5.493384e-13 |  3.610269 | 3.058796e-04 | 0.0036045123 | 0.9999655 | +/+ |\n",
              "| 29 | FAM64A | TACC3  | 0.7166390 | 7.727152e-14 | 0.2926648 | 1.467368e-02 | -3.572215 | 3.539752e-04 | 0.0039309887 | 0.9999655 | +/+ |\n",
              "| 30 | SOX11  | ZNF93  | 0.3330557 | 2.538240e-03 | 0.7372536 | 5.062617e-13 |  3.565966 | 3.625186e-04 | 0.0039708029 | 0.9999655 | +/+ |\n",
              "| ⋮ | ⋮ | ⋮ | ⋮ | ⋮ | ⋮ | ⋮ | ⋮ | ⋮ | ⋮ | ⋮ | ⋮ |\n",
              "| 37646 | CKAP2     | PSMC3IP  |  0.2899507 | 9.083822e-03 |  0.2900579 | 1.562294e-02 |  6.976154e-04 | 0.9994434 | 0.9995647 | 0.9999655 | +/+ |\n",
              "| 37647 | KIF18B    | TMEM97   |  0.6466169 | 9.231860e-11 |  0.6466836 | 1.941567e-09 |  6.833107e-04 | 0.9994548 | 0.9995700 | 0.9999655 | +/+ |\n",
              "| 37648 | FAM83D    | MELK     |  0.6717729 | 9.028778e-12 |  0.6718353 | 2.622580e-10 |  6.780438e-04 | 0.9994590 | 0.9995753 | 0.9999655 | +/+ |\n",
              "| 37649 | GINS4     | RAD51    |  0.6220474 | 7.328085e-10 |  0.6221171 | 1.156553e-08 |  6.775201e-04 | 0.9994594 | 0.9995753 | 0.9999655 | +/+ |\n",
              "| 37650 | GAS2L3    | MEX3A    |  0.3878438 | 3.785617e-04 |  0.3879389 | 9.891406e-04 |  6.672622e-04 | 0.9994676 | 0.9995833 | 0.9999655 | +/+ |\n",
              "| 37651 | RAD51     | TCF19    |  0.4849726 | 5.140574e-06 |  0.4849087 | 2.416281e-05 | -4.975547e-04 | 0.9996030 | 0.9996762 | 0.9999655 | +/+ |\n",
              "| 37652 | CDCA4     | TRAF4    |  0.4213240 | 9.944323e-05 |  0.4213912 | 3.111227e-04 |  4.868475e-04 | 0.9996116 | 0.9996894 | 0.9999655 | +/+ |\n",
              "| 37653 | FANCG     | GSG2     |  0.5940277 | 6.308684e-09 |  0.5940777 | 7.404029e-08 |  4.601884e-04 | 0.9996328 | 0.9997001 | 0.9999655 | +/+ |\n",
              "| 37654 | GEN1      | SMC2     |  0.5594272 | 6.884525e-08 |  0.5593742 | 5.846126e-07 | -4.598904e-04 | 0.9996331 | 0.9997001 | 0.9999655 | +/+ |\n",
              "| 37655 | FANCA     | SPSB4    |  0.4554972 | 2.181310e-05 |  0.4554387 | 8.419115e-05 | -4.398978e-04 | 0.9996490 | 0.9997160 | 0.9999655 | +/+ |\n",
              "| 37656 | C1orf106  | C2orf44  |  0.4862249 | 4.819863e-06 |  0.4861699 | 2.284654e-05 | -4.297129e-04 | 0.9996571 | 0.9997240 | 0.9999655 | +/+ |\n",
              "| 37657 | DIAPH3    | PRC1     |  0.5247748 | 5.825582e-07 |  0.5248265 | 3.668170e-06 |  4.252982e-04 | 0.9996607 | 0.9997293 | 0.9999655 | +/+ |\n",
              "| 37658 | DTL       | H2AFX    |  0.4885367 | 4.276598e-06 |  0.4884832 | 2.060375e-05 | -4.189200e-04 | 0.9996658 | 0.9997319 | 0.9999655 | +/+ |\n",
              "| 37659 | POC1A     | XRCC2    |  0.5239535 | 6.110667e-07 |  0.5239030 | 3.842201e-06 | -4.145493e-04 | 0.9996692 | 0.9997399 | 0.9999655 | +/+ |\n",
              "| 37660 | CEP152    | KNTC1    |  0.7437785 | 2.664535e-15 |  0.7437491 | 2.460254e-13 | -3.923664e-04 | 0.9996869 | 0.9997585 | 0.9999655 | +/+ |\n",
              "| 37661 | CDCA5     | GINS1    |  0.7542505 | 6.661338e-16 |  0.7542778 | 7.283063e-14 |  3.772917e-04 | 0.9996990 | 0.9997638 | 0.9999655 | +/+ |\n",
              "| 37662 | CENPO     | REEP5    | -0.5789652 | 1.847550e-08 | -0.5789242 | 1.879823e-07 |  3.678540e-04 | 0.9997065 | 0.9997717 | 0.9999655 | -/- |\n",
              "| 37663 | DIAPH3    | MCM8     |  0.4443771 | 3.638179e-05 |  0.4444235 | 1.304688e-04 |  3.443722e-04 | 0.9997252 | 0.9997850 | 0.9999655 | +/+ |\n",
              "| 37664 | C1orf106  | DBF4     |  0.4257863 | 8.231649e-05 |  0.4257456 | 2.652317e-04 | -2.965693e-04 | 0.9997634 | 0.9998089 | 0.9999655 | +/+ |\n",
              "| 37665 | GINS1     | MCM2     |  0.6594814 | 2.890133e-11 |  0.6594552 | 7.193579e-10 | -2.770858e-04 | 0.9997789 | 0.9998248 | 0.9999655 | +/+ |\n",
              "| 37666 | CCNA2     | FOXM1    |  0.7497247 | 1.332268e-15 |  0.7497416 | 1.239009e-13 |  2.298706e-04 | 0.9998166 | 0.9998912 | 0.9999655 | +/+ |\n",
              "| 37667 | SFRS1     | SNRPA    |  0.3985058 | 2.511001e-04 |  0.3985350 | 6.946452e-04 |  2.064760e-04 | 0.9998353 | 0.9999044 | 0.9999655 | +/+ |\n",
              "| 37668 | CCNB1     | ECT2     |  0.8138348 | 0.000000e+00 |  0.8138235 | 0.000000e+00 | -1.984950e-04 | 0.9998416 | 0.9999044 | 0.9999655 | +/+ |\n",
              "| 37669 | ARHGAP11A | ESCO2    |  0.7272300 | 2.176037e-14 |  0.7272456 | 1.478817e-12 |  1.976121e-04 | 0.9998423 | 0.9999044 | 0.9999655 | +/+ |\n",
              "| 37670 | KIF18B    | TMEM194A |  0.4591866 | 1.833507e-05 |  0.4592112 | 7.221132e-05 |  1.857531e-04 | 0.9998518 | 0.9999124 | 0.9999655 | +/+ |\n",
              "| 37671 | FANCG     | SSRP1    |  0.4196596 | 1.066357e-04 |  0.4196355 | 3.315992e-04 | -1.743699e-04 | 0.9998609 | 0.9999204 | 0.9999655 | +/+ |\n",
              "| 37672 | CDCA8     | PBK      |  0.8181446 | 0.000000e+00 |  0.8181352 | 0.000000e+00 | -1.682622e-04 | 0.9998657 | 0.9999204 | 0.9999655 | +/+ |\n",
              "| 37673 | FANCG     | MCM10    |  0.5906292 | 8.078283e-09 |  0.5906451 | 9.182239e-08 |  1.455872e-04 | 0.9998838 | 0.9999336 | 0.9999655 | +/+ |\n",
              "| 37674 | CDK2      | SPC25    |  0.5790106 | 1.841721e-08 |  0.5789979 | 1.871529e-07 | -1.138126e-04 | 0.9999092 | 0.9999390 | 0.9999655 | +/+ |\n",
              "| 37675 | CEP152    | NONO     |  0.4218762 | 9.715823e-05 |  0.4218707 | 3.057349e-04 | -3.967765e-05 | 0.9999683 | 0.9999814 | 0.9999814 | +/+ |\n",
              "\n"
            ],
            "text/plain": [
              "      Gene1     Gene2    old_cor    old_pVal     young_cor  young_pVal  \n",
              "1     KIF2C     TACC3    0.9038750  0.000000e+00 0.5204570  4.562227e-06\n",
              "2     BUB1      TACC3    0.8517111  0.000000e+00 0.4430742  1.375201e-04\n",
              "3     TACC3     TPX2     0.8769535  0.000000e+00 0.5469085  1.161354e-06\n",
              "4     CDCA8     TACC3    0.8527112  0.000000e+00 0.4771369  3.396034e-05\n",
              "5     HJURP     TACC3    0.8536415  0.000000e+00 0.4983408  1.315380e-05\n",
              "6     CENPE     TACC3    0.8397971  0.000000e+00 0.4801965  2.973055e-05\n",
              "7     AURKB     TACC3    0.7846381  0.000000e+00 0.3478426  3.404268e-03\n",
              "8     CKAP2L    TACC3    0.8262447  0.000000e+00 0.4480674  1.130553e-04\n",
              "9     NCAPH     TACC3    0.8527448  0.000000e+00 0.5321912  2.522189e-06\n",
              "10    DLGAP5    TACC3    0.8054588  0.000000e+00 0.4162797  3.742014e-04\n",
              "11    PLK1      TACC3    0.7917245  0.000000e+00 0.3869698  1.021043e-03\n",
              "12    CDC20     TACC3    0.8285691  0.000000e+00 0.4768273  3.441808e-05\n",
              "13    FOXM1     TACC3    0.8417659  0.000000e+00 0.5117546  6.981818e-06\n",
              "14    GAS2L3    MELK     0.7304780  1.465494e-14 0.2711922  2.419883e-02\n",
              "15    KIF4A     TACC3    0.8225441  0.000000e+00 0.4741998  3.853991e-05\n",
              "16    KIFC1     TACC3    0.8401225  0.000000e+00 0.5200939  4.645028e-06\n",
              "17    MKI67     TACC3    0.8217779  0.000000e+00 0.4815098  2.806969e-05\n",
              "18    UBTD2     ZNF93    0.2865418  9.970564e-03 0.7308241  1.013412e-12\n",
              "19    MELK      POLA2    0.6376677  2.005802e-10 0.8805370  0.000000e+00\n",
              "20    CCNB2     TACC3    0.7787035  0.000000e+00 0.3959970  7.568182e-04\n",
              "21    MYBL2     TACC3    0.7945334  0.000000e+00 0.4320245  2.099068e-04\n",
              "22    CDK1      GAS2L3   0.7593301  4.440892e-16 0.3571345  2.591875e-03\n",
              "23    TACC3     TOP2A    0.8258754  0.000000e+00 0.5047461  9.753128e-06\n",
              "24    CDCA2     TACC3    0.7977652  0.000000e+00 0.4451766  1.266791e-04\n",
              "25    CCNA2     TACC3    0.7864729  0.000000e+00 0.4223971  2.999196e-04\n",
              "26    NCAPD2    POLD3    0.3709700  7.051456e-04 0.7617008  2.975398e-14\n",
              "27    GTSE1     TACC3    0.7908688  0.000000e+00 0.4339845  1.949419e-04\n",
              "28    LMNB1     ZNF93    0.3249713  3.269865e-03 0.7365068  5.493384e-13\n",
              "29    FAM64A    TACC3    0.7166390  7.727152e-14 0.2926648  1.467368e-02\n",
              "30    SOX11     ZNF93    0.3330557  2.538240e-03 0.7372536  5.062617e-13\n",
              "⋮     ⋮         ⋮        ⋮          ⋮            ⋮          ⋮           \n",
              "37646 CKAP2     PSMC3IP   0.2899507 9.083822e-03  0.2900579 1.562294e-02\n",
              "37647 KIF18B    TMEM97    0.6466169 9.231860e-11  0.6466836 1.941567e-09\n",
              "37648 FAM83D    MELK      0.6717729 9.028778e-12  0.6718353 2.622580e-10\n",
              "37649 GINS4     RAD51     0.6220474 7.328085e-10  0.6221171 1.156553e-08\n",
              "37650 GAS2L3    MEX3A     0.3878438 3.785617e-04  0.3879389 9.891406e-04\n",
              "37651 RAD51     TCF19     0.4849726 5.140574e-06  0.4849087 2.416281e-05\n",
              "37652 CDCA4     TRAF4     0.4213240 9.944323e-05  0.4213912 3.111227e-04\n",
              "37653 FANCG     GSG2      0.5940277 6.308684e-09  0.5940777 7.404029e-08\n",
              "37654 GEN1      SMC2      0.5594272 6.884525e-08  0.5593742 5.846126e-07\n",
              "37655 FANCA     SPSB4     0.4554972 2.181310e-05  0.4554387 8.419115e-05\n",
              "37656 C1orf106  C2orf44   0.4862249 4.819863e-06  0.4861699 2.284654e-05\n",
              "37657 DIAPH3    PRC1      0.5247748 5.825582e-07  0.5248265 3.668170e-06\n",
              "37658 DTL       H2AFX     0.4885367 4.276598e-06  0.4884832 2.060375e-05\n",
              "37659 POC1A     XRCC2     0.5239535 6.110667e-07  0.5239030 3.842201e-06\n",
              "37660 CEP152    KNTC1     0.7437785 2.664535e-15  0.7437491 2.460254e-13\n",
              "37661 CDCA5     GINS1     0.7542505 6.661338e-16  0.7542778 7.283063e-14\n",
              "37662 CENPO     REEP5    -0.5789652 1.847550e-08 -0.5789242 1.879823e-07\n",
              "37663 DIAPH3    MCM8      0.4443771 3.638179e-05  0.4444235 1.304688e-04\n",
              "37664 C1orf106  DBF4      0.4257863 8.231649e-05  0.4257456 2.652317e-04\n",
              "37665 GINS1     MCM2      0.6594814 2.890133e-11  0.6594552 7.193579e-10\n",
              "37666 CCNA2     FOXM1     0.7497247 1.332268e-15  0.7497416 1.239009e-13\n",
              "37667 SFRS1     SNRPA     0.3985058 2.511001e-04  0.3985350 6.946452e-04\n",
              "37668 CCNB1     ECT2      0.8138348 0.000000e+00  0.8138235 0.000000e+00\n",
              "37669 ARHGAP11A ESCO2     0.7272300 2.176037e-14  0.7272456 1.478817e-12\n",
              "37670 KIF18B    TMEM194A  0.4591866 1.833507e-05  0.4592112 7.221132e-05\n",
              "37671 FANCG     SSRP1     0.4196596 1.066357e-04  0.4196355 3.315992e-04\n",
              "37672 CDCA8     PBK       0.8181446 0.000000e+00  0.8181352 0.000000e+00\n",
              "37673 FANCG     MCM10     0.5906292 8.078283e-09  0.5906451 9.182239e-08\n",
              "37674 CDK2      SPC25     0.5790106 1.841721e-08  0.5789979 1.871529e-07\n",
              "37675 CEP152    NONO      0.4218762 9.715823e-05  0.4218707 3.057349e-04\n",
              "      zScoreDiff    pValDiff     empPVals     pValDiff_adj Classes\n",
              "1     -5.460848     4.738651e-08 0.0000663570 0.9999655    +/+    \n",
              "2     -4.687473     2.765997e-06 0.0003636364 0.9999655    +/+    \n",
              "3     -4.461891     8.123962e-06 0.0005919044 0.9999655    +/+    \n",
              "4     -4.451593     8.523548e-06 0.0005919044 0.9999655    +/+    \n",
              "5     -4.306096     1.661607e-05 0.0008228268 0.9999655    +/+    \n",
              "6     -4.156568     3.230644e-05 0.0010723291 0.9999655    +/+    \n",
              "7     -4.139238     3.484615e-05 0.0011068348 0.9999655    +/+    \n",
              "8     -4.136655     3.524048e-05 0.0011068348 0.9999655    +/+    \n",
              "9     -4.011620     6.030340e-05 0.0014226941 0.9999655    +/+    \n",
              "10    -3.998795     6.366571e-05 0.0014625083 0.9999655    +/+    \n",
              "11    -3.981061     6.860833e-05 0.0015023225 0.9999655    +/+    \n",
              "12    -3.962460     7.418130e-05 0.0016111480 0.9999655    +/+    \n",
              "13    -3.947042     7.912264e-05 0.0016881221 0.9999655    +/+    \n",
              "14    -3.884465     1.025553e-04 0.0019641672 0.9999655    +/+    \n",
              "15    -3.869904     1.088783e-04 0.0020305242 0.9999655    +/+    \n",
              "16    -3.845836     1.201421e-04 0.0021499668 0.9999655    +/+    \n",
              "17    -3.799333     1.450858e-04 0.0023463835 0.9999655    +/+    \n",
              "18     3.789667     1.508494e-04 0.0023702721 0.9999655    +/+    \n",
              "19     3.719442     1.996633e-04 0.0027551427 0.9999655    +/+    \n",
              "20    -3.715010     2.031958e-04 0.0027896483 0.9999655    +/+    \n",
              "21    -3.703382     2.127441e-04 0.0028692767 0.9999655    +/+    \n",
              "22    -3.702237     2.137066e-04 0.0028772395 0.9999655    +/+    \n",
              "23    -3.692307     2.222290e-04 0.0029701393 0.9999655    +/+    \n",
              "24    -3.658917     2.532829e-04 0.0031930989 0.9999655    +/+    \n",
              "25    -3.645472     2.669014e-04 0.0032780358 0.9999655    +/+    \n",
              "26     3.640674     2.719248e-04 0.0033205043 0.9999655    +/+    \n",
              "27    -3.630214     2.831863e-04 0.0034266755 0.9999655    +/+    \n",
              "28     3.610269     3.058796e-04 0.0036045123 0.9999655    +/+    \n",
              "29    -3.572215     3.539752e-04 0.0039309887 0.9999655    +/+    \n",
              "30     3.565966     3.625186e-04 0.0039708029 0.9999655    +/+    \n",
              "⋮     ⋮             ⋮            ⋮            ⋮            ⋮      \n",
              "37646  6.976154e-04 0.9994434    0.9995647    0.9999655    +/+    \n",
              "37647  6.833107e-04 0.9994548    0.9995700    0.9999655    +/+    \n",
              "37648  6.780438e-04 0.9994590    0.9995753    0.9999655    +/+    \n",
              "37649  6.775201e-04 0.9994594    0.9995753    0.9999655    +/+    \n",
              "37650  6.672622e-04 0.9994676    0.9995833    0.9999655    +/+    \n",
              "37651 -4.975547e-04 0.9996030    0.9996762    0.9999655    +/+    \n",
              "37652  4.868475e-04 0.9996116    0.9996894    0.9999655    +/+    \n",
              "37653  4.601884e-04 0.9996328    0.9997001    0.9999655    +/+    \n",
              "37654 -4.598904e-04 0.9996331    0.9997001    0.9999655    +/+    \n",
              "37655 -4.398978e-04 0.9996490    0.9997160    0.9999655    +/+    \n",
              "37656 -4.297129e-04 0.9996571    0.9997240    0.9999655    +/+    \n",
              "37657  4.252982e-04 0.9996607    0.9997293    0.9999655    +/+    \n",
              "37658 -4.189200e-04 0.9996658    0.9997319    0.9999655    +/+    \n",
              "37659 -4.145493e-04 0.9996692    0.9997399    0.9999655    +/+    \n",
              "37660 -3.923664e-04 0.9996869    0.9997585    0.9999655    +/+    \n",
              "37661  3.772917e-04 0.9996990    0.9997638    0.9999655    +/+    \n",
              "37662  3.678540e-04 0.9997065    0.9997717    0.9999655    -/-    \n",
              "37663  3.443722e-04 0.9997252    0.9997850    0.9999655    +/+    \n",
              "37664 -2.965693e-04 0.9997634    0.9998089    0.9999655    +/+    \n",
              "37665 -2.770858e-04 0.9997789    0.9998248    0.9999655    +/+    \n",
              "37666  2.298706e-04 0.9998166    0.9998912    0.9999655    +/+    \n",
              "37667  2.064760e-04 0.9998353    0.9999044    0.9999655    +/+    \n",
              "37668 -1.984950e-04 0.9998416    0.9999044    0.9999655    +/+    \n",
              "37669  1.976121e-04 0.9998423    0.9999044    0.9999655    +/+    \n",
              "37670  1.857531e-04 0.9998518    0.9999124    0.9999655    +/+    \n",
              "37671 -1.743699e-04 0.9998609    0.9999204    0.9999655    +/+    \n",
              "37672 -1.682622e-04 0.9998657    0.9999204    0.9999655    +/+    \n",
              "37673  1.455872e-04 0.9998838    0.9999336    0.9999655    +/+    \n",
              "37674 -1.138126e-04 0.9999092    0.9999390    0.9999655    +/+    \n",
              "37675 -3.967765e-05 0.9999683    0.9999814    0.9999814    +/+    "
            ]
          },
          "metadata": {},
          "output_type": "display_data"
        }
      ],
      "source": [
        "ddcor_res = ddcorAll(inputMat = gbm.data, design = design_matrix, compare = c(\"old\", \"young\"), heatmapPlot = F) \n",
        "View(ddcor_res)"
      ]
    },
    {
      "cell_type": "code",
      "execution_count": null,
      "metadata": {
        "colab": {
          "base_uri": "https://localhost:8080/",
          "height": 754
        },
        "id": "qohDkuc1oWWU",
        "outputId": "9ee12b99-933d-46eb-a9e8-01269b668f1c",
        "vscode": {
          "languageId": "r"
        }
      },
      "outputs": [
        {
          "name": "stderr",
          "output_type": "stream",
          "text": [
            "Classifying the differential correlation calls.\n",
            "\n"
          ]
        },
        {
          "data": {
            "text/html": [
              "<table class=\"dataframe\">\n",
              "<caption>A data.frame: 1 × 10</caption>\n",
              "<thead>\n",
              "\t<tr><th></th><th scope=col>Gene1</th><th scope=col>Gene2</th><th scope=col>corA</th><th scope=col>corA_pVal</th><th scope=col>corB</th><th scope=col>corB_pVal</th><th scope=col>zScoreDiff</th><th scope=col>pValDiff</th><th scope=col>pValDiff_adj</th><th scope=col>Classes</th></tr>\n",
              "\t<tr><th></th><th scope=col>&lt;chr&gt;</th><th scope=col>&lt;chr&gt;</th><th scope=col>&lt;dbl&gt;</th><th scope=col>&lt;dbl&gt;</th><th scope=col>&lt;dbl&gt;</th><th scope=col>&lt;dbl&gt;</th><th scope=col>&lt;dbl&gt;</th><th scope=col>&lt;dbl&gt;</th><th scope=col>&lt;dbl&gt;</th><th scope=col>&lt;fct&gt;</th></tr>\n",
              "</thead>\n",
              "<tbody>\n",
              "\t<tr><th scope=row>1</th><td>KIF2C</td><td>TACC3</td><td>0.903875</td><td>0</td><td>0.520457</td><td>4.562227e-06</td><td>-5.460848</td><td>4.738651e-08</td><td>0.001785287</td><td>+/+</td></tr>\n",
              "</tbody>\n",
              "</table>\n"
            ],
            "text/latex": [
              "A data.frame: 1 × 10\n",
              "\\begin{tabular}{r|llllllllll}\n",
              "  & Gene1 & Gene2 & corA & corA\\_pVal & corB & corB\\_pVal & zScoreDiff & pValDiff & pValDiff\\_adj & Classes\\\\\n",
              "  & <chr> & <chr> & <dbl> & <dbl> & <dbl> & <dbl> & <dbl> & <dbl> & <dbl> & <fct>\\\\\n",
              "\\hline\n",
              "\t1 & KIF2C & TACC3 & 0.903875 & 0 & 0.520457 & 4.562227e-06 & -5.460848 & 4.738651e-08 & 0.001785287 & +/+\\\\\n",
              "\\end{tabular}\n"
            ],
            "text/markdown": [
              "\n",
              "A data.frame: 1 × 10\n",
              "\n",
              "| <!--/--> | Gene1 &lt;chr&gt; | Gene2 &lt;chr&gt; | corA &lt;dbl&gt; | corA_pVal &lt;dbl&gt; | corB &lt;dbl&gt; | corB_pVal &lt;dbl&gt; | zScoreDiff &lt;dbl&gt; | pValDiff &lt;dbl&gt; | pValDiff_adj &lt;dbl&gt; | Classes &lt;fct&gt; |\n",
              "|---|---|---|---|---|---|---|---|---|---|---|\n",
              "| 1 | KIF2C | TACC3 | 0.903875 | 0 | 0.520457 | 4.562227e-06 | -5.460848 | 4.738651e-08 | 0.001785287 | +/+ |\n",
              "\n"
            ],
            "text/plain": [
              "  Gene1 Gene2 corA     corA_pVal corB     corB_pVal    zScoreDiff pValDiff    \n",
              "1 KIF2C TACC3 0.903875 0         0.520457 4.562227e-06 -5.460848  4.738651e-08\n",
              "  pValDiff_adj Classes\n",
              "1 0.001785287  +/+    "
            ]
          },
          "metadata": {},
          "output_type": "display_data"
        },
        {
          "name": "stderr",
          "output_type": "stream",
          "text": [
            "Calculating permutation number 1.\n",
            "\n",
            "Calculating permutation number 2.\n",
            "\n",
            "Calculating permutation number 3.\n",
            "\n",
            "Calculating permutation number 4.\n",
            "\n",
            "Calculating permutation number 5.\n",
            "\n",
            "Calculating permutation number 6.\n",
            "\n",
            "Calculating permutation number 7.\n",
            "\n",
            "Calculating permutation number 8.\n",
            "\n",
            "Calculating permutation number 9.\n",
            "\n",
            "Calculating permutation number 10.\n",
            "\n",
            "Calculating empirical p-values using the permutation sample statistics.\n",
            "\n",
            "Sorting the combination of the actual and permuted test statistics.\n",
            "\n",
            "Finding the proportion of each actual test statistic greater than the permuted test statistics.\n",
            "\n",
            "Calculating qvalues from the empirical p-values.\n",
            "\n",
            "Classifying the differential correlation calls.\n",
            "\n",
            "Plotting heatmap using heatmap.2...\n",
            "\n"
          ]
        },
        {
          "data": {
            "text/html": [
              "<strong>png:</strong> 2"
            ],
            "text/latex": [
              "\\textbf{png:} 2"
            ],
            "text/markdown": [
              "**png:** 2"
            ],
            "text/plain": [
              "png \n",
              "  2 "
            ]
          },
          "metadata": {},
          "output_type": "display_data"
        },
        {
          "data": {
            "text/html": [
              "<strong>png:</strong> 2"
            ],
            "text/latex": [
              "\\textbf{png:} 2"
            ],
            "text/markdown": [
              "**png:** 2"
            ],
            "text/plain": [
              "png \n",
              "  2 "
            ]
          },
          "metadata": {},
          "output_type": "display_data"
        }
      ],
      "source": [
        "cor_res <- getCors(inputMat = gbm.data, design = design_matrix)\n",
        "pairDCor_res <- pairwiseDCor(cor_res, compare = c(\"old\", \"young\"))\n",
        "dc_TopPairs = dcTopPairs(pairDCor_res, nPairs = 100128, classify = TRUE, adjust = \"fdr\", plotFdr = F)\n",
        "dc_TopPairs <- dc_TopPairs[which(dc_TopPairs$pValDiff_adj < 0.05),]\n",
        "View(dc_TopPairs)\n",
        "write.csv(dc_TopPairs, \"/content/Result/AGE_differentially_co-expression_gene_network.csv\") #drawing using cytoscape\n",
        "\n",
        "pdf(\"/content/Result/AGE_heatmapPlot.pdf\")\n",
        "options(repr.plot.width = 18, repr.plot.height =20, repr.plot.res = 150)\n",
        "gbm.data_top = filterGenes(gbm.data, filterTypes = c(\"central\", \"dispersion\"),\n",
        "                filterCentralPercentile = 0.65, filterDispersionPercentile = 0.75)\n",
        "\n",
        "ddcor_res = ddcorAll(inputMat = gbm.data_top, design = design_matrix, compare = c(\"old\", \"young\"), heatmapPlot = TRUE, nPairs = \"all\")\n",
        "dev.off()\n",
        "\n",
        "pdf(\"/content/Result/AGE_plotCors.pdf\")\n",
        "options(repr.plot.width = 18, repr.plot.height = 12, repr.plot.res = 150)\n",
        "plotCors(inputMat = gbm.data, design = design_matrix, compare = c(\"old\", \"young\"), geneA = \"CDCA8\", geneB = \"FAM83D\")\n",
        "dev.off()"
      ]
    },
    {
      "cell_type": "code",
      "execution_count": null,
      "metadata": {
        "id": "daNWFRg2oYqs",
        "vscode": {
          "languageId": "r"
        }
      },
      "outputs": [],
      "source": [
        "from google.colab import drive\n",
        "drive.mount('/content/drive')"
      ]
    }
  ],
  "metadata": {
    "colab": {
      "provenance": []
    },
    "kernelspec": {
      "display_name": "R",
      "name": "ir"
    },
    "language_info": {
      "name": "R"
    }
  },
  "nbformat": 4,
  "nbformat_minor": 0
}
