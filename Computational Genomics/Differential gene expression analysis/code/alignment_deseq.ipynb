{
  "cells": [
    {
      "cell_type": "markdown",
      "metadata": {
        "id": "V9-YGlsT93pH"
      },
      "source": [
        "### Installing Pysradb"
      ]
    },
    {
      "cell_type": "code",
      "execution_count": null,
      "metadata": {
        "id": "H4kwqTmGt-b6"
      },
      "outputs": [],
      "source": [
        "!pip install pysradb"
      ]
    },
    {
      "cell_type": "markdown",
      "metadata": {
        "id": "RFpYBS21-A4H"
      },
      "source": [
        "### Downloading Data"
      ]
    },
    {
      "cell_type": "code",
      "execution_count": null,
      "metadata": {
        "id": "2Ebd_M_F-HOu"
      },
      "outputs": [],
      "source": [
        "from pysradb import SRAweb\n",
        "\n",
        "db = SRAweb()\n",
        "data_name = []\n",
        "\n",
        "for i in range(10):\n",
        "  data_name.append('SRR123031%s' % (45+i))\n",
        "\n",
        "# selected_df = db.sra_metadata(data_name[0], detailed=True)\n",
        "selected_df = db.sra_metadata('SRR12303145', detailed=True)\n",
        "db.download(df=selected_df, skip_confirmation=True)"
      ]
    },
    {
      "cell_type": "markdown",
      "metadata": {
        "id": "ByRd3SCP_BST"
      },
      "source": [
        "#### Downloading Ref Genome"
      ]
    },
    {
      "cell_type": "code",
      "execution_count": null,
      "metadata": {
        "id": "ZrVtBHuG_FUy"
      },
      "outputs": [],
      "source": [
        "# !wget -c https://ftp.ncbi.nlm.nih.gov/refseq/H_sapiens/annotation/GRCh38_latest/refseq_identifiers/GRCh38_latest_genomic.fna.gz -O ./ref_genome.fna.gz\n",
        "# !wget -c https://ftp.ncbi.nlm.nih.gov/refseq/H_sapiens/annotation/GRCh37_latest/refseq_identifiers/GRCh37_latest_genomic.fna.gz -O ./GRCh37.fna.gz\n",
        "!wget -c https://ftp.ncbi.nlm.nih.gov/refseq/H_sapiens/annotation/GRCh38_latest/refseq_identifiers/GRCh38_latest_genomic.gtf.gz -O ./ref_genome_annotate.gtf.gz\n",
        "# !gzip -d ./GRCh37.fna.gz\n",
        "# !gzip -d ./ref_genome.fna.gz\n",
        "!gzip -d /content/ref_genome_annotate.gtf.gz\n",
        "\n",
        "# !mkdir -p ./bowtie_index/GRCh37\n",
        "# !mv ./GRCh37.fna ./bowtie_index/GRCh37/GRCh37.fa"
      ]
    },
    {
      "cell_type": "markdown",
      "metadata": {
        "id": "fInz61Ds9wMQ"
      },
      "source": [
        "### Installing STAR"
      ]
    },
    {
      "cell_type": "code",
      "execution_count": null,
      "metadata": {
        "id": "A0YBMVSK62_8"
      },
      "outputs": [],
      "source": [
        "import os\n",
        "\n",
        "!git clone https://github.com/alexdobin/STAR.git\n",
        "%cd ./STAR/source\n",
        "!make STAR\n",
        "%cd /content\n",
        "os.environ['PATH'] += ':/content/STAR/source/'\n",
        "!mkdir ./star_index\n",
        "!wget -c https://labshare.cshl.edu/shares/gingeraslab/www-data/dobin/STAR/STARgenomes/Human/GRCh38_Ensembl99_sparseD3_sjdbOverhang99/SA -P /content/star_index/\n",
        "!wget -c https://labshare.cshl.edu/shares/gingeraslab/www-data/dobin/STAR/STARgenomes/Human/GRCh38_Ensembl99_sparseD3_sjdbOverhang99/Homo_sapiens.GRCh38.99.gtf -P /content/star_index/\n",
        "!wget -c https://labshare.cshl.edu/shares/gingeraslab/www-data/dobin/STAR/STARgenomes/Human/GRCh38_Ensembl99_sparseD3_sjdbOverhang99/SAindex -P /content/star_index/"
      ]
    },
    {
      "cell_type": "markdown",
      "metadata": {
        "id": "-9G4wL0fJyq-"
      },
      "source": [
        "#### Creating Genome Indecies"
      ]
    },
    {
      "cell_type": "code",
      "execution_count": null,
      "metadata": {
        "id": "51LRbmh8BPJ9"
      },
      "outputs": [],
      "source": [
        "!mkdir -p /content/genome_index\n",
        "!STAR --runMode genomeGenerate --limitGenomeGenerateRAM 12500000000 --genomeDir /content/genome-index --genomeFastaFiles /content/ref_genome.fna --sjdbGTFfile /content/ref_genome_annotate.gtf"
      ]
    },
    {
      "cell_type": "markdown",
      "metadata": {
        "id": "9CD5Z6flAA31"
      },
      "source": [
        "### Converting SRA to Fastq"
      ]
    },
    {
      "cell_type": "code",
      "execution_count": null,
      "metadata": {
        "id": "_6UlKKtNAGSk"
      },
      "outputs": [],
      "source": [
        "!wget -c https://repo.continuum.io/archive/Anaconda3-5.1.0-Linux-x86_64.sh\n",
        "!chmod +x Anaconda3-5.1.0-Linux-x86_64.sh\n",
        "!bash ./Anaconda3-5.1.0-Linux-x86_64.sh -b -f -p /usr/local\n",
        "\n",
        "import sys\n",
        "\n",
        "sys.path.append(\"/usr/local/lib/python3.6/site-packages/\")\n",
        "\n",
        "!conda config --add channels defaults\n",
        "!conda config --add channels bioconda\n",
        "!conda config --add channels conda-forge\n",
        "\n",
        "# insalling parallel-fastq-dump\n",
        "!conda install -y parallel-fastq-dump"
      ]
    },
    {
      "cell_type": "markdown",
      "metadata": {
        "id": "d6wpQaBcVd1o"
      },
      "source": [
        "#### parallel fastq dump"
      ]
    },
    {
      "cell_type": "code",
      "execution_count": null,
      "metadata": {
        "id": "5EWhkEOfQvSD"
      },
      "outputs": [],
      "source": [
        "import glob\n",
        "import subprocess\n",
        "\n",
        "\n",
        "paths = glob.glob(\"/content/pysradb_downloads/SRP273256/*/*.sra\")\n",
        "command = 'parallel-fastq-dump --threads 4 --outdir sratofastq/ --split-files --tmpdir tmpdir --gzip -s '\n",
        "!mkdir -p sratofastq && mkdir -p tmpdir\n",
        "commands = []\n",
        "for i in range(len(paths)):\n",
        "  commands.append(command + paths[i])"
      ]
    },
    {
      "cell_type": "markdown",
      "metadata": {
        "id": "xmV85cHRmA7I"
      },
      "source": [
        "### Downloading Fastqc"
      ]
    },
    {
      "cell_type": "code",
      "execution_count": null,
      "metadata": {
        "id": "ScaOtMB8fROu"
      },
      "outputs": [],
      "source": [
        "import os\n",
        "\n",
        "!wget -c https://www.bioinformatics.babraham.ac.uk/projects/fastqc/fastqc_v0.11.9.zip\n",
        "!unzip /content/fastqc_v0.11.9.zip\n",
        "!rm /content/fastqc_v0.11.9.zip\n",
        "!chmod 777 /content/FastQC/fastqc\n",
        "os.environ['PATH'] += ':/content/FastQC/'"
      ]
    },
    {
      "cell_type": "markdown",
      "metadata": {
        "id": "W58oNX_Rx2pS"
      },
      "source": [
        "### Trimming"
      ]
    },
    {
      "cell_type": "code",
      "execution_count": null,
      "metadata": {
        "id": "cppvwngHqtDW"
      },
      "outputs": [],
      "source": [
        "!wget -c http://www.usadellab.org/cms/uploads/supplementary/Trimmomatic/Trimmomatic-0.39.zip\n",
        "!unzip /content/Trimmomatic-0.39.zip\n",
        "!rm /content/Trimmomatic-0.39.zip"
      ]
    },
    {
      "cell_type": "markdown",
      "metadata": {
        "id": "ske8cPPgxuyp"
      },
      "source": [
        "### HISAT2 alignment"
      ]
    },
    {
      "cell_type": "code",
      "execution_count": null,
      "metadata": {
        "id": "vWNk2GJWy-Qd"
      },
      "outputs": [],
      "source": [
        "import os\n",
        "\n",
        "!wget -c https://cloud.biohpc.swmed.edu/index.php/s/oTtGWbWjaxsQ2Ho/download\n",
        "!unzip ./download\n",
        "!rm ./download\n",
        "os.environ['PATH'] += ':/content/hisat2-2.2.1/'\n",
        "\n",
        "!wget https://genome-idx.s3.amazonaws.com/hisat/grch38_genome.tar.gz\n",
        "!tar -xf ./grch38_genome.tar.gz\n",
        "!rm ./grch38_genome.tar.gz"
      ]
    },
    {
      "cell_type": "markdown",
      "metadata": {
        "id": "R5xUY6gLzAMg"
      },
      "source": [
        "### Tophat alignment"
      ]
    },
    {
      "cell_type": "code",
      "execution_count": null,
      "metadata": {
        "id": "ed4pTH5mrW37"
      },
      "outputs": [],
      "source": [
        "import os\n",
        "\n",
        "!wget --content-disposition -c https://sourceforge.net/projects/bowtie-bio/files/bowtie2/2.4.5/bowtie2-2.4.5-linux-x86_64.zip/download -P ./bowtie\n",
        "!unzip ./bowtie/bowtie2-2.4.5-linux-x86_64.zip -d ./bowtie\n",
        "!rm ./bowtie/bowtie2-2.4.5-linux-x86_64.zip\n",
        "os.environ['PATH'] += ':/content/bowtie/bowtie2-2.4.5-linux-x86_64/'\n",
        "\n",
        "!wget -c http://ccb.jhu.edu/software/tophat/downloads/tophat-2.1.1.Linux_x86_64.tar.gz\n",
        "!tar -xf ./tophat-2.1.1.Linux_x86_64.tar.gz\n",
        "!rm ./tophat-2.1.1.Linux_x86_64.tar.gz\n",
        "os.environ['PATH'] += ':/content/tophat-2.1.1.Linux_x86_64'\n",
        "\n",
        "# Downloading pre-build index\n",
        "!wget -c https://genome-idx.s3.amazonaws.com/bt/GRCh37.zip\n",
        "# !wget -c ftp://ftp.ccb.jhu.edu/pub/data/bowtie_indexes/GRCh38_no_alt.zip\n",
        "!unzip ./GRCh37.zip -d ./bowtie_index\n",
        "# !unzip ./GRCh38_no_alt.zip -d ./bowtie_index\n",
        "!rm ./GRCh37.zip\n",
        "# !rm ./GRCh38_no_alt.zip"
      ]
    },
    {
      "cell_type": "markdown",
      "metadata": {
        "id": "wvTZsR85gKVG"
      },
      "source": [
        "### Samtools"
      ]
    },
    {
      "cell_type": "code",
      "execution_count": null,
      "metadata": {
        "id": "5POZBgtBcpLO"
      },
      "outputs": [],
      "source": [
        "import os\n",
        "\n",
        "!wget -c https://github.com/samtools/samtools/releases/download/1.16.1/samtools-1.16.1.tar.bz2\n",
        "!tar -xjf ./samtools-1.16.1.tar.bz2\n",
        "!rm ./samtools-1.16.1.tar.bz2\n",
        "%cd ./samtools-1.16.1\n",
        "!./configure --prefix=/content/samtools/\n",
        "!make\n",
        "!make install\n",
        "%cd ../\n",
        "os.environ['PATH'] += ':/content/samtools/bin/'\n",
        "!rm -r ./samtools-1.16.1"
      ]
    },
    {
      "cell_type": "markdown",
      "metadata": {
        "id": "ti18bmLW2g2t"
      },
      "source": [
        "### Deseq2"
      ]
    },
    {
      "cell_type": "code",
      "execution_count": null,
      "metadata": {
        "id": "Kq3LWym32jOK"
      },
      "outputs": [],
      "source": [
        "!pip install matplotlib\n",
        "!pip install Cython\n",
        "!pip install pysam\n",
        "!pip install HTSeq\n",
        "!apt-get install r-base\n",
        "!pip install rpy2\n",
        "!R -e 'install.packages(\"BiocManager\")'\n",
        "!R -e 'BiocManager::install(\"DESeq2\")'\n",
        "\n",
        "# Creating count matrix for sample\n",
        "!htseq-count -f bam ./hisat_out/sorted.bam ./ref_genome_annotate.gtf > ./count_matrix.txt"
      ]
    },
    {
      "cell_type": "code",
      "execution_count": null,
      "metadata": {
        "id": "qYnftrcS3NOW"
      },
      "outputs": [],
      "source": [
        "import pandas as pd\n",
        "import rpy2.robjects as robjects\n",
        "from rpy2.robjects import pandas2ri, Formula\n",
        "pandas2ri.activate()\n",
        "from rpy2.robjects.packages import importr\n",
        "\n",
        "deseq = importr('DESeq2')\n",
        "\n",
        "data = pd.read_table(\"/content/count_matrix.txt\")\n",
        "data.columns = ['genes', 'sample1']\n",
        "\n",
        "gr = [x for x in data.columns[1:]]\n",
        "gr = pd.DataFrame(gr, columns=[\"Group\"])\n",
        "\n",
        "design_formula = Formula(\"~ Group\")\n",
        "\n",
        "cds = deseq.DESeqDataSetFromMatrix(data.iloc[:,1:], colData=gr, design=design_formula)\n",
        "cds = deseq.DESeq(cds)"
      ]
    },
    {
      "cell_type": "markdown",
      "metadata": {
        "id": "eO-BLE9Nx3Ha"
      },
      "source": [
        "### Running code"
      ]
    },
    {
      "cell_type": "code",
      "execution_count": null,
      "metadata": {
        "id": "N8BYLzbmgrOy"
      },
      "outputs": [],
      "source": [
        "import subprocess\n",
        "\n",
        "path_to_fq = '/content/sratofastq/'\n",
        "trim = '/content/Trimmomatic-0.39/trimmomatic-0.39.jar'\n",
        "\n",
        "for c in commands:\n",
        "  subprocess.run(c, shell=True)\n",
        "\n",
        "  file_name = c[c.rfind('/')+1:-4]\n",
        "  subprocess.run('mkdir -p /content/QC/' + file_name, shell=True)\n",
        "\n",
        "  fq1 = file_name + '_1.fastq.gz'\n",
        "  fq2 = file_name + '_2.fastq.gz'\n",
        "  fastqc_command = 'fastqc --outdir=/content/QC/' + file_name + '/ ' + path_to_fq + fq1 + ' ' + path_to_fq + fq2\n",
        "  subprocess.run(fastqc_command, shell=True)\n",
        "\n",
        "  subprocess.run('mkdir -p /content/TrimmedFq/', shell=True)\n",
        "  tr_fq1_p = '/content/TrimmedFq/' + file_name + '_1_paired.fastq.gz '\n",
        "  tr_fq1_unp = '/content/TrimmedFq/' + file_name + '_1_unpaired.fastq.gz '\n",
        "  tr_fq2_p = '/content/TrimmedFq/' + file_name + '_2_paired.fastq.gz '\n",
        "  tr_fq2_unp = '/content/TrimmedFq/' + file_name + '_2_unpaired.fastq.gz '\n",
        "  trimming_command = 'java -jar ' + trim + ' PE ' + path_to_fq + fq1 + ' ' + path_to_fq + fq2 + ' ' + tr_fq1_p + tr_fq1_unp + tr_fq2_p + tr_fq2_unp + 'ILLUMINACLIP:'+ '/content/Trimmomatic-0.39/adapters/TruSeq3-PE-2.fa' + ':2:30:10 LEADING:3 TRAILING:3 SLIDINGWINDOW:4:20 MINLEN:36'\n",
        "  subp = subprocess.run(trimming_command, shell=True, capture_output=True, text=True)\n",
        "  trimm_log = subp.stdout.strip('\\n')\n",
        "  print(trimm_log)\n",
        "  print()\n",
        "\n",
        "  index = './grch38/genome '\n",
        "  fq1 = './TrimmedFq/' + file_name + '_1_paired.fastq.gz '\n",
        "  fq2 = './TrimmedFq/' + file_name + '_2_paired.fastq.gz '\n",
        "  unpaired = './TrimmedFq/' + file_name + '_1_unpaired.fastq.gz,./TrimmedFq/' + file_name + '_2_unpaired.fastq.gz '\n",
        "  output = './hisat_out/' + file_name + '/output.sam'\n",
        "  subprocess.run('mkdir -p ./hisat_out/' + file_name, shell=True)\n",
        "  hisat_command = 'hisat2 -p 4 -x ' + index + '-1 ' + fq1 + '-2 ' + fq2 + '-U ' + unpaired + '-S ' + output\n",
        "  subp = subprocess.run(hisat_command, shell=True, capture_output=True, text=True)\n",
        "  hisat_log = subp.stdout.strip('\\n')\n",
        "  print(hisat_log)\n",
        "  print()\n",
        "\n",
        "  # long process not suitable for colab\n",
        "  index = './bowtie_index/GRCh37/GRCh37 '\n",
        "  tophat_command = 'tophat --no-convert-bam --b2-fast -p 2 ' + index + fq1 + fq2\n",
        "  subp = subprocess.run(tophat_command, shell=True, capture_output=True, text=True)\n",
        "  subprocess.run('mkdir -p ./output_sam', shell=True)\n",
        "  subprocess.run('cp ./tophat_out/accepted_hits.sam ./output_sam/accepted_hits.sam', shell=True)\n",
        "  tophat_log = subp.stdout.strip('\\n')\n",
        "  print(tophat_log)\n",
        "  print()\n",
        "\n",
        "  # hisat2 sam location\n",
        "  sam_location = './hisat_out/' + file_name + '/output.sam '\n",
        "  bam_location = './hisat_out/' + file_name + '/output.bam '\n",
        "  sorted_bam_location = './hisat_out/' + file_name + '/sorted.bam '\n",
        "\n",
        "  # tophat sam location\n",
        "  # sam_location = './output_sam/accepted_hits.sam '\n",
        "  # bam_location = './output_sam/accepted_hits.bam '\n",
        "  # sorted_bam_location = './output_sam/sorted.bam '\n",
        "\n",
        "  sam_to_bam = 'samtools view -S -b ' + sam_location + '> ' + bam_location\n",
        "  sort_bam = 'samtools sort ' + bam_location + '-o ' + sorted_bam_location\n",
        "  index_bam = 'samtools index ' + sorted_bam_location\n",
        "  subprocess.run(sam_to_bam, shell=True)\n",
        "  subprocess.run(sort_bam, shell=True)\n",
        "  subprocess.run(index_bam, shell=True)\n",
        "\n",
        "  annotate_file = './ref_genome_annotate.gtf '\n",
        "  output_name = './count_matrix.txt'\n",
        "  htseq = 'htseq-count -f bam ' + sorted_bam_location + annotate_file + '> ' + output_name\n",
        "  subprocess.run(htseq, shell=True)\n",
        "\n",
        "  # subprocess.run('rm /content/hisat_out/*', shell=True)\n",
        "  # subprocess.run('rm /content/sratofastq/*', shell=True)"
      ]
    }
  ],
  "metadata": {
    "colab": {
      "collapsed_sections": [
        "V9-YGlsT93pH",
        "RFpYBS21-A4H",
        "ByRd3SCP_BST",
        "fInz61Ds9wMQ",
        "-9G4wL0fJyq-",
        "9CD5Z6flAA31",
        "d6wpQaBcVd1o",
        "xmV85cHRmA7I",
        "W58oNX_Rx2pS",
        "ske8cPPgxuyp",
        "R5xUY6gLzAMg",
        "wvTZsR85gKVG"
      ],
      "provenance": []
    },
    "kernelspec": {
      "display_name": "Python 3",
      "name": "python3"
    },
    "language_info": {
      "name": "python"
    }
  },
  "nbformat": 4,
  "nbformat_minor": 0
}
