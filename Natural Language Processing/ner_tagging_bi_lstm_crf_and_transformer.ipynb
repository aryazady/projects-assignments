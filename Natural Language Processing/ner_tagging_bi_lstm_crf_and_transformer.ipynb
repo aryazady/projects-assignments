{
  "cells": [
    {
      "cell_type": "markdown",
      "metadata": {
        "id": "CzRuwLMsyD0G"
      },
      "source": [
        "## Installing and Importing Packages"
      ]
    },
    {
      "cell_type": "markdown",
      "metadata": {
        "id": "w2pKDq8q4H5S"
      },
      "source": [
        "In this section, we will install and import the packages that we will utilize throughout the notebook."
      ]
    },
    {
      "cell_type": "markdown",
      "metadata": {
        "id": "_gz_HWMp0lJ0"
      },
      "source": [
        "**RESTART session after `hazm` installation**"
      ]
    },
    {
      "cell_type": "code",
      "execution_count": 37,
      "metadata": {
        "colab": {
          "base_uri": "https://localhost:8080/"
        },
        "id": "QJteirT20kEU",
        "outputId": "984def0d-d9cd-4913-ceee-3a9f38bc79b3"
      },
      "outputs": [
        {
          "name": "stdout",
          "output_type": "stream",
          "text": [
            "\u001b[2K     \u001b[90m━━━━━━━━━━━━━━━━━━━━━━━━━━━━━━━━━━━━━━━━\u001b[0m \u001b[32m892.6/892.6 kB\u001b[0m \u001b[31m5.0 MB/s\u001b[0m eta \u001b[36m0:00:00\u001b[0m\n",
            "\u001b[2K     \u001b[90m━━━━━━━━━━━━━━━━━━━━━━━━━━━━━━━━━━━━━━━━\u001b[0m \u001b[32m4.4/4.4 MB\u001b[0m \u001b[31m35.5 MB/s\u001b[0m eta \u001b[36m0:00:00\u001b[0m\n",
            "\u001b[?25h  Preparing metadata (setup.py) ... \u001b[?25l\u001b[?25hdone\n",
            "\u001b[2K     \u001b[90m━━━━━━━━━━━━━━━━━━━━━━━━━━━━━━━━━━━━━━━━\u001b[0m \u001b[32m17.3/17.3 MB\u001b[0m \u001b[31m33.1 MB/s\u001b[0m eta \u001b[36m0:00:00\u001b[0m\n",
            "\u001b[2K     \u001b[90m━━━━━━━━━━━━━━━━━━━━━━━━━━━━━━━━━━━━━━━━\u001b[0m \u001b[32m1.1/1.1 MB\u001b[0m \u001b[31m60.5 MB/s\u001b[0m eta \u001b[36m0:00:00\u001b[0m\n",
            "\u001b[2K     \u001b[90m━━━━━━━━━━━━━━━━━━━━━━━━━━━━━━━━━━━━━━━━\u001b[0m \u001b[32m227.7/227.7 kB\u001b[0m \u001b[31m22.2 MB/s\u001b[0m eta \u001b[36m0:00:00\u001b[0m\n",
            "\u001b[?25h  Building wheel for flashtext (setup.py) ... \u001b[?25l\u001b[?25hdone\n",
            "\u001b[31mERROR: pip's dependency resolver does not currently take into account all the packages that are installed. This behaviour is the source of the following dependency conflicts.\n",
            "lida 0.0.10 requires fastapi, which is not installed.\n",
            "lida 0.0.10 requires kaleido, which is not installed.\n",
            "lida 0.0.10 requires python-multipart, which is not installed.\n",
            "lida 0.0.10 requires uvicorn, which is not installed.\u001b[0m\u001b[31m\n",
            "\u001b[0m"
          ]
        }
      ],
      "source": [
        "!pip install -qU hazm"
      ]
    },
    {
      "cell_type": "code",
      "execution_count": 1,
      "metadata": {
        "colab": {
          "base_uri": "https://localhost:8080/"
        },
        "id": "lKcVROsH2plJ",
        "outputId": "9206db6d-56b7-44f9-8b1d-c46c980f5a6c"
      },
      "outputs": [
        {
          "name": "stdout",
          "output_type": "stream",
          "text": [
            "Cloning into 'lstm_crf'...\n",
            "remote: Enumerating objects: 74, done.\u001b[K\n",
            "remote: Counting objects: 100% (74/74), done.\u001b[K\n",
            "remote: Compressing objects: 100% (63/63), done.\u001b[K\n",
            "remote: Total 74 (delta 33), reused 32 (delta 7), pack-reused 0\u001b[K\n",
            "Receiving objects: 100% (74/74), 21.38 KiB | 7.13 MiB/s, done.\n",
            "Resolving deltas: 100% (33/33), done.\n",
            "  Preparing metadata (setup.py) ... \u001b[?25l\u001b[?25hdone\n",
            "\u001b[2K     \u001b[90m━━━━━━━━━━━━━━━━━━━━━━━━━━━━━━━━━━━━━━━━\u001b[0m \u001b[32m270.9/270.9 kB\u001b[0m \u001b[31m2.1 MB/s\u001b[0m eta \u001b[36m0:00:00\u001b[0m\n",
            "\u001b[?25h"
          ]
        }
      ],
      "source": [
        "!git clone https://github.com/aryazady/lstm_crf.git\n",
        "!pip install -e /content/lstm_crf/. -q\n",
        "!pip install -q transformers[torch]"
      ]
    },
    {
      "cell_type": "code",
      "execution_count": 34,
      "metadata": {
        "id": "N3AMkqDs1Lol"
      },
      "outputs": [],
      "source": [
        "import json\n",
        "import pandas as pd\n",
        "import zipfile\n",
        "import matplotlib.pyplot as plt\n",
        "import numpy as np\n",
        "import torch\n",
        "import hazm\n",
        "from hazm import word_tokenize\n",
        "from numpy.random import randint\n",
        "import tensorflow as tf\n",
        "import pickle\n",
        "from sklearn.metrics import accuracy_score, f1_score, recall_score, precision_score, confusion_matrix, ConfusionMatrixDisplay\n",
        "from transformers import AutoTokenizer, AutoConfig, Trainer, TrainingArguments, TFAutoModelForTokenClassification, AutoModelForTokenClassification\n",
        "import copy\n",
        "\n",
        "import sys\n",
        "sys.path.insert(0, '/content/lstm_crf/')\n",
        "\n",
        "import os\n",
        "os.environ['CUDA_LAUNCH_BLOCKING'] = \"1\"\n",
        "os.environ['TORCH_USE_CUDA_DSA'] = \"1\"\n",
        "\n",
        "from bi_lstm_crf.app import WordsTagger\n",
        "\n",
        "normalizer = hazm.Normalizer()"
      ]
    },
    {
      "cell_type": "markdown",
      "metadata": {
        "id": "FYam4ItBzpzN"
      },
      "source": [
        "## Creating Dataset (train, test, validation)"
      ]
    },
    {
      "cell_type": "markdown",
      "metadata": {
        "id": "B5ckgg5b5BAK"
      },
      "source": [
        "As mentioned, we are utilizing the ARMAN dataset for token NER tagging. Here, we create our training, testing, and validation datasets from files downloaded earlier. The final structure for the dataset is a dictionary of [sentence, tag], where sentences are lists of tokens, and each sentence has a corresponding tag for its tokens."
      ]
    },
    {
      "cell_type": "code",
      "execution_count": 86,
      "metadata": {
        "id": "DE5sEmNGdqBJ"
      },
      "outputs": [],
      "source": [
        "base = '/content/drive/MyDrive/CurrentData'\n",
        "\n",
        "train_data = {'sentence': [], 'tag': []}\n",
        "val_data = {'sentence': [], 'tag': []}\n",
        "test_data = {'sentence': [], 'tag': []}\n",
        "\n",
        "with open(os.path.join(base, 'train.txt'), 'r') as f:\n",
        "  lines = f.readlines()\n",
        "  tokens = []\n",
        "  bio_tags = []\n",
        "  for line in lines:\n",
        "    if len(line.strip()) == 0:\n",
        "      train_data['sentence'].append(tokens[:])\n",
        "      train_data['tag'].append(bio_tags[:])\n",
        "      tokens.clear()\n",
        "      bio_tags.clear()\n",
        "      continue\n",
        "    token, bio = line.strip().split()\n",
        "    tokens += [token]\n",
        "    bio_tags += [bio]\n",
        "\n",
        "\n",
        "with open(os.path.join(base, 'dev.txt'), 'r') as f:\n",
        "  lines = f.readlines()\n",
        "  tokens = []\n",
        "  bio_tags = []\n",
        "  for line in lines:\n",
        "    if len(line.strip()) == 0:\n",
        "      val_data['sentence'].append(tokens[:])\n",
        "      val_data['tag'].append(bio_tags[:])\n",
        "      tokens.clear()\n",
        "      bio_tags.clear()\n",
        "      continue\n",
        "    token, bio = line.strip().split()\n",
        "    tokens += [token]\n",
        "    bio_tags += [bio]\n",
        "\n",
        "with open(os.path.join(base, 'test.txt'), 'r') as f:\n",
        "  lines = f.readlines()\n",
        "  tokens = []\n",
        "  bio_tags = []\n",
        "\n",
        "  for line in lines:\n",
        "    if len(line.strip()) == 0:\n",
        "      test_data['sentence'].append(tokens[:])\n",
        "      test_data['tag'].append(bio_tags[:])\n",
        "      tokens.clear()\n",
        "      bio_tags.clear()\n",
        "      continue\n",
        "\n",
        "    token, bio = line.strip().split()\n",
        "\n",
        "    tokens += [token]\n",
        "    bio_tags += [bio]"
      ]
    },
    {
      "cell_type": "markdown",
      "metadata": {
        "id": "LVREOXAaz2mn"
      },
      "source": [
        "### Creating Files Compatible with our Model"
      ]
    },
    {
      "cell_type": "markdown",
      "metadata": {
        "id": "GkCU0cfq7AAi"
      },
      "source": [
        "For NER tagging using LSTM/CRF, we will use a pre-written code available on [GitHub](https://github.com/jidasheng/bi-lstm-crf). To ensure compatibility with this code, we need to create three files:\n",
        "*  dataset.txt: The entire dataset is structured as follows: [sentence \\t tag \\n].\n",
        "*  tags.json: List of unique tags\n",
        "*  and vocab.json: List of unique words"
      ]
    },
    {
      "cell_type": "code",
      "execution_count": 87,
      "metadata": {
        "id": "LUYJBYBoeqnm"
      },
      "outputs": [],
      "source": [
        "!mkdir corpus\n",
        "with open(\"/content/corpus/dataset.txt\", \"w\") as f:\n",
        "  for idx, sentence in enumerate(train_data['sentence']):\n",
        "    s = json.dumps(sentence)\n",
        "    tag = json.dumps(train_data['tag'][idx])\n",
        "    f.writelines([s, '\\t', tag, '\\n'])\n",
        "  for idx, sentence in enumerate(val_data['sentence']):\n",
        "    s = json.dumps(sentence)\n",
        "    tag = json.dumps(val_data['tag'][idx])\n",
        "    f.writelines([s, '\\t', tag, '\\n'])\n",
        "\n",
        "classes = []\n",
        "for tags in train_data['tag']:\n",
        "  classes += tags\n",
        "unique_classes = set(classes)\n",
        "unique_classes = list(unique_classes)\n",
        "unique_classes.sort()\n",
        "json_string = json.dumps(unique_classes)\n",
        "with open(\"/content/corpus/tags.json\", \"w\") as f:\n",
        "    f.write(json_string)\n",
        "\n",
        "word_to_ix = {}\n",
        "for sentence in train_data['sentence']:\n",
        "    for word in sentence:\n",
        "        if word not in word_to_ix:\n",
        "            word_to_ix[word] = len(word_to_ix)\n",
        "for sentence in val_data['sentence']:\n",
        "    for word in sentence:\n",
        "        if word not in word_to_ix:\n",
        "            word_to_ix[word] = len(word_to_ix)\n",
        "\n",
        "for sentence in test_data['sentence']:\n",
        "    for word in sentence:\n",
        "        if word not in word_to_ix:\n",
        "            word_to_ix[word] = len(word_to_ix)\n",
        "\n",
        "vocab = list(word_to_ix.keys())\n",
        "json_string = json.dumps(vocab)\n",
        "with open(\"/content/corpus/vocab.json\", \"w\") as f:\n",
        "    f.write(json_string)"
      ]
    },
    {
      "cell_type": "markdown",
      "metadata": {
        "id": "S0zrbneyS0df"
      },
      "source": [
        "# Bi-LSTM/CRf"
      ]
    },
    {
      "cell_type": "markdown",
      "metadata": {
        "id": "WYBvWQ6ezN4c"
      },
      "source": [
        "## Training BiLSTM/CRF Model"
      ]
    },
    {
      "cell_type": "markdown",
      "metadata": {
        "id": "y9x-9IeXRvLY"
      },
      "source": [
        "Here, we will utilize the previously installed bi_lstm_crf package to train and validate our model."
      ]
    },
    {
      "cell_type": "markdown",
      "metadata": {
        "id": "W3-CBTyrSyQC"
      },
      "source": [
        "**BiLSTM/CRF Model**\n",
        "\n",
        "in this package we:\n",
        "* model.py\n",
        "* crf.py\n",
        "* train.py\n",
        "* predict.py\n",
        "* utility scripts\n",
        "\n",
        "`model.py`: In this script, we will initialize our LSTM and CRF models. The input it takes includes:\n",
        "* vocab_size: the number of unique words\n",
        "* tagset_size: the number of unique tags\n",
        "* embedding_dim: the size of word embeddings\n",
        "* hidden_dim: the size of the hidden layer\n",
        "* num_rnn_layers: the number of RNN layers\n",
        "* rnn: the choice of RNN architecture, either LSTM or GRU.\n",
        "\n",
        "With these parameters, it will instantiate the RNN and CRF models.\n",
        "\n",
        "This script also includes three functions:\n",
        "* __build_features: This function utilizes word IDs in the sentence and returns embeddings for each word in the sentence.\n",
        "* loss: This function is used during the training phase. The loss is calculated through the CRF model loss.\n",
        "* forward: This function is used for predicting tags given a sentence.\n",
        "\n",
        "`crf.py`: In this script, we will take word embeddings and number of unique tags. it will predict tags for each token using a linear transformation from word embedding to tags.\n",
        "\n",
        "This script also includes five functions:\n",
        "* __score_sentence: Using word embeddings and tags, it calculates the score of provided tags. For scoring, it uses a transition matrix (nn.Parameters).\n",
        "* __viterbi_decode: Using the Viterbi algorithm, it decodes word embeddings to find the highest scoring tags.\n",
        "* __forward_algorithm: Using the forward algorithm, it calculates the *partition function* and returns the score for the sentence using the transition matrix.\n",
        "* loss: This function is used during the training phase. The loss is calculated through __score_sentence and __forward_algorithm\n",
        "* forwad: This function is used for predicting tags given a sentence using __viterbi_decode.\n",
        "\n",
        "`train.py`: In this script, we will construct our model. Additionally, using the given parameters, we will split the dataset into train, test, and validation sets, and instantiate the Adam optimizer. Over the given epochs, we will proceed to train and evaluate our model. Furthermore, we will save the losses and the parameters of the best-performing model.\n",
        "\n",
        "`predict.py`: In this script, we will predict NER tags for given senetences."
      ]
    },
    {
      "cell_type": "code",
      "execution_count": null,
      "metadata": {
        "colab": {
          "base_uri": "https://localhost:8080/"
        },
        "id": "6iYknxfEc83f",
        "outputId": "f24d00ac-4b75-49dc-e7f7-181fd92dbddc"
      },
      "outputs": [
        {
          "name": "stdout",
          "output_type": "stream",
          "text": [
            "config /content/corpus/vocab.json loaded\n",
            "config /content/corpus/tags.json loaded\n",
            "tag dict file => /content/drive/MyDrive/CurrentData/lstm_crf_model_5/tags.json\n",
            "tag dict file => /content/drive/MyDrive/CurrentData/lstm_crf_model_5/vocab.json\n",
            "parsing /content/corpus/dataset.txt: 15362it [00:00, 31199.86it/s]\n",
            "dataset cache((15362, 100), (15362, 100)) => /content/corpus/dataset_cache_100.npz\n",
            "datasets loaded:\n",
            "\ttrain: torch.Size([13811, 100]), torch.Size([13811, 100])\n",
            "\tval: torch.Size([1536, 100]), torch.Size([1536, 100])\n",
            "\ttest: torch.Size([15, 100]), torch.Size([15, 100])\n",
            " 1/100 loss: 17.83, val_loss:  0.00: 100% 27/27 [00:07<00:00,  3.56it/s]\n",
            "eval: 100% 3/3 [00:00<00:00, 22.57it/s]\n",
            " 2/100 loss: 15.31, val_loss: 20.77: 100% 27/27 [00:05<00:00,  5.36it/s]\n",
            "eval: 100% 3/3 [00:00<00:00, 16.86it/s]\n",
            " 3/100 loss: 14.24, val_loss: 17.53: 100% 27/27 [00:05<00:00,  5.19it/s]\n",
            "eval: 100% 3/3 [00:00<00:00, 21.03it/s]\n",
            " 4/100 loss: 13.20, val_loss: 15.66: 100% 27/27 [00:04<00:00,  5.69it/s]\n",
            "eval: 100% 3/3 [00:00<00:00, 21.62it/s]\n",
            " 5/100 loss: 10.66, val_loss: 14.19: 100% 27/27 [00:05<00:00,  4.97it/s]\n",
            "eval: 100% 3/3 [00:00<00:00, 21.11it/s]\n",
            " 6/100 loss:  9.40, val_loss: 12.68: 100% 27/27 [00:04<00:00,  5.67it/s]\n",
            "eval: 100% 3/3 [00:00<00:00, 23.07it/s]\n",
            " 7/100 loss:  7.70, val_loss: 11.14: 100% 27/27 [00:04<00:00,  5.47it/s]\n",
            "eval: 100% 3/3 [00:00<00:00, 17.46it/s]\n",
            " 8/100 loss:  7.58, val_loss:  9.79: 100% 27/27 [00:05<00:00,  5.17it/s]\n",
            "eval: 100% 3/3 [00:00<00:00, 17.50it/s]\n",
            " 9/100 loss:  5.85, val_loss:  8.63: 100% 27/27 [00:04<00:00,  5.83it/s]\n",
            "eval: 100% 3/3 [00:00<00:00, 22.60it/s]\n",
            "10/100 loss:  5.89, val_loss:  7.65: 100% 27/27 [00:05<00:00,  5.00it/s]\n",
            "eval: 100% 3/3 [00:00<00:00, 21.79it/s]\n",
            "11/100 loss:  5.14, val_loss:  6.77: 100% 27/27 [00:04<00:00,  5.73it/s]\n",
            "eval: 100% 3/3 [00:00<00:00, 21.09it/s]\n",
            "12/100 loss:  4.12, val_loss:  6.06: 100% 27/27 [00:05<00:00,  5.32it/s]\n",
            "eval: 100% 3/3 [00:00<00:00, 15.98it/s]\n",
            "13/100 loss:  3.75, val_loss:  5.40: 100% 27/27 [00:05<00:00,  5.10it/s]\n",
            "eval: 100% 3/3 [00:00<00:00, 22.00it/s]\n",
            "14/100 loss:  2.64, val_loss:  4.85: 100% 27/27 [00:04<00:00,  5.67it/s]\n",
            "eval: 100% 3/3 [00:00<00:00, 23.21it/s]\n",
            "15/100 loss:  3.05, val_loss:  4.39: 100% 27/27 [00:05<00:00,  4.93it/s]\n",
            "eval: 100% 3/3 [00:00<00:00, 21.71it/s]\n",
            "16/100 loss:  2.25, val_loss:  3.98: 100% 27/27 [00:04<00:00,  5.70it/s]\n",
            "eval: 100% 3/3 [00:00<00:00, 22.96it/s]\n",
            "17/100 loss:  2.14, val_loss:  3.63: 100% 27/27 [00:05<00:00,  5.15it/s]\n",
            "eval: 100% 3/3 [00:00<00:00, 16.81it/s]\n",
            "18/100 loss:  2.47, val_loss:  3.29: 100% 27/27 [00:05<00:00,  5.35it/s]\n",
            "eval: 100% 3/3 [00:00<00:00, 22.50it/s]\n",
            "19/100 loss:  1.93, val_loss:  2.98: 100% 27/27 [00:04<00:00,  5.68it/s]\n",
            "eval: 100% 3/3 [00:00<00:00, 23.50it/s]\n",
            "20/100 loss:  1.46, val_loss:  2.72: 100% 27/27 [00:05<00:00,  4.87it/s]\n",
            "eval: 100% 3/3 [00:00<00:00, 20.92it/s]\n",
            "21/100 loss:  1.41, val_loss:  2.51: 100% 27/27 [00:06<00:00,  4.41it/s]\n",
            "eval: 100% 3/3 [00:00<00:00, 21.81it/s]\n",
            "22/100 loss:  1.34, val_loss:  2.26: 100% 27/27 [00:06<00:00,  4.49it/s]\n",
            "eval: 100% 3/3 [00:00<00:00, 18.54it/s]\n",
            "23/100 loss:  0.99, val_loss:  2.04: 100% 27/27 [00:04<00:00,  5.52it/s]\n",
            "eval: 100% 3/3 [00:00<00:00, 22.28it/s]\n",
            "24/100 loss:  1.21, val_loss:  1.86: 100% 27/27 [00:05<00:00,  5.32it/s]\n",
            "eval: 100% 3/3 [00:00<00:00, 15.71it/s]\n",
            "25/100 loss:  0.84, val_loss:  1.69: 100% 27/27 [00:05<00:00,  5.12it/s]\n",
            "eval: 100% 3/3 [00:00<00:00, 23.65it/s]\n",
            "26/100 loss:  0.71, val_loss:  1.55: 100% 27/27 [00:04<00:00,  5.75it/s]\n",
            "eval: 100% 3/3 [00:00<00:00, 21.68it/s]\n",
            "27/100 loss:  0.67, val_loss:  1.39: 100% 27/27 [00:05<00:00,  4.96it/s]\n",
            "eval: 100% 3/3 [00:00<00:00, 21.35it/s]\n",
            "28/100 loss:  0.69, val_loss:  1.26: 100% 27/27 [00:04<00:00,  5.71it/s]\n",
            "eval: 100% 3/3 [00:00<00:00, 23.66it/s]\n",
            "29/100 loss:  0.54, val_loss:  1.16: 100% 27/27 [00:04<00:00,  5.43it/s]\n",
            "eval: 100% 3/3 [00:00<00:00, 17.62it/s]\n",
            "30/100 loss:  0.61, val_loss:  1.05: 100% 27/27 [00:05<00:00,  5.13it/s]\n",
            "eval: 100% 3/3 [00:00<00:00, 23.14it/s]\n",
            "31/100 loss:  0.53, val_loss:  0.96: 100% 27/27 [00:04<00:00,  5.75it/s]\n",
            "eval: 100% 3/3 [00:00<00:00, 22.55it/s]\n",
            "32/100 loss:  0.45, val_loss:  0.87: 100% 27/27 [00:05<00:00,  4.92it/s]\n",
            "eval: 100% 3/3 [00:00<00:00, 20.14it/s]\n",
            "33/100 loss:  0.39, val_loss:  0.79: 100% 27/27 [00:04<00:00,  5.75it/s]\n",
            "eval: 100% 3/3 [00:00<00:00, 23.01it/s]\n",
            "34/100 loss:  0.37, val_loss:  0.73: 100% 27/27 [00:05<00:00,  5.37it/s]\n",
            "eval: 100% 3/3 [00:00<00:00, 17.88it/s]\n",
            "35/100 loss:  0.37, val_loss:  0.66: 100% 27/27 [00:05<00:00,  5.21it/s]\n",
            "eval: 100% 3/3 [00:00<00:00, 20.93it/s]\n",
            "36/100 loss:  0.29, val_loss:  0.61: 100% 27/27 [00:04<00:00,  5.64it/s]\n",
            "eval: 100% 3/3 [00:00<00:00, 22.70it/s]\n",
            "37/100 loss:  0.30, val_loss:  0.56: 100% 27/27 [00:05<00:00,  4.93it/s]\n",
            "eval: 100% 3/3 [00:00<00:00, 22.29it/s]\n",
            "38/100 loss:  0.25, val_loss:  0.51: 100% 27/27 [00:04<00:00,  5.67it/s]\n",
            "eval: 100% 3/3 [00:00<00:00, 22.36it/s]\n",
            "39/100 loss:  0.24, val_loss:  0.47: 100% 27/27 [00:05<00:00,  5.19it/s]\n",
            "eval: 100% 3/3 [00:00<00:00, 16.16it/s]\n",
            "40/100 loss:  0.20, val_loss:  0.43: 100% 27/27 [00:05<00:00,  5.21it/s]\n",
            "eval: 100% 3/3 [00:00<00:00, 21.58it/s]\n",
            "41/100 loss:  0.20, val_loss:  0.39: 100% 27/27 [00:04<00:00,  5.74it/s]\n",
            "eval: 100% 3/3 [00:00<00:00, 22.55it/s]\n",
            "42/100 loss:  0.17, val_loss:  0.37: 100% 27/27 [00:05<00:00,  4.77it/s]\n",
            "eval: 100% 3/3 [00:00<00:00, 16.58it/s]\n",
            "43/100 loss:  0.15, val_loss:  0.34: 100% 27/27 [00:05<00:00,  5.28it/s]\n",
            "eval: 100% 3/3 [00:00<00:00, 21.76it/s]\n",
            "44/100 loss:  0.17, val_loss:  0.32: 100% 27/27 [00:05<00:00,  4.98it/s]\n",
            "eval: 100% 3/3 [00:00<00:00, 14.84it/s]\n",
            "45/100 loss:  0.15, val_loss:  0.29: 100% 27/27 [00:04<00:00,  5.48it/s]\n",
            "eval: 100% 3/3 [00:00<00:00, 21.59it/s]\n",
            "46/100 loss:  0.13, val_loss:  0.29: 100% 27/27 [00:04<00:00,  5.72it/s]\n",
            "eval: 100% 3/3 [00:00<00:00, 19.55it/s]\n",
            "47/100 loss:  0.13, val_loss:  0.26: 100% 27/27 [00:05<00:00,  4.85it/s]\n",
            "eval: 100% 3/3 [00:00<00:00, 20.75it/s]\n",
            "48/100 loss:  0.12, val_loss:  0.24: 100% 27/27 [00:04<00:00,  5.74it/s]\n",
            "eval: 100% 3/3 [00:00<00:00, 23.63it/s]\n",
            "49/100 loss:  0.10, val_loss:  0.22: 100% 27/27 [00:05<00:00,  5.03it/s]\n",
            "eval: 100% 3/3 [00:00<00:00, 20.53it/s]\n",
            "50/100 loss:  0.09, val_loss:  0.21: 100% 27/27 [00:04<00:00,  5.70it/s]\n",
            "eval: 100% 3/3 [00:00<00:00, 23.68it/s]\n",
            "51/100 loss:  0.09, val_loss:  0.19: 100% 27/27 [00:04<00:00,  5.54it/s]\n",
            "eval: 100% 3/3 [00:00<00:00, 16.96it/s]\n",
            "52/100 loss:  0.08, val_loss:  0.18: 100% 27/27 [00:05<00:00,  5.01it/s]\n",
            "eval: 100% 3/3 [00:00<00:00, 23.10it/s]\n",
            "53/100 loss:  0.09, val_loss:  0.17: 100% 27/27 [00:04<00:00,  5.75it/s]\n",
            "eval: 100% 3/3 [00:00<00:00, 21.52it/s]\n",
            "54/100 loss:  0.08, val_loss:  0.16: 100% 27/27 [00:05<00:00,  4.99it/s]\n",
            "eval: 100% 3/3 [00:00<00:00, 21.64it/s]\n",
            "55/100 loss:  0.07, val_loss:  0.15: 100% 27/27 [00:04<00:00,  5.67it/s]\n",
            "eval: 100% 3/3 [00:00<00:00, 22.05it/s]\n",
            "56/100 loss:  0.07, val_loss:  0.14: 100% 27/27 [00:04<00:00,  5.79it/s]\n",
            "eval: 100% 3/3 [00:00<00:00, 21.42it/s]\n",
            "57/100 loss:  0.07, val_loss:  0.13: 100% 27/27 [00:05<00:00,  4.91it/s]\n",
            "eval: 100% 3/3 [00:00<00:00, 22.18it/s]\n",
            "58/100 loss:  0.06, val_loss:  0.13: 100% 27/27 [00:04<00:00,  5.66it/s]\n",
            "eval: 100% 3/3 [00:00<00:00, 22.79it/s]\n",
            "59/100 loss:  0.06, val_loss:  0.12: 100% 27/27 [00:05<00:00,  4.95it/s]\n",
            "eval: 100% 3/3 [00:00<00:00, 21.35it/s]\n",
            "60/100 loss:  0.06, val_loss:  0.11: 100% 27/27 [00:04<00:00,  5.54it/s]\n",
            "eval: 100% 3/3 [00:00<00:00, 21.84it/s]\n",
            "61/100 loss:  0.05, val_loss:  0.11: 100% 27/27 [00:04<00:00,  5.69it/s]\n",
            "eval: 100% 3/3 [00:00<00:00, 17.27it/s]\n",
            "62/100 loss:  0.05, val_loss:  0.10: 100% 27/27 [00:05<00:00,  4.84it/s]\n",
            "eval: 100% 3/3 [00:00<00:00, 21.34it/s]\n",
            "63/100 loss:  0.06, val_loss:  0.10: 100% 27/27 [00:04<00:00,  5.65it/s]\n",
            "eval: 100% 3/3 [00:00<00:00, 22.69it/s]\n",
            "64/100 loss:  0.04, val_loss:  0.09: 100% 27/27 [00:05<00:00,  4.96it/s]\n",
            "eval: 100% 3/3 [00:00<00:00, 20.98it/s]\n",
            "65/100 loss:  0.04, val_loss:  0.09: 100% 27/27 [00:04<00:00,  5.52it/s]\n",
            "eval: 100% 3/3 [00:00<00:00, 21.48it/s]\n",
            "66/100 loss:  0.04, val_loss:  0.09: 100% 27/27 [00:05<00:00,  5.12it/s]\n",
            "eval: 100% 3/3 [00:00<00:00, 14.99it/s]\n",
            "67/100 loss:  0.04, val_loss:  0.08: 100% 27/27 [00:05<00:00,  5.08it/s]\n",
            "eval: 100% 3/3 [00:00<00:00, 22.19it/s]\n",
            "68/100 loss:  0.04, val_loss:  0.08: 100% 27/27 [00:04<00:00,  5.75it/s]\n",
            "eval: 100% 3/3 [00:00<00:00, 23.25it/s]\n",
            "69/100 loss:  0.04, val_loss:  0.07: 100% 27/27 [00:05<00:00,  4.93it/s]\n",
            "eval: 100% 3/3 [00:00<00:00, 21.29it/s]\n",
            "70/100 loss:  0.03, val_loss:  0.07: 100% 27/27 [00:04<00:00,  5.70it/s]\n",
            "eval: 100% 3/3 [00:00<00:00, 23.80it/s]\n",
            "71/100 loss:  0.04, val_loss:  0.07: 100% 27/27 [00:04<00:00,  5.52it/s]\n",
            "eval: 100% 3/3 [00:00<00:00, 17.29it/s]\n",
            "72/100 loss:  0.04, val_loss:  0.07: 100% 27/27 [00:05<00:00,  5.26it/s]\n",
            "eval: 100% 3/3 [00:00<00:00, 21.30it/s]\n",
            "73/100 loss:  0.03, val_loss:  0.06: 100% 27/27 [00:04<00:00,  5.67it/s]\n",
            "eval: 100% 3/3 [00:00<00:00, 22.17it/s]\n",
            "74/100 loss:  0.03, val_loss:  0.06: 100% 27/27 [00:05<00:00,  5.01it/s]\n",
            "eval: 100% 3/3 [00:00<00:00, 20.88it/s]\n",
            "75/100 loss:  0.03, val_loss:  0.06: 100% 27/27 [00:04<00:00,  5.73it/s]\n",
            "eval: 100% 3/3 [00:00<00:00, 22.43it/s]\n",
            "76/100 loss:  0.03, val_loss:  0.06: 100% 27/27 [00:04<00:00,  5.48it/s]\n",
            "eval: 100% 3/3 [00:00<00:00, 16.54it/s]\n",
            "77/100 loss:  0.03, val_loss:  0.05: 100% 27/27 [00:05<00:00,  5.21it/s]\n",
            "eval: 100% 3/3 [00:00<00:00, 21.42it/s]\n",
            "78/100 loss:  0.02, val_loss:  0.05: 100% 27/27 [00:04<00:00,  5.77it/s]\n",
            "eval: 100% 3/3 [00:00<00:00, 22.82it/s]\n",
            "79/100 loss:  0.02, val_loss:  0.05: 100% 27/27 [00:09<00:00,  2.95it/s]\n",
            "eval: 100% 3/3 [00:00<00:00, 18.66it/s]\n",
            "80/100 loss:  0.02, val_loss:  0.05: 100% 27/27 [00:05<00:00,  5.39it/s]\n",
            "eval: 100% 3/3 [00:00<00:00, 20.91it/s]\n",
            "81/100 loss:  0.02, val_loss:  0.05: 100% 27/27 [00:05<00:00,  4.86it/s]\n",
            "eval: 100% 3/3 [00:00<00:00, 22.83it/s]\n",
            "82/100 loss:  0.02, val_loss:  0.04: 100% 27/27 [00:04<00:00,  5.67it/s]\n",
            "eval: 100% 3/3 [00:00<00:00, 22.94it/s]\n",
            "83/100 loss:  0.02, val_loss:  0.04: 100% 27/27 [00:05<00:00,  5.28it/s]\n",
            "eval: 100% 3/3 [00:00<00:00, 15.33it/s]\n",
            "84/100 loss:  0.02, val_loss:  0.04: 100% 27/27 [00:06<00:00,  4.24it/s]\n",
            "eval: 100% 3/3 [00:00<00:00, 10.16it/s]\n",
            "85/100 loss:  0.02, val_loss:  0.04: 100% 27/27 [00:10<00:00,  2.65it/s]\n",
            "eval: 100% 3/3 [00:00<00:00, 20.89it/s]\n",
            "86/100 loss:  0.02, val_loss:  0.04: 100% 27/27 [00:04<00:00,  5.57it/s]\n",
            "eval: 100% 3/3 [00:00<00:00, 21.72it/s]\n",
            "87/100 loss:  0.02, val_loss:  0.04: 100% 27/27 [00:05<00:00,  5.01it/s]\n",
            "eval: 100% 3/3 [00:00<00:00, 21.66it/s]\n",
            "88/100 loss:  0.02, val_loss:  0.04: 100% 27/27 [00:04<00:00,  5.65it/s]\n",
            "eval: 100% 3/3 [00:00<00:00, 23.07it/s]\n",
            "89/100 loss:  0.02, val_loss:  0.04: 100% 27/27 [00:04<00:00,  5.82it/s]\n",
            "eval: 100% 3/3 [00:00<00:00, 17.29it/s]\n",
            "90/100 loss:  0.02, val_loss:  0.03: 100% 27/27 [00:05<00:00,  4.92it/s]\n",
            "eval: 100% 3/3 [00:00<00:00, 21.41it/s]\n",
            "91/100 loss:  0.02, val_loss:  0.03: 100% 27/27 [00:04<00:00,  5.67it/s]\n",
            "eval: 100% 3/3 [00:00<00:00, 24.16it/s]\n",
            "92/100 loss:  0.02, val_loss:  0.03: 100% 27/27 [00:05<00:00,  4.99it/s]\n",
            "eval: 100% 3/3 [00:00<00:00, 21.87it/s]\n",
            "93/100 loss:  0.02, val_loss:  0.03: 100% 27/27 [00:04<00:00,  5.57it/s]\n",
            "eval: 100% 3/3 [00:00<00:00, 22.41it/s]\n",
            "94/100 loss:  0.02, val_loss:  0.03: 100% 27/27 [00:04<00:00,  5.63it/s]\n",
            "eval: 100% 3/3 [00:00<00:00, 17.66it/s]\n",
            "95/100 loss:  0.02, val_loss:  0.03: 100% 27/27 [00:05<00:00,  5.14it/s]\n",
            "eval: 100% 3/3 [00:00<00:00, 22.19it/s]\n",
            "96/100 loss:  0.12, val_loss:  0.03: 100% 27/27 [00:04<00:00,  5.55it/s]\n",
            "eval: 100% 3/3 [00:00<00:00, 21.99it/s]\n",
            "97/100 loss:  0.06, val_loss:  0.24: 100% 27/27 [00:05<00:00,  5.05it/s]\n",
            "eval: 100% 3/3 [00:00<00:00, 21.29it/s]\n",
            "98/100 loss:  0.03, val_loss:  0.10: 100% 27/27 [00:04<00:00,  5.58it/s]\n",
            "eval: 100% 3/3 [00:00<00:00, 23.56it/s]\n",
            "99/100 loss:  0.02, val_loss:  0.06: 100% 27/27 [00:04<00:00,  5.67it/s]\n",
            "eval: 100% 3/3 [00:00<00:00, 18.15it/s]\n",
            "100/100 loss:  0.02, val_loss:  0.04: 100% 27/27 [00:05<00:00,  5.07it/s]\n",
            "eval: 100% 3/3 [00:00<00:00, 23.42it/s]\n",
            "test: 100% 15/15 [00:00<00:00, 148.52it/s]\n",
            "training completed. test loss: 0.01\n"
          ]
        }
      ],
      "source": [
        "!python -m bi_lstm_crf '/content/corpus' --model_dir \"/content/drive/MyDrive/CurrentData/lstm_crf_model_5\" --num_epoch 100 --batch_size 512 --val_split 0.1 --test_split 0.001 --save_best_val_model"
      ]
    },
    {
      "cell_type": "markdown",
      "metadata": {
        "id": "3eo445t-zK2v"
      },
      "source": [
        "## Visualizing Loss"
      ]
    },
    {
      "cell_type": "markdown",
      "metadata": {
        "id": "j1n3dCr_kJ1K"
      },
      "source": [
        "Using the saved losses from the training phase, we plot the training loss against the validation loss."
      ]
    },
    {
      "cell_type": "code",
      "execution_count": null,
      "metadata": {
        "colab": {
          "base_uri": "https://localhost:8080/",
          "height": 430
        },
        "id": "KQq8vUfqrhd_",
        "outputId": "0eeb670c-206e-4e03-a46b-ab793c5b4e56"
      },
      "outputs": [
        {
          "data": {
            "image/png": "[encoded data removed]",
            "text/plain": [
              "<Figure size 640x480 with 1 Axes>"
            ]
          },
          "metadata": {},
          "output_type": "display_data"
        }
      ],
      "source": [
        "df = pd.read_csv(\"/content/drive/MyDrive/CurrentData/lstm_crf_model_5/loss.csv\")\n",
        "df[[\"train_loss\", \"val_loss\"]].ffill().plot(grid=True)\n",
        "plt.show()"
      ]
    },
    {
      "cell_type": "markdown",
      "metadata": {
        "id": "4BOaDVpJzDOK"
      },
      "source": [
        "## Evaluation on Test Dataset"
      ]
    },
    {
      "cell_type": "markdown",
      "metadata": {
        "id": "ZXylIKhkkkJF"
      },
      "source": [
        "Here we use our best model to predict NER tags on test dataset and evaluate model for overfitting. For this purpose we will use `WordsTagger`, that it takes model directory as input. "
      ]
    },
    {
      "cell_type": "code",
      "execution_count": 90,
      "metadata": {
        "id": "6jiDMbOqXsoy"
      },
      "outputs": [],
      "source": [
        "model = WordsTagger(model_dir=\"/content/drive/MyDrive/CurrentData/lstm_crf_model_5\")\n",
        "tags, sequences = model(test_data['sentence'])"
      ]
    },
    {
      "cell_type": "code",
      "execution_count": 91,
      "metadata": {
        "id": "ER_8f9oXeRUc"
      },
      "outputs": [],
      "source": [
        "y_true = []\n",
        "y_pred = []\n",
        "for tgs in test_data['tag']:\n",
        "  for t in tgs:\n",
        "    y_true.append(t)\n",
        "for tgs in tags:\n",
        "  for t in tgs:\n",
        "    y_pred.append(t)"
      ]
    },
    {
      "cell_type": "markdown",
      "metadata": {
        "id": "WfAwdk99kwP9"
      },
      "source": [
        "Calculating `Accuracy`, `Precision`, `Recall` and `F1-score` metrics for test dataset. Also plotting it's `Confusion Matrix`."
      ]
    },
    {
      "cell_type": "code",
      "execution_count": 92,
      "metadata": {
        "colab": {
          "base_uri": "https://localhost:8080/",
          "height": 891
        },
        "id": "LlK7z_EVfFd_",
        "outputId": "2efe297d-2a85-4ed5-dcc9-a967626dc646"
      },
      "outputs": [
        {
          "name": "stdout",
          "output_type": "stream",
          "text": [
            "Accuracy: 0.9994\n",
            "Precision macro: 0.9973\n",
            "Precision micro: 0.9994\n",
            "Recall macro: 0.9903\n",
            "Recall micro: 0.9994\n",
            "F1 macro: 0.9936\n",
            "F1 micro: 0.9994\n"
          ]
        },
        {
          "data": {
            "image/png": "[encoded data removed]",
            "text/plain": [
              "<Figure size 1200x1200 with 2 Axes>"
            ]
          },
          "metadata": {},
          "output_type": "display_data"
        }
      ],
      "source": [
        "def print_metrics(y_true, y_pred):\n",
        "  for score in ['Accuracy', 'Precision', 'Recall', 'F1']:\n",
        "    match score:\n",
        "      case 'Accuracy':\n",
        "           s = accuracy_score(y_true, y_pred)\n",
        "           print(score + ':', '{0:.4f}'.format(s))\n",
        "      case 'Precision':\n",
        "           s = precision_score(y_true, y_pred, average='macro', zero_division=1.0)\n",
        "           s_ = precision_score(y_true, y_pred, average='micro', zero_division=1.0)\n",
        "           print(score + ' macro:', '{0:.4f}'.format(s))\n",
        "           print(score + ' micro:', '{0:.4f}'.format(s_))\n",
        "      case 'Recall':\n",
        "           s = recall_score(y_true, y_pred, average='macro', zero_division=1.0)\n",
        "           s_ = recall_score(y_true, y_pred, average='micro', zero_division=1.0)\n",
        "           print(score + ' macro:', '{0:.4f}'.format(s))\n",
        "           print(score + ' micro:', '{0:.4f}'.format(s_))\n",
        "      case 'F1':\n",
        "           s = f1_score(y_true, y_pred, average='macro', zero_division=1.0)\n",
        "           s_ = f1_score(y_true, y_pred, average='micro', zero_division=1.0)\n",
        "           print(score + ' macro:', '{0:.4f}'.format(s))\n",
        "           print(score + ' micro:', '{0:.4f}'.format(s_))\n",
        "\n",
        "  fig, ax = plt.subplots(figsize=(12,12))\n",
        "  disp = ConfusionMatrixDisplay.from_predictions(y_true, y_pred, normalize='true', values_format = '.3f', ax=ax)\n",
        "\n",
        "print_metrics(y_true, y_pred)"
      ]
    },
    {
      "cell_type": "markdown",
      "metadata": {
        "id": "5IAtOljkTHf4"
      },
      "source": [
        "## News NER Prediction"
      ]
    },
    {
      "cell_type": "markdown",
      "metadata": {
        "id": "RvWfIo-jlKQO"
      },
      "source": [
        "Using our model to predict NER tags on another dataset (*distribution shift*), to see how much generalizability our model has."
      ]
    },
    {
      "cell_type": "code",
      "execution_count": 1,
      "metadata": {
        "colab": {
          "base_uri": "https://localhost:8080/"
        },
        "id": "6DwwTYDyr49c",
        "outputId": "faf2061a-aa05-4138-f29b-09a2d1e6b235"
      },
      "outputs": [
        {
          "name": "stdout",
          "output_type": "stream",
          "text": [
            "Downloading tasnimdataset.zip to /content\n",
            " 86% 73.0M/84.7M [00:00<00:00, 121MB/s]\n",
            "100% 84.7M/84.7M [00:00<00:00, 110MB/s]\n"
          ]
        }
      ],
      "source": [
        "os.environ['KAGGLE_CONFIG_DIR'] = '/content/drive/MyDrive/CurrentData'\n",
        "!kaggle datasets download -d amirpourmand/tasnimdataset\n",
        "\n",
        "file_path = '/content/tasnimdataset.zip'\n",
        "\n",
        "with zipfile.ZipFile(file_path, 'r') as zip_ref:\n",
        "    zip_ref.extractall('/content')\n",
        "\n",
        "    news_df = pd.read_csv('/content/tasnim.csv')"
      ]
    },
    {
      "cell_type": "markdown",
      "metadata": {
        "id": "t1jqeEmiQu3M"
      },
      "source": [
        "Prompt used to generated tags from chatGPT. Also all tags are checked manually.\n",
        "\n",
        "```\n",
        "NER tag sentences below and return tags in a list of lists for each token and it's tag in a tuple in python\n",
        "allowable tokens are : [\"B-event\", \"B-fac\", \"B-loc\", \"B-org\", \"B-pers\", \"B-pro\", \"I-event\", \"I-fac\", \"I-loc\", \"I-org\", \"I-pers\", \"I-pro\", \"O\"]\n",
        "\n",
        "sentences are presented in list of strings between single quotation and separated by commas.\n",
        "```\n",
        "\n"
      ]
    },
    {
      "cell_type": "code",
      "execution_count": 41,
      "metadata": {
        "id": "IKiRX3v6ETIB"
      },
      "outputs": [],
      "source": [
        "tagged_sentences = [\n",
        "    [('کشور', 'O'), ('آمریکا', 'B-loc'), ('با', 'O'), ('بیشترین', 'O'), ('تعداد', 'O'), ('مبتلایان', 'O'), ('در', 'O'), ('جهان', 'O'), ('با', 'O'), ('افزایش', 'O'), ('۳۶', 'O'), ('هزار', 'O'), ('و', 'O'), ('۸۹۶', 'O'), ('مبتلا', 'O'), ('در', 'O'), ('۲۴', 'O'), ('ساعت', 'O'), ('گذشته', 'O'), ('،', 'O'), ('به', 'O'), ('مجموع', 'O'), ('۳۰', 'O'), ('میلیون', 'O'), ('و', 'O'), ('۸۱', 'O'), ('هزار', 'O'), ('و', 'O'), ('۶۵۷', 'O'), ('نفر', 'O'), ('رسیده', 'O'), ('است', 'O'), ('؛', 'O'), ('تاکنون', 'O'), ('۵۴۷', 'O'), ('هزار', 'O'), ('و', 'O'), ('۲۳۴', 'O'), ('آمریکایی', 'O'), ('مبتلا', 'O'), ('به', 'O'), ('کووید', 'O'), ('۱۹', 'O'), ('در', 'O'), ('این', 'O'), ('کشور', 'O'), ('جان', 'O'), ('خود', 'O'), ('را', 'O'), ('از', 'O'), ('دست', 'O'), ('داده‌اند', 'O')],\n",
        "    [('از', 'O'), ('خداوند', 'B-pers'), ('متعال', 'O'), ('،', 'O'), ('سلامتی', 'O'), ('و', 'O'), ('موفقیت', 'O'), ('آن', 'O'), ('جناب', 'O'), ('و', 'O'), ('بهروزی', 'O'), ('مردم', 'O'), ('کویت', 'B-loc'), ('را', 'O'), ('مسألت', 'O'), ('دارم', 'O')],\n",
        "    [('عین‌اللهی', 'B-pers'), ('خاطر', 'O'), ('نشان', 'O'), ('کرد', 'O'), (':', 'O'), ('با', 'O'), ('توجه', 'O'), ('به', 'O'), ('بهبود', 'O'), ('شرایط', 'O'), ('کرونایی', 'O'), ('برنامه', 'O'), ('داریم', 'O'), ('حضور', 'O'), ('تماشاگران', 'B-pers'), ('در', 'O'), ('ورزشگاه', 'B-loc'), ('تسهیل', 'O'), ('شود', 'O'), ('،', 'O'), ('در', 'O'), ('دیدار', 'O'), ('تیم', 'B-org'), ('ملی', 'I-org'), ('فوتبال', 'I-org'), ('ایران', 'I-org'), ('با', 'O'), ('لبنان', 'B-loc'), ('اجازه', 'O'), ('حضور', 'O'), ('۵۰', 'O'), ('درصدی', 'O'), ('تماشاگران', 'B-pers'), ('صادر', 'O'), ('شده', 'O'), ('و', 'O'), ('اگر', 'O'), ('شیوه', 'O'), ('نامه‌های', 'O'), ('بهداشتی', 'O'), ('به', 'O'), ('خوبی', 'O'), ('رعایت', 'O'), ('شود', 'O'), ('این', 'O'), ('رویه', 'O'), ('ادامه', 'O'), ('پیدا', 'O'), ('خواهد', 'O'), ('کرد', 'O')],\n",
        "    [('۴', 'O'), ('میلیون', 'O'), ('شهروند', 'B-pers'), ('اتحادیه', 'B-org'), ('اروپا', 'I-org'), ('در', 'O'), ('انگلیس', 'B-loc'), ('با', 'O'), ('توجه', 'O'), ('به', 'O'), ('قواعد', 'O'), ('رایج', 'O'), ('،', 'O'), ('حقوق', 'O'), ('تضمین‌شده', 'O'), ('خود', 'O'), ('در', 'O'), ('توافق', 'O'), ('برگزیت', 'O'), ('را', 'O'), ('از', 'O'), ('دست', 'O'), ('می‌دهند', 'O')],\n",
        "    [('پایگاه', 'B-org'), ('خبری', 'I-org'), ('«', 'O'), ('aa', 'B-org'), ('»', 'O'), ('دراین‌باره', 'O'), ('نوشت', 'O'), (':', 'O'), ('\"', 'O'), ('اگرچه', 'O'), ('مقامات', 'O'), ('فرانسه', 'B-loc'), ('به', 'O'), ('همه', 'O'), ('دانشجویان', 'B-pers'), ('قول', 'O'), ('داده‌اند', 'O'), ('که', 'O'), ('فقط', 'O'), ('با', 'O'), ('۱', 'O')],\n",
        "    [('قهرمان', 'B-pers'), ('سابق', 'I-pers'), ('کشتی', 'I-pers'), ('آزاد', 'I-pers'), ('جهان', 'I-pers'), ('تاکید', 'O'), ('کرد', 'O'), (':', 'O'), ('همیشه', 'O'), ('در', 'O'), ('کشتی', 'O'), ('بوده', 'O'), ('و', 'O'), ('هستم', 'O'), ('،', 'O'), ('آدمی', 'O'), ('نبودم', 'O'), ('که', 'O'), ('در', 'O'), ('هیچ', 'O'), ('مقطعی', 'O'), ('کشتی', 'O'), ('را', 'O'), ('رها', 'O'), ('کنم', 'O'), ('،', 'O'), ('خیلی', 'O'), ('از', 'O'), ('عزیزان', 'O'), ('اینطوری', 'O'), ('نبودند', 'O'), ('،', 'O'), ('کشتی', 'O'), ('برای', 'O'), ('برخی', 'O'), ('سکوی', 'O'), ('پرتاب', 'O'), ('بوده', 'O'), ('،', 'O'), ('اما', 'O'), ('برای', 'O'), ('من', 'O'), ('هیچ', 'O'), ('وقت', 'O'), ('اینطور', 'O'), ('نبوده', 'O'), ('است', 'O')],\n",
        "    [('وی', 'O'), ('ادامه', 'O'), ('داد', 'O'), (':', 'O'), ('این', 'O'), ('رویداد', 'O'), ('برای', 'O'), ('رای', 'O'), ('اولی', 'O'), ('هم', 'O'), ('،', 'O'), ('بسیار', 'O'), ('مهم', 'O'), ('است', 'O'), ('و', 'O'), ('جشن', 'O'), ('ملی', 'O'), ('محسوب', 'O'), ('می‌شود', 'O')],\n",
        "    [('آزمون', 'B-pers'), ('بازیکن', 'O'), ('جالبی', 'O'), ('است', 'O'), ('که', 'O'), ('سال‌هاست', 'O'), ('در', 'O'), ('سطح', 'O'), ('خوبی', 'O'), ('بازی', 'O'), ('کرده', 'O'), ('با', 'O'), ('این', 'O'), ('وجود', 'O'), ('او', 'O'), ('هرگز', 'O'), ('در', 'O'), ('یک', 'O'), ('تیم', 'O'), ('بزرگ', 'O'), ('و', 'O'), ('لیگ', 'O'), ('رقابتی', 'O'), ('به', 'O'), ('میدان', 'B-loc'), ('نرفته', 'O'), ('است', 'O')],\n",
        "    [('آیتم‌هایی', 'O'), ('داشتیم', 'O'), ('درباره', 'O'), ('شناخت', 'O'), ('همسران', 'O'), ('نسبت', 'O'), ('به', 'O'), ('دیگر', 'O'), ('؛', 'O'), ('برای', 'O'), ('انتقال', 'O'), ('بهتر', 'O'), ('مفاهیم', 'O'), ('آن', 'O'), ('از', 'O'), ('عناصری', 'O'), ('مثل', 'O'), ('توپ', 'O'), ('شلیک', 'O'), ('کردن', 'O'), ('برای', 'O'), ('این', 'O'), ('شناخت', 'O'), ('استفاده', 'O'), ('کردیم', 'O')],\n",
        "    [('مدیرکل', 'B-pers'), ('غله', 'I-pers'), ('و', 'I-pers'), ('خدمات', 'I-pers'), ('بازرگانی', 'I-pers'), ('استان', 'B-loc'), ('تهران', 'I-loc'), ('به', 'O'), ('قرار', 'O'), ('داد', 'O'), ('ذخیره‌سازی', 'O'), ('گندم', 'O'), ('با', 'O'), ('بخش', 'O'), ('خصوصی', 'O'), ('اشاره', 'O'), ('کرد', 'O'), ('و', 'O'), ('گفت', 'O'), (':', 'O'), ('امسال', 'O'), ('با', 'O'), ('۷', 'O'), ('مرکز', 'O'), ('با', 'O'), ('ظرفیت', 'O'), ('۳۹۰', 'O'), ('هزار', 'O'), ('تن', 'O'), ('و', 'O'), ('۱۶', 'O'), ('کارخانه', 'O'), ('به', 'O'), ('ظرفیت', 'O'), ('۱۶۲', 'O'), ('هزار', 'O'), ('تن', 'O'), ('قرارداد', 'O'), ('منعقد', 'O'), ('شده', 'O'), ('است', 'O')],\n",
        "    [('براساس', 'O'), ('آمار', 'O'), ('رسمی', 'O'), ('که', 'O'), ('حوزه', 'O'), ('هنری', 'O'), ('استان', 'B-loc'), ('فارس', 'I-loc'), ('اعلام', 'O'), ('کرده', 'O'), ('هفت', 'O'), ('سینما', 'B-loc'), ('در', 'O'), ('شیراز', 'B-loc'), ('وجود', 'O'), ('دارد', 'O'), ('که', 'O'), ('در', 'O'), ('حال', 'O'), ('حاضر', 'O'), ('فقط', 'O'), ('سه', 'O'), ('سالن', 'B-loc'), ('سینما', 'I-loc'), ('از', 'O'), ('سالن‌های', 'O'), ('حوزه', 'O'), ('هنری', 'O'), ('در', 'O'), ('شیراز', 'B-loc'), ('فعال', 'O'), ('است', 'O'), ('و', 'O'), ('۴', 'O'), ('سالن', 'B-loc'), ('مورد', 'O'), ('کم', 'O'), ('توجهی', 'O'), ('قرار', 'O'), ('گرفته', 'O'), ('و', 'O'), ('غیرفعال', 'O'), ('است', 'O')],\n",
        "    [('وی', 'O'), ('درخصوص', 'O'), ('ایمنی', 'O'), ('و', 'O'), ('پدافند', 'O'), ('شیمیایی', 'O'), ('باتوجه', 'O'), ('به', 'O'), ('توسعه', 'O'), ('صنعت', 'O'), ('نفت', 'O'), ('و', 'O'), ('گاز', 'O'), ('خاطرنشان', 'O'), ('کرد', 'O'), (':', 'O'), ('لازم', 'O'), ('است', 'O'), ('زیرساخت‌ها', 'O'), ('و', 'O'), ('نظامات', 'O'), ('ایمنی', 'O'), ('ایجاد', 'O'), ('شود', 'O'), ('تا', 'O'), ('خطرات', 'O'), ('در', 'O'), ('این', 'O'), ('حوزه', 'O'), ('متوجه', 'O'), ('مردم', 'O'), ('نشود', 'O'), ('که', 'O'), ('الحمدلله', 'O'), ('تاکنون', 'O'), ('اقدامات', 'O'), ('خوبی', 'O'), ('انجام‌گرفته', 'O'), ('است', 'O')],\n",
        "    [('از', 'O'), ('بازیکنانم', 'O'), ('بابت', 'O'), ('اراده', 'O'), ('خوبی', 'O'), ('که', 'O'), ('برای', 'O'), ('پیروزی', 'O'), ('در', 'O'), ('این', 'O'), ('بازی', 'O'), ('نشان', 'O'), ('دادند', 'O'), ('،', 'O'), ('تشکر', 'O'), ('می‌کنم', 'O')],\n",
        "    [('اهمیت', 'O'), ('حدیث', 'O'), ('در', 'O'), ('میان', 'O'), ('مسلمانان', 'B-pers'), ('از', 'O'), ('آن', 'O'), ('روست', 'O'), ('که', 'O'), ('از', 'O'), ('منابع', 'O'), ('اصلی', 'O'), ('استنباط', 'O'), ('احکام', 'O'), ('در', 'O'), ('فقه', 'O'), ('و', 'O'), ('عقاید', 'O'), ('در', 'O'), ('علم', 'O'), ('کلام', 'O'), ('محسوب', 'O'), ('می‌شود', 'O')],\n",
        "    [('البته', 'O'), ('ما', 'O'), ('به', 'O'), ('همه', 'O'), ('بازیکنان', 'O'), ('واکسیناسیون', 'O'), ('کرونا', 'O'), ('را', 'O'), ('توصیه', 'O'), ('می‌کنیم', 'O'), ('و', 'O'), ('این', 'O'), ('برای', 'O'), ('ورزش', 'O'), ('تنیس', 'O'), ('در', 'O'), ('مقابله', 'O'), ('با', 'O'), ('این', 'O'), ('بیماری', 'O'), ('ضروری', 'O'), ('است', 'O')]\n",
        "]\n",
        "\n",
        "tagged_sentences_2 = [\n",
        "    [('رئیس‌جمهور', 'B-pers'), ('با', 'O'), ('تأکید', 'O'), ('بر', 'O'), ('لزوم', 'O'), ('ایجاد', 'O'), ('ثبات', 'O'), ('در', 'O'), ('بازار', 'B-loc'), ('و', 'O'), ('انجام', 'O'), ('اقدامات', 'O'), ('پیشگیرانه', 'O'), ('از', 'O'), ('نوسانات', 'O'), ('ارزی', 'O'), ('،', 'O'), ('بانک', 'B-org'), ('مرکزی', 'I-org'), ('را', 'O'), ('موظف', 'O'), ('کرد', 'O'), ('با', 'O'), ('فعال', 'O'), ('کردن', 'O'), ('ساز', 'O'), ('و', 'O'), ('کارهای', 'O'), ('بانکی', 'O'), ('و', 'O'), ('اقتصادی', 'O'), ('ارزهای', 'O'), ('موجود', 'O'), ('در', 'O'), ('خارج', 'O'), ('از', 'O'), ('کشور', 'O'), ('را', 'O'), ('به', 'O'), ('داخل', 'O'), ('بازگرداند', 'O')],\n",
        "    [('بر', 'O'), ('همین', 'O'), ('اساس', 'O'), ('می‌توان', 'O'), ('گفت', 'O'), ('صنعت', 'O'), ('گردشگری', 'O'), ('به', 'O'), ('مثابه', 'O'), ('لوکوموتیوی', 'O'), ('است', 'O'), ('که', 'O'), ('دیگر', 'O'), ('اجزا', 'O'), ('و', 'O'), ('ارگان‌های', 'O'), ('اقتصادی', 'O'), ('را', 'O'), ('می‌تواند', 'O'), ('به', 'O'), ('دنبال', 'O'), ('خود', 'O'), ('به', 'O'), ('راه', 'O'), ('بیندازد', 'O')],\n",
        "    [('این', 'O'), ('کارشناس', 'B-pers'), ('لبنانی', 'I-pers'), ('ادامه', 'O'), ('داد', 'O'), ('،', 'O'), ('اکنون', 'O'), ('«', 'O'), ('طارق', 'B-pers'), ('البیطار', 'I-pers'), ('»', 'O'), ('قاضی', 'O'), ('فعلی', 'O'), ('پرونده', 'O'), ('انفجار', 'O'), ('بیروت', 'B-loc'), ('نیز', 'O'), ('گزارش', 'O'), ('فنی', 'O'), ('انفجار', 'O'), ('را', 'O'), ('بنا', 'O'), ('به', 'O'), ('دلایل', 'O'), ('سیاسی', 'O'), ('کاملا', 'O'), ('مخفی', 'O'), ('کرده', 'O'), ('و', 'O'), ('در', 'O'), ('تلاش', 'O'), ('برای', 'O'), ('متهم', 'O'), ('کردن', 'O'), ('تیم', 'O'), ('رئیس‌جمهور', 'B-pers'), ('و', 'O'), ('حزب‌الله', 'B-org'), ('در', 'O'), ('این', 'O'), ('انفجار', 'O'), ('است', 'O')],\n",
        "    [('تاکنون', 'O'), ('۳۶', 'O'), ('میلیون', 'O'), ('و', 'O'), ('۵۷', 'O'), ('هزار', 'O'), ('و', 'O'), ('۳۱۵', 'O'), ('آزمایش', 'O'), ('تشخیص', 'O'), ('کووید', 'O'), ('۱۹', 'O'), ('در', 'O'), ('کشور', 'O'), ('انجام‌شده', 'O'), ('است', 'O')],\n",
        "    [('ان‌شاءالله', 'O'), ('در', 'O'), ('این', 'O'), ('بازی', 'O'), ('،', 'O'), ('تمام', 'O'), ('بازیکنان', 'B-pers'), ('صحیح', 'O'), ('و', 'O'), ('سالم', 'O'), ('از', 'O'), ('زمین', 'O'), ('خارج', 'O'), ('شوند', 'O')],\n",
        "    [('جوکار', 'B-pers'), ('عنوان', 'O'), ('کرد', 'O'), (':', 'O'), ('در', 'O'), ('این', 'O'), ('صورت', 'O'), ('استانداران', 'B-pers'), ('می‌توانند', 'O'), ('با', 'O'), ('بر', 'O'), ('اساس', 'O'), ('منابع', 'O'), ('انسانی', 'O'), ('و', 'O'), ('طبیعی', 'O'), ('موجود', 'O'), ('در', 'O'), ('استان', 'B-loc'), ('،', 'O'), ('برنامه‌ریزی', 'O'), ('و', 'O'), ('بهترین', 'O'), ('فرصت‌ها', 'O'), ('را', 'O'), ('برای', 'O'), ('توسعه', 'O'), ('ایجاد', 'O'), ('کنند', 'O'), ('که', 'O'), ('لازمه', 'O'), ('آن', 'O'), ('افزایش', 'O'), ('اختیارات', 'O'), ('استانداران', 'B-pers'), ('است', 'O')],\n",
        "    [('به', 'O'), ('گزارش', 'O'), ('خبرنگار', 'B-pers'), ('اقتصادی', 'I-pers'), ('،', 'O'), ('بر', 'O'), ('اساس', 'O'), ('اعلام', 'O'), ('سازمان', 'O'), ('راهداری', 'B-org'), ('در', 'O'), ('محور', 'O'), ('چالوس', 'B-loc'), ('مسیر', 'O'), ('جنوب', 'B-loc'), ('به', 'O'), ('شمال', 'B-loc'), ('حدفاصل', 'O'), ('بیلقان', 'B-loc'), ('تا', 'O'), ('سرودار', 'B-loc'), ('و', 'O'), ('مسیر', 'O'), ('(', 'O'), ('شمال', 'B-loc'), ('به', 'O'), ('جنوب', 'B-loc'), (')', 'O'), ('حدفاصل', 'O'), ('مرزن‌آباد', 'B-loc'), ('تا', 'O'), ('میانک', 'B-loc'), ('و', 'O'), ('محدوده‌های', 'O'), ('انارک', 'B-loc'), ('،', 'O'), ('هریجان', 'B-loc'), ('،', 'O'), ('تونل', 'B-loc'), ('کندوان', 'I-loc'), ('و', 'O'), ('وینه', 'B-loc'), ('،', 'O'), ('در', 'O'), ('محور', 'B-loc'), ('هراز', 'I-loc'), ('مسیر', 'O'), ('(', 'O'), ('شمال', 'B-loc'), ('به', 'O'), ('جنوب', 'B-loc'), (')', 'O'), ('محدوده‌های', 'O'), ('تونل', 'O'), ('شماره', 'O'), ('یک', 'O'), ('،', 'O'), ('بایجان', 'B-loc'), ('،', 'O'), ('آب', 'B-loc'), ('اسک', 'I-loc'), ('و', 'O'), ('مبارک', 'B-loc'), ('آباد', 'I-loc'), ('و', 'O'), ('در', 'O'), ('آزادراه', 'O'), ('پردیس', 'B-loc'), ('–', 'O'), ('تهران', 'B-loc'), ('محدوده', 'O'), ('جاجرود', 'B-loc'), ('ترافیک', 'O'), ('سنگین', 'O'), ('است', 'O')],\n",
        "    [('هایاشی', 'B-pers'), ('یوشیماسا', 'I-pers'), ('بر', 'O'), ('اهمیت', 'O'), ('تشکیل', 'O'), ('دولت', 'O'), ('فراگیر', 'O'), ('در', 'O'), ('افغانستان', 'B-loc'), ('و', 'O'), ('احترام', 'O'), ('به', 'O'), ('حقوق', 'O'), ('زنان', 'O'), ('و', 'O'), ('اقلیت‌های', 'O'), ('قومی', 'O'), ('و', 'O'), ('نابودی', 'O'), ('تروریسم', 'O'), ('در', 'O'), ('این', 'O'), ('کشور', 'O'), ('تاکید', 'O'), ('کرد', 'O')],\n",
        "    [('به', 'O'), ('گزارش', 'O'), ('از', 'O'), ('بیروت', 'B-loc'), ('،', 'O'), ('بحران‌های', 'O'), ('روزافزون', 'O'), ('در', 'O'), ('لبنان', 'B-loc'), ('این', 'O'), ('بانوی', 'B-pers'), ('لبنانی', 'I-pers'), ('را', 'O'), ('مجبور', 'O'), ('کرد', 'O'), ('به', 'O'), ('نظافت', 'O'), ('منازل', 'B-loc'), ('بپردازد', 'O'), ('و', 'O'), ('بتواند', 'O'), ('از', 'O'), ('این', 'O'), ('طریق', 'O'), ('،', 'O'), ('هزینه‌های', 'O'), ('شیرخشک', 'O'), ('فرزندانش', 'O'), ('را', 'O'), ('فراهم', 'O'), ('کند', 'O')],\n",
        "    [('به', 'O'), ('گزارش', 'O'), ('خبرنگار', 'B-pers'), ('فرهنگی', 'I-pers'), ('،', 'O'), ('یکی', 'O'), ('از', 'O'), ('معضلات', 'O'), ('جدی', 'O'), ('در', 'O'), ('رسانه', 'B-org'), ('ملی', 'I-org'), ('که', 'O'), ('ایام', 'O'), ('نوروز', 'O'), ('هم', 'O'), ('مخاطب', 'O'), ('را', 'O'), ('آزار', 'O'), ('داد', 'O'), (',', 'O'), ('بی‌نظمی', 'O'), ('در', 'O'), ('پخش', 'O'), ('سریال', 'O'), ('بود', 'O'), ('،', 'O'), ('این', 'O'), ('بار', 'O'), ('از', 'O'), ('همان', 'O'), ('روز', 'O'), ('نخست', 'O'), ('به', 'O'), ('آنتن', 'O'), ('می‌رسد', 'O'), ('و', 'O'), ('«', 'O'), ('رعد', 'O'), ('و', 'O'), ('برق', 'O'), ('»', 'O'), ('شبکه', 'O'), ('پنج', 'O'), ('هم', 'O'), ('به‌علت', 'O'), ('مشکلات', 'O'), ('فنی', 'O'), ('با', 'O'), ('یک', 'O')],\n",
        "    [('رئیس', 'B-pers'), ('اتاق', 'I-pers'), ('بازرگانی', 'I-pers'), ('بوشهر', 'B-loc'), ('نیز', 'O'), ('توسعه', 'O'), ('صادرات', 'O'), ('را', 'O'), ('یکی', 'O'), ('از', 'O'), ('هدف‌گذاری‌های', 'O'), ('دولت', 'O'), ('دانست', 'O'), ('و', 'O'), ('اظهار', 'O'), ('داشت', 'O'), (':', 'O'), ('یکی', 'O'), ('از', 'O'), ('اهداف', 'O'), ('مهم', 'O'), ('این', 'O'), ('دولت', 'O'), ('توجه', 'O'), ('به', 'O'), ('صادرات', 'O'), ('و', 'O'), ('حمایت', 'O'), ('از', 'O'), ('تولیدکنندگان', 'O'), ('و', 'O'), ('صادرکنندگان', 'O'), ('است', 'O')],\n",
        "    [('به', 'O'), ('عنوان', 'O'), ('مثال', 'O'), ('پس', 'O'), ('از', 'O'), ('حادثه', 'O'), ('دلخراش', 'O'), ('زلزله', 'O'), ('در', 'O'), ('سرپل', 'B-loc'), ('ذهاب', 'I-loc'), ('،', 'O'), ('سقوط', 'O'), ('هواپیمای', 'O'), ('مسافربری', 'O'), ('تهران', 'O'), ('و', 'O'), ('تیپ‌های', 'O'), ('واکنش', 'O'), ('سریع', 'O'), ('نیروی', 'B-org'), ('زمینی', 'I-org'), ('ارتش', 'I-org'), ('در', 'O'), ('محل', 'O'), ('حادثه', 'O'), ('بودند', 'O'), ('،', 'O'), ('البته', 'O'), ('اینها', 'O'), ('در', 'O'), ('قالب', 'O')],\n",
        "    [('آیت‌الله', 'B-pers'), ('رئیسی', 'I-pers'), ('همچنین', 'O'), ('با', 'O'), ('اعلام', 'O'), ('حمایت', 'O'), ('جمهوری', 'B-loc'), ('اسلامی', 'I-loc'), ('ایران', 'I-loc'), ('از', 'O'), ('تشکیل', 'O'), ('دولت', 'O'), ('قوی', 'O'), ('در', 'O'), ('لبنان', 'B-loc'), ('گفت', 'O'), (':', 'O'), ('ما', 'O'), ('از', 'O'), ('هرگونه', 'O'), ('کمک', 'O'), ('انسان‌دوستانه', 'O'), ('به', 'O'), ('مردم', 'O'), ('لبنان', 'B-loc'), ('دریغ', 'O'), ('نخواهیم', 'O'), ('کرد', 'O'), ('و', 'O'), ('آماده', 'O')],\n",
        "    [('وی', 'O'), ('خاطرنشان', 'O'), ('کرد', 'O'), (':', 'O'), ('تاکنون', 'O'), ('تأمین', 'O'), ('زمین', 'O'), ('در', 'O'), ('۱۶', 'O'), ('شهر', 'O'), ('برای', 'O'), ('اجرای', 'O'), ('طرح', 'O'), ('جهش', 'O'), ('مسکن', 'O'), ('انجام‌شده', 'O'), ('و', 'O'), ('پس', 'O'), ('از', 'O'), ('پالایش', 'O'), ('متقاضیان', 'O'), ('و', 'O'), ('تشکیل', 'O'), ('پرونده‌ها', 'O'), ('،', 'O'), ('اقدامات', 'O'), ('اجرایی', 'O'), ('لازم', 'O'), ('نیز', 'O'), ('عملیاتی', 'O'), ('خواهد', 'O'), ('شد', 'O')],\n",
        "    [('این', 'B-pers'), ('کارشناس', 'I-pers'), ('اقتصادی', 'I-pers'), ('درخصوص', 'O'), ('جلسه', 'O'), ('اقتصاددانان', 'O'), ('با', 'O'), ('رئیس‌جمهور', 'B-pers'), ('گفت', 'O'), (':', 'O'), ('جلسه', 'O'), ('شامگاه', 'O'), ('سه‌شنبه', 'O'), ('با', 'O'), ('آقای', 'B-pers'), ('رئیس‌جمهور', 'I-pers'), ('خوب', 'O'), ('مدیریت', 'O'), ('نشد', 'O'), ('و', 'O'), ('به‌جای', 'O'), ('اینکه', 'O'), ('در', 'O'), ('مسائل', 'O'), ('کلان‌تر', 'O'), ('و', 'O'), ('معیشت', 'O'), ('مردم', 'O'), ('بحث', 'O'), ('شود', 'O'), ('اکثر', 'O')],\n",
        "    [('وی', 'O'), ('افزود', 'O'), (':', 'O'), ('ما', 'O'), ('در', 'O'), ('فدراسیون', 'B-org'), ('در', 'O'), ('این', 'O'), ('موضوع', 'O'), ('دخالتی', 'O'), ('نداریم', 'O'), ('و', 'O'), ('معاونت', 'B-pers'), ('قهرمانی', 'I-pers'), ('و', 'O'), ('همچنین', 'O'), ('معاونت', 'B-pers'), ('حقوقی', 'I-pers'), ('وزارت', 'B-org'), ('ورزش', 'I-org'), ('باید', 'O'), ('در', 'O'), ('این', 'O'), ('باره', 'O'), ('اظهار', 'O'), ('نظر', 'O'), ('لازم', 'O'), ('را', 'O'), ('انجام', 'O'), ('دهند', 'O')],\n",
        "]\n",
        "tagged_sentences += tagged_sentences_2"
      ]
    },
    {
      "cell_type": "code",
      "execution_count": 93,
      "metadata": {
        "id": "9Hyzw4N6sIb2"
      },
      "outputs": [],
      "source": [
        "data = {'sentence': [], 'tag': []}\n",
        "for row in tagged_sentences:\n",
        "  row = np.asarray(row)\n",
        "  data['sentence'].append(list(row[:,0]))\n",
        "  data['tag'].append(list(row[:,1]))\n",
        "pred, _ = model(data['sentence'])"
      ]
    },
    {
      "cell_type": "code",
      "execution_count": 95,
      "metadata": {
        "colab": {
          "base_uri": "https://localhost:8080/",
          "height": 886
        },
        "id": "vq7jpFL1rtIa",
        "outputId": "f67b1f3d-1b21-471c-c537-a6f1b155dbd6"
      },
      "outputs": [
        {
          "name": "stdout",
          "output_type": "stream",
          "text": [
            "Accuracy: 0.8828\n",
            "Precision macro: 0.4730\n",
            "Precision micro: 0.8828\n",
            "Recall macro: 0.3995\n",
            "Recall micro: 0.8828\n",
            "F1 macro: 0.2692\n",
            "F1 micro: 0.8828\n"
          ]
        },
        {
          "data": {
            "image/png": "[encoded data removed]",
            "text/plain": [
              "<Figure size 1200x1200 with 2 Axes>"
            ]
          },
          "metadata": {},
          "output_type": "display_data"
        }
      ],
      "source": [
        "y_true = []\n",
        "y_pred = []\n",
        "for tgs in data['tag']:\n",
        "  for t in tgs:\n",
        "    y_true.append(t)\n",
        "for tgs in pred:\n",
        "  for t in tgs:\n",
        "    y_pred.append(t)\n",
        "\n",
        "print_metrics(y_true, y_pred)"
      ]
    },
    {
      "cell_type": "markdown",
      "metadata": {
        "id": "-EFwSYOGw7E3"
      },
      "source": [
        "# Transformer"
      ]
    },
    {
      "cell_type": "markdown",
      "metadata": {
        "id": "xl9Se2i6l9S9"
      },
      "source": [
        "In this section we will do the same task, but this time we will use Transformers. We will not train any model here, only using Huggingface models and **fine-tuning** them."
      ]
    },
    {
      "cell_type": "markdown",
      "metadata": {
        "id": "4waha1VXnLgY"
      },
      "source": [
        "## Dictionary for Conversion between Tag and ID"
      ]
    },
    {
      "cell_type": "markdown",
      "metadata": {
        "id": "S696aCdPmdvI"
      },
      "source": [
        "Creating dictionary of tag to id and id to tag. This is used to convert tag strings to numbers."
      ]
    },
    {
      "cell_type": "code",
      "execution_count": 99,
      "metadata": {
        "id": "1vBY_q2ARVeG"
      },
      "outputs": [],
      "source": [
        "with open('/content/corpus/tags.json') as f:\n",
        "  unique_tags = json.load(f)\n",
        "tag2id = {tag: id for id, tag in enumerate(unique_tags)}\n",
        "id2tag = {id: tag for tag, id in tag2id.items()}"
      ]
    },
    {
      "cell_type": "markdown",
      "metadata": {
        "id": "g_kWPxVpnUnF"
      },
      "source": [
        "## Encoding Input"
      ]
    },
    {
      "cell_type": "markdown",
      "metadata": {
        "id": "7GwofZbmm7Z_"
      },
      "source": [
        "Here we're using `ParsBERT` tokenizer from Huggingface to tokenize our sentences. Also we need to set `return_offsets_mapping=True` to get tokens start and end indecies."
      ]
    },
    {
      "cell_type": "code",
      "execution_count": 100,
      "metadata": {
        "colab": {
          "base_uri": "https://localhost:8080/",
          "height": 269,
          "referenced_widgets": [
            "84d14de6accf46be937b421d39f51068",
            "bcc653e148c1443c8969de5e9a1f10fd",
            "db8202a942684764adcf743c6d561e65",
            "4708bc71175f48cb87d9f2f4934563cf",
            "830c9561a91743d18e547ae914157546",
            "96a2d494e4d646c191c142cb59ba43c3",
            "ea5bfd396bed4ee98bea3de184b36fcd",
            "dc5a38bd5bd844d393fe3d737fa549ce",
            "2adc3df05dea4bf09188c6d51fa66a0e",
            "59020f9944f848d9b8946087e68c69cb",
            "26086b66ac1a4c69b0cfb234c993e4a5",
            "7aa5f93652174e75a9d237355ce06040",
            "e1a6679519f14628a0ac8b94ccf88ba8",
            "ea28fa05b8d24969a9aebca4dcbafa8b",
            "81fd318d5bbe4dee84cae9f84b09cf25",
            "55fdc3ba1e70456ea765fd845e0e2dbe",
            "3cba09a0862f4a108b3399da1bc62fa4",
            "96c9c593551e4276a8d0a62259f63857",
            "a414f4ebbe4b481a8531392b6ede7260",
            "970b024ba7da4314b6daf7df5705d886",
            "eb0c40c50eaa4e3ea05dab722c5694c3",
            "d9e4609b02774773af62876325d4837f",
            "a1b59918242349e2896646fecd3a5048",
            "6a9573da4ad74c56a10886b21ffc9b1f",
            "9f999ffa3c73429ca571731c6623fa35",
            "4daec1fdfd59443eacfeda5088fc8764",
            "21812a54efdb4f669765c0a4f2b445e9",
            "6cf795bcaa0943fe89658efbc01d9138",
            "3795850f28184d799f0f3b9579cde328",
            "62e4865180684007bf9aecf52e880a1f",
            "29836a181bdf4c23ab2141477b0b697d",
            "e7a7264178f74fa98815348049d3e65d",
            "02ec31c0cdd04cc29bb67d6ffa94e9e6",
            "f92594e08692435bbf13492274acfb7c",
            "37ee32486c35433f9be43d577b38e43c",
            "a2cfc163df464eeca5be335485b726bc",
            "ae3ec6e53a2e45da987e9f5d0cd5489e",
            "51fd42ea14e747feb1dd35de6973b47d",
            "1aba18f99b824214a7e2f277db0507af",
            "0cf0188423fa45b29ff4caa7736b6fe5",
            "dc8029cab13a44c19298cded43f973f6",
            "619f4b23aff6469fb825279783be5ecb",
            "c366d32300fa4e119c58bddcffd7bdb1",
            "21eed177884f4059b6001a0620cf5cf0"
          ]
        },
        "id": "_F9bvMk1xI9A",
        "outputId": "6c98622d-8ab6-40d8-b837-a6d36d68a36f"
      },
      "outputs": [
        {
          "name": "stderr",
          "output_type": "stream",
          "text": [
            "/usr/local/lib/python3.10/dist-packages/huggingface_hub/utils/_token.py:88: UserWarning: \n",
            "The secret `HF_TOKEN` does not exist in your Colab secrets.\n",
            "To authenticate with the Hugging Face Hub, create a token in your settings tab (https://huggingface.co/settings/tokens), set it as secret in your Google Colab and restart your session.\n",
            "You will be able to reuse this secret in all of your notebooks.\n",
            "Please note that authentication is recommended but still optional to access public models or datasets.\n",
            "  warnings.warn(\n"
          ]
        },
        {
          "data": {
            "application/vnd.jupyter.widget-view+json": {
              "model_id": "84d14de6accf46be937b421d39f51068",
              "version_major": 2,
              "version_minor": 0
            },
            "text/plain": [
              "tokenizer_config.json:   0%|          | 0.00/2.00 [00:00<?, ?B/s]"
            ]
          },
          "metadata": {},
          "output_type": "display_data"
        },
        {
          "data": {
            "application/vnd.jupyter.widget-view+json": {
              "model_id": "7aa5f93652174e75a9d237355ce06040",
              "version_major": 2,
              "version_minor": 0
            },
            "text/plain": [
              "config.json:   0%|          | 0.00/937 [00:00<?, ?B/s]"
            ]
          },
          "metadata": {},
          "output_type": "display_data"
        },
        {
          "data": {
            "application/vnd.jupyter.widget-view+json": {
              "model_id": "a1b59918242349e2896646fecd3a5048",
              "version_major": 2,
              "version_minor": 0
            },
            "text/plain": [
              "vocab.txt:   0%|          | 0.00/1.22M [00:00<?, ?B/s]"
            ]
          },
          "metadata": {},
          "output_type": "display_data"
        },
        {
          "data": {
            "application/vnd.jupyter.widget-view+json": {
              "model_id": "f92594e08692435bbf13492274acfb7c",
              "version_major": 2,
              "version_minor": 0
            },
            "text/plain": [
              "special_tokens_map.json:   0%|          | 0.00/112 [00:00<?, ?B/s]"
            ]
          },
          "metadata": {},
          "output_type": "display_data"
        }
      ],
      "source": [
        "checkpoint = \"HooshvareLab/bert-base-parsbert-armanner-uncased\"\n",
        "tokenizer = AutoTokenizer.from_pretrained(checkpoint)\n",
        "\n",
        "train_encodings = tokenizer(train_data['sentence'], is_split_into_words=True, return_offsets_mapping=True, padding=True)\n",
        "val_encodings = tokenizer(val_data['sentence'], is_split_into_words=True, return_offsets_mapping=True, padding=True)"
      ]
    },
    {
      "cell_type": "markdown",
      "metadata": {
        "id": "sGu5usVcneqM"
      },
      "source": [
        "## Matching new Tokens and Labels"
      ]
    },
    {
      "cell_type": "markdown",
      "metadata": {
        "id": "gkfsnFb-nV2t"
      },
      "source": [
        "Tokenizers typically utilize subtokens to tokenize sentences and words. To ensure compatibility between these new tokens and our original dataset (tags), we will use token offsets. In a simple approach, we can consider each token as starting from index `0` and ending at an index other than `0`. However, we may still encounter some mismatches. To address this issue, we will add extra `'O'` tags to match the size of our labels."
      ]
    },
    {
      "cell_type": "code",
      "execution_count": null,
      "metadata": {
        "id": "KoRQSZcWS_Ss"
      },
      "outputs": [],
      "source": [
        "def encode_tags(tags, encodings):\n",
        "    labels = [[tag2id[tag] for tag in doc] for doc in tags]\n",
        "    encoded_labels = []\n",
        "    for doc_labels, doc_offset in zip(labels, encodings.offset_mapping):\n",
        "        # create an empty array of -100\n",
        "        doc_enc_labels = np.ones(len(doc_offset), dtype=int) * -100\n",
        "        arr_offset = np.array(doc_offset)\n",
        "        diff = len(arr_offset[(arr_offset[:,0] == 0) & (arr_offset[:,1] != 0)]) - len(doc_labels)\n",
        "        doc_labels += [7] * diff\n",
        "        # set labels whose first offset position is 0 and the second is not 0\n",
        "        doc_enc_labels[(arr_offset[:,0] == 0) & (arr_offset[:,1] != 0)] = doc_labels\n",
        "        encoded_labels.append(doc_enc_labels.tolist())\n",
        "\n",
        "    return encoded_labels\n",
        "\n",
        "train_labels = encode_tags(train_data['tag'], train_encodings)\n",
        "val_labels = encode_tags(val_data['tag'], val_encodings)"
      ]
    },
    {
      "cell_type": "markdown",
      "metadata": {
        "id": "ZAJXymafnmfh"
      },
      "source": [
        "## Creating Torch Dataset (Train, Validation)"
      ]
    },
    {
      "cell_type": "code",
      "execution_count": null,
      "metadata": {
        "id": "FFM7_JPw-dnO"
      },
      "outputs": [],
      "source": [
        "class ARMANDataset(torch.utils.data.Dataset):\n",
        "    def __init__(self, encodings, labels):\n",
        "        self.encodings = encodings\n",
        "        self.labels = labels\n",
        "\n",
        "    def __getitem__(self, idx):\n",
        "        item = {key: torch.tensor(val[idx]) for key, val in self.encodings.items()}\n",
        "        item['labels'] = torch.tensor(self.labels[idx])\n",
        "        return item\n",
        "\n",
        "    def __len__(self):\n",
        "        return len(self.labels)\n",
        "\n",
        "train_encodings.pop(\"offset_mapping\") # we don't want to pass this to the model\n",
        "val_encodings.pop(\"offset_mapping\")\n",
        "\n",
        "train_dataset = ARMANDataset(train_encodings, train_labels)\n",
        "val_dataset = ARMANDataset(val_encodings, val_labels)"
      ]
    },
    {
      "cell_type": "markdown",
      "metadata": {
        "id": "UWhOmYGVntKQ"
      },
      "source": [
        "## Training Model using Trainer"
      ]
    },
    {
      "cell_type": "markdown",
      "metadata": {
        "id": "gLp3oQqHoy1-"
      },
      "source": [
        "Here, we use Huggingface `Trainer` to fine-tune our model. Due to the limited resources of the Colab GPU, we fine-tuned the model for only 10 epochs (approximately 30 minutes). Additionally, to accommodate limited memory, we chose for a batch size of 256 (which is achieved through 16 batch sizes multiplied by 16 accumulation steps)."
      ]
    },
    {
      "cell_type": "code",
      "execution_count": null,
      "metadata": {
        "colab": {
          "base_uri": "https://localhost:8080/",
          "height": 238,
          "referenced_widgets": [
            "5c35f7f3c4fc4f1d9b690cbb4e25fbf0",
            "cbc91b0ca1934bc6a6f6355901ed2fb7",
            "91bb8a8f01a14b95a72fa485413fb9dc",
            "c838d18986ff43d0b146499d85a486e2",
            "19d13fa6930d42aeb4d3e10d60ab4231",
            "f93235136d7640c39c31b768254425eb",
            "b286c24a1cd24f77b67207b96ffd203a",
            "04c4253993f94380ae6bfcc1e5f6561a",
            "4e54e33dab2e4e6385774f3ad876c426",
            "c269e6d18a9d451785d7c21ea359a592",
            "ab8f74f4c43f4fa4bc8b1d3df14ea951"
          ]
        },
        "id": "PpheFp6JwOdF",
        "outputId": "434d9840-77a9-40e1-cb00-40296e6b7366"
      },
      "outputs": [
        {
          "data": {
            "application/vnd.jupyter.widget-view+json": {
              "model_id": "5c35f7f3c4fc4f1d9b690cbb4e25fbf0",
              "version_major": 2,
              "version_minor": 0
            },
            "text/plain": [
              "pytorch_model.bin:   0%|          | 0.00/651M [00:00<?, ?B/s]"
            ]
          },
          "metadata": {},
          "output_type": "display_data"
        },
        {
          "name": "stderr",
          "output_type": "stream",
          "text": [
            "Some weights of the model checkpoint at HooshvareLab/bert-base-parsbert-armanner-uncased were not used when initializing BertForTokenClassification: ['bert.pooler.dense.weight', 'bert.pooler.dense.bias']\n",
            "- This IS expected if you are initializing BertForTokenClassification from the checkpoint of a model trained on another task or with another architecture (e.g. initializing a BertForSequenceClassification model from a BertForPreTraining model).\n",
            "- This IS NOT expected if you are initializing BertForTokenClassification from the checkpoint of a model that you expect to be exactly identical (initializing a BertForSequenceClassification model from a BertForSequenceClassification model).\n"
          ]
        },
        {
          "data": {
            "text/html": [
              "\n",
              "    <div>\n",
              "      \n",
              "      <progress value='106' max='400' style='width:300px; height:20px; vertical-align: middle;'></progress>\n",
              "      [106/400 08:52 < 25:04, 0.20 it/s, Epoch 2.62/10]\n",
              "    </div>\n",
              "    <table border=\"1\" class=\"dataframe\">\n",
              "  <thead>\n",
              " <tr style=\"text-align: left;\">\n",
              "      <th>Step</th>\n",
              "      <th>Training Loss</th>\n",
              "    </tr>\n",
              "  </thead>\n",
              "  <tbody>\n",
              "  </tbody>\n",
              "</table><p>"
            ],
            "text/plain": [
              "<IPython.core.display.HTML object>"
            ]
          },
          "metadata": {},
          "output_type": "display_data"
        },
        {
          "data": {
            "text/html": [
              "\n",
              "    <div>\n",
              "      \n",
              "      <progress value='400' max='400' style='width:300px; height:20px; vertical-align: middle;'></progress>\n",
              "      [400/400 30:31, Epoch 9/10]\n",
              "    </div>\n",
              "    <table border=\"1\" class=\"dataframe\">\n",
              "  <thead>\n",
              " <tr style=\"text-align: left;\">\n",
              "      <th>Step</th>\n",
              "      <th>Training Loss</th>\n",
              "    </tr>\n",
              "  </thead>\n",
              "  <tbody>\n",
              "  </tbody>\n",
              "</table><p>"
            ],
            "text/plain": [
              "<IPython.core.display.HTML object>"
            ]
          },
          "metadata": {},
          "output_type": "display_data"
        }
      ],
      "source": [
        "model = AutoModelForTokenClassification.from_pretrained(checkpoint)\n",
        "model.resize_token_embeddings(len(tokenizer))\n",
        "training_args = TrainingArguments(\n",
        "    output_dir='./results',          # output directory\n",
        "    num_train_epochs=10,              # total number of training epochs\n",
        "    per_device_train_batch_size=16,  # batch size per device during training\n",
        "    per_device_eval_batch_size=16,   # batch size for evaluation\n",
        "    gradient_accumulation_steps=16,\n",
        "    fp16=True\n",
        ")\n",
        "\n",
        "trainer = Trainer(\n",
        "    model=model,                         # the instantiated 🤗 Transformers model to be trained\n",
        "    args=training_args,                  # training arguments, defined above\n",
        "    train_dataset=train_dataset,         # training dataset\n",
        "    eval_dataset=val_dataset             # evaluation dataset\n",
        ")\n",
        "\n",
        "trainer.train()\n",
        "trainer.save_model(\"/content/drive/MyDrive/CurrentData/fine_tuned_model\")"
      ]
    },
    {
      "cell_type": "markdown",
      "metadata": {
        "id": "4D_qqryEny2F"
      },
      "source": [
        "## Evaluation on Test Dataset"
      ]
    },
    {
      "cell_type": "markdown",
      "metadata": {
        "id": "a2_u9rmypdI1"
      },
      "source": [
        "Here we used ParsBERT documentation code (modified) to predict NER tags for our test dataset sentences."
      ]
    },
    {
      "cell_type": "markdown",
      "metadata": {
        "id": "QnVs4tnbobqe"
      },
      "source": [
        "### Predicting Labels"
      ]
    },
    {
      "cell_type": "code",
      "execution_count": 102,
      "metadata": {
        "id": "x5AgwYgBFQ8-"
      },
      "outputs": [],
      "source": [
        "def cleanize(text):\n",
        "    \"\"\"A way to normalize and even clean the text\"\"\"\n",
        "    return normalizer.normalize(text)\n",
        "\n",
        "def parsbert_ner_load_model(model_name):\n",
        "    \"\"\"Load the model\"\"\"\n",
        "    try:\n",
        "        config = AutoConfig.from_pretrained(model_name)\n",
        "        model = TFAutoModelForTokenClassification.from_pretrained(model_name)\n",
        "        labels = list(config.label2id.keys())\n",
        "        return model, labels\n",
        "    except:\n",
        "        return [None] * 2\n",
        "\n",
        "\n",
        "def parsbert_ner(texts, tokenizer, model_name=\"/content/drive/MyDrive/CurrentData/fine_tuned_model\"):\n",
        "    model, labels = parsbert_ner_load_model(model_name)\n",
        "    model.resize_token_embeddings(len(tokenizer))\n",
        "\n",
        "    if not model or not tokenizer or not labels:\n",
        "        return 'Something wrong has been happened!'\n",
        "\n",
        "    output_predictions = []\n",
        "    for sequence in texts:\n",
        "        sequence = cleanize(sequence)\n",
        "        tokens = tokenizer.tokenize(tokenizer.decode(tokenizer.encode(sequence)))\n",
        "        inputs = tokenizer.encode(sequence, return_tensors=\"tf\")\n",
        "        outputs = model(inputs)[0]\n",
        "        predictions = tf.argmax(outputs, axis=2)\n",
        "        predictions = [(token, labels[prediction]) for token, prediction in zip(tokens, predictions[0].numpy())]\n",
        "\n",
        "        output_predictions.append(predictions)\n",
        "    return output_predictions"
      ]
    },
    {
      "cell_type": "code",
      "execution_count": null,
      "metadata": {
        "colab": {
          "base_uri": "https://localhost:8080/"
        },
        "id": "9aTwvOTnHUfZ",
        "outputId": "7a0c4c01-293a-473b-8e25-95b9c9528c08"
      },
      "outputs": [
        {
          "name": "stderr",
          "output_type": "stream",
          "text": [
            "All PyTorch model weights were used when initializing TFBertForTokenClassification.\n",
            "\n",
            "All the weights of TFBertForTokenClassification were initialized from the PyTorch model.\n",
            "If your task is similar to the task the model of the checkpoint was trained on, you can already use TFBertForTokenClassification for predictions without further training.\n"
          ]
        }
      ],
      "source": [
        "texts = [' '.join(sl) for sl in test_data['sentence']]\n",
        "\n",
        "predictions = parsbert_ner(texts, tokenizer)"
      ]
    },
    {
      "cell_type": "code",
      "execution_count": null,
      "metadata": {
        "id": "Nqws-Xbb5-Ir"
      },
      "outputs": [],
      "source": [
        "# with open('/content/drive/MyDrive/CurrentData/ner_tagged_3.pkl', \"wb\") as f:\n",
        "#   pickle.dump(predictions, f)\n",
        "\n",
        "# with open('/content/drive/MyDrive/CurrentData/ner_tagged.pkl', \"rb\") as f:\n",
        "#   predictions = pickle.load(f)"
      ]
    },
    {
      "cell_type": "markdown",
      "metadata": {
        "id": "fYeGBrrRojZt"
      },
      "source": [
        "### Matching new Tokens and Labels"
      ]
    },
    {
      "cell_type": "markdown",
      "metadata": {
        "id": "3NRphR5Pqc0v"
      },
      "source": [
        "To address the mismatch between true label tokens and tokenizer tokens, we attempted another approach. Here we:\n",
        "\n",
        "\n",
        "1.   We create a dictionary mapping tokens to tags.\n",
        "2.   For each predicted NER tag, we search for its corresponding token in our dictionary.\n",
        "3.   If a token is missing, we break it down into its meaningful subtokens and attempt to find them.\n",
        "4.    Additionally, there are further details regarding this approach"
      ]
    },
    {
      "cell_type": "code",
      "execution_count": null,
      "metadata": {
        "id": "FsbJr2kzcr_8"
      },
      "outputs": [],
      "source": [
        "test_data_kv_dict = []\n",
        "for i, sent in enumerate(test_data['sentence']):\n",
        "  curr_dict = {'0':[]}\n",
        "  for j, token in enumerate(sent):\n",
        "    if token == 'ـ':\n",
        "      continue\n",
        "    if token == '0':\n",
        "      curr_dict[token] += [test_data['tag'][i][j]]\n",
        "      continue\n",
        "\n",
        "    token = tokenizer.tokenize(normalizer.normalize(token))\n",
        "    for t in token:\n",
        "      if t in curr_dict:\n",
        "        curr_dict[t] += [test_data['tag'][i][j]]\n",
        "      else:\n",
        "        curr_dict[t] = [test_data['tag'][i][j]]\n",
        "  test_data_kv_dict.append(curr_dict)"
      ]
    },
    {
      "cell_type": "code",
      "execution_count": null,
      "metadata": {
        "id": "CX-7hMsQa6aR"
      },
      "outputs": [],
      "source": [
        "temp = copy.deepcopy(test_data_kv_dict)\n",
        "y_true = []\n",
        "y_pred = []\n",
        "for i, pred in enumerate(predictions):\n",
        "  has_error = False\n",
        "  for j, (token, ner_tag) in enumerate(pred):\n",
        "    if token == '[CLS]' or token == '[SEP]' or token == '[UNK]':\n",
        "      continue\n",
        "    if token == '۰':\n",
        "      token = '0'\n",
        "    try:\n",
        "      if token not in temp[i]:\n",
        "        for k in range(1,len(token)):\n",
        "          first = token[:k]\n",
        "          second = token[k:]\n",
        "          if (first in temp[i] and second in temp[i]):\n",
        "            token = first\n",
        "            break\n",
        "          if (second in temp[i] and first == '##'):\n",
        "            token = second\n",
        "            break\n",
        "        if token not in temp[i]:\n",
        "          for k in range(1,len(token)):\n",
        "            first = token[:k]\n",
        "            if first in temp[i]:\n",
        "              token = first\n",
        "              break\n",
        "\n",
        "      label = temp[i][token].pop(0)\n",
        "    except Exception as error:\n",
        "      if type(error).__name__ == 'IndexError':\n",
        "        for k in range(1,len(token)):\n",
        "          first = token[:k]\n",
        "          second = token[k:]\n",
        "          if (first in temp[i] and second in temp[i]):\n",
        "            token = first\n",
        "            break\n",
        "          if (second in temp[i] and first == '##'):\n",
        "            token = second\n",
        "            break\n",
        "        try:\n",
        "          label = temp[i][token].pop(0)\n",
        "        except Exception as e:\n",
        "          label = None\n",
        "      else:\n",
        "        label = None\n",
        "    if label:\n",
        "      y_true.append(label)\n",
        "      y_pred.append(ner_tag)"
      ]
    },
    {
      "cell_type": "markdown",
      "metadata": {
        "id": "uLMp2TIApCcF"
      },
      "source": [
        "### Calculating Metrics"
      ]
    },
    {
      "cell_type": "code",
      "execution_count": null,
      "metadata": {
        "colab": {
          "base_uri": "https://localhost:8080/",
          "height": 1000
        },
        "id": "ATmyQ11AW5pr",
        "outputId": "6b6a2cdb-bdd8-4a0a-84c5-9c8e23e472d5"
      },
      "outputs": [
        {
          "name": "stdout",
          "output_type": "stream",
          "text": [
            "Accuracy: 0.9965\n",
            "Precision macro: 0.9664\n",
            "Precision micro: 0.9965\n",
            "Recall macro: 0.9728\n",
            "Recall micro: 0.9965\n",
            "F1 macro: 0.9683\n",
            "F1 micro: 0.9965\n"
          ]
        },
        {
          "data": {
            "image/png": "[encoded data removed]",
            "text/plain": [
              "<Figure size 1200x1200 with 2 Axes>"
            ]
          },
          "metadata": {},
          "output_type": "display_data"
        }
      ],
      "source": [
        "print_metrics(y_true, y_pred)"
      ]
    },
    {
      "cell_type": "markdown",
      "metadata": {
        "id": "vwoXLwuWyTmE"
      },
      "source": [
        "### Evaluation on News Dataset"
      ]
    },
    {
      "cell_type": "code",
      "execution_count": 96,
      "metadata": {
        "id": "o-cgZy-DybN7"
      },
      "outputs": [],
      "source": [
        "data = {'sentence': [], 'tag': []}\n",
        "for row in tagged_sentences:\n",
        "  row = np.asarray(row)\n",
        "  data['sentence'].append(' '.join(list(row[:,0])))\n",
        "  data['tag'].append(list(row[:,1]))\n",
        "\n",
        "predictions = parsbert_ner(data['sentence'], tokenizer)"
      ]
    },
    {
      "cell_type": "code",
      "execution_count": 116,
      "metadata": {
        "id": "vxWYUjBEz3Zx"
      },
      "outputs": [],
      "source": [
        "data_kv_dict = []\n",
        "for i, sent in enumerate(data['sentence']):\n",
        "  curr_dict = {'0':[]}\n",
        "  for j, token in enumerate(sent.split()):\n",
        "    if token == 'ـ':\n",
        "      continue\n",
        "    if token == '0':\n",
        "      curr_dict[token] += [data['tag'][i][j]]\n",
        "      continue\n",
        "\n",
        "    token = tokenizer.tokenize(normalizer.normalize(token))\n",
        "    for t in token:\n",
        "      if t in curr_dict:\n",
        "        curr_dict[t] += [data['tag'][i][j]]\n",
        "      else:\n",
        "        curr_dict[t] = [data['tag'][i][j]]\n",
        "  data_kv_dict.append(curr_dict)\n",
        "\n",
        "y_true = []\n",
        "y_pred = []\n",
        "\n",
        "for i, pred in enumerate(predictions):\n",
        "  has_error = False\n",
        "  for j, (token, ner_tag) in enumerate(pred):\n",
        "    if token == '[CLS]' or token == '[SEP]' or token == '[UNK]':\n",
        "      continue\n",
        "    if token == '۰':\n",
        "      token = '0'\n",
        "    try:\n",
        "      if token not in data_kv_dict[i]:\n",
        "        for k in range(1,len(token)):\n",
        "          first = token[:k]\n",
        "          second = token[k:]\n",
        "          if (first in data_kv_dict[i] and second in data_kv_dict[i]):\n",
        "            token = first\n",
        "            break\n",
        "          if (second in data_kv_dict[i] and first == '##'):\n",
        "            token = second\n",
        "            break\n",
        "        if token not in data_kv_dict[i]:\n",
        "          for k in range(1,len(token)):\n",
        "            first = token[:k]\n",
        "            if first in data_kv_dict[i]:\n",
        "              token = first\n",
        "              break\n",
        "\n",
        "      label = data_kv_dict[i][token].pop(0)\n",
        "    except Exception as error:\n",
        "      if type(error).__name__ == 'IndexError':\n",
        "        for k in range(1,len(token)):\n",
        "          first = token[:k]\n",
        "          second = token[k:]\n",
        "          if (first in data_kv_dict[i] and second in data_kv_dict[i]):\n",
        "            token = first\n",
        "            break\n",
        "          if (second in data_kv_dict[i] and first == '##'):\n",
        "            token = second\n",
        "            break\n",
        "        try:\n",
        "          label = data_kv_dict[i][token].pop(0)\n",
        "        except Exception as e:\n",
        "          label = None\n",
        "      else:\n",
        "        label = None\n",
        "    if label:\n",
        "      y_true.append(label)\n",
        "      y_pred.append(ner_tag)"
      ]
    },
    {
      "cell_type": "code",
      "execution_count": 119,
      "metadata": {
        "colab": {
          "base_uri": "https://localhost:8080/",
          "height": 886
        },
        "id": "q_Cl9tVR2OcF",
        "outputId": "f03deebb-379a-4729-f173-346ae5837b98"
      },
      "outputs": [
        {
          "name": "stdout",
          "output_type": "stream",
          "text": [
            "Accuracy: 0.9033\n",
            "Precision macro: 0.3852\n",
            "Precision micro: 0.9033\n",
            "Recall macro: 0.7203\n",
            "Recall micro: 0.9033\n",
            "F1 macro: 0.2933\n",
            "F1 micro: 0.9033\n"
          ]
        },
        {
          "data": {
            "image/png": "[encoded data removed]",
            "text/plain": [
              "<Figure size 1200x1200 with 2 Axes>"
            ]
          },
          "metadata": {},
          "output_type": "display_data"
        }
      ],
      "source": [
        "print_metrics(y_true, y_pred)"
      ]
    },
    {
      "cell_type": "markdown",
      "metadata": {
        "id": "clULN4zZsI1f"
      },
      "source": [
        "We can conclude that, although Transformers exhibited lower accuracy on our test dataset compared to LSTM/CRF, it demonstrates good generalization and yields better results on datasets from different distributions."
      ]
    }
  ],
  "metadata": {
    "colab": {
      "collapsed_sections": [
        "CzRuwLMsyD0G",
        "LVREOXAaz2mn"
      ],
      "provenance": []
    },
    "kernelspec": {
      "display_name": "Python 3",
      "name": "python3"
    },
    "language_info": {
      "name": "python"
    },
    "widgets": {
      "application/vnd.jupyter.widget-state+json": {
        "02ec31c0cdd04cc29bb67d6ffa94e9e6": {
          "model_module": "@jupyter-widgets/controls",
          "model_module_version": "1.5.0",
          "model_name": "DescriptionStyleModel",
          "state": {
            "_model_module": "@jupyter-widgets/controls",
            "_model_module_version": "1.5.0",
            "_model_name": "DescriptionStyleModel",
            "_view_count": null,
            "_view_module": "@jupyter-widgets/base",
            "_view_module_version": "1.2.0",
            "_view_name": "StyleView",
            "description_width": ""
          }
        },
        "04c4253993f94380ae6bfcc1e5f6561a": {
          "model_module": "@jupyter-widgets/base",
          "model_module_version": "1.2.0",
          "model_name": "LayoutModel",
          "state": {
            "_model_module": "@jupyter-widgets/base",
            "_model_module_version": "1.2.0",
            "_model_name": "LayoutModel",
            "_view_count": null,
            "_view_module": "@jupyter-widgets/base",
            "_view_module_version": "1.2.0",
            "_view_name": "LayoutView",
            "align_content": null,
            "align_items": null,
            "align_self": null,
            "border": null,
            "bottom": null,
            "display": null,
            "flex": null,
            "flex_flow": null,
            "grid_area": null,
            "grid_auto_columns": null,
            "grid_auto_flow": null,
            "grid_auto_rows": null,
            "grid_column": null,
            "grid_gap": null,
            "grid_row": null,
            "grid_template_areas": null,
            "grid_template_columns": null,
            "grid_template_rows": null,
            "height": null,
            "justify_content": null,
            "justify_items": null,
            "left": null,
            "margin": null,
            "max_height": null,
            "max_width": null,
            "min_height": null,
            "min_width": null,
            "object_fit": null,
            "object_position": null,
            "order": null,
            "overflow": null,
            "overflow_x": null,
            "overflow_y": null,
            "padding": null,
            "right": null,
            "top": null,
            "visibility": null,
            "width": null
          }
        },
        "0cf0188423fa45b29ff4caa7736b6fe5": {
          "model_module": "@jupyter-widgets/controls",
          "model_module_version": "1.5.0",
          "model_name": "DescriptionStyleModel",
          "state": {
            "_model_module": "@jupyter-widgets/controls",
            "_model_module_version": "1.5.0",
            "_model_name": "DescriptionStyleModel",
            "_view_count": null,
            "_view_module": "@jupyter-widgets/base",
            "_view_module_version": "1.2.0",
            "_view_name": "StyleView",
            "description_width": ""
          }
        },
        "19d13fa6930d42aeb4d3e10d60ab4231": {
          "model_module": "@jupyter-widgets/base",
          "model_module_version": "1.2.0",
          "model_name": "LayoutModel",
          "state": {
            "_model_module": "@jupyter-widgets/base",
            "_model_module_version": "1.2.0",
            "_model_name": "LayoutModel",
            "_view_count": null,
            "_view_module": "@jupyter-widgets/base",
            "_view_module_version": "1.2.0",
            "_view_name": "LayoutView",
            "align_content": null,
            "align_items": null,
            "align_self": null,
            "border": null,
            "bottom": null,
            "display": null,
            "flex": null,
            "flex_flow": null,
            "grid_area": null,
            "grid_auto_columns": null,
            "grid_auto_flow": null,
            "grid_auto_rows": null,
            "grid_column": null,
            "grid_gap": null,
            "grid_row": null,
            "grid_template_areas": null,
            "grid_template_columns": null,
            "grid_template_rows": null,
            "height": null,
            "justify_content": null,
            "justify_items": null,
            "left": null,
            "margin": null,
            "max_height": null,
            "max_width": null,
            "min_height": null,
            "min_width": null,
            "object_fit": null,
            "object_position": null,
            "order": null,
            "overflow": null,
            "overflow_x": null,
            "overflow_y": null,
            "padding": null,
            "right": null,
            "top": null,
            "visibility": null,
            "width": null
          }
        },
        "1aba18f99b824214a7e2f277db0507af": {
          "model_module": "@jupyter-widgets/base",
          "model_module_version": "1.2.0",
          "model_name": "LayoutModel",
          "state": {
            "_model_module": "@jupyter-widgets/base",
            "_model_module_version": "1.2.0",
            "_model_name": "LayoutModel",
            "_view_count": null,
            "_view_module": "@jupyter-widgets/base",
            "_view_module_version": "1.2.0",
            "_view_name": "LayoutView",
            "align_content": null,
            "align_items": null,
            "align_self": null,
            "border": null,
            "bottom": null,
            "display": null,
            "flex": null,
            "flex_flow": null,
            "grid_area": null,
            "grid_auto_columns": null,
            "grid_auto_flow": null,
            "grid_auto_rows": null,
            "grid_column": null,
            "grid_gap": null,
            "grid_row": null,
            "grid_template_areas": null,
            "grid_template_columns": null,
            "grid_template_rows": null,
            "height": null,
            "justify_content": null,
            "justify_items": null,
            "left": null,
            "margin": null,
            "max_height": null,
            "max_width": null,
            "min_height": null,
            "min_width": null,
            "object_fit": null,
            "object_position": null,
            "order": null,
            "overflow": null,
            "overflow_x": null,
            "overflow_y": null,
            "padding": null,
            "right": null,
            "top": null,
            "visibility": null,
            "width": null
          }
        },
        "21812a54efdb4f669765c0a4f2b445e9": {
          "model_module": "@jupyter-widgets/base",
          "model_module_version": "1.2.0",
          "model_name": "LayoutModel",
          "state": {
            "_model_module": "@jupyter-widgets/base",
            "_model_module_version": "1.2.0",
            "_model_name": "LayoutModel",
            "_view_count": null,
            "_view_module": "@jupyter-widgets/base",
            "_view_module_version": "1.2.0",
            "_view_name": "LayoutView",
            "align_content": null,
            "align_items": null,
            "align_self": null,
            "border": null,
            "bottom": null,
            "display": null,
            "flex": null,
            "flex_flow": null,
            "grid_area": null,
            "grid_auto_columns": null,
            "grid_auto_flow": null,
            "grid_auto_rows": null,
            "grid_column": null,
            "grid_gap": null,
            "grid_row": null,
            "grid_template_areas": null,
            "grid_template_columns": null,
            "grid_template_rows": null,
            "height": null,
            "justify_content": null,
            "justify_items": null,
            "left": null,
            "margin": null,
            "max_height": null,
            "max_width": null,
            "min_height": null,
            "min_width": null,
            "object_fit": null,
            "object_position": null,
            "order": null,
            "overflow": null,
            "overflow_x": null,
            "overflow_y": null,
            "padding": null,
            "right": null,
            "top": null,
            "visibility": null,
            "width": null
          }
        },
        "21eed177884f4059b6001a0620cf5cf0": {
          "model_module": "@jupyter-widgets/controls",
          "model_module_version": "1.5.0",
          "model_name": "DescriptionStyleModel",
          "state": {
            "_model_module": "@jupyter-widgets/controls",
            "_model_module_version": "1.5.0",
            "_model_name": "DescriptionStyleModel",
            "_view_count": null,
            "_view_module": "@jupyter-widgets/base",
            "_view_module_version": "1.2.0",
            "_view_name": "StyleView",
            "description_width": ""
          }
        },
        "26086b66ac1a4c69b0cfb234c993e4a5": {
          "model_module": "@jupyter-widgets/controls",
          "model_module_version": "1.5.0",
          "model_name": "DescriptionStyleModel",
          "state": {
            "_model_module": "@jupyter-widgets/controls",
            "_model_module_version": "1.5.0",
            "_model_name": "DescriptionStyleModel",
            "_view_count": null,
            "_view_module": "@jupyter-widgets/base",
            "_view_module_version": "1.2.0",
            "_view_name": "StyleView",
            "description_width": ""
          }
        },
        "29836a181bdf4c23ab2141477b0b697d": {
          "model_module": "@jupyter-widgets/controls",
          "model_module_version": "1.5.0",
          "model_name": "ProgressStyleModel",
          "state": {
            "_model_module": "@jupyter-widgets/controls",
            "_model_module_version": "1.5.0",
            "_model_name": "ProgressStyleModel",
            "_view_count": null,
            "_view_module": "@jupyter-widgets/base",
            "_view_module_version": "1.2.0",
            "_view_name": "StyleView",
            "bar_color": null,
            "description_width": ""
          }
        },
        "2adc3df05dea4bf09188c6d51fa66a0e": {
          "model_module": "@jupyter-widgets/controls",
          "model_module_version": "1.5.0",
          "model_name": "ProgressStyleModel",
          "state": {
            "_model_module": "@jupyter-widgets/controls",
            "_model_module_version": "1.5.0",
            "_model_name": "ProgressStyleModel",
            "_view_count": null,
            "_view_module": "@jupyter-widgets/base",
            "_view_module_version": "1.2.0",
            "_view_name": "StyleView",
            "bar_color": null,
            "description_width": ""
          }
        },
        "3795850f28184d799f0f3b9579cde328": {
          "model_module": "@jupyter-widgets/controls",
          "model_module_version": "1.5.0",
          "model_name": "DescriptionStyleModel",
          "state": {
            "_model_module": "@jupyter-widgets/controls",
            "_model_module_version": "1.5.0",
            "_model_name": "DescriptionStyleModel",
            "_view_count": null,
            "_view_module": "@jupyter-widgets/base",
            "_view_module_version": "1.2.0",
            "_view_name": "StyleView",
            "description_width": ""
          }
        },
        "37ee32486c35433f9be43d577b38e43c": {
          "model_module": "@jupyter-widgets/controls",
          "model_module_version": "1.5.0",
          "model_name": "HTMLModel",
          "state": {
            "_dom_classes": [],
            "_model_module": "@jupyter-widgets/controls",
            "_model_module_version": "1.5.0",
            "_model_name": "HTMLModel",
            "_view_count": null,
            "_view_module": "@jupyter-widgets/controls",
            "_view_module_version": "1.5.0",
            "_view_name": "HTMLView",
            "description": "",
            "description_tooltip": null,
            "layout": "IPY_MODEL_1aba18f99b824214a7e2f277db0507af",
            "placeholder": "​",
            "style": "IPY_MODEL_0cf0188423fa45b29ff4caa7736b6fe5",
            "value": "special_tokens_map.json: 100%"
          }
        },
        "3cba09a0862f4a108b3399da1bc62fa4": {
          "model_module": "@jupyter-widgets/base",
          "model_module_version": "1.2.0",
          "model_name": "LayoutModel",
          "state": {
            "_model_module": "@jupyter-widgets/base",
            "_model_module_version": "1.2.0",
            "_model_name": "LayoutModel",
            "_view_count": null,
            "_view_module": "@jupyter-widgets/base",
            "_view_module_version": "1.2.0",
            "_view_name": "LayoutView",
            "align_content": null,
            "align_items": null,
            "align_self": null,
            "border": null,
            "bottom": null,
            "display": null,
            "flex": null,
            "flex_flow": null,
            "grid_area": null,
            "grid_auto_columns": null,
            "grid_auto_flow": null,
            "grid_auto_rows": null,
            "grid_column": null,
            "grid_gap": null,
            "grid_row": null,
            "grid_template_areas": null,
            "grid_template_columns": null,
            "grid_template_rows": null,
            "height": null,
            "justify_content": null,
            "justify_items": null,
            "left": null,
            "margin": null,
            "max_height": null,
            "max_width": null,
            "min_height": null,
            "min_width": null,
            "object_fit": null,
            "object_position": null,
            "order": null,
            "overflow": null,
            "overflow_x": null,
            "overflow_y": null,
            "padding": null,
            "right": null,
            "top": null,
            "visibility": null,
            "width": null
          }
        },
        "4708bc71175f48cb87d9f2f4934563cf": {
          "model_module": "@jupyter-widgets/controls",
          "model_module_version": "1.5.0",
          "model_name": "HTMLModel",
          "state": {
            "_dom_classes": [],
            "_model_module": "@jupyter-widgets/controls",
            "_model_module_version": "1.5.0",
            "_model_name": "HTMLModel",
            "_view_count": null,
            "_view_module": "@jupyter-widgets/controls",
            "_view_module_version": "1.5.0",
            "_view_name": "HTMLView",
            "description": "",
            "description_tooltip": null,
            "layout": "IPY_MODEL_59020f9944f848d9b8946087e68c69cb",
            "placeholder": "​",
            "style": "IPY_MODEL_26086b66ac1a4c69b0cfb234c993e4a5",
            "value": " 2.00/2.00 [00:00&lt;00:00, 61.2B/s]"
          }
        },
        "4daec1fdfd59443eacfeda5088fc8764": {
          "model_module": "@jupyter-widgets/controls",
          "model_module_version": "1.5.0",
          "model_name": "HTMLModel",
          "state": {
            "_dom_classes": [],
            "_model_module": "@jupyter-widgets/controls",
            "_model_module_version": "1.5.0",
            "_model_name": "HTMLModel",
            "_view_count": null,
            "_view_module": "@jupyter-widgets/controls",
            "_view_module_version": "1.5.0",
            "_view_name": "HTMLView",
            "description": "",
            "description_tooltip": null,
            "layout": "IPY_MODEL_e7a7264178f74fa98815348049d3e65d",
            "placeholder": "​",
            "style": "IPY_MODEL_02ec31c0cdd04cc29bb67d6ffa94e9e6",
            "value": " 1.22M/1.22M [00:00&lt;00:00, 13.8MB/s]"
          }
        },
        "4e54e33dab2e4e6385774f3ad876c426": {
          "model_module": "@jupyter-widgets/controls",
          "model_module_version": "1.5.0",
          "model_name": "ProgressStyleModel",
          "state": {
            "_model_module": "@jupyter-widgets/controls",
            "_model_module_version": "1.5.0",
            "_model_name": "ProgressStyleModel",
            "_view_count": null,
            "_view_module": "@jupyter-widgets/base",
            "_view_module_version": "1.2.0",
            "_view_name": "StyleView",
            "bar_color": null,
            "description_width": ""
          }
        },
        "51fd42ea14e747feb1dd35de6973b47d": {
          "model_module": "@jupyter-widgets/base",
          "model_module_version": "1.2.0",
          "model_name": "LayoutModel",
          "state": {
            "_model_module": "@jupyter-widgets/base",
            "_model_module_version": "1.2.0",
            "_model_name": "LayoutModel",
            "_view_count": null,
            "_view_module": "@jupyter-widgets/base",
            "_view_module_version": "1.2.0",
            "_view_name": "LayoutView",
            "align_content": null,
            "align_items": null,
            "align_self": null,
            "border": null,
            "bottom": null,
            "display": null,
            "flex": null,
            "flex_flow": null,
            "grid_area": null,
            "grid_auto_columns": null,
            "grid_auto_flow": null,
            "grid_auto_rows": null,
            "grid_column": null,
            "grid_gap": null,
            "grid_row": null,
            "grid_template_areas": null,
            "grid_template_columns": null,
            "grid_template_rows": null,
            "height": null,
            "justify_content": null,
            "justify_items": null,
            "left": null,
            "margin": null,
            "max_height": null,
            "max_width": null,
            "min_height": null,
            "min_width": null,
            "object_fit": null,
            "object_position": null,
            "order": null,
            "overflow": null,
            "overflow_x": null,
            "overflow_y": null,
            "padding": null,
            "right": null,
            "top": null,
            "visibility": null,
            "width": null
          }
        },
        "55fdc3ba1e70456ea765fd845e0e2dbe": {
          "model_module": "@jupyter-widgets/base",
          "model_module_version": "1.2.0",
          "model_name": "LayoutModel",
          "state": {
            "_model_module": "@jupyter-widgets/base",
            "_model_module_version": "1.2.0",
            "_model_name": "LayoutModel",
            "_view_count": null,
            "_view_module": "@jupyter-widgets/base",
            "_view_module_version": "1.2.0",
            "_view_name": "LayoutView",
            "align_content": null,
            "align_items": null,
            "align_self": null,
            "border": null,
            "bottom": null,
            "display": null,
            "flex": null,
            "flex_flow": null,
            "grid_area": null,
            "grid_auto_columns": null,
            "grid_auto_flow": null,
            "grid_auto_rows": null,
            "grid_column": null,
            "grid_gap": null,
            "grid_row": null,
            "grid_template_areas": null,
            "grid_template_columns": null,
            "grid_template_rows": null,
            "height": null,
            "justify_content": null,
            "justify_items": null,
            "left": null,
            "margin": null,
            "max_height": null,
            "max_width": null,
            "min_height": null,
            "min_width": null,
            "object_fit": null,
            "object_position": null,
            "order": null,
            "overflow": null,
            "overflow_x": null,
            "overflow_y": null,
            "padding": null,
            "right": null,
            "top": null,
            "visibility": null,
            "width": null
          }
        },
        "59020f9944f848d9b8946087e68c69cb": {
          "model_module": "@jupyter-widgets/base",
          "model_module_version": "1.2.0",
          "model_name": "LayoutModel",
          "state": {
            "_model_module": "@jupyter-widgets/base",
            "_model_module_version": "1.2.0",
            "_model_name": "LayoutModel",
            "_view_count": null,
            "_view_module": "@jupyter-widgets/base",
            "_view_module_version": "1.2.0",
            "_view_name": "LayoutView",
            "align_content": null,
            "align_items": null,
            "align_self": null,
            "border": null,
            "bottom": null,
            "display": null,
            "flex": null,
            "flex_flow": null,
            "grid_area": null,
            "grid_auto_columns": null,
            "grid_auto_flow": null,
            "grid_auto_rows": null,
            "grid_column": null,
            "grid_gap": null,
            "grid_row": null,
            "grid_template_areas": null,
            "grid_template_columns": null,
            "grid_template_rows": null,
            "height": null,
            "justify_content": null,
            "justify_items": null,
            "left": null,
            "margin": null,
            "max_height": null,
            "max_width": null,
            "min_height": null,
            "min_width": null,
            "object_fit": null,
            "object_position": null,
            "order": null,
            "overflow": null,
            "overflow_x": null,
            "overflow_y": null,
            "padding": null,
            "right": null,
            "top": null,
            "visibility": null,
            "width": null
          }
        },
        "5c35f7f3c4fc4f1d9b690cbb4e25fbf0": {
          "model_module": "@jupyter-widgets/controls",
          "model_module_version": "1.5.0",
          "model_name": "HBoxModel",
          "state": {
            "_dom_classes": [],
            "_model_module": "@jupyter-widgets/controls",
            "_model_module_version": "1.5.0",
            "_model_name": "HBoxModel",
            "_view_count": null,
            "_view_module": "@jupyter-widgets/controls",
            "_view_module_version": "1.5.0",
            "_view_name": "HBoxView",
            "box_style": "",
            "children": [
              "IPY_MODEL_cbc91b0ca1934bc6a6f6355901ed2fb7",
              "IPY_MODEL_91bb8a8f01a14b95a72fa485413fb9dc",
              "IPY_MODEL_c838d18986ff43d0b146499d85a486e2"
            ],
            "layout": "IPY_MODEL_19d13fa6930d42aeb4d3e10d60ab4231"
          }
        },
        "619f4b23aff6469fb825279783be5ecb": {
          "model_module": "@jupyter-widgets/controls",
          "model_module_version": "1.5.0",
          "model_name": "ProgressStyleModel",
          "state": {
            "_model_module": "@jupyter-widgets/controls",
            "_model_module_version": "1.5.0",
            "_model_name": "ProgressStyleModel",
            "_view_count": null,
            "_view_module": "@jupyter-widgets/base",
            "_view_module_version": "1.2.0",
            "_view_name": "StyleView",
            "bar_color": null,
            "description_width": ""
          }
        },
        "62e4865180684007bf9aecf52e880a1f": {
          "model_module": "@jupyter-widgets/base",
          "model_module_version": "1.2.0",
          "model_name": "LayoutModel",
          "state": {
            "_model_module": "@jupyter-widgets/base",
            "_model_module_version": "1.2.0",
            "_model_name": "LayoutModel",
            "_view_count": null,
            "_view_module": "@jupyter-widgets/base",
            "_view_module_version": "1.2.0",
            "_view_name": "LayoutView",
            "align_content": null,
            "align_items": null,
            "align_self": null,
            "border": null,
            "bottom": null,
            "display": null,
            "flex": null,
            "flex_flow": null,
            "grid_area": null,
            "grid_auto_columns": null,
            "grid_auto_flow": null,
            "grid_auto_rows": null,
            "grid_column": null,
            "grid_gap": null,
            "grid_row": null,
            "grid_template_areas": null,
            "grid_template_columns": null,
            "grid_template_rows": null,
            "height": null,
            "justify_content": null,
            "justify_items": null,
            "left": null,
            "margin": null,
            "max_height": null,
            "max_width": null,
            "min_height": null,
            "min_width": null,
            "object_fit": null,
            "object_position": null,
            "order": null,
            "overflow": null,
            "overflow_x": null,
            "overflow_y": null,
            "padding": null,
            "right": null,
            "top": null,
            "visibility": null,
            "width": null
          }
        },
        "6a9573da4ad74c56a10886b21ffc9b1f": {
          "model_module": "@jupyter-widgets/controls",
          "model_module_version": "1.5.0",
          "model_name": "HTMLModel",
          "state": {
            "_dom_classes": [],
            "_model_module": "@jupyter-widgets/controls",
            "_model_module_version": "1.5.0",
            "_model_name": "HTMLModel",
            "_view_count": null,
            "_view_module": "@jupyter-widgets/controls",
            "_view_module_version": "1.5.0",
            "_view_name": "HTMLView",
            "description": "",
            "description_tooltip": null,
            "layout": "IPY_MODEL_6cf795bcaa0943fe89658efbc01d9138",
            "placeholder": "​",
            "style": "IPY_MODEL_3795850f28184d799f0f3b9579cde328",
            "value": "vocab.txt: 100%"
          }
        },
        "6cf795bcaa0943fe89658efbc01d9138": {
          "model_module": "@jupyter-widgets/base",
          "model_module_version": "1.2.0",
          "model_name": "LayoutModel",
          "state": {
            "_model_module": "@jupyter-widgets/base",
            "_model_module_version": "1.2.0",
            "_model_name": "LayoutModel",
            "_view_count": null,
            "_view_module": "@jupyter-widgets/base",
            "_view_module_version": "1.2.0",
            "_view_name": "LayoutView",
            "align_content": null,
            "align_items": null,
            "align_self": null,
            "border": null,
            "bottom": null,
            "display": null,
            "flex": null,
            "flex_flow": null,
            "grid_area": null,
            "grid_auto_columns": null,
            "grid_auto_flow": null,
            "grid_auto_rows": null,
            "grid_column": null,
            "grid_gap": null,
            "grid_row": null,
            "grid_template_areas": null,
            "grid_template_columns": null,
            "grid_template_rows": null,
            "height": null,
            "justify_content": null,
            "justify_items": null,
            "left": null,
            "margin": null,
            "max_height": null,
            "max_width": null,
            "min_height": null,
            "min_width": null,
            "object_fit": null,
            "object_position": null,
            "order": null,
            "overflow": null,
            "overflow_x": null,
            "overflow_y": null,
            "padding": null,
            "right": null,
            "top": null,
            "visibility": null,
            "width": null
          }
        },
        "7aa5f93652174e75a9d237355ce06040": {
          "model_module": "@jupyter-widgets/controls",
          "model_module_version": "1.5.0",
          "model_name": "HBoxModel",
          "state": {
            "_dom_classes": [],
            "_model_module": "@jupyter-widgets/controls",
            "_model_module_version": "1.5.0",
            "_model_name": "HBoxModel",
            "_view_count": null,
            "_view_module": "@jupyter-widgets/controls",
            "_view_module_version": "1.5.0",
            "_view_name": "HBoxView",
            "box_style": "",
            "children": [
              "IPY_MODEL_e1a6679519f14628a0ac8b94ccf88ba8",
              "IPY_MODEL_ea28fa05b8d24969a9aebca4dcbafa8b",
              "IPY_MODEL_81fd318d5bbe4dee84cae9f84b09cf25"
            ],
            "layout": "IPY_MODEL_55fdc3ba1e70456ea765fd845e0e2dbe"
          }
        },
        "81fd318d5bbe4dee84cae9f84b09cf25": {
          "model_module": "@jupyter-widgets/controls",
          "model_module_version": "1.5.0",
          "model_name": "HTMLModel",
          "state": {
            "_dom_classes": [],
            "_model_module": "@jupyter-widgets/controls",
            "_model_module_version": "1.5.0",
            "_model_name": "HTMLModel",
            "_view_count": null,
            "_view_module": "@jupyter-widgets/controls",
            "_view_module_version": "1.5.0",
            "_view_name": "HTMLView",
            "description": "",
            "description_tooltip": null,
            "layout": "IPY_MODEL_eb0c40c50eaa4e3ea05dab722c5694c3",
            "placeholder": "​",
            "style": "IPY_MODEL_d9e4609b02774773af62876325d4837f",
            "value": " 937/937 [00:00&lt;00:00, 30.8kB/s]"
          }
        },
        "830c9561a91743d18e547ae914157546": {
          "model_module": "@jupyter-widgets/base",
          "model_module_version": "1.2.0",
          "model_name": "LayoutModel",
          "state": {
            "_model_module": "@jupyter-widgets/base",
            "_model_module_version": "1.2.0",
            "_model_name": "LayoutModel",
            "_view_count": null,
            "_view_module": "@jupyter-widgets/base",
            "_view_module_version": "1.2.0",
            "_view_name": "LayoutView",
            "align_content": null,
            "align_items": null,
            "align_self": null,
            "border": null,
            "bottom": null,
            "display": null,
            "flex": null,
            "flex_flow": null,
            "grid_area": null,
            "grid_auto_columns": null,
            "grid_auto_flow": null,
            "grid_auto_rows": null,
            "grid_column": null,
            "grid_gap": null,
            "grid_row": null,
            "grid_template_areas": null,
            "grid_template_columns": null,
            "grid_template_rows": null,
            "height": null,
            "justify_content": null,
            "justify_items": null,
            "left": null,
            "margin": null,
            "max_height": null,
            "max_width": null,
            "min_height": null,
            "min_width": null,
            "object_fit": null,
            "object_position": null,
            "order": null,
            "overflow": null,
            "overflow_x": null,
            "overflow_y": null,
            "padding": null,
            "right": null,
            "top": null,
            "visibility": null,
            "width": null
          }
        },
        "84d14de6accf46be937b421d39f51068": {
          "model_module": "@jupyter-widgets/controls",
          "model_module_version": "1.5.0",
          "model_name": "HBoxModel",
          "state": {
            "_dom_classes": [],
            "_model_module": "@jupyter-widgets/controls",
            "_model_module_version": "1.5.0",
            "_model_name": "HBoxModel",
            "_view_count": null,
            "_view_module": "@jupyter-widgets/controls",
            "_view_module_version": "1.5.0",
            "_view_name": "HBoxView",
            "box_style": "",
            "children": [
              "IPY_MODEL_bcc653e148c1443c8969de5e9a1f10fd",
              "IPY_MODEL_db8202a942684764adcf743c6d561e65",
              "IPY_MODEL_4708bc71175f48cb87d9f2f4934563cf"
            ],
            "layout": "IPY_MODEL_830c9561a91743d18e547ae914157546"
          }
        },
        "91bb8a8f01a14b95a72fa485413fb9dc": {
          "model_module": "@jupyter-widgets/controls",
          "model_module_version": "1.5.0",
          "model_name": "FloatProgressModel",
          "state": {
            "_dom_classes": [],
            "_model_module": "@jupyter-widgets/controls",
            "_model_module_version": "1.5.0",
            "_model_name": "FloatProgressModel",
            "_view_count": null,
            "_view_module": "@jupyter-widgets/controls",
            "_view_module_version": "1.5.0",
            "_view_name": "ProgressView",
            "bar_style": "success",
            "description": "",
            "description_tooltip": null,
            "layout": "IPY_MODEL_04c4253993f94380ae6bfcc1e5f6561a",
            "max": 651453581,
            "min": 0,
            "orientation": "horizontal",
            "style": "IPY_MODEL_4e54e33dab2e4e6385774f3ad876c426",
            "value": 651453581
          }
        },
        "96a2d494e4d646c191c142cb59ba43c3": {
          "model_module": "@jupyter-widgets/base",
          "model_module_version": "1.2.0",
          "model_name": "LayoutModel",
          "state": {
            "_model_module": "@jupyter-widgets/base",
            "_model_module_version": "1.2.0",
            "_model_name": "LayoutModel",
            "_view_count": null,
            "_view_module": "@jupyter-widgets/base",
            "_view_module_version": "1.2.0",
            "_view_name": "LayoutView",
            "align_content": null,
            "align_items": null,
            "align_self": null,
            "border": null,
            "bottom": null,
            "display": null,
            "flex": null,
            "flex_flow": null,
            "grid_area": null,
            "grid_auto_columns": null,
            "grid_auto_flow": null,
            "grid_auto_rows": null,
            "grid_column": null,
            "grid_gap": null,
            "grid_row": null,
            "grid_template_areas": null,
            "grid_template_columns": null,
            "grid_template_rows": null,
            "height": null,
            "justify_content": null,
            "justify_items": null,
            "left": null,
            "margin": null,
            "max_height": null,
            "max_width": null,
            "min_height": null,
            "min_width": null,
            "object_fit": null,
            "object_position": null,
            "order": null,
            "overflow": null,
            "overflow_x": null,
            "overflow_y": null,
            "padding": null,
            "right": null,
            "top": null,
            "visibility": null,
            "width": null
          }
        },
        "96c9c593551e4276a8d0a62259f63857": {
          "model_module": "@jupyter-widgets/controls",
          "model_module_version": "1.5.0",
          "model_name": "DescriptionStyleModel",
          "state": {
            "_model_module": "@jupyter-widgets/controls",
            "_model_module_version": "1.5.0",
            "_model_name": "DescriptionStyleModel",
            "_view_count": null,
            "_view_module": "@jupyter-widgets/base",
            "_view_module_version": "1.2.0",
            "_view_name": "StyleView",
            "description_width": ""
          }
        },
        "970b024ba7da4314b6daf7df5705d886": {
          "model_module": "@jupyter-widgets/controls",
          "model_module_version": "1.5.0",
          "model_name": "ProgressStyleModel",
          "state": {
            "_model_module": "@jupyter-widgets/controls",
            "_model_module_version": "1.5.0",
            "_model_name": "ProgressStyleModel",
            "_view_count": null,
            "_view_module": "@jupyter-widgets/base",
            "_view_module_version": "1.2.0",
            "_view_name": "StyleView",
            "bar_color": null,
            "description_width": ""
          }
        },
        "9f999ffa3c73429ca571731c6623fa35": {
          "model_module": "@jupyter-widgets/controls",
          "model_module_version": "1.5.0",
          "model_name": "FloatProgressModel",
          "state": {
            "_dom_classes": [],
            "_model_module": "@jupyter-widgets/controls",
            "_model_module_version": "1.5.0",
            "_model_name": "FloatProgressModel",
            "_view_count": null,
            "_view_module": "@jupyter-widgets/controls",
            "_view_module_version": "1.5.0",
            "_view_name": "ProgressView",
            "bar_style": "success",
            "description": "",
            "description_tooltip": null,
            "layout": "IPY_MODEL_62e4865180684007bf9aecf52e880a1f",
            "max": 1215509,
            "min": 0,
            "orientation": "horizontal",
            "style": "IPY_MODEL_29836a181bdf4c23ab2141477b0b697d",
            "value": 1215509
          }
        },
        "a1b59918242349e2896646fecd3a5048": {
          "model_module": "@jupyter-widgets/controls",
          "model_module_version": "1.5.0",
          "model_name": "HBoxModel",
          "state": {
            "_dom_classes": [],
            "_model_module": "@jupyter-widgets/controls",
            "_model_module_version": "1.5.0",
            "_model_name": "HBoxModel",
            "_view_count": null,
            "_view_module": "@jupyter-widgets/controls",
            "_view_module_version": "1.5.0",
            "_view_name": "HBoxView",
            "box_style": "",
            "children": [
              "IPY_MODEL_6a9573da4ad74c56a10886b21ffc9b1f",
              "IPY_MODEL_9f999ffa3c73429ca571731c6623fa35",
              "IPY_MODEL_4daec1fdfd59443eacfeda5088fc8764"
            ],
            "layout": "IPY_MODEL_21812a54efdb4f669765c0a4f2b445e9"
          }
        },
        "a2cfc163df464eeca5be335485b726bc": {
          "model_module": "@jupyter-widgets/controls",
          "model_module_version": "1.5.0",
          "model_name": "FloatProgressModel",
          "state": {
            "_dom_classes": [],
            "_model_module": "@jupyter-widgets/controls",
            "_model_module_version": "1.5.0",
            "_model_name": "FloatProgressModel",
            "_view_count": null,
            "_view_module": "@jupyter-widgets/controls",
            "_view_module_version": "1.5.0",
            "_view_name": "ProgressView",
            "bar_style": "success",
            "description": "",
            "description_tooltip": null,
            "layout": "IPY_MODEL_dc8029cab13a44c19298cded43f973f6",
            "max": 112,
            "min": 0,
            "orientation": "horizontal",
            "style": "IPY_MODEL_619f4b23aff6469fb825279783be5ecb",
            "value": 112
          }
        },
        "a414f4ebbe4b481a8531392b6ede7260": {
          "model_module": "@jupyter-widgets/base",
          "model_module_version": "1.2.0",
          "model_name": "LayoutModel",
          "state": {
            "_model_module": "@jupyter-widgets/base",
            "_model_module_version": "1.2.0",
            "_model_name": "LayoutModel",
            "_view_count": null,
            "_view_module": "@jupyter-widgets/base",
            "_view_module_version": "1.2.0",
            "_view_name": "LayoutView",
            "align_content": null,
            "align_items": null,
            "align_self": null,
            "border": null,
            "bottom": null,
            "display": null,
            "flex": null,
            "flex_flow": null,
            "grid_area": null,
            "grid_auto_columns": null,
            "grid_auto_flow": null,
            "grid_auto_rows": null,
            "grid_column": null,
            "grid_gap": null,
            "grid_row": null,
            "grid_template_areas": null,
            "grid_template_columns": null,
            "grid_template_rows": null,
            "height": null,
            "justify_content": null,
            "justify_items": null,
            "left": null,
            "margin": null,
            "max_height": null,
            "max_width": null,
            "min_height": null,
            "min_width": null,
            "object_fit": null,
            "object_position": null,
            "order": null,
            "overflow": null,
            "overflow_x": null,
            "overflow_y": null,
            "padding": null,
            "right": null,
            "top": null,
            "visibility": null,
            "width": null
          }
        },
        "ab8f74f4c43f4fa4bc8b1d3df14ea951": {
          "model_module": "@jupyter-widgets/controls",
          "model_module_version": "1.5.0",
          "model_name": "DescriptionStyleModel",
          "state": {
            "_model_module": "@jupyter-widgets/controls",
            "_model_module_version": "1.5.0",
            "_model_name": "DescriptionStyleModel",
            "_view_count": null,
            "_view_module": "@jupyter-widgets/base",
            "_view_module_version": "1.2.0",
            "_view_name": "StyleView",
            "description_width": ""
          }
        },
        "ae3ec6e53a2e45da987e9f5d0cd5489e": {
          "model_module": "@jupyter-widgets/controls",
          "model_module_version": "1.5.0",
          "model_name": "HTMLModel",
          "state": {
            "_dom_classes": [],
            "_model_module": "@jupyter-widgets/controls",
            "_model_module_version": "1.5.0",
            "_model_name": "HTMLModel",
            "_view_count": null,
            "_view_module": "@jupyter-widgets/controls",
            "_view_module_version": "1.5.0",
            "_view_name": "HTMLView",
            "description": "",
            "description_tooltip": null,
            "layout": "IPY_MODEL_c366d32300fa4e119c58bddcffd7bdb1",
            "placeholder": "​",
            "style": "IPY_MODEL_21eed177884f4059b6001a0620cf5cf0",
            "value": " 112/112 [00:00&lt;00:00, 7.14kB/s]"
          }
        },
        "b286c24a1cd24f77b67207b96ffd203a": {
          "model_module": "@jupyter-widgets/controls",
          "model_module_version": "1.5.0",
          "model_name": "DescriptionStyleModel",
          "state": {
            "_model_module": "@jupyter-widgets/controls",
            "_model_module_version": "1.5.0",
            "_model_name": "DescriptionStyleModel",
            "_view_count": null,
            "_view_module": "@jupyter-widgets/base",
            "_view_module_version": "1.2.0",
            "_view_name": "StyleView",
            "description_width": ""
          }
        },
        "bcc653e148c1443c8969de5e9a1f10fd": {
          "model_module": "@jupyter-widgets/controls",
          "model_module_version": "1.5.0",
          "model_name": "HTMLModel",
          "state": {
            "_dom_classes": [],
            "_model_module": "@jupyter-widgets/controls",
            "_model_module_version": "1.5.0",
            "_model_name": "HTMLModel",
            "_view_count": null,
            "_view_module": "@jupyter-widgets/controls",
            "_view_module_version": "1.5.0",
            "_view_name": "HTMLView",
            "description": "",
            "description_tooltip": null,
            "layout": "IPY_MODEL_96a2d494e4d646c191c142cb59ba43c3",
            "placeholder": "​",
            "style": "IPY_MODEL_ea5bfd396bed4ee98bea3de184b36fcd",
            "value": "tokenizer_config.json: 100%"
          }
        },
        "c269e6d18a9d451785d7c21ea359a592": {
          "model_module": "@jupyter-widgets/base",
          "model_module_version": "1.2.0",
          "model_name": "LayoutModel",
          "state": {
            "_model_module": "@jupyter-widgets/base",
            "_model_module_version": "1.2.0",
            "_model_name": "LayoutModel",
            "_view_count": null,
            "_view_module": "@jupyter-widgets/base",
            "_view_module_version": "1.2.0",
            "_view_name": "LayoutView",
            "align_content": null,
            "align_items": null,
            "align_self": null,
            "border": null,
            "bottom": null,
            "display": null,
            "flex": null,
            "flex_flow": null,
            "grid_area": null,
            "grid_auto_columns": null,
            "grid_auto_flow": null,
            "grid_auto_rows": null,
            "grid_column": null,
            "grid_gap": null,
            "grid_row": null,
            "grid_template_areas": null,
            "grid_template_columns": null,
            "grid_template_rows": null,
            "height": null,
            "justify_content": null,
            "justify_items": null,
            "left": null,
            "margin": null,
            "max_height": null,
            "max_width": null,
            "min_height": null,
            "min_width": null,
            "object_fit": null,
            "object_position": null,
            "order": null,
            "overflow": null,
            "overflow_x": null,
            "overflow_y": null,
            "padding": null,
            "right": null,
            "top": null,
            "visibility": null,
            "width": null
          }
        },
        "c366d32300fa4e119c58bddcffd7bdb1": {
          "model_module": "@jupyter-widgets/base",
          "model_module_version": "1.2.0",
          "model_name": "LayoutModel",
          "state": {
            "_model_module": "@jupyter-widgets/base",
            "_model_module_version": "1.2.0",
            "_model_name": "LayoutModel",
            "_view_count": null,
            "_view_module": "@jupyter-widgets/base",
            "_view_module_version": "1.2.0",
            "_view_name": "LayoutView",
            "align_content": null,
            "align_items": null,
            "align_self": null,
            "border": null,
            "bottom": null,
            "display": null,
            "flex": null,
            "flex_flow": null,
            "grid_area": null,
            "grid_auto_columns": null,
            "grid_auto_flow": null,
            "grid_auto_rows": null,
            "grid_column": null,
            "grid_gap": null,
            "grid_row": null,
            "grid_template_areas": null,
            "grid_template_columns": null,
            "grid_template_rows": null,
            "height": null,
            "justify_content": null,
            "justify_items": null,
            "left": null,
            "margin": null,
            "max_height": null,
            "max_width": null,
            "min_height": null,
            "min_width": null,
            "object_fit": null,
            "object_position": null,
            "order": null,
            "overflow": null,
            "overflow_x": null,
            "overflow_y": null,
            "padding": null,
            "right": null,
            "top": null,
            "visibility": null,
            "width": null
          }
        },
        "c838d18986ff43d0b146499d85a486e2": {
          "model_module": "@jupyter-widgets/controls",
          "model_module_version": "1.5.0",
          "model_name": "HTMLModel",
          "state": {
            "_dom_classes": [],
            "_model_module": "@jupyter-widgets/controls",
            "_model_module_version": "1.5.0",
            "_model_name": "HTMLModel",
            "_view_count": null,
            "_view_module": "@jupyter-widgets/controls",
            "_view_module_version": "1.5.0",
            "_view_name": "HTMLView",
            "description": "",
            "description_tooltip": null,
            "layout": "IPY_MODEL_c269e6d18a9d451785d7c21ea359a592",
            "placeholder": "​",
            "style": "IPY_MODEL_ab8f74f4c43f4fa4bc8b1d3df14ea951",
            "value": " 651M/651M [00:06&lt;00:00, 169MB/s]"
          }
        },
        "cbc91b0ca1934bc6a6f6355901ed2fb7": {
          "model_module": "@jupyter-widgets/controls",
          "model_module_version": "1.5.0",
          "model_name": "HTMLModel",
          "state": {
            "_dom_classes": [],
            "_model_module": "@jupyter-widgets/controls",
            "_model_module_version": "1.5.0",
            "_model_name": "HTMLModel",
            "_view_count": null,
            "_view_module": "@jupyter-widgets/controls",
            "_view_module_version": "1.5.0",
            "_view_name": "HTMLView",
            "description": "",
            "description_tooltip": null,
            "layout": "IPY_MODEL_f93235136d7640c39c31b768254425eb",
            "placeholder": "​",
            "style": "IPY_MODEL_b286c24a1cd24f77b67207b96ffd203a",
            "value": "pytorch_model.bin: 100%"
          }
        },
        "d9e4609b02774773af62876325d4837f": {
          "model_module": "@jupyter-widgets/controls",
          "model_module_version": "1.5.0",
          "model_name": "DescriptionStyleModel",
          "state": {
            "_model_module": "@jupyter-widgets/controls",
            "_model_module_version": "1.5.0",
            "_model_name": "DescriptionStyleModel",
            "_view_count": null,
            "_view_module": "@jupyter-widgets/base",
            "_view_module_version": "1.2.0",
            "_view_name": "StyleView",
            "description_width": ""
          }
        },
        "db8202a942684764adcf743c6d561e65": {
          "model_module": "@jupyter-widgets/controls",
          "model_module_version": "1.5.0",
          "model_name": "FloatProgressModel",
          "state": {
            "_dom_classes": [],
            "_model_module": "@jupyter-widgets/controls",
            "_model_module_version": "1.5.0",
            "_model_name": "FloatProgressModel",
            "_view_count": null,
            "_view_module": "@jupyter-widgets/controls",
            "_view_module_version": "1.5.0",
            "_view_name": "ProgressView",
            "bar_style": "success",
            "description": "",
            "description_tooltip": null,
            "layout": "IPY_MODEL_dc5a38bd5bd844d393fe3d737fa549ce",
            "max": 2,
            "min": 0,
            "orientation": "horizontal",
            "style": "IPY_MODEL_2adc3df05dea4bf09188c6d51fa66a0e",
            "value": 2
          }
        },
        "dc5a38bd5bd844d393fe3d737fa549ce": {
          "model_module": "@jupyter-widgets/base",
          "model_module_version": "1.2.0",
          "model_name": "LayoutModel",
          "state": {
            "_model_module": "@jupyter-widgets/base",
            "_model_module_version": "1.2.0",
            "_model_name": "LayoutModel",
            "_view_count": null,
            "_view_module": "@jupyter-widgets/base",
            "_view_module_version": "1.2.0",
            "_view_name": "LayoutView",
            "align_content": null,
            "align_items": null,
            "align_self": null,
            "border": null,
            "bottom": null,
            "display": null,
            "flex": null,
            "flex_flow": null,
            "grid_area": null,
            "grid_auto_columns": null,
            "grid_auto_flow": null,
            "grid_auto_rows": null,
            "grid_column": null,
            "grid_gap": null,
            "grid_row": null,
            "grid_template_areas": null,
            "grid_template_columns": null,
            "grid_template_rows": null,
            "height": null,
            "justify_content": null,
            "justify_items": null,
            "left": null,
            "margin": null,
            "max_height": null,
            "max_width": null,
            "min_height": null,
            "min_width": null,
            "object_fit": null,
            "object_position": null,
            "order": null,
            "overflow": null,
            "overflow_x": null,
            "overflow_y": null,
            "padding": null,
            "right": null,
            "top": null,
            "visibility": null,
            "width": null
          }
        },
        "dc8029cab13a44c19298cded43f973f6": {
          "model_module": "@jupyter-widgets/base",
          "model_module_version": "1.2.0",
          "model_name": "LayoutModel",
          "state": {
            "_model_module": "@jupyter-widgets/base",
            "_model_module_version": "1.2.0",
            "_model_name": "LayoutModel",
            "_view_count": null,
            "_view_module": "@jupyter-widgets/base",
            "_view_module_version": "1.2.0",
            "_view_name": "LayoutView",
            "align_content": null,
            "align_items": null,
            "align_self": null,
            "border": null,
            "bottom": null,
            "display": null,
            "flex": null,
            "flex_flow": null,
            "grid_area": null,
            "grid_auto_columns": null,
            "grid_auto_flow": null,
            "grid_auto_rows": null,
            "grid_column": null,
            "grid_gap": null,
            "grid_row": null,
            "grid_template_areas": null,
            "grid_template_columns": null,
            "grid_template_rows": null,
            "height": null,
            "justify_content": null,
            "justify_items": null,
            "left": null,
            "margin": null,
            "max_height": null,
            "max_width": null,
            "min_height": null,
            "min_width": null,
            "object_fit": null,
            "object_position": null,
            "order": null,
            "overflow": null,
            "overflow_x": null,
            "overflow_y": null,
            "padding": null,
            "right": null,
            "top": null,
            "visibility": null,
            "width": null
          }
        },
        "e1a6679519f14628a0ac8b94ccf88ba8": {
          "model_module": "@jupyter-widgets/controls",
          "model_module_version": "1.5.0",
          "model_name": "HTMLModel",
          "state": {
            "_dom_classes": [],
            "_model_module": "@jupyter-widgets/controls",
            "_model_module_version": "1.5.0",
            "_model_name": "HTMLModel",
            "_view_count": null,
            "_view_module": "@jupyter-widgets/controls",
            "_view_module_version": "1.5.0",
            "_view_name": "HTMLView",
            "description": "",
            "description_tooltip": null,
            "layout": "IPY_MODEL_3cba09a0862f4a108b3399da1bc62fa4",
            "placeholder": "​",
            "style": "IPY_MODEL_96c9c593551e4276a8d0a62259f63857",
            "value": "config.json: 100%"
          }
        },
        "e7a7264178f74fa98815348049d3e65d": {
          "model_module": "@jupyter-widgets/base",
          "model_module_version": "1.2.0",
          "model_name": "LayoutModel",
          "state": {
            "_model_module": "@jupyter-widgets/base",
            "_model_module_version": "1.2.0",
            "_model_name": "LayoutModel",
            "_view_count": null,
            "_view_module": "@jupyter-widgets/base",
            "_view_module_version": "1.2.0",
            "_view_name": "LayoutView",
            "align_content": null,
            "align_items": null,
            "align_self": null,
            "border": null,
            "bottom": null,
            "display": null,
            "flex": null,
            "flex_flow": null,
            "grid_area": null,
            "grid_auto_columns": null,
            "grid_auto_flow": null,
            "grid_auto_rows": null,
            "grid_column": null,
            "grid_gap": null,
            "grid_row": null,
            "grid_template_areas": null,
            "grid_template_columns": null,
            "grid_template_rows": null,
            "height": null,
            "justify_content": null,
            "justify_items": null,
            "left": null,
            "margin": null,
            "max_height": null,
            "max_width": null,
            "min_height": null,
            "min_width": null,
            "object_fit": null,
            "object_position": null,
            "order": null,
            "overflow": null,
            "overflow_x": null,
            "overflow_y": null,
            "padding": null,
            "right": null,
            "top": null,
            "visibility": null,
            "width": null
          }
        },
        "ea28fa05b8d24969a9aebca4dcbafa8b": {
          "model_module": "@jupyter-widgets/controls",
          "model_module_version": "1.5.0",
          "model_name": "FloatProgressModel",
          "state": {
            "_dom_classes": [],
            "_model_module": "@jupyter-widgets/controls",
            "_model_module_version": "1.5.0",
            "_model_name": "FloatProgressModel",
            "_view_count": null,
            "_view_module": "@jupyter-widgets/controls",
            "_view_module_version": "1.5.0",
            "_view_name": "ProgressView",
            "bar_style": "success",
            "description": "",
            "description_tooltip": null,
            "layout": "IPY_MODEL_a414f4ebbe4b481a8531392b6ede7260",
            "max": 937,
            "min": 0,
            "orientation": "horizontal",
            "style": "IPY_MODEL_970b024ba7da4314b6daf7df5705d886",
            "value": 937
          }
        },
        "ea5bfd396bed4ee98bea3de184b36fcd": {
          "model_module": "@jupyter-widgets/controls",
          "model_module_version": "1.5.0",
          "model_name": "DescriptionStyleModel",
          "state": {
            "_model_module": "@jupyter-widgets/controls",
            "_model_module_version": "1.5.0",
            "_model_name": "DescriptionStyleModel",
            "_view_count": null,
            "_view_module": "@jupyter-widgets/base",
            "_view_module_version": "1.2.0",
            "_view_name": "StyleView",
            "description_width": ""
          }
        },
        "eb0c40c50eaa4e3ea05dab722c5694c3": {
          "model_module": "@jupyter-widgets/base",
          "model_module_version": "1.2.0",
          "model_name": "LayoutModel",
          "state": {
            "_model_module": "@jupyter-widgets/base",
            "_model_module_version": "1.2.0",
            "_model_name": "LayoutModel",
            "_view_count": null,
            "_view_module": "@jupyter-widgets/base",
            "_view_module_version": "1.2.0",
            "_view_name": "LayoutView",
            "align_content": null,
            "align_items": null,
            "align_self": null,
            "border": null,
            "bottom": null,
            "display": null,
            "flex": null,
            "flex_flow": null,
            "grid_area": null,
            "grid_auto_columns": null,
            "grid_auto_flow": null,
            "grid_auto_rows": null,
            "grid_column": null,
            "grid_gap": null,
            "grid_row": null,
            "grid_template_areas": null,
            "grid_template_columns": null,
            "grid_template_rows": null,
            "height": null,
            "justify_content": null,
            "justify_items": null,
            "left": null,
            "margin": null,
            "max_height": null,
            "max_width": null,
            "min_height": null,
            "min_width": null,
            "object_fit": null,
            "object_position": null,
            "order": null,
            "overflow": null,
            "overflow_x": null,
            "overflow_y": null,
            "padding": null,
            "right": null,
            "top": null,
            "visibility": null,
            "width": null
          }
        },
        "f92594e08692435bbf13492274acfb7c": {
          "model_module": "@jupyter-widgets/controls",
          "model_module_version": "1.5.0",
          "model_name": "HBoxModel",
          "state": {
            "_dom_classes": [],
            "_model_module": "@jupyter-widgets/controls",
            "_model_module_version": "1.5.0",
            "_model_name": "HBoxModel",
            "_view_count": null,
            "_view_module": "@jupyter-widgets/controls",
            "_view_module_version": "1.5.0",
            "_view_name": "HBoxView",
            "box_style": "",
            "children": [
              "IPY_MODEL_37ee32486c35433f9be43d577b38e43c",
              "IPY_MODEL_a2cfc163df464eeca5be335485b726bc",
              "IPY_MODEL_ae3ec6e53a2e45da987e9f5d0cd5489e"
            ],
            "layout": "IPY_MODEL_51fd42ea14e747feb1dd35de6973b47d"
          }
        },
        "f93235136d7640c39c31b768254425eb": {
          "model_module": "@jupyter-widgets/base",
          "model_module_version": "1.2.0",
          "model_name": "LayoutModel",
          "state": {
            "_model_module": "@jupyter-widgets/base",
            "_model_module_version": "1.2.0",
            "_model_name": "LayoutModel",
            "_view_count": null,
            "_view_module": "@jupyter-widgets/base",
            "_view_module_version": "1.2.0",
            "_view_name": "LayoutView",
            "align_content": null,
            "align_items": null,
            "align_self": null,
            "border": null,
            "bottom": null,
            "display": null,
            "flex": null,
            "flex_flow": null,
            "grid_area": null,
            "grid_auto_columns": null,
            "grid_auto_flow": null,
            "grid_auto_rows": null,
            "grid_column": null,
            "grid_gap": null,
            "grid_row": null,
            "grid_template_areas": null,
            "grid_template_columns": null,
            "grid_template_rows": null,
            "height": null,
            "justify_content": null,
            "justify_items": null,
            "left": null,
            "margin": null,
            "max_height": null,
            "max_width": null,
            "min_height": null,
            "min_width": null,
            "object_fit": null,
            "object_position": null,
            "order": null,
            "overflow": null,
            "overflow_x": null,
            "overflow_y": null,
            "padding": null,
            "right": null,
            "top": null,
            "visibility": null,
            "width": null
          }
        }
      }
    }
  },
  "nbformat": 4,
  "nbformat_minor": 0
}
