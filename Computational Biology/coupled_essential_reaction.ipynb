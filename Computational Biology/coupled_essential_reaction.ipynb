{
 "cells": [
  {
   "cell_type": "markdown",
   "id": "afea8e6e",
   "metadata": {},
   "source": [
    "<font face=\"Times New Roman\">\n",
    "<div dir=ltr align=center>\n",
    "<font color=3C99D size=6>\n",
    "    Essential and Coupled Reactions"
   ]
  },
  {
   "cell_type": "code",
   "execution_count": null,
   "id": "105b90ea",
   "metadata": {},
   "outputs": [],
   "source": [
    "using COBREXA\n",
    "import HiGHS\n",
    "\n",
    "model = load_model(StandardModel, \"./Models/e_coli_core.json\")\n",
    "blocked_reaction = [\"EX_fru_e\", \"EX_fum_e\", \"EX_gln__L_e\", \"EX_mal__L_e\", \"FRUpts2\", \"FUMt2_2\", \"GLNabc\", \"MALt2_2\"]\n",
    "\n",
    "# removing blocked reactions from model\n",
    "remove_reactions!(model, blocked_reaction)"
   ]
  },
  {
   "cell_type": "markdown",
   "id": "4aee9b11",
   "metadata": {},
   "source": [
    "### Coupling Reactions"
   ]
  },
  {
   "cell_type": "code",
   "execution_count": null,
   "id": "763bd979",
   "metadata": {},
   "outputs": [],
   "source": [
    "rxns = [\"ACONTb\", \"GAPD\", \"CS\", \"PGK\", \"ENO\", \"GLCpts\", \"PGM\", \"EX_glc__D_e\", \"BIOMASS_Ecoli_core_w_GAM\", \"ACONTa\"]\n",
    "rxns_index = []\n",
    "for r in rxns\n",
    "    index = findfirst(isequal(r), reactions(model))\n",
    "    push!(rxns_index, index)\n",
    "end"
   ]
  },
  {
   "cell_type": "code",
   "execution_count": null,
   "id": "fd28d9d9",
   "metadata": {},
   "outputs": [],
   "source": [
    "rxns_rev = []\n",
    "for r in rxns_index\n",
    "    if lower_bounds(model)[r] < 0\n",
    "        push!(rxns_rev, r)\n",
    "    end\n",
    "end"
   ]
  },
  {
   "cell_type": "markdown",
   "id": "fcadbec2",
   "metadata": {},
   "source": [
    "### Making Homogeneous"
   ]
  },
  {
   "cell_type": "code",
   "execution_count": null,
   "id": "ef605c0a",
   "metadata": {},
   "outputs": [],
   "source": [
    "M = Int(1e6)\n",
    "for r in reactions(model)\n",
    "    if model.reactions[r].lb < 0\n",
    "        model.reactions[r].lb = -M\n",
    "        model.reactions[r].ub = M\n",
    "    else\n",
    "        model.reactions[r].lb = 0\n",
    "        model.reactions[r].ub = M\n",
    "    end\n",
    "end"
   ]
  },
  {
   "cell_type": "markdown",
   "id": "b6da0043",
   "metadata": {},
   "source": [
    "#### Wildtype Biomass"
   ]
  },
  {
   "cell_type": "code",
   "execution_count": null,
   "id": "52c49fba",
   "metadata": {},
   "outputs": [],
   "source": [
    "solved = flux_dict(model, flux_balance_analysis(model, HiGHS.Optimizer; modifications=[silence]))\n",
    "wt_biomass = solved[\"BIOMASS_Ecoli_core_w_GAM\"]\n",
    "const f = 0.01"
   ]
  },
  {
   "cell_type": "markdown",
   "id": "ce148fb0",
   "metadata": {},
   "source": [
    "# Single Reaction Essentials"
   ]
  },
  {
   "cell_type": "code",
   "execution_count": null,
   "id": "74442921",
   "metadata": {},
   "outputs": [],
   "source": [
    "essentials = []\n",
    "for r in reactions(model)    \n",
    "    single_reaction_delete_model = change_bound(model, r, lower=0, upper=0)\n",
    "    modif_solved = flux_dict(single_reaction_delete_model, flux_balance_analysis(\n",
    "        single_reaction_delete_model,\n",
    "        HiGHS.Optimizer;\n",
    "        modifications=[silence]))\n",
    "    \n",
    "    biomass = modif_solved[\"BIOMASS_Ecoli_core_w_GAM\"]\n",
    "    if biomass <= f * wt_biomass\n",
    "        push!(essentials, r)\n",
    "    end\n",
    "end"
   ]
  },
  {
   "cell_type": "markdown",
   "id": "83fd6d65",
   "metadata": {},
   "source": [
    "# Double Reaction Essentials"
   ]
  },
  {
   "cell_type": "code",
   "execution_count": null,
   "id": "d05aec7b",
   "metadata": {},
   "outputs": [],
   "source": [
    "non_essentials_r = setdiff(reactions(model), essentials)\n",
    "n = length(non_essentials_r)\n",
    "n_essentials = []\n",
    "for i in 1:n-1\n",
    "    for j in i+1:n\n",
    "        double_reaction_delete_model = change_bounds(model,\n",
    "            [non_essentials_r[i], non_essentials_r[j]],\n",
    "            lower=[0, 0], upper=[0, 0])\n",
    "        \n",
    "        modif_solved = flux_dict(double_reaction_delete_model,\n",
    "            flux_balance_analysis(double_reaction_delete_model,\n",
    "                HiGHS.Optimizer;\n",
    "                modifications=[silence]))\n",
    "                \n",
    "        biomass = modif_solved[\"BIOMASS_Ecoli_core_w_GAM\"]\n",
    "        if biomass <= f * wt_biomass\n",
    "            push!(n_essentials, (non_essentials_r[i], non_essentials_r[j]))\n",
    "        end\n",
    "    end\n",
    "end"
   ]
  },
  {
   "cell_type": "markdown",
   "id": "e4f25545",
   "metadata": {},
   "source": [
    "# FCA"
   ]
  },
  {
   "cell_type": "code",
   "execution_count": null,
   "id": "9a6ff56e",
   "metadata": {},
   "outputs": [],
   "source": [
    "using JuMP\n",
    "import HiGHS\n",
    "\n",
    "n = length(rxns)\n",
    "S = stoichiometry(model)\n",
    "\n",
    "couple_m = zeros(10, 10)\n",
    "\n",
    "# 0 stands for Uncoupled\n",
    "# 1 stands for Directionally coupled\n",
    "# 2 stands for Partially coupled\n",
    "# 3 stands for Fully coupled\n",
    "\n",
    "### finding directionally and partially coupled reactoins\n",
    "for i in 1:n\n",
    "    for j in 1:n\n",
    "        if i == j\n",
    "            continue\n",
    "        end\n",
    "                \n",
    "        optModel = Model(HiGHS.Optimizer)\n",
    "        set_silent(optModel)\n",
    "        @variable(optModel, upper_bounds(model)[k] >= v[k=1:n_reactions(model)] >= lower_bounds(model)[k])\n",
    "        @constraint(optModel, S * v .== 0)\n",
    "        @constraint(optModel, v[rxns_index[j]] == 0)\n",
    "        @objective(optModel, Max, v[rxns_index[i]])\n",
    "        optimize!(optModel)\n",
    "        if isapprox(objective_value(optModel), 0; atol=1e-8)\n",
    "            if rxns_index[i] in rxns_rev\n",
    "                @objective(optModel, Min, v[rxns_index[i]])\n",
    "                optimize!(optModel)\n",
    "                if isapprox(objective_value(optModel), 0; atol=1e-8)\n",
    "                    if couple_m[j, i] == 1\n",
    "                        couple_m[i, j] = 2\n",
    "                        couple_m[j, i] = 2\n",
    "                    else\n",
    "                        couple_m[i, j] = 1\n",
    "                    end\n",
    "                end\n",
    "            else\n",
    "                if couple_m[j, i] == 1\n",
    "                    couple_m[i, j] = 2\n",
    "                    couple_m[j, i] = 2\n",
    "                else\n",
    "                    couple_m[i, j] = 1\n",
    "                end\n",
    "            end\n",
    "        end\n",
    "    end\n",
    "end"
   ]
  },
  {
   "cell_type": "code",
   "execution_count": null,
   "id": "6b1e374c",
   "metadata": {},
   "outputs": [],
   "source": [
    "### finding fully coupled in partially coupled reactions\n",
    "for i in 1:9\n",
    "    for j in i+1:10\n",
    "        if couple_m[i, j] == 2\n",
    "            optModel = Model(HiGHS.Optimizer)\n",
    "            set_silent(optModel)\n",
    "            @variable(optModel, upper_bounds(model)[k] >= v[k=1:n_reactions(model)] >= lower_bounds(model)[k])\n",
    "            @constraint(optModel, S * v .== 0)\n",
    "            @objective(optModel, Max, v[rxns_index[i]])\n",
    "            optimize!(optModel)\n",
    "            \n",
    "            if isapprox(objective_value(optModel), 0; atol=1e-8)\n",
    "                optModel1 = Model(HiGHS.Optimizer)\n",
    "                set_silent(optModel1)\n",
    "                @variable(optModel1, upper_bounds(model)[k] >= v[k=1:n_reactions(model)] >= lower_bounds(model)[k])\n",
    "                @constraint(optModel1, S * v .== 0)\n",
    "                @objective(optModel1, Min, v[rxns_index[i]])\n",
    "                optimize!(optModel1)\n",
    "                \n",
    "                c1 = objective_value(optModel1) / value.(v[rxns_index[j]])\n",
    "                @constraint(optModel1, v[rxns_index[j]] == value.(v[rxns_index[j]])*0.3)\n",
    "                optimize!(optModel1)\n",
    "                c2 = objective_value(optModel1) / value.(v[rxns_index[j]])\n",
    "                if isapprox((c2 - c1), 0; atol=1e-8)\n",
    "                    couple_m[i, j] = 3\n",
    "                    couple_m[j, i] = 3\n",
    "                end\n",
    "            else\n",
    "                c1 = objective_value(optModel) / value.(v[rxns_index[j]])\n",
    "                @constraint(optModel, v[rxns_index[j]] == value.(v[rxns_index[j]])*0.3)\n",
    "                optimize!(optModel)\n",
    "                c2 = objective_value(optModel) / value.(v[rxns_index[j]])\n",
    "                if isapprox((c2 - c1), 0; atol=1e-8)\n",
    "                    couple_m[i, j] = 3\n",
    "                    couple_m[j, i] = 3\n",
    "                end\n",
    "            end\n",
    "        end\n",
    "    end\n",
    "end"
   ]
  },
  {
   "cell_type": "code",
   "execution_count": null,
   "id": "154fa688",
   "metadata": {},
   "outputs": [],
   "source": [
    "couple_matrix = Array{String}(undef, 10, 10)\n",
    "for (i, j) in enumerate(couple_m)\n",
    "    if i in [1, 12, 23, 34, 45, 56, 67, 78, 89, 100]\n",
    "        couple_matrix[i] = \"Nan\"\n",
    "    else\n",
    "        if j == 0\n",
    "            couple_matrix[i] = \"U\"\n",
    "        elseif j == 1\n",
    "            couple_matrix[i] = \"D\"\n",
    "        elseif j == 2\n",
    "            couple_matrix[i] = \"P\"\n",
    "        else\n",
    "            couple_matrix[i] = \"F\"\n",
    "        end\n",
    "    end\n",
    "end"
   ]
  }
 ],
 "metadata": {
  "kernelspec": {
   "display_name": "Julia 1.8.1",
   "language": "julia",
   "name": "julia-1.8"
  },
  "language_info": {
   "file_extension": ".jl",
   "mimetype": "application/julia",
   "name": "julia",
   "version": "1.8.1"
  }
 },
 "nbformat": 4,
 "nbformat_minor": 5
}
