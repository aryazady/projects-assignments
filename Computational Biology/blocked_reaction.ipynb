{
 "cells": [
  {
   "cell_type": "markdown",
   "id": "c3a63327",
   "metadata": {},
   "source": [
    "<font face=\"Times New Roman\">\n",
    "<div dir=ltr align=center>\n",
    "<font color=3C99D size=6>\n",
    "    Blocked Reactions in Metabolic Models"
   ]
  },
  {
   "cell_type": "markdown",
   "id": "50005c91",
   "metadata": {},
   "source": [
    "In this notebook, we want to find blocked reactions using classic and modern approaches to solve an optimization problem."
   ]
  },
  {
   "cell_type": "markdown",
   "id": "ee108730",
   "metadata": {},
   "source": [
    "## 1.1"
   ]
  },
  {
   "cell_type": "code",
   "execution_count": null,
   "id": "badebb1c",
   "metadata": {},
   "outputs": [],
   "source": [
    "using COBREXA\n",
    "\n",
    "e_coli_core = load_model(StandardModel, \"./Models/e_coli_core.json\")\n",
    "iAB_RBC_283 = load_model(StandardModel, \"./Models/iAB_RBC_283.json\")\n",
    "iNF517 = load_model(StandardModel, \"./Models/iNF517.json\")\n",
    "iNJ661 = load_model(StandardModel, \"./Models/iNJ661.json\")\n",
    "Recon3D = load_model(StandardModel, \"./Models/Recon3D.json\")\n",
    "\n",
    "models = Dict(\"e_coli_core\" => e_coli_core,\n",
    "    \"iAB_RBC_283\" => iAB_RBC_283,\n",
    "    \"iNF517\" => iNF517,\n",
    "    \"iNJ661\" => iNJ661,\n",
    "    \"Recon3D\" => Recon3D)"
   ]
  },
  {
   "cell_type": "code",
   "execution_count": null,
   "id": "0d54fcb8",
   "metadata": {},
   "outputs": [],
   "source": [
    "mutable struct GEMObj\n",
    "    S\n",
    "    Metabolites\n",
    "    Reactions\n",
    "    Genes\n",
    "    m\n",
    "    n\n",
    "    lb\n",
    "    ub\n",
    "end"
   ]
  },
  {
   "cell_type": "code",
   "execution_count": null,
   "id": "fddd5957",
   "metadata": {},
   "outputs": [],
   "source": [
    "myModels = Dict()\n",
    "for (k, v) in models\n",
    "    myModels[k] = GEMObj(stoichiometry(v),\n",
    "        metabolites(v),\n",
    "        reactions(v),\n",
    "        genes(v),\n",
    "        n_metabolites(v),\n",
    "        n_reactions(v),\n",
    "        lower_bounds(v),\n",
    "        upper_bounds(v))\n",
    "end"
   ]
  },
  {
   "cell_type": "markdown",
   "id": "49728021",
   "metadata": {},
   "source": [
    "### Printing Models"
   ]
  },
  {
   "cell_type": "code",
   "execution_count": null,
   "id": "da896081",
   "metadata": {},
   "outputs": [],
   "source": [
    "for (k, e) in myModels\n",
    "    println(\"S = \", e.S)\n",
    "    println(\"Metabolites = \", e.Metabolites)\n",
    "    println(\"Reactions = \", e.Reactions)\n",
    "    println(\"Genes = \", e.Genes)\n",
    "    println(\"Met count = \", e.m)\n",
    "    println(\"Rxn count = \", e.n)\n",
    "    println(\"Lower Bounds = \", e.lb)\n",
    "    println(\"Upper Bounds = \", e.ub)\n",
    "    println()\n",
    "end"
   ]
  },
  {
   "cell_type": "markdown",
   "id": "ca76a44c",
   "metadata": {},
   "source": [
    "## 1.2"
   ]
  },
  {
   "cell_type": "code",
   "execution_count": null,
   "id": "9c5947da",
   "metadata": {},
   "outputs": [],
   "source": [
    "Reversible = Dict()\n",
    "Irreversible = Dict()\n",
    "for (k, v) in myModels\n",
    "    for (i, e) in enumerate(v.lb)\n",
    "        if e < -1e-8\n",
    "            if k in keys(Reversible)\n",
    "                Reversible[k] = push!(Reversible[k], i)\n",
    "            else\n",
    "                Reversible[k] = [i]\n",
    "            end\n",
    "        else\n",
    "            if k in keys(Irreversible)\n",
    "                Irreversible[k] = push!(Irreversible[k], i)\n",
    "            else\n",
    "                Irreversible[k] = [i]\n",
    "            end\n",
    "        end \n",
    "    end\n",
    "end"
   ]
  },
  {
   "cell_type": "markdown",
   "id": "ddb770ab",
   "metadata": {},
   "source": [
    "## 1.3"
   ]
  },
  {
   "cell_type": "code",
   "execution_count": null,
   "id": "6d5e59f5",
   "metadata": {},
   "outputs": [],
   "source": [
    "for (k, e) in myModels\n",
    "    for i in Irreversible[k]\n",
    "        e.lb[i] = 0\n",
    "        e.ub[i] = 1000000\n",
    "    end\n",
    "    \n",
    "    for i in Reversible[k]\n",
    "        e.lb[i] = -1000000\n",
    "        e.ub[i] = 1000000\n",
    "    end\n",
    "end"
   ]
  },
  {
   "cell_type": "markdown",
   "id": "3d679fcc",
   "metadata": {},
   "source": [
    "## 2.1"
   ]
  },
  {
   "cell_type": "markdown",
   "id": "57759d84",
   "metadata": {},
   "source": [
    "In classic method, we want to solve two below optimizations to find blocked reactions:\n",
    "$$\\max v_i \\hspace{150pt} \\min v_i$$\n",
    "$$ \\hspace{15pt} s.t. \\hspace{5pt} v \\in C \\hspace{135pt} s.t. \\hspace{5pt} v \\in C $$\n",
    "$$ \\hspace{40pt} v_i \\leq 1 \\hspace{155pt} v_i \\geq -1 $$"
   ]
  },
  {
   "cell_type": "code",
   "execution_count": null,
   "id": "b3e62175",
   "metadata": {},
   "outputs": [],
   "source": [
    "using JuMP\n",
    "import GLPK\n",
    "\n",
    "function ClassicMethod(k, e, IBR, RBR)\n",
    "    \n",
    "    for i in Irreversible[k]\n",
    "        optModel = Model(GLPK.Optimizer)\n",
    "\n",
    "        @variable(optModel, e.ub[j] >= v[j=1:e.n] >= e.lb[j])\n",
    "        \n",
    "        # V(Irreversible) >= 0\n",
    "        for j in Irreversible[k]\n",
    "            @constraint(optModel, v[j] >= 0)\n",
    "        end\n",
    "        \n",
    "        # Sv = 0\n",
    "        @constraint(optModel, e.S * v .== 0)\n",
    "        \n",
    "        # vi <= 1\n",
    "        @constraint(optModel, v[i] <= 1)\n",
    "        \n",
    "        @objective(optModel, Max, v[i])\n",
    "        \n",
    "        optimize!(optModel)\n",
    "        \n",
    "        if isapprox(objective_value(optModel), 0; atol=1e-8)\n",
    "            if k in keys(IBR)\n",
    "                IBR[k] = push!(IBR[k], i)\n",
    "            else\n",
    "                IBR[k] = [i]\n",
    "            end\n",
    "        end\n",
    "    end\n",
    "    \n",
    "    for i in Reversible[k]\n",
    "        optModel1 = Model(GLPK.Optimizer)\n",
    "\n",
    "        @variable(optModel1, e.ub[j] >= v[j=1:e.n] >= e.lb[j])\n",
    "\n",
    "        for j in Irreversible[k]\n",
    "            @constraint(optModel1, v[j] >= 0)\n",
    "        end\n",
    "        @constraint(optModel1, e.S * v .== 0)\n",
    "        @constraint(optModel1, v[i] <= 1)\n",
    "        \n",
    "        @objective(optModel1, Max, v[i])\n",
    "        \n",
    "        optimize!(optModel1)\n",
    "        \n",
    "        if isapprox(objective_value(optModel1), 0; atol=1e-8)\n",
    "            optModel2 = Model(GLPK.Optimizer)\n",
    "\n",
    "            @variable(optModel2, e.ub[j] >= v[j=1:e.n] >= e.lb[j])\n",
    "            \n",
    "            for j in Irreversible[k]\n",
    "                @constraint(optModel2, v[j] >= 0)\n",
    "            end\n",
    "            @constraint(optModel2, e.S * v .== 0)\n",
    "            @constraint(optModel2, v[i] >= -1)\n",
    "            \n",
    "            @objective(optModel2, Min, v[i])\n",
    "            \n",
    "            optimize!(optModel2)\n",
    "            \n",
    "            if isapprox(objective_value(optModel2), 0; atol=1e-8)\n",
    "                if k in keys(RBR)\n",
    "                    RBR[k] = push!(RBR[k], i)\n",
    "                else\n",
    "                    RBR[k] = [i]\n",
    "                end\n",
    "            end\n",
    "        end\n",
    "    end\n",
    "end"
   ]
  },
  {
   "cell_type": "code",
   "execution_count": null,
   "id": "b86a5cf9",
   "metadata": {},
   "outputs": [],
   "source": [
    "IrrBlockedReactions = Dict()\n",
    "RBlockedReactions = Dict()\n",
    "\n",
    "for (k, e) in myModels\n",
    "    \n",
    "    if k == \"Recon3D\"\n",
    "        continue\n",
    "    end\n",
    "    \n",
    "    println(k)\n",
    "    @time ClassicMethod(k, e, IrrBlockedReactions, RBlockedReactions)\n",
    "    \n",
    "end"
   ]
  },
  {
   "cell_type": "code",
   "execution_count": null,
   "id": "d7f0c429",
   "metadata": {
    "scrolled": true
   },
   "outputs": [],
   "source": [
    "for k in keys(myModels)\n",
    "    if k in keys(IrrBlockedReactions) && k in keys(RBlockedReactions)\n",
    "        println(k, \" Blocked Irreversible Reaciotns: \", length(IrrBlockedReactions[k]))\n",
    "        println(k, \" Blocked Reversible Reaciotns: \", length(RBlockedReactions[k]))\n",
    "        println(k, \" Total Blocked Reaciotns: \", length(IrrBlockedReactions[k]) + length(RBlockedReactions[k]))\n",
    "        println()\n",
    "    elseif k in keys(IrrBlockedReactions)\n",
    "        println(k, \" Blocked Irreversible Reaciotns: \", length(IrrBlockedReactions[k]))\n",
    "        println(k, \" Total Blocked Reaciotns: \", length(IrrBlockedReactions[k]))\n",
    "        println()\n",
    "    elseif k in keys(RBlockedReactions)\n",
    "        println(k, \" Blocked Reversible Reaciotns: \", length(RBlockedReactions[k]))\n",
    "        println(k, \" Total Blocked Reaciotns: \", length(RBlockedReactions[k]))\n",
    "        println()\n",
    "    elseif k == \"Recon3D\"\n",
    "        println(k, \" Not Calculated\")\n",
    "        println()\n",
    "    else\n",
    "        println(k, \" Total Blocked Reaciotns: 0\")\n",
    "        println()\n",
    "    end\n",
    "end"
   ]
  },
  {
   "cell_type": "markdown",
   "id": "72617ec0",
   "metadata": {},
   "source": [
    "## 2.2"
   ]
  },
  {
   "cell_type": "markdown",
   "id": "0a1bb541",
   "metadata": {},
   "source": [
    "In modern approach we solve a single optimization.\n",
    "$$ \\max \\hspace{5pt} 1^T \\min(v_I, 1)$$\n",
    "$$ s.t. \\hspace{10pt} v \\in C$$"
   ]
  },
  {
   "cell_type": "code",
   "execution_count": null,
   "id": "4df5744a",
   "metadata": {},
   "outputs": [],
   "source": [
    "using JuMP\n",
    "import GLPK\n",
    "\n",
    "function ModernMethod(k, e, MIRBR)\n",
    "    optModel = Model(GLPK.Optimizer)\n",
    "    \n",
    "    n_irr_r = length(Irreversible[k])\n",
    "    \n",
    "    @variable(optModel, v[1:e.n])\n",
    "    @variable(optModel, 1 >= u[1:n_irr_r] >= 0)\n",
    "\n",
    "    for (i, j) in enumerate(Irreversible[k])\n",
    "        @constraint(optModel, v[j] >= u[i])\n",
    "    end\n",
    "    @constraint(optModel, e.S * v .== 0)\n",
    "    \n",
    "    @objective(optModel, Max, transpose(ones(n_irr_r)) * u)\n",
    "\n",
    "    optimize!(optModel)\n",
    "\n",
    "    println(\" Irreversible Blocked Reactions: \", n_irr_r - objective_value(optModel))\n",
    "    for (i, j) in enumerate(value.(v))\n",
    "        if i in Irreversible[k]\n",
    "            if isapprox(j, 0; atol=1e-8)\n",
    "                if k in keys(MIRBR)\n",
    "                    MIRBR[k] = push!(MIRBR[k], i)\n",
    "                else\n",
    "                    MIRBR[k] = [i]\n",
    "                end\n",
    "            end\n",
    "        end\n",
    "    end\n",
    "end"
   ]
  },
  {
   "cell_type": "code",
   "execution_count": null,
   "id": "70d75d7f",
   "metadata": {},
   "outputs": [],
   "source": [
    "modernIrrBlockedReactions = Dict()\n",
    "\n",
    "for (k, e) in myModels\n",
    "    print(k)\n",
    "    @time ModernMethod(k, e, modernIrrBlockedReactions)\n",
    "end"
   ]
  },
  {
   "cell_type": "code",
   "execution_count": null,
   "id": "8d715625",
   "metadata": {},
   "outputs": [],
   "source": [
    "for k in keys(myModels)\n",
    "    if k in keys(modernIrrBlockedReactions)\n",
    "        println(k, \" Blocked Irreversible Reaciotns: \", length(modernIrrBlockedReactions[k]))\n",
    "        println()\n",
    "    else\n",
    "        println(k, \" Blocked Irreversible Reaciotns: 0\")\n",
    "        println()\n",
    "    end\n",
    "end"
   ]
  },
  {
   "cell_type": "markdown",
   "id": "7752f108",
   "metadata": {},
   "source": [
    "## 3.3"
   ]
  },
  {
   "cell_type": "code",
   "execution_count": null,
   "id": "f577dc65",
   "metadata": {},
   "outputs": [],
   "source": [
    "cobra_iNF517 = [\"ACMANApts\", \"ALOX\", \"AMALT1\", \"AMALT2\", \"AMALT3\", \"AMALT4\", \"ACGAMT\", \"ASNt2r\", \"ACOATA\", \"BIOMASS_LLA_noATPnoH\", \"ACODA_1\", \"ACONT\", \"2MPAt6\", \"ACKILE\", \"3MBALt\", \"3MBAt6\", \"BZALt\", \"ACKLEU\", \"2S6HCCi\", \"ACKVAL\", \"CITt2r\", \"AB6PGH\", \"CITt3\", \"ACPS2\", \"ACPSc\", \"ADK2\", \"CSND\", \"DRIBt2\", \"CYTDK1\", \"AEPabc\", \"CYTDK2\", \"EX_2aeppn_e\", \"AGDC\", \"EX_2mpa_e\", \"EX_3mba_e\", \"EX_3mbal_e\", \"AHMMPS_1\", \"ASPCT\", \"EX_acgala_e\", \"EX_acgam_e\", \"EX_acmana_e\", \"ASPR\", \"ASPTA2\", \"ALCD19\", \"BG_CELLB\", \"CARORSr\", \"CGPT\", \"CHITN1\", \"EX_asn__L_e\", \"AMANAPEr\", \"CHLabc\", \"AMMQT8_2\", \"CPPPGO\", \"EX_bzal_e\", \"CMLDC\", \"CRPT_25\", \"CS\", \"EX_cellb_e\", \"EX_chol_e\", \"EX_cit_e\", \"APRAUR\", \"DHPPDA\", \"CYTD\", \"CYTB_B2\", \"DGNSK\", \"DINSK\", \"DB4PS\", \"DHNAOT_1\", \"EX_drib_e\", \"EX_fe2_e\", \"DHORDi\", \"DHORTS\", \"EX_fe3_e\", \"FE2abc\", \"DRBK\", \"GLYBabc\", \"EX_fru_e\", \"FE3abc\", \"EX_gal_e\", \"EX_galt_e\", \"DXPS\", \"EDA\", \"FLVR_1\", \"FMETDF\", \"FMETTRS_1\", \"FMNAT\", \"FTHFCL_1\", \"G3PCT\", \"EX_glcn__D_e\", \"EX_gln__L_e\", \"G3PD4\", \"ILEt2r_copy1\", \"EX_glyb_e\", \"GALK2\", \"GALM\", \"LCTSt\", \"GALT\", \"EX_glyc3p_e\", \"EX_glyc_e\", \"GALt2\", \"GTPCII\", \"GTHPi\", \"GTHOr\", \"GPDDA4\", \"GLCNt2ir\", \"EX_hxan_e\", \"GTPDPK\", \"HXANt2r\", \"GLNabc\", \"GUI1\", \"GUI2\", \"HARAAT\", \"GLYC3Pt6\", \"GLYCt\", \"EX_lcts_e\", \"HIBD\", \"GNKr\", \"GPDDA1\", \"GPDDA2\", \"EX_mal__L_e\", \"LEUt2r_copy1\", \"EX_malt_e\", \"HSST\", \"EX_man_e\", \"EX_met__D_e\", \"ICDHyr\", \"ICHORS\", \"EX_mn2_e\", \"EX_mnl_e\", \"EX_nmn_e\", \"EX_o2_e\", \"MTAN\", \"LACZ\", \"IPPMIa\", \"IPPMIb\", \"ARAT\", \"O2t\", \"M1PD\", \"MALLAC\", \"MALTabc\", \"MALTATr\", \"MALt2r\", \"MAN6PI\", \"MANAO\", \"PHPYROX\", \"PROTS_LLA\", \"PROTS_LLA_v2\", \"EX_ppi_e\", \"PFK_2\", \"MI1PP\", \"MNNH\", \"EX_ptrc_e\", \"MNabc\", \"MHPGLUT\", \"NADK\", \"NADH4\", \"OHPBAT\", \"EX_rib__D_e\", \"NMNP\", \"NMNAT\", \"EX_ribflv_e\", \"EX_sbt__D_e\", \"NPHS\", \"EX_ser__D_e\", \"NOX\", \"NOX2\", \"NADHPO\", \"EX_so4_e\", \"EX_spmd_e\", \"RIBFLVt2\", \"RIBt2\", \"EX_sucr_e\", \"SPP\", \"SBTpts\", \"PPIabc\", \"EX_tre_e\", \"POR\", \"DSERt2\", \"EX_trp__L_e\", \"RBFK\", \"SUCR\", \"PTAILE\", \"PTALEU\", \"PTAVAL\", \"PREN\", \"PTRCabc\", \"PUNP3\", \"PUNP4\", \"PYNP4\", \"EX_zn2_e\", \"PYROX_1\", \"RBFSa\", \"RBFSb\", \"RIBabc\", \"S7PI_1\", \"TRPt2r\", \"VALt2r_copy1\", \"SHSL1\", \"URIK3\", \"THDPS\", \"SO4t2\", \"SPODM\", \"THFGLUS\", \"SPMDAT1\", \"SPMDAT2\", \"SUCBZL\", \"SUCBZS\", \"S6PG\", \"TMDPP\", \"OIVD1r\", \"OIVD2\", \"OIVD3\", \"PDH\", \"SPMDabc\", \"TKT1\", \"PUNP7\", \"ACGApts\", \"TRPS2\", \"ITCY\", \"TRE6PH\", \"GALTpts\", \"UAAGDS\", \"TREpts\", \"GPDDA3\", \"UDCPKr\", \"MNLpts\", \"UDPGALM\", \"UDPGD\", \"GPDDA5\", \"ACGALpts\", \"XYLI1\", \"ZNabc\", \"ASPTA4\", \"MANpts\", \"CELBpts\", \"DHORD6\", \"FRUK\", \"FRUpts\", \"METDabc\", \"BGLA1\", \"SUCpts\"]\n",
    "cobra_iNJ661 = [\"THZSN\", \"R05224\", \"R05219\", \"TARTRt7\", \"R05217\", \"TARTD\", \"QULNS\", \"THZPSN\", \"SUCBZS\", \"PYDXO\", \"PYDXNO\", \"PYAM5PO\", \"THMDP\", \"THFGLUS\", \"SUCBZL\", \"PUNP4\", \"PSSA180\", \"SPMS\", \"PSD180\", \"PHTHCLS\", \"SHCHF3\", \"PRDX\", \"SHCHF2\", \"SHCHF\", \"SHCHD3\", \"PGLYCP\", \"PPTGS\", \"PPPGO\", \"SHCHD2\", \"SHCHCS2\", \"SHCHCS\", \"PERD\", \"PDX5POi\", \"PPBNGS\", \"PNCDC\", \"PMPK\", \"SERD_D\", \"PMDPHT\", \"PC8XM\", \"PC6YM\", \"SELCYSLY\", \"PC6AR\", \"PC20M\", \"PC17M\", \"PC11M\", \"MPML\", \"MOTS\", \"MOTH\", \"MNDNS2\", \"MNDNS1\", \"RZ5PP\", \"OXGDC2\", \"MTAN\", \"MSHS\", \"MSHOXH\", \"MSHAMID\", \"MMSAD2\", \"MMSAD1\", \"MI4PP\", \"MI3PP\", \"RIBabc\", \"RBK_L1\", \"MHPGLUT\", \"MGt5\", \"METabc\", \"TTDCAt2\", \"RBFSb\", \"TSULabc\", \"RBFSa\", \"MEOHt2\", \"TRIATS\", \"TREabc\", \"MDFDH\", \"TMPPP\", \"TMPK\", \"TMN\", \"TMHAS6\", \"MCBTS2\", \"TMHAS5\", \"TMDPP\", \"YUMPS\", \"XYLabc\", \"MALTabc\", \"XYLK\", \"MALTHPabc\", \"UREA\", \"UPPRT\", \"UPPDC2\", \"UPPDC1\", \"UPP3S\", \"UPP3MT\", \"LPLIPAL2E180\", \"LCTSabc\", \"LACZ\", \"UDPGD\", \"GLYCTO1\", \"IGAMD\", \"GLYCK\", \"GLYC3Pabc\", \"GLYBabc\", \"ICHORS\", \"IACGAMS\", \"GLUTRR\", \"HSERTA\", \"GLNSP3\", \"EX_lcts_e\", \"EX_k_e\", \"GLNSP2\", \"GLNSP1\", \"HPPK2\", \"EX_hdca_e\", \"HPPK\", \"HOPNTAL\", \"HMPK4\", \"GCC2\", \"GALt2\", \"EX_gthrd_e\", \"EX_glyc3p_e\", \"EX_glyb_e\", \"EX_gal_e\", \"HMPK3\", \"EX_fe2_e\", \"HMPK2\", \"EX_cu2_e\", \"EX_crn_e\", \"G1SAT\", \"HMPK1\", \"EX_cobalt2_e\", \"EX_co_e\", \"EX_cl_e\", \"HMBS\", \"EX_chol_e\", \"EX_ca2_e\", \"EX_bmn_e\", \"EX_atp_e\", \"EX_arab__L_e\", \"EX_arab__D_e\", \"HDCAt2\", \"FRDO\", \"EX_met__L_e\", \"EX_meoh_e\", \"EX_malthp_e\", \"EX_malt_e\", \"OHPBAT\", \"OCTDPS\", \"NPHS\", \"OCDCAt2\", \"NOt\", \"NO3t7\", \"NO3R2\", \"NO3R1\", \"NO\", \"NTRIRy\", \"NTRIRx\", \"NTRIR2x\", \"NNDPR\", \"NNDMBRT\", \"NNATr\", \"NNAM\", \"NTPTP1\", \"NH4OHDs\", \"NTD8\", \"NTD6\", \"NARK\", \"NAPRT\", \"GTPDPK\", \"GTPCII2\", \"GTPCII\", \"GTPCI\", \"NADS2\", \"NADK\", \"EX_acysbmn_e\", \"GTHRDt2\", \"ENTCS\", \"E4PD\", \"MYCFLUX5\", \"MYCFLUX4\", \"MYCFLUX3\", \"DURIPP\", \"MYCFLUX2\", \"MYCFLUX1\", \"DSERt2\", \"DRPA\", \"DNTPPA\", \"DNMPPA\", \"DM_atp_c\", \"Clt\", \"DHPS2\", \"DHPPDA2\", \"DHPPDA\", \"DHNPA2r\", \"GLYCTO4\", \"GLYCTO3\", \"DHNPA\", \"GLYCTO2\", \"CYRDAR\", \"DHNAOT2\", \"DHNAOT\", \"DHFS\", \"CYRDAAT\", \"DGC3D\", \"CRNabc\", \"CPPPGO\", \"CPC8MM\", \"CPC6R\", \"CPC6MT\", \"CPC4MT\", \"CPC3MT\", \"CPC2MT\", \"COt\", \"COCHL\", \"DCPDP\", \"DBTS\", \"DB4PS\", \"COBALTt5\", \"CMLDC\", \"CMCBTFU\", \"ASPO5\", \"CITL_copy2\", \"CIGAMS\", \"CHOLD\", \"CHLabc\", \"ADOCBLS\", \"ADOCBIK\", \"CBLAT\", \"CBIAT\", \"BTS3r\", \"BTS2\", \"BMNt\", \"BMNMSHS\", \"FOLR2\", \"FOLD3\", \"FMNAT\", \"BETALDHx\", \"FMETTRS\", \"FETRANS\", \"BACCL\", \"FE3abc\", \"FE3Ri\", \"FE2abc\", \"ARGDC\", \"FCLT2\", \"FCLT\", \"FCLPA\", \"ARB_Dabc\", \"FASm3001\", \"FAH4\", \"ARAI\", \"EX_xyl__D_e\", \"APRAUR\", \"EX_ttdca_e\", \"EX_tsul_e\", \"EX_tre_e\", \"AOXSr\", \"EX_tartr__L_e\", \"EX_ser__D_e\", \"ACPS1\", \"EX_rib__D_e\", \"AMMQT8_2\", \"EX_ocdca_e\", \"AMMQT8\", \"EX_no_e\", \"EX_no3_e\", \"EX_no2_e\", \"AMMQT6\", \"EX_na1_e\", \"EX_mg2_e\", \"AMID4\", \"ADMDC\", \"ACBIPGT\", \"AMAOTr\", \"ADCYRS\", \"ADCS\", \"ADCPS2\", \"ADCPS1\", \"ADCL\", \"5DGLCNR\", \"ALDD1\", \"4HTHRS\", \"ACYSBMNt\", \"ALATRS\", \"AKGDb\", \"AHMMPS\", \"AHCYSNS\", \"AGMT\"]\n",
    "cobra_e_coli_core = [\"EX_fru_e\", \"EX_fum_e\", \"EX_gln__L_e\", \"EX_mal__L_e\", \"FRUpts2\", \"FUMt2_2\", \"GLNabc\", \"MALt2_2\"]\n",
    "cobra_iAB_RBC_283 = [\"EX_ca2_e\", \"EX_cl_e\", \"EX_fe2_e\", \"EX_k_e\", \"EX_na1_e\", \"EX_phe__L_e\", \"AP4AH1\", \"EX_ribflv_e\", \"FE2t\", \"GALOR\", \"ICDHyr\", \"MDH\", \"PHETA1\", \"PHEtec\", \"PMANM\", \"UMPK\"]\n",
    "\n",
    "BR = Dict()\n",
    "\n",
    "for (k, e) in myModels\n",
    "    if k in keys(IrrBlockedReactions)\n",
    "        for i in IrrBlockedReactions[k]\n",
    "            if k in keys(BR)\n",
    "                BR[k] = push!(BR[k], e.Reactions[i])\n",
    "            else\n",
    "                BR[k] = [e.Reactions[i]]\n",
    "            end\n",
    "        end\n",
    "    end\n",
    "    \n",
    "    if k in keys(RBlockedReactions)\n",
    "        for i in RBlockedReactions[k]\n",
    "            if k in keys(BR)\n",
    "                BR[k] = push!(BR[k], e.Reactions[i])\n",
    "            else\n",
    "                BR[k] = [e.Reactions[i]]\n",
    "            end\n",
    "        end\n",
    "    end\n",
    "end\n",
    "\n",
    "classic_cobra_iNF517 = intersect(BR[\"iNF517\"], Set(cobra_iNF517))\n",
    "classic_cobra_iNJ616 = intersect(BR[\"iNJ661\"], Set(cobra_iNJ661))\n",
    "classic_cobra_e_coli_core = intersect(BR[\"e_coli_core\"], Set(cobra_e_coli_core))\n",
    "classic_cobra_iAB_RBC_283 = intersect(BR[\"iAB_RBC_283\"], Set(cobra_iAB_RBC_283))\n",
    "\n",
    "println(length(classic_cobra_iNF517))\n",
    "println(length(classic_cobra_iNJ616))\n",
    "println(length(classic_cobra_e_coli_core))\n",
    "println(length(classic_cobra_iAB_RBC_283))"
   ]
  },
  {
   "cell_type": "markdown",
   "id": "152304b4",
   "metadata": {},
   "source": [
    "## 3.1\n",
    "#### Updating Models to Consisnent with Flux"
   ]
  },
  {
   "cell_type": "code",
   "execution_count": null,
   "id": "fd7a395e",
   "metadata": {},
   "outputs": [],
   "source": [
    "for (k, e) in myModels\n",
    "\n",
    "    BRxnName = []\n",
    "    \n",
    "    if k in keys(IrrBlockedReactions)\n",
    "        for i in IrrBlockedReactions[k]\n",
    "            push!(BRxnName, e.Reactions[i])\n",
    "        end\n",
    "    end\n",
    "    \n",
    "    if k in keys(RBlockedReactions)\n",
    "        for i in RBlockedReactions[k]\n",
    "            push!(BRxnName, e.Reactions[i])\n",
    "        end\n",
    "    end\n",
    "\n",
    "    if k in keys(IrrBlockedReactions) && k in keys(RBlockedReactions)\n",
    "        e.S = e.S[:, setdiff(1:e.n, sort(append!(IrrBlockedReactions[k], RBlockedReactions[k])))]\n",
    "        e.lb = deleteat!(e.lb, unique(sort(append!(IrrBlockedReactions[k], RBlockedReactions[k]))))\n",
    "        e.ub = deleteat!(e.ub, unique(sort(append!(IrrBlockedReactions[k], RBlockedReactions[k]))))\n",
    "    elseif k in keys(IrrBlockedReactions)\n",
    "        e.S = e.S[:, setdiff(1:e.n, sort(IrrBlockedReactions[k]))]\n",
    "        e.lb = deleteat!(e.lb, sort(IrrBlockedReactions[k]))\n",
    "        e.ub = deleteat!(e.ub, sort(IrrBlockedReactions[k]))\n",
    "    elseif k in keys(RBlockedReactions)\n",
    "        e.S = e.S[:, setdiff(1:e.n, sort(RBlockedReactions[k]))]\n",
    "        e.lb = deleteat!(e.lb, sort(RBlockedReactions[k]))\n",
    "        e.ub = deleteat!(e.ub, sort(RBlockedReactions[k]))\n",
    "    end\n",
    "    \n",
    "    e.Reactions = setdiff(e.Reactions, Set(BRxnName))\n",
    "    e.n -= length(BRxnName)\n",
    "    \n",
    "end"
   ]
  }
 ],
 "metadata": {
  "kernelspec": {
   "display_name": "Julia 1.8.1",
   "language": "julia",
   "name": "julia-1.8"
  },
  "language_info": {
   "file_extension": ".jl",
   "mimetype": "application/julia",
   "name": "julia",
   "version": "1.8.1"
  }
 },
 "nbformat": 4,
 "nbformat_minor": 5
}
