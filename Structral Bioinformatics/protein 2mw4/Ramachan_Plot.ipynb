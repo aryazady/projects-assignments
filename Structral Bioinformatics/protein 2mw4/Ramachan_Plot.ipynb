{
  "nbformat": 4,
  "nbformat_minor": 0,
  "metadata": {
    "colab": {
      "provenance": []
    },
    "kernelspec": {
      "name": "python3",
      "display_name": "Python 3"
    },
    "language_info": {
      "name": "python"
    }
  },
  "cells": [
    {
      "cell_type": "code",
      "execution_count": null,
      "metadata": {
        "id": "nqHLVtGpoGmC"
      },
      "outputs": [],
      "source": [
        "!pip install RamachanDraw"
      ]
    },
    {
      "cell_type": "code",
      "source": [
        "import os\n",
        "import matplotlib.pyplot as plt\n",
        "import matplotlib.colors as mcolors\n",
        "import numpy as np\n",
        "from Bio.PDB import PDBParser, PPBuilder\n",
        "from pkg_resources import resource_stream\n",
        "from math import pi\n",
        "\n",
        "\n",
        "def plot(pdb_file, cmap='viridis', alpha=0.75, dpi=100, save=True, show=False, out='ramachandran_plot.png'):\n",
        "    batch_mode = [True if type(pdb_file) is list else False][0]\n",
        "\n",
        "    def get_ignored_res(file: str):\n",
        "        x, y, ignored, output = [], [], [], {}\n",
        "        for model in PDBParser().get_structure(id=None, file=file):\n",
        "            for chain in model:\n",
        "                peptides = PPBuilder().build_peptides(chain)\n",
        "                for peptide in peptides:\n",
        "                    for aa, angles in zip(peptide, peptide.get_phi_psi_list()):\n",
        "                        residue = aa.resname + str(aa.id[1])\n",
        "                        output[residue] = angles\n",
        "\n",
        "        for key, value in output.items():\n",
        "            # Only get residues with both phi and psi angles\n",
        "            if value[0] and value[1]:\n",
        "                x.append(value[0] * 180 / pi)\n",
        "                y.append(value[1] * 180 / pi)\n",
        "            else:\n",
        "                ignored.append((key, value))\n",
        "\n",
        "        return output, ignored, x, y\n",
        "\n",
        "    size = [(8.5, 5) if batch_mode else (5.5, 5)][0]\n",
        "    plt.figure(figsize=size, dpi=dpi)\n",
        "    ax = plt.subplot(111)\n",
        "    ax.set_title(\"\".join([\"Batch\" if batch_mode else pdb_file]))\n",
        "\n",
        "    # Import 'density_estimate.dat' data file\n",
        "    Z = np.fromfile(resource_stream('RamachanDraw', 'data/density_estimate.dat'))\n",
        "    Z = np.reshape(Z, (100, 100))\n",
        "\n",
        "    ax.set_aspect('equal')\n",
        "    ax.set_xlabel('\\u03C6')\n",
        "    ax.set_ylabel('\\u03C8')\n",
        "    ax.set_xlim(-180, 180)\n",
        "    ax.set_ylim(-180, 180)\n",
        "    ax.set_xticks([-180, -135, -90, -45, 0, 45, 90, 135, 180], minor=False)\n",
        "    ax.set_yticks([-180, -135, -90, -45, 0, 45, 90, 135, 180], minor=False)\n",
        "    plt.axhline(y=0, color='k', lw=0.5)\n",
        "    plt.axvline(x=0, color='k', lw=0.5)\n",
        "    plt.grid(visible=None, which='major', axis='both', color='k', alpha=0.2)\n",
        "\n",
        "    # Normalize data\n",
        "    data = np.log(np.rot90(Z))\n",
        "    ax.imshow(data, cmap=plt.get_cmap(cmap), extent=[-180, 180, -180, 180], alpha=alpha)\n",
        "\n",
        "    # Fit contour lines correctly\n",
        "    data = np.rot90(np.fliplr(Z))\n",
        "    ax.contour(data, colors='k', linewidths=0.5,\n",
        "               levels=[10 ** i for i in range(-7, 0)],\n",
        "               antialiased=True, extent=[-180, 180, -180, 180], alpha=0.65)\n",
        "\n",
        "    def start(fp, color=None):\n",
        "        assert os.path.exists(fp), \\\n",
        "            'Unable to fetch file: {}. PDB entry probably does not exist.'.format(pdb_file)\n",
        "        phi_psi_data, ignored_res, x, y = get_ignored_res(file=fp)\n",
        "        ax.scatter(x, y, marker='.', s=3, c=\"\".join([color if color else 'k']), label=fp)\n",
        "        return phi_psi_data, ignored_res, x, y\n",
        "\n",
        "    if batch_mode:\n",
        "        file_output_map = {key: None for key in pdb_file}\n",
        "        for _, file in enumerate(pdb_file):\n",
        "            file_output_map[file] = start(fp=file, color=list(mcolors.BASE_COLORS.keys())[_])\n",
        "        ax.legend(bbox_to_anchor=(1.04, 1), loc='upper left')\n",
        "    else:\n",
        "        output = start(fp=pdb_file)\n",
        "\n",
        "    if save:\n",
        "        plt.savefig(out)\n",
        "    if show:\n",
        "        plt.show()\n",
        "    \n",
        "    if batch_mode:\n",
        "        return ax, file_output_map\n",
        "    else:\n",
        "        return ax, output"
      ],
      "metadata": {
        "id": "tx3NVRq9qgWS"
      },
      "execution_count": 4,
      "outputs": []
    },
    {
      "cell_type": "code",
      "source": [
        "from RamachanDraw import fetch\n",
        "\n",
        "PDB_id = '2mw4'\n",
        "plot(fetch(PDB_id))"
      ],
      "metadata": {
        "id": "shyH8U3WoKKQ"
      },
      "execution_count": null,
      "outputs": []
    }
  ]
}