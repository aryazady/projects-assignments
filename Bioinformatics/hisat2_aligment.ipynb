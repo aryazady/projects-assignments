{
  "cells": [
    {
      "cell_type": "markdown",
      "metadata": {},
      "source": [
        "<font face=\"Times New Roman\">\n",
        "<div dir=ltr align=center>\n",
        "<font color=3C99D size=6>\n",
        "    HISAT2 NGS Reads Alignment"
      ]
    },
    {
      "cell_type": "code",
      "execution_count": null,
      "metadata": {
        "id": "wR1H_gYT43ot"
      },
      "outputs": [],
      "source": [
        "from random import randint\n",
        "from random import choice\n",
        "import re\n",
        "\n",
        "def rc(n):\n",
        "  if n == 'A':\n",
        "    return 'T'\n",
        "  elif n == 'C':\n",
        "    return 'G'\n",
        "  elif n == 'G':\n",
        "    return 'C'\n",
        "  elif n == 'T':\n",
        "    return 'A'\n",
        "\n",
        "with open('/content/drive/MyDrive/Bio Algo Ex4/chr5.fa', 'r') as f:\n",
        "    chr5 = f.read().splitlines()\n",
        "\n",
        "seq = chr5[201:]\n",
        "\n",
        "quality = 'DEFHI'\n",
        "\n",
        "### removing repetitive sequences\n",
        "regex = \"[a-zN]\"\n",
        "for i in range(len(seq)):\n",
        "  seq[i] = re.sub(regex, \"\", seq[i])\n",
        "\n",
        "seq = ''.join(seq)\n",
        "read_counts = 600000\n",
        "read_length = 90\n",
        "paired_distance = 120\n",
        "fragment_length = 2*read_length + paired_distance\n",
        "exon_distance = [0, 0, 0, 0, 0, 0, 1e2, 1e2, 1e3, 1e4, 1e5, 1e6, 1e7]\n",
        "\n",
        "fastq1 = []\n",
        "fastq2 = []\n",
        "\n",
        "for r in range(int(read_counts/2)):\n",
        "  s1 = randint(0, len(seq) - (fragment_length + max(exon_distance)) -1)\n",
        "  e_d = int(choice(exon_distance))\n",
        "  e_d = randint(e_d/10, e_d)\n",
        "  s1_l = randint(int(fragment_length / 4), int(fragment_length * 3 / 4))\n",
        "  s2 = s1 + s1_l + e_d\n",
        "  s2_l = fragment_length - s1_l\n",
        "  fragment = seq[s1:s1+s1_l] + seq[s2:s2+s2_l]\n",
        "  r1 = fragment[:read_length]\n",
        "  r2 = ''.join([rc(i) for i in fragment[:-read_length-1:-1]])\n",
        "  r1_s = \"@SIM00%sR1: 2:length=%s\\n%s\\n+\\n%s\" % (r+1, read_length, r1, ''.join([choice(quality) for _ in range(len(r1))]))\n",
        "  r2_s = \"@SIM00%sR2: 2:length=%s\\n%s\\n+\\n%s\" % (r+1, read_length, r2, ''.join([choice(quality) for _ in range(len(r2))]))\n",
        "  fastq1.append(r1_s)\n",
        "  fastq2.append(r2_s)"
      ]
    },
    {
      "cell_type": "code",
      "execution_count": null,
      "metadata": {
        "colab": {
          "base_uri": "https://localhost:8080/"
        },
        "id": "lhptOXRKfVcc",
        "outputId": "d07f3d12-c6e8-472f-a600-e2a446414d11"
      },
      "outputs": [
        {
          "name": "stdout",
          "output_type": "stream",
          "text": [
            "300000 reads; of these:\n",
            "  300000 (100.00%) were paired; of these:\n",
            "    61531 (20.51%) aligned concordantly 0 times\n",
            "    235519 (78.51%) aligned concordantly exactly 1 time\n",
            "    2950 (0.98%) aligned concordantly >1 times\n",
            "    ----\n",
            "    61531 pairs aligned concordantly 0 times; of these:\n",
            "      36840 (59.87%) aligned discordantly 1 time\n",
            "    ----\n",
            "    24691 pairs aligned 0 times concordantly or discordantly; of these:\n",
            "      49382 mates make up the pairs; of these:\n",
            "        23845 (48.29%) aligned 0 times\n",
            "        24193 (48.99%) aligned exactly 1 time\n",
            "        1344 (2.72%) aligned >1 times\n",
            "96.03% overall alignment rate\n"
          ]
        }
      ],
      "source": [
        "!wget https://cloud.biohpc.swmed.edu/index.php/s/fE9QCsX3NH4QwBi/download\n",
        "!unzip download\n",
        "\n",
        "with open('/content/hisat2-2.2.1/chr5_R1.fq', 'w') as f:\n",
        "    f.write('\\n'.join(fastq1))\n",
        "\n",
        "with open('/content/hisat2-2.2.1/chr5_R2.fq', 'w') as f:\n",
        "    f.write('\\n'.join(fastq2))\n",
        "\n",
        "%cd hisat2-2.2.1/\n",
        "!make\n",
        "!export PATH=\"/content/hisat2-2.2.1/:$PATH\"\n",
        "!./hisat2-build \"/content/drive/MyDrive/Bio Algo Ex4/chr5.fa\" \"ht2_index_output\"\n",
        "!./hisat2 -x ht2_index_output -1 chr5_R1.fq -2 chr5_R2.fq -S \"ex4_sam_output.sam\""
      ]
    }
  ],
  "metadata": {
    "colab": {
      "collapsed_sections": [],
      "name": "ex4.ipynb",
      "provenance": []
    },
    "kernelspec": {
      "display_name": "Python 3",
      "name": "python3"
    },
    "language_info": {
      "name": "python"
    }
  },
  "nbformat": 4,
  "nbformat_minor": 0
}
