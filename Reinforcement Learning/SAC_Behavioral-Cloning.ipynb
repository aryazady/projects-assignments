{
  "cells": [
    {
      "cell_type": "markdown",
      "metadata": {
        "id": "r9HxtwHbk6Pc"
      },
      "source": [
        "# SAC and Behavioral Cloning"
      ]
    },
    {
      "cell_type": "markdown",
      "metadata": {
        "id": "1PJUxRV4MIod"
      },
      "source": [
        "In this notebook, we will implement the Soft Actor Critic (SAC) algorithm on the CartPole environment in both online and offline settings. The SAC framework focuses on maximizing the expected reward while also maximizing entropy, meaning the actor aims to succeed at the task while maintaining a high level of randomness in its actions. This approach explicitly encourages exploration by seeking a high entropy in the policy. In the second part, we will use the policy learned in the first part to collect a dataset of expert trajectories and perform behavioral cloning."
      ]
    },
    {
      "cell_type": "code",
      "execution_count": 1,
      "metadata": {
        "id": "UC-BecdPmdb3"
      },
      "outputs": [],
      "source": [
        "import torch\n",
        "import torch.nn as nn\n",
        "import torch.nn.functional as F\n",
        "from torch.distributions import Normal\n",
        "import torch.optim as optim\n",
        "import numpy as np\n",
        "import random\n",
        "import gym\n",
        "import matplotlib.pyplot as plt\n",
        "import imageio\n",
        "from tqdm import tqdm\n",
        "import copy\n",
        "\n",
        "seed = 42\n",
        "random.seed(seed)\n",
        "torch.manual_seed(seed)\n",
        "torch.cuda.manual_seed(seed)\n",
        "torch.backends.cudnn.deterministic = True"
      ]
    },
    {
      "cell_type": "code",
      "execution_count": 2,
      "metadata": {
        "colab": {
          "base_uri": "https://localhost:8080/"
        },
        "id": "GSpSSRB-zCea",
        "outputId": "706f37a2-2a99-4afe-857a-7d009e3902dc"
      },
      "outputs": [
        {
          "name": "stderr",
          "output_type": "stream",
          "text": [
            "/usr/local/lib/python3.10/dist-packages/ipykernel/ipkernel.py:283: DeprecationWarning: `should_run_async` will not call `transform_cell` automatically in the future. Please pass the result to `transformed_cell` argument and any exception that happen during thetransform in `preprocessing_exc_tuple` in IPython 7.17 and above.\n",
            "  and should_run_async(code)\n"
          ]
        }
      ],
      "source": [
        "from IPython.display import HTML\n",
        "from base64 import b64encode\n",
        "\n",
        "def show_video(path):\n",
        "    mp4 = open(path, 'rb').read()\n",
        "    data_url = \"data:video/mp4;base64,\" + b64encode(mp4).decode()\n",
        "    return HTML(\"\"\"\n",
        "    <video width=400 controls>\n",
        "          <source src=\"%s\" type=\"video/mp4\">\n",
        "    </video>\n",
        "    \"\"\" % data_url)"
      ]
    },
    {
      "cell_type": "markdown",
      "metadata": {
        "id": "_whWTLZejkm3"
      },
      "source": [
        "## Network Structure"
      ]
    },
    {
      "cell_type": "code",
      "execution_count": 20,
      "metadata": {
        "id": "4pxOyt0xh4nN"
      },
      "outputs": [],
      "source": [
        "class Network(torch.nn.Module):\n",
        "\n",
        "    def __init__(self, input_dimension, output_dimension, output_activation=torch.nn.Identity()):\n",
        "        super(Network, self).__init__()\n",
        "        hidden_dim = 64\n",
        "        self.net = nn.Sequential(\n",
        "            nn.Linear(input_dimension, hidden_dim),\n",
        "            nn.Sigmoid(),\n",
        "            nn.Linear(hidden_dim, hidden_dim),\n",
        "            nn.ReLU(),\n",
        "            nn.Linear(hidden_dim, output_dimension),\n",
        "            output_activation\n",
        "        )\n",
        "\n",
        "    def forward(self, input):\n",
        "        output = None\n",
        "        output = self.net(input)\n",
        "        return output"
      ]
    },
    {
      "cell_type": "markdown",
      "metadata": {
        "id": "DToSGdmDka1u"
      },
      "source": [
        "## Replay Buffer"
      ]
    },
    {
      "cell_type": "code",
      "execution_count": 4,
      "metadata": {
        "id": "UC7jTwJXh8wl"
      },
      "outputs": [],
      "source": [
        "class ReplayBuffer:\n",
        "\n",
        "    def __init__(self, environment, capacity=500000):\n",
        "        transition_type_str = self.get_transition_type_str(environment)\n",
        "        self.buffer = np.zeros(capacity, dtype=transition_type_str)\n",
        "        self.weights = np.zeros(capacity)\n",
        "        self.head_idx = 0\n",
        "        self.count = 0\n",
        "        self.capacity = capacity\n",
        "        self.max_weight = 1e-2\n",
        "        self.delta = 1e-4\n",
        "        self.indices = None\n",
        "        self.mirror_index = np.random.permutation(range(self.buffer.shape[0]))\n",
        "\n",
        "    def get_transition_type_str(self, environment):\n",
        "        state_dim = environment.observation_space.shape[0]\n",
        "        state_dim_str = '' if state_dim == () else str(state_dim)\n",
        "        state_type_str = environment.observation_space.sample().dtype.name\n",
        "        action_dim = environment.action_space.shape\n",
        "        action_dim_str = '' if action_dim == () else str(action_dim)\n",
        "        action_type_str = environment.action_space.sample().__class__.__name__\n",
        "\n",
        "        transition_type_str = '{0}{1}, {2}{3}, float32, {0}{1}, bool'.format(state_dim_str, state_type_str,\n",
        "                                                                             action_dim_str, action_type_str)\n",
        "\n",
        "        return transition_type_str\n",
        "\n",
        "    def add_transition(self, transition):\n",
        "        self.buffer[self.head_idx] = transition\n",
        "        self.weights[self.head_idx] = self.max_weight\n",
        "\n",
        "        self.head_idx = (self.head_idx + 1) % self.capacity\n",
        "        self.count = min(self.count + 1, self.capacity)\n",
        "\n",
        "    def sample_minibatch(self, size=100, batch_deterministic_start=None):\n",
        "        set_weights = self.weights[:self.count] + self.delta\n",
        "        probabilities = set_weights / sum(set_weights)\n",
        "        if batch_deterministic_start is None:\n",
        "            self.indices = np.random.choice(range(self.count), size, p=probabilities, replace=False)\n",
        "        else:\n",
        "            self.indices = self.mirror_index[batch_deterministic_start:batch_deterministic_start+size]\n",
        "        return self.buffer[self.indices]\n",
        "\n",
        "    def update_weights(self, prediction_errors):\n",
        "        max_error = max(prediction_errors)\n",
        "        self.max_weight = max(self.max_weight, max_error)\n",
        "        self.weights[self.indices] = prediction_errors\n",
        "\n",
        "    def get_size(self):\n",
        "        return self.count"
      ]
    },
    {
      "cell_type": "markdown",
      "metadata": {
        "id": "5wOrt_EmfFFD"
      },
      "source": [
        "## SAC Agent"
      ]
    },
    {
      "cell_type": "code",
      "execution_count": 5,
      "metadata": {
        "id": "A8bEgUc2hmet"
      },
      "outputs": [],
      "source": [
        "class SACAgent:\n",
        "    def __init__(self, environment, replay_buffer=None, offline=False, learning_rate=3e-4, discount=0.99, buffer_batch_size=100, alpha_init=1, interpolation_factor=0.01):\n",
        "        self.environment = environment\n",
        "        self.state_dim = self.environment.observation_space.shape[0]\n",
        "        self.action_dim = self.environment.action_space.n\n",
        "\n",
        "        self.alpha_init = alpha_init\n",
        "        self.learning_rate = learning_rate\n",
        "        self.discount = discount\n",
        "        self.buffer_batch_size = buffer_batch_size\n",
        "        self.interpolation_factor = interpolation_factor\n",
        "\n",
        "        self.replay_buffer = ReplayBuffer(self.environment) if replay_buffer is None else replay_buffer\n",
        "        self.offline = offline\n",
        "\n",
        "        self.critic_local = Network(self.state_dim, self.action_dim)\n",
        "        self.critic_local2 = Network(self.state_dim, self.action_dim)\n",
        "        self.critic_optimiser = optim.Adam(self.critic_local.parameters(), lr=learning_rate)\n",
        "        self.critic_optimiser2 = optim.Adam(self.critic_local2.parameters(), lr=learning_rate)\n",
        "        self.critic_target = copy.deepcopy(self.critic_local)\n",
        "        self.critic_target2 = copy.deepcopy(self.critic_local2)\n",
        "\n",
        "        self.soft_update_target_networks(tau=1.)\n",
        "\n",
        "        self.actor_local = Network(self.state_dim, self.action_dim, nn.Softmax(dim=1))\n",
        "        self.actor_optimiser  = optim.Adam(self.actor_local.parameters(), lr=learning_rate)\n",
        "        self.target_entropy = 0.98 * -np.log(1 / self.environment.action_space.n)\n",
        "        self.log_alpha = torch.tensor(np.log(self.alpha_init), requires_grad=True)\n",
        "        self.alpha = self.log_alpha\n",
        "        self.alpha_optimiser = torch.optim.Adam([self.log_alpha], lr=self.learning_rate)\n",
        "\n",
        "    def get_next_action(self, state, evaluation_episode=False):\n",
        "        if evaluation_episode:\n",
        "            discrete_action = self.get_action_deterministically(state)\n",
        "        else:\n",
        "            discrete_action = self.get_action_nondeterministically(state)\n",
        "        return discrete_action\n",
        "\n",
        "    def get_action_nondeterministically(self, state):\n",
        "        action_probabilities = self.get_action_probabilities(state)\n",
        "        discrete_action = np.random.choice(range(self.action_dim), p=action_probabilities)\n",
        "        return discrete_action\n",
        "\n",
        "    def get_action_deterministically(self, state):\n",
        "        action_probabilities = self.get_action_probabilities(state)\n",
        "        discrete_action = np.argmax(action_probabilities)\n",
        "        return discrete_action\n",
        "\n",
        "    def critic_loss(self, states_tensor, actions_tensor, rewards_tensor,\n",
        "                    next_states_tensor, done_tensor):\n",
        "        with torch.no_grad():\n",
        "            action_probs, log_action_probs = self.get_action_info(next_states_tensor)\n",
        "\n",
        "            q_target = self.critic_target.forward(next_states_tensor)\n",
        "            q_target2 = self.critic_target2.forward(next_states_tensor)\n",
        "\n",
        "            soft_state = (action_probs * (torch.min(q_target, q_target2) - self.alpha * log_action_probs)).sum(dim=1)\n",
        "            next_q = rewards_tensor + ~done_tensor * self.discount * soft_state\n",
        "\n",
        "        soft_q = self.critic_local(states_tensor).gather(1, actions_tensor.unsqueeze(-1)).squeeze(-1)\n",
        "        soft_q2 = self.critic_local2(states_tensor).gather(1, actions_tensor.unsqueeze(-1)).squeeze(-1)\n",
        "\n",
        "        criterion = nn.MSELoss(reduction=\"none\")\n",
        "        critic_error = criterion(soft_q, next_q)\n",
        "        critic2_error = criterion(soft_q2, next_q)\n",
        "\n",
        "        critic_loss = critic_error.mean()\n",
        "        critic2_loss = critic2_error.mean()\n",
        "\n",
        "        if not self.offline:\n",
        "            weight_update = [min(error1.item(), error2.item()) for error1, error2 in zip(critic_error, critic2_error)]\n",
        "            self.replay_buffer.update_weights(weight_update)\n",
        "\n",
        "        return critic_loss, critic2_loss\n",
        "\n",
        "    def actor_loss(self, states_tensor, actions_tensor):\n",
        "        action_probs, log_action_probs = self.get_action_info(states_tensor)\n",
        "\n",
        "        q_local = self.critic_local(states_tensor)\n",
        "        q_local2 = self.critic_local2(states_tensor)\n",
        "\n",
        "        value = self.alpha * log_action_probs - torch.min(q_local, q_local2)\n",
        "        actor_loss = (action_probs * value).sum(dim=1).mean()\n",
        "\n",
        "        return actor_loss, log_action_probs\n",
        "\n",
        "    def train_on_transition(self, state, discrete_action, next_state, reward, done):\n",
        "        transition = (state, discrete_action, reward, next_state, done)\n",
        "        self.train_networks(transition)\n",
        "\n",
        "    def train_networks(self, transition=None, batch_deterministic_start=None):\n",
        "        self.critic_optimiser.zero_grad()\n",
        "        self.critic_optimiser2.zero_grad()\n",
        "        self.actor_optimiser.zero_grad()\n",
        "        self.alpha_optimiser.zero_grad()\n",
        "\n",
        "        if not self.offline:\n",
        "            self.replay_buffer.add_transition(transition)\n",
        "\n",
        "        if self.replay_buffer.get_size() >= self.buffer_batch_size:\n",
        "            minibatch = self.replay_buffer.sample_minibatch(self.buffer_batch_size, batch_deterministic_start=batch_deterministic_start)\n",
        "            minibatch_separated = list(map(list, zip(*minibatch)))\n",
        "\n",
        "            states_tensor = torch.tensor(np.array(minibatch_separated[0]))\n",
        "            actions_tensor = torch.tensor(np.array(minibatch_separated[1]))\n",
        "            rewards_tensor = torch.tensor(np.array(minibatch_separated[2])).float()\n",
        "            next_states_tensor = torch.tensor(np.array(minibatch_separated[3]))\n",
        "            done_tensor = torch.tensor(np.array(minibatch_separated[4]))\n",
        "\n",
        "            critic_loss, critic_loss2 = self.critic_loss(states_tensor, actions_tensor, rewards_tensor, next_states_tensor, done_tensor)\n",
        "            actor_loss, log_action_probs = self.actor_loss(states_tensor, actions_tensor)\n",
        "            alpha_loss = self.temperature_loss(log_action_probs)\n",
        "\n",
        "            critic_loss.backward()\n",
        "            critic_loss2.backward()\n",
        "            actor_loss.backward()\n",
        "            alpha_loss.backward()\n",
        "\n",
        "            self.critic_optimiser.step()\n",
        "            self.critic_optimiser2.step()\n",
        "            self.actor_optimiser.step()\n",
        "            self.alpha_optimiser.step()\n",
        "\n",
        "            self.alpha = self.log_alpha.exp()\n",
        "\n",
        "            self.soft_update_target_networks(self.interpolation_factor)\n",
        "\n",
        "    def temperature_loss(self, log_action_probabilities):\n",
        "        alpha_loss = -(self.log_alpha * (log_action_probabilities + self.target_entropy).detach()).mean()\n",
        "        return alpha_loss\n",
        "\n",
        "    def get_action_info(self, states_tensor):\n",
        "        action_probabilities = self.actor_local.forward(states_tensor)\n",
        "        z = action_probabilities == 0.0\n",
        "        z = z.float() * 1e-8\n",
        "        log_action_probabilities = torch.log(action_probabilities + z)\n",
        "        return action_probabilities, log_action_probabilities\n",
        "\n",
        "    def get_action_probabilities(self, state):\n",
        "        state_tensor = torch.tensor(state, dtype=torch.float32).unsqueeze(0)\n",
        "        action_probabilities = self.actor_local.forward(state_tensor)\n",
        "        return action_probabilities.squeeze(0).detach().numpy()\n",
        "\n",
        "    def soft_update_target_networks(self, tau):\n",
        "        self.soft_update(self.critic_target, self.critic_local, tau)\n",
        "        self.soft_update(self.critic_target2, self.critic_local2, tau)\n",
        "\n",
        "    def soft_update(self, target_model, origin_model, tau):\n",
        "        for target_param, local_param in zip(target_model.parameters(), origin_model.parameters()):\n",
        "            target_param.data.copy_(tau * local_param.data + (1 - tau) * target_param.data)\n",
        "\n",
        "    def predict_q_values(self, state, action):\n",
        "        q_values = self.critic_local(state)\n",
        "        q_values2 = self.critic_local2(state)\n",
        "        return torch.min(q_values, q_values2)"
      ]
    },
    {
      "cell_type": "markdown",
      "metadata": {
        "id": "X7Tx4pS_kdo-"
      },
      "source": [
        "## Online SAC"
      ]
    },
    {
      "cell_type": "code",
      "execution_count": 21,
      "metadata": {
        "colab": {
          "base_uri": "https://localhost:8080/",
          "height": 658
        },
        "id": "c6quXtBzZ6nZ",
        "outputId": "37a1ceb0-6ac5-4dd5-b896-fc5c2174d8e0"
      },
      "outputs": [
        {
          "name": "stderr",
          "output_type": "stream",
          "text": [
            "/usr/local/lib/python3.10/dist-packages/ipykernel/ipkernel.py:283: DeprecationWarning: `should_run_async` will not call `transform_cell` automatically in the future. Please pass the result to `transformed_cell` argument and any exception that happen during thetransform in `preprocessing_exc_tuple` in IPython 7.17 and above.\n",
            "  and should_run_async(code)\n",
            "/usr/local/lib/python3.10/dist-packages/gym/core.py:317: DeprecationWarning: \u001b[33mWARN: Initializing wrapper in old step API which returns one bool instead of two. It is recommended to set `new_step_api=True` to use new step API. This will be the default behaviour in future.\u001b[0m\n",
            "  deprecation(\n",
            "/usr/local/lib/python3.10/dist-packages/gym/wrappers/step_api_compatibility.py:39: DeprecationWarning: \u001b[33mWARN: Initializing environment in old step API which returns one bool instead of two. It is recommended to set `new_step_api=True` to use new step API. This will be the default behaviour in future.\u001b[0m\n",
            "  deprecation(\n",
            "  0%|          | 0/500 [00:00<?, ?it/s]/usr/local/lib/python3.10/dist-packages/gym/utils/passive_env_checker.py:241: DeprecationWarning: `np.bool8` is a deprecated alias for `np.bool_`.  (Deprecated NumPy 1.24)\n",
            "  if not isinstance(terminated, (bool, np.bool8)):\n",
            "100%|██████████| 500/500 [02:57<00:00,  2.82it/s]\n",
            "100%|██████████| 500/500 [03:22<00:00,  2.47it/s]\n",
            "100%|██████████| 500/500 [03:07<00:00,  2.67it/s]\n",
            "100%|██████████| 500/500 [03:02<00:00,  2.74it/s]\n"
          ]
        },
        {
          "data": {
            "image/png": "[encoded data removed]",
            "text/plain": [
              "<Figure size 640x480 with 1 Axes>"
            ]
          },
          "metadata": {},
          "output_type": "display_data"
        }
      ],
      "source": [
        "TRAINING_EVALUATION_RATIO = 4\n",
        "EPISODES_PER_RUN = 500\n",
        "STEPS_PER_EPISODE = 300\n",
        "env = gym.make(\"CartPole-v1\")\n",
        "\n",
        "total_results = []\n",
        "dataset = ReplayBuffer(env)\n",
        "for run in range(4):\n",
        "    agent = SACAgent(env, buffer_batch_size=64)\n",
        "    run_results = []\n",
        "    for episode in tqdm(range(EPISODES_PER_RUN)):\n",
        "        ep_reward = 0\n",
        "        state = env.reset()\n",
        "        done = False\n",
        "        is_eval = episode % TRAINING_EVALUATION_RATIO == 0\n",
        "        step = 0\n",
        "        while step < STEPS_PER_EPISODE and not done:\n",
        "            step += 1\n",
        "\n",
        "            action = agent.get_next_action(state, evaluation_episode=is_eval)\n",
        "            next_state, reward, done, _ = env.step(action)\n",
        "            dataset.add_transition((state, action, reward, next_state, done))\n",
        "\n",
        "            if is_eval:\n",
        "                ep_reward += reward\n",
        "            else:\n",
        "                agent.train_on_transition(state, action, next_state, reward, done)\n",
        "\n",
        "            state = next_state\n",
        "\n",
        "        if is_eval:\n",
        "            run_results.append(ep_reward)\n",
        "\n",
        "    total_results.append(run_results)\n",
        "\n",
        "env.close()\n",
        "results_avg = np.asarray(total_results).mean(axis=0)\n",
        "plt.plot(results_avg)\n",
        "plt.show()"
      ]
    },
    {
      "cell_type": "code",
      "execution_count": 22,
      "metadata": {
        "colab": {
          "base_uri": "https://localhost:8080/",
          "height": 321
        },
        "id": "Ge2uIJtGzGUW",
        "outputId": "d3dadf21-83b1-493a-8b01-c2bbfcda7d9e"
      },
      "outputs": [
        {
          "name": "stderr",
          "output_type": "stream",
          "text": [
            "WARNING:imageio_ffmpeg:IMAGEIO FFMPEG_WRITER WARNING: input image is not divisible by macro_block_size=16, resizing from (600, 400) to (608, 400) to ensure video compatibility with most codecs and players. To prevent resizing, make your input image divisible by the macro_block_size or set the macro_block_size to 1 (risking incompatibility).\n"
          ]
        },
        {
          "data": {
            "text/html": [
              "\n",
              "    <video width=400 controls>\n",
              "          <source src=\"data:video/mp4;base64,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\" type=\"video/mp4\">\n",
              "    </video>\n",
              "    "
            ],
            "text/plain": [
              "<IPython.core.display.HTML object>"
            ]
          },
          "execution_count": 22,
          "metadata": {},
          "output_type": "execute_result"
        }
      ],
      "source": [
        "env = gym.make(\"CartPole-v1\", render_mode=\"rgb_array\")\n",
        "frames = []\n",
        "\n",
        "state = env.reset()\n",
        "for _ in range(100):\n",
        "    frames.append(env.render()[0])\n",
        "    action = agent.get_next_action(state, evaluation_episode=True)\n",
        "    state, reward, done, info = env.step(action)\n",
        "    if done:\n",
        "        break\n",
        "\n",
        "env.close()\n",
        "imageio.mimsave('./online.mp4', frames, fps=25)\n",
        "show_video('./online.mp4')"
      ]
    },
    {
      "cell_type": "markdown",
      "metadata": {
        "id": "WxqbDN6DU0AY"
      },
      "source": [
        "## Offline SAC"
      ]
    },
    {
      "cell_type": "code",
      "execution_count": 39,
      "metadata": {
        "colab": {
          "base_uri": "https://localhost:8080/",
          "height": 447
        },
        "id": "1mN7D5RW2vmh",
        "outputId": "86e190fd-4c55-4fbb-9f43-aab2b1687ec5"
      },
      "outputs": [
        {
          "name": "stderr",
          "output_type": "stream",
          "text": [
            "100%|██████████| 200/200 [1:02:02<00:00, 18.61s/it]\n"
          ]
        },
        {
          "data": {
            "image/png": "[encoded data removed]",
            "text/plain": [
              "<Figure size 640x480 with 1 Axes>"
            ]
          },
          "metadata": {},
          "output_type": "display_data"
        }
      ],
      "source": [
        "NUM_EPOCHS = 200\n",
        "EPISODES_PER_RUN = 400\n",
        "STEPS_PER_EPISODE = 200\n",
        "TRAINING_EVALUATION_RATIO = 1\n",
        "BATCH_SIZE = 128\n",
        "env = gym.make(\"CartPole-v1\")\n",
        "\n",
        "offline_agent = SACAgent(env, replay_buffer=dataset, alpha_init=0.01, offline=True, buffer_batch_size=BATCH_SIZE)\n",
        "epoch_results = []\n",
        "for epoch in tqdm(range(NUM_EPOCHS)):\n",
        "    for episode in range(EPISODES_PER_RUN):\n",
        "        offline_agent.train_networks()\n",
        "    ep_reward = 0\n",
        "    state = env.reset()\n",
        "    done = False\n",
        "    step = 0\n",
        "    while step < STEPS_PER_EPISODE and not done:\n",
        "        step += 1\n",
        "        action = offline_agent.get_next_action(state, evaluation_episode=True)\n",
        "        ep_reward += reward\n",
        "        state, reward, done, _ = env.step(action)\n",
        "\n",
        "    epoch_results.append(ep_reward)\n",
        "\n",
        "env.close()\n",
        "plt.plot(epoch_results)\n",
        "plt.show()"
      ]
    },
    {
      "cell_type": "code",
      "execution_count": 40,
      "metadata": {
        "colab": {
          "base_uri": "https://localhost:8080/",
          "height": 321
        },
        "id": "UQCpir_G2tIP",
        "outputId": "36dfeff0-c89e-47f2-89ab-63b84d1d626e"
      },
      "outputs": [
        {
          "name": "stderr",
          "output_type": "stream",
          "text": [
            "WARNING:imageio_ffmpeg:IMAGEIO FFMPEG_WRITER WARNING: input image is not divisible by macro_block_size=16, resizing from (600, 400) to (608, 400) to ensure video compatibility with most codecs and players. To prevent resizing, make your input image divisible by the macro_block_size or set the macro_block_size to 1 (risking incompatibility).\n"
          ]
        },
        {
          "data": {
            "text/html": [
              "\n",
              "    <video width=400 controls>\n",
              "          <source src=\"data:video/mp4;base64,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\" type=\"video/mp4\">\n",
              "    </video>\n",
              "    "
            ],
            "text/plain": [
              "<IPython.core.display.HTML object>"
            ]
          },
          "execution_count": 40,
          "metadata": {},
          "output_type": "execute_result"
        }
      ],
      "source": [
        "env = gym.make(\"CartPole-v1\", render_mode=\"rgb_array\")\n",
        "frames = []\n",
        "\n",
        "state = env.reset()\n",
        "for _ in range(100):\n",
        "    frames.append(env.render()[0])\n",
        "    action = offline_agent.get_next_action(state, evaluation_episode=True)\n",
        "    state, reward, done, info = env.step(action)\n",
        "    if done:\n",
        "        break\n",
        "env.close()\n",
        "imageio.mimsave('./offline.mp4', frames, fps=25)\n",
        "show_video('./offline.mp4')"
      ]
    },
    {
      "cell_type": "markdown",
      "metadata": {
        "id": "WtI9ifQeSG2O"
      },
      "source": [
        " # Behavioural Cloning\n",
        "\n",
        "Behavioral cloning works by mimicking expert behavior through supervised learning. It involves collecting a dataset of expert trajectories, which are sequences of state-action pairs (unlike offline reinforcement learning, which also collects rewards to train the model). The model is then trained to predict the expert's actions based on the observed states. The goal is for the model to replicate the expert's behavior by minimizing the difference between its predicted actions and the expert's actions."
      ]
    },
    {
      "cell_type": "code",
      "execution_count": 30,
      "metadata": {
        "colab": {
          "base_uri": "https://localhost:8080/"
        },
        "id": "83vk-JHqSdqV",
        "outputId": "889550b9-e900-40d4-83a9-2d443e0f7cad"
      },
      "outputs": [
        {
          "name": "stderr",
          "output_type": "stream",
          "text": [
            "/usr/local/lib/python3.10/dist-packages/gym/core.py:317: DeprecationWarning: \u001b[33mWARN: Initializing wrapper in old step API which returns one bool instead of two. It is recommended to set `new_step_api=True` to use new step API. This will be the default behaviour in future.\u001b[0m\n",
            "  deprecation(\n",
            "/usr/local/lib/python3.10/dist-packages/gym/wrappers/step_api_compatibility.py:39: DeprecationWarning: \u001b[33mWARN: Initializing environment in old step API which returns one bool instead of two. It is recommended to set `new_step_api=True` to use new step API. This will be the default behaviour in future.\u001b[0m\n",
            "  deprecation(\n",
            "  0%|          | 0/1000 [00:00<?, ?it/s]/usr/local/lib/python3.10/dist-packages/gym/utils/passive_env_checker.py:241: DeprecationWarning: `np.bool8` is a deprecated alias for `np.bool_`.  (Deprecated NumPy 1.24)\n",
            "  if not isinstance(terminated, (bool, np.bool8)):\n",
            "100%|██████████| 1000/1000 [01:20<00:00, 12.45it/s]\n"
          ]
        }
      ],
      "source": [
        "env = gym.make('CartPole-v1')\n",
        "num_episodes = 1000\n",
        "expert_data = []\n",
        "\n",
        "state_action_pairs = []\n",
        "for _ in tqdm(range(num_episodes)):\n",
        "    state = env.reset()\n",
        "    done = False\n",
        "    while not done:\n",
        "        action = agent.get_next_action(state, evaluation_episode=True)\n",
        "        next_state, reward, done, _ = env.step(action)\n",
        "        state_action_pairs.append((state, action))\n",
        "        state = next_state\n",
        "env.close()"
      ]
    },
    {
      "cell_type": "code",
      "execution_count": 48,
      "metadata": {
        "colab": {
          "base_uri": "https://localhost:8080/"
        },
        "id": "Xojov1LeUl_F",
        "outputId": "a02aace3-9812-4ca0-9207-1fec353617ab"
      },
      "outputs": [
        {
          "name": "stderr",
          "output_type": "stream",
          "text": [
            "/usr/local/lib/python3.10/dist-packages/ipykernel/ipkernel.py:283: DeprecationWarning: `should_run_async` will not call `transform_cell` automatically in the future. Please pass the result to `transformed_cell` argument and any exception that happen during thetransform in `preprocessing_exc_tuple` in IPython 7.17 and above.\n",
            "  and should_run_async(code)\n"
          ]
        }
      ],
      "source": [
        "class BCModel(nn.Module):\n",
        "    def __init__(self, input_dimension, hidden_dimension, output_dimension):\n",
        "        super(BCModel, self).__init__()\n",
        "        self.fc1 = nn.Linear(input_dimension, hidden_dimension)\n",
        "        self.fc2 = nn.Linear(hidden_dimension, output_dimension)\n",
        "\n",
        "    def forward(self, x):\n",
        "        output = self.fc2(F.relu(self.fc1(x)))\n",
        "        return F.softmax(output, dim=1)"
      ]
    },
    {
      "cell_type": "code",
      "execution_count": 86,
      "metadata": {
        "colab": {
          "base_uri": "https://localhost:8080/"
        },
        "id": "ZxLrpNIpg2Mu",
        "outputId": "219ad7ee-20a6-4942-ccb2-6a32a35ab875"
      },
      "outputs": [
        {
          "name": "stdout",
          "output_type": "stream",
          "text": [
            "Epoch 1/50, Loss: 1302.4789736270905\n",
            "Epoch 2/50, Loss: 1061.6405933499336\n",
            "Epoch 3/50, Loss: 1038.7898290455341\n",
            "Epoch 4/50, Loss: 1030.0504279136658\n",
            "Epoch 5/50, Loss: 1025.3028017282486\n",
            "Epoch 6/50, Loss: 1021.9266104400158\n",
            "Epoch 7/50, Loss: 1018.9290329217911\n",
            "Epoch 8/50, Loss: 1015.8216678798199\n",
            "Epoch 9/50, Loss: 1012.2758173942566\n",
            "Epoch 10/50, Loss: 1007.9636600613594\n",
            "Epoch 11/50, Loss: 1002.5590259730816\n",
            "Epoch 12/50, Loss: 996.0012364685535\n",
            "Epoch 13/50, Loss: 988.6962422132492\n",
            "Epoch 14/50, Loss: 980.958495259285\n",
            "Epoch 15/50, Loss: 973.0348530709743\n",
            "Epoch 16/50, Loss: 965.3534381687641\n",
            "Epoch 17/50, Loss: 957.9064915180206\n",
            "Epoch 18/50, Loss: 950.7403783202171\n",
            "Epoch 19/50, Loss: 943.944033741951\n",
            "Epoch 20/50, Loss: 937.5728671550751\n",
            "Epoch 21/50, Loss: 931.6590045392513\n",
            "Epoch 22/50, Loss: 926.221054494381\n",
            "Epoch 23/50, Loss: 921.2464279234409\n",
            "Epoch 24/50, Loss: 916.6976138055325\n",
            "Epoch 25/50, Loss: 912.5276212096214\n",
            "Epoch 26/50, Loss: 908.7048543989658\n",
            "Epoch 27/50, Loss: 905.2041323781013\n",
            "Epoch 28/50, Loss: 901.9838468134403\n",
            "Epoch 29/50, Loss: 899.0014668107033\n",
            "Epoch 30/50, Loss: 896.2341081500053\n",
            "Epoch 31/50, Loss: 893.6732169389725\n",
            "Epoch 32/50, Loss: 891.3061480820179\n",
            "Epoch 33/50, Loss: 889.1018832027912\n",
            "Epoch 34/50, Loss: 887.0538514852524\n",
            "Epoch 35/50, Loss: 885.1491978764534\n",
            "Epoch 36/50, Loss: 883.3698916137218\n",
            "Epoch 37/50, Loss: 881.7002157866955\n",
            "Epoch 38/50, Loss: 880.126854300499\n",
            "Epoch 39/50, Loss: 878.648783415556\n",
            "Epoch 40/50, Loss: 877.2573550641537\n",
            "Epoch 41/50, Loss: 875.9391607940197\n",
            "Epoch 42/50, Loss: 874.6872853040695\n",
            "Epoch 43/50, Loss: 873.4990223348141\n",
            "Epoch 44/50, Loss: 872.3666413128376\n",
            "Epoch 45/50, Loss: 871.2874422371387\n",
            "Epoch 46/50, Loss: 870.2612972855568\n",
            "Epoch 47/50, Loss: 869.2867857217789\n",
            "Epoch 48/50, Loss: 868.3637700676918\n",
            "Epoch 49/50, Loss: 867.4839522540569\n",
            "Epoch 50/50, Loss: 866.635977357626\n"
          ]
        }
      ],
      "source": [
        "state_dim = env.observation_space.shape[0]\n",
        "action_dim = env.action_space.n\n",
        "bc_model = BCModel(state_dim, 64, action_dim)\n",
        "criterion = nn.CrossEntropyLoss()\n",
        "optimizer = torch.optim.Adam(bc_model.parameters(), lr=2e-4)\n",
        "\n",
        "num_epochs = 50\n",
        "batch_size = 128\n",
        "bc_model.train()\n",
        "\n",
        "\n",
        "for epoch in range(num_epochs):\n",
        "    total_loss = 0\n",
        "    for i in range(0, len(state_action_pairs), batch_size):\n",
        "        batch = state_action_pairs[i:i+batch_size]\n",
        "        states = torch.tensor([state for state, _ in batch])\n",
        "        actions = torch.tensor([action for _, action in batch])\n",
        "        optimizer.zero_grad()\n",
        "        outputs = bc_model(states)\n",
        "        loss = criterion(outputs, actions)\n",
        "        loss.backward()\n",
        "        optimizer.step()\n",
        "        total_loss += loss.item()\n",
        "    print(f'Epoch {epoch+1}/{num_epochs}, Loss: {total_loss}')"
      ]
    },
    {
      "cell_type": "code",
      "execution_count": 88,
      "metadata": {
        "colab": {
          "base_uri": "https://localhost:8080/",
          "height": 426
        },
        "id": "LL1Qik9DhJh0",
        "outputId": "70b1c3dc-be14-48c1-afc3-95e7bc32bdba"
      },
      "outputs": [
        {
          "name": "stderr",
          "output_type": "stream",
          "text": [
            "/usr/local/lib/python3.10/dist-packages/gym/core.py:317: DeprecationWarning: \u001b[33mWARN: Initializing wrapper in old step API which returns one bool instead of two. It is recommended to set `new_step_api=True` to use new step API. This will be the default behaviour in future.\u001b[0m\n",
            "  deprecation(\n",
            "/usr/local/lib/python3.10/dist-packages/gym/wrappers/step_api_compatibility.py:39: DeprecationWarning: \u001b[33mWARN: Initializing environment in old step API which returns one bool instead of two. It is recommended to set `new_step_api=True` to use new step API. This will be the default behaviour in future.\u001b[0m\n",
            "  deprecation(\n",
            "/usr/local/lib/python3.10/dist-packages/gym/utils/passive_env_checker.py:241: DeprecationWarning: `np.bool8` is a deprecated alias for `np.bool_`.  (Deprecated NumPy 1.24)\n",
            "  if not isinstance(terminated, (bool, np.bool8)):\n",
            "WARNING:imageio_ffmpeg:IMAGEIO FFMPEG_WRITER WARNING: input image is not divisible by macro_block_size=16, resizing from (600, 400) to (608, 400) to ensure video compatibility with most codecs and players. To prevent resizing, make your input image divisible by the macro_block_size or set the macro_block_size to 1 (risking incompatibility).\n"
          ]
        },
        {
          "data": {
            "text/html": [
              "\n",
              "    <video width=400 controls>\n",
              "          <source src=\"data:video/mp4;base64,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\" type=\"video/mp4\">\n",
              "    </video>\n",
              "    "
            ],
            "text/plain": [
              "<IPython.core.display.HTML object>"
            ]
          },
          "execution_count": 88,
          "metadata": {},
          "output_type": "execute_result"
        }
      ],
      "source": [
        "env = gym.make(\"CartPole-v1\", render_mode=\"rgb_array\")\n",
        "frames = []\n",
        "bc_model.eval()\n",
        "state = env.reset()\n",
        "for _ in range(100):\n",
        "    frames.append(env.render()[0])\n",
        "    state = torch.tensor(state).unsqueeze(0)\n",
        "    action = bc_model(state).squeeze(0).argmax().item()\n",
        "    state, reward, done, info = env.step(action)\n",
        "    if done:\n",
        "        break\n",
        "env.close()\n",
        "imageio.mimsave('./bc.mp4', frames, fps=25)\n",
        "show_video('./bc.mp4')"
      ]
    }
  ],
  "metadata": {
    "colab": {
      "provenance": []
    },
    "kernelspec": {
      "display_name": "Python 3",
      "name": "python3"
    },
    "language_info": {
      "codemirror_mode": {
        "name": "ipython",
        "version": 3
      },
      "file_extension": ".py",
      "mimetype": "text/x-python",
      "name": "python",
      "nbconvert_exporter": "python",
      "pygments_lexer": "ipython3",
      "version": "3.10.4"
    }
  },
  "nbformat": 4,
  "nbformat_minor": 0
}
