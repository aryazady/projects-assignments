{
  "cells": [
    {
      "attachments": {},
      "cell_type": "markdown",
      "metadata": {
        "id": "jO8Bc9YcB5RB"
      },
      "source": [
        "<font face=\"Times New Roman\">\n",
        "<div dir=ltr align=center>\n",
        "<font color=3C99D size=8>\n",
        "    Random Forest and XGboost"
      ]
    },
    {
      "attachments": {},
      "cell_type": "markdown",
      "metadata": {
        "id": "U2sVgR-sB5RG"
      },
      "source": [
        "### Breasr Cancer\n",
        "In this practical assignment, you are going to train a Random Forest and XGBoost model on <code>breast_cancer.csv</code> dataset to predict the survive rate of the patients."
      ]
    },
    {
      "cell_type": "code",
      "execution_count": 1,
      "metadata": {
        "id": "lnp5ZcxSEkb8"
      },
      "outputs": [],
      "source": [
        "# !pip install xgboost"
      ]
    },
    {
      "cell_type": "code",
      "execution_count": 4,
      "metadata": {
        "id": "cEiXTug2CXEc"
      },
      "outputs": [],
      "source": [
        "import pandas as pd\n",
        "import numpy as np\n",
        "from xgboost import XGBClassifier\n",
        "from xgboost import plot_tree\n",
        "import matplotlib.pyplot as plt\n",
        "from sklearn.model_selection import train_test_split, GridSearchCV, RandomizedSearchCV, RepeatedKFold, StratifiedKFold\n",
        "from sklearn.base import BaseEstimator, TransformerMixin\n",
        "from sklearn.pipeline import Pipeline\n",
        "from sklearn.preprocessing import OneHotEncoder, StandardScaler\n",
        "from sklearn.impute import SimpleImputer\n",
        "from sklearn.compose import ColumnTransformer\n",
        "from sklearn.ensemble import RandomForestClassifier\n",
        "from sklearn.metrics import confusion_matrix, f1_score, accuracy_score, ConfusionMatrixDisplay, roc_auc_score, roc_curve"
      ]
    },
    {
      "attachments": {},
      "cell_type": "markdown",
      "metadata": {
        "id": "1e_UXHe3B5RH"
      },
      "source": [
        "#### Loading the Data"
      ]
    },
    {
      "cell_type": "code",
      "execution_count": 5,
      "metadata": {
        "id": "jaRibnlAB5RI"
      },
      "outputs": [],
      "source": [
        "df = pd.read_csv(\"./breast_cancer.csv\")"
      ]
    },
    {
      "cell_type": "code",
      "execution_count": 6,
      "metadata": {
        "colab": {
          "base_uri": "https://localhost:8080/"
        },
        "id": "nNR17TYRsxbD",
        "outputId": "3cbba816-cc12-4858-9bd2-1617e5ce2d83"
      },
      "outputs": [
        {
          "data": {
            "text/plain": [
              "461"
            ]
          },
          "execution_count": 6,
          "metadata": {},
          "output_type": "execute_result"
        }
      ],
      "source": [
        "df.isna().sum().sum()"
      ]
    },
    {
      "attachments": {},
      "cell_type": "markdown",
      "metadata": {
        "id": "5zPud3PpB5RJ"
      },
      "source": [
        "### Data Exploration"
      ]
    },
    {
      "cell_type": "code",
      "execution_count": 7,
      "metadata": {
        "colab": {
          "base_uri": "https://localhost:8080/",
          "height": 403
        },
        "id": "dAgbOGpj23Br",
        "outputId": "70889556-4b35-4c02-e978-e54a4313273a"
      },
      "outputs": [
        {
          "data": {
            "text/html": [
              "\n",
              "  <div id=\"df-fdef9f31-d538-4f2e-95ea-7709f46d9790\">\n",
              "    <div class=\"colab-df-container\">\n",
              "      <div>\n",
              "<style scoped>\n",
              "    .dataframe tbody tr th:only-of-type {\n",
              "        vertical-align: middle;\n",
              "    }\n",
              "\n",
              "    .dataframe tbody tr th {\n",
              "        vertical-align: top;\n",
              "    }\n",
              "\n",
              "    .dataframe thead th {\n",
              "        text-align: right;\n",
              "    }\n",
              "</style>\n",
              "<table border=\"1\" class=\"dataframe\">\n",
              "  <thead>\n",
              "    <tr style=\"text-align: right;\">\n",
              "      <th></th>\n",
              "      <th>Unnamed: 0</th>\n",
              "      <th>age_at_diagnosis</th>\n",
              "      <th>type_of_breast_surgery</th>\n",
              "      <th>cancer_type_detailed</th>\n",
              "      <th>cellularity</th>\n",
              "      <th>chemotherapy</th>\n",
              "      <th>pam50_+_claudin-low_subtype</th>\n",
              "      <th>cohort</th>\n",
              "      <th>er_status_measured_by_ihc</th>\n",
              "      <th>er_status</th>\n",
              "      <th>...</th>\n",
              "      <th>lymph_nodes_examined_positive</th>\n",
              "      <th>mutation_count</th>\n",
              "      <th>nottingham_prognostic_index</th>\n",
              "      <th>oncotree_code</th>\n",
              "      <th>pr_status</th>\n",
              "      <th>radio_therapy</th>\n",
              "      <th>3-gene_classifier_subtype</th>\n",
              "      <th>tumor_size</th>\n",
              "      <th>tumor_stage</th>\n",
              "      <th>overall_survival</th>\n",
              "    </tr>\n",
              "  </thead>\n",
              "  <tbody>\n",
              "    <tr>\n",
              "      <th>0</th>\n",
              "      <td>0</td>\n",
              "      <td>75.65</td>\n",
              "      <td>MASTECTOMY</td>\n",
              "      <td>Breast Invasive Ductal Carcinoma</td>\n",
              "      <td>NaN</td>\n",
              "      <td>0</td>\n",
              "      <td>claudin-low</td>\n",
              "      <td>1.0</td>\n",
              "      <td>Positve</td>\n",
              "      <td>Positive</td>\n",
              "      <td>...</td>\n",
              "      <td>10.0</td>\n",
              "      <td>5.697687</td>\n",
              "      <td>6.044</td>\n",
              "      <td>IDC</td>\n",
              "      <td>Negative</td>\n",
              "      <td>1</td>\n",
              "      <td>ER-/HER2-</td>\n",
              "      <td>22.0</td>\n",
              "      <td>2.0</td>\n",
              "      <td>1</td>\n",
              "    </tr>\n",
              "    <tr>\n",
              "      <th>1</th>\n",
              "      <td>1</td>\n",
              "      <td>43.19</td>\n",
              "      <td>BREAST CONSERVING</td>\n",
              "      <td>Breast Invasive Ductal Carcinoma</td>\n",
              "      <td>High</td>\n",
              "      <td>0</td>\n",
              "      <td>LumA</td>\n",
              "      <td>1.0</td>\n",
              "      <td>Positve</td>\n",
              "      <td>Positive</td>\n",
              "      <td>...</td>\n",
              "      <td>0.0</td>\n",
              "      <td>2.000000</td>\n",
              "      <td>4.020</td>\n",
              "      <td>IDC</td>\n",
              "      <td>Positive</td>\n",
              "      <td>1</td>\n",
              "      <td>ER+/HER2- High Prolif</td>\n",
              "      <td>10.0</td>\n",
              "      <td>1.0</td>\n",
              "      <td>1</td>\n",
              "    </tr>\n",
              "    <tr>\n",
              "      <th>2</th>\n",
              "      <td>2</td>\n",
              "      <td>48.87</td>\n",
              "      <td>MASTECTOMY</td>\n",
              "      <td>Breast Invasive Ductal Carcinoma</td>\n",
              "      <td>High</td>\n",
              "      <td>1</td>\n",
              "      <td>LumB</td>\n",
              "      <td>1.0</td>\n",
              "      <td>Positve</td>\n",
              "      <td>Positive</td>\n",
              "      <td>...</td>\n",
              "      <td>1.0</td>\n",
              "      <td>2.000000</td>\n",
              "      <td>4.030</td>\n",
              "      <td>IDC</td>\n",
              "      <td>Positive</td>\n",
              "      <td>0</td>\n",
              "      <td>NaN</td>\n",
              "      <td>15.0</td>\n",
              "      <td>2.0</td>\n",
              "      <td>0</td>\n",
              "    </tr>\n",
              "    <tr>\n",
              "      <th>3</th>\n",
              "      <td>3</td>\n",
              "      <td>47.68</td>\n",
              "      <td>MASTECTOMY</td>\n",
              "      <td>Breast Mixed Ductal and Lobular Carcinoma</td>\n",
              "      <td>Moderate</td>\n",
              "      <td>1</td>\n",
              "      <td>LumB</td>\n",
              "      <td>1.0</td>\n",
              "      <td>Positve</td>\n",
              "      <td>Positive</td>\n",
              "      <td>...</td>\n",
              "      <td>3.0</td>\n",
              "      <td>1.000000</td>\n",
              "      <td>4.050</td>\n",
              "      <td>MDLC</td>\n",
              "      <td>Positive</td>\n",
              "      <td>1</td>\n",
              "      <td>NaN</td>\n",
              "      <td>25.0</td>\n",
              "      <td>2.0</td>\n",
              "      <td>1</td>\n",
              "    </tr>\n",
              "    <tr>\n",
              "      <th>4</th>\n",
              "      <td>4</td>\n",
              "      <td>76.97</td>\n",
              "      <td>MASTECTOMY</td>\n",
              "      <td>Breast Mixed Ductal and Lobular Carcinoma</td>\n",
              "      <td>High</td>\n",
              "      <td>1</td>\n",
              "      <td>LumB</td>\n",
              "      <td>1.0</td>\n",
              "      <td>Positve</td>\n",
              "      <td>Positive</td>\n",
              "      <td>...</td>\n",
              "      <td>8.0</td>\n",
              "      <td>2.000000</td>\n",
              "      <td>6.080</td>\n",
              "      <td>MDLC</td>\n",
              "      <td>Positive</td>\n",
              "      <td>1</td>\n",
              "      <td>ER+/HER2- High Prolif</td>\n",
              "      <td>40.0</td>\n",
              "      <td>2.0</td>\n",
              "      <td>0</td>\n",
              "    </tr>\n",
              "  </tbody>\n",
              "</table>\n",
              "<p>5 rows × 28 columns</p>\n",
              "</div>\n",
              "      <button class=\"colab-df-convert\" onclick=\"convertToInteractive('df-fdef9f31-d538-4f2e-95ea-7709f46d9790')\"\n",
              "              title=\"Convert this dataframe to an interactive table.\"\n",
              "              style=\"display:none;\">\n",
              "        \n",
              "  <svg xmlns=\"http://www.w3.org/2000/svg\" height=\"24px\"viewBox=\"0 0 24 24\"\n",
              "       width=\"24px\">\n",
              "    <path d=\"M0 0h24v24H0V0z\" fill=\"none\"/>\n",
              "    <path d=\"M18.56 5.44l.94 2.06.94-2.06 2.06-.94-2.06-.94-.94-2.06-.94 2.06-2.06.94zm-11 1L8.5 8.5l.94-2.06 2.06-.94-2.06-.94L8.5 2.5l-.94 2.06-2.06.94zm10 10l.94 2.06.94-2.06 2.06-.94-2.06-.94-.94-2.06-.94 2.06-2.06.94z\"/><path d=\"M17.41 7.96l-1.37-1.37c-.4-.4-.92-.59-1.43-.59-.52 0-1.04.2-1.43.59L10.3 9.45l-7.72 7.72c-.78.78-.78 2.05 0 2.83L4 21.41c.39.39.9.59 1.41.59.51 0 1.02-.2 1.41-.59l7.78-7.78 2.81-2.81c.8-.78.8-2.07 0-2.86zM5.41 20L4 18.59l7.72-7.72 1.47 1.35L5.41 20z\"/>\n",
              "  </svg>\n",
              "      </button>\n",
              "      \n",
              "  <style>\n",
              "    .colab-df-container {\n",
              "      display:flex;\n",
              "      flex-wrap:wrap;\n",
              "      gap: 12px;\n",
              "    }\n",
              "\n",
              "    .colab-df-convert {\n",
              "      background-color: #E8F0FE;\n",
              "      border: none;\n",
              "      border-radius: 50%;\n",
              "      cursor: pointer;\n",
              "      display: none;\n",
              "      fill: #1967D2;\n",
              "      height: 32px;\n",
              "      padding: 0 0 0 0;\n",
              "      width: 32px;\n",
              "    }\n",
              "\n",
              "    .colab-df-convert:hover {\n",
              "      background-color: #E2EBFA;\n",
              "      box-shadow: 0px 1px 2px rgba(60, 64, 67, 0.3), 0px 1px 3px 1px rgba(60, 64, 67, 0.15);\n",
              "      fill: #174EA6;\n",
              "    }\n",
              "\n",
              "    [theme=dark] .colab-df-convert {\n",
              "      background-color: #3B4455;\n",
              "      fill: #D2E3FC;\n",
              "    }\n",
              "\n",
              "    [theme=dark] .colab-df-convert:hover {\n",
              "      background-color: #434B5C;\n",
              "      box-shadow: 0px 1px 3px 1px rgba(0, 0, 0, 0.15);\n",
              "      filter: drop-shadow(0px 1px 2px rgba(0, 0, 0, 0.3));\n",
              "      fill: #FFFFFF;\n",
              "    }\n",
              "  </style>\n",
              "\n",
              "      <script>\n",
              "        const buttonEl =\n",
              "          document.querySelector('#df-fdef9f31-d538-4f2e-95ea-7709f46d9790 button.colab-df-convert');\n",
              "        buttonEl.style.display =\n",
              "          google.colab.kernel.accessAllowed ? 'block' : 'none';\n",
              "\n",
              "        async function convertToInteractive(key) {\n",
              "          const element = document.querySelector('#df-fdef9f31-d538-4f2e-95ea-7709f46d9790');\n",
              "          const dataTable =\n",
              "            await google.colab.kernel.invokeFunction('convertToInteractive',\n",
              "                                                     [key], {});\n",
              "          if (!dataTable) return;\n",
              "\n",
              "          const docLinkHtml = 'Like what you see? Visit the ' +\n",
              "            '<a target=\"_blank\" href=https://colab.research.google.com/notebooks/data_table.ipynb>data table notebook</a>'\n",
              "            + ' to learn more about interactive tables.';\n",
              "          element.innerHTML = '';\n",
              "          dataTable['output_type'] = 'display_data';\n",
              "          await google.colab.output.renderOutput(dataTable, element);\n",
              "          const docLink = document.createElement('div');\n",
              "          docLink.innerHTML = docLinkHtml;\n",
              "          element.appendChild(docLink);\n",
              "        }\n",
              "      </script>\n",
              "    </div>\n",
              "  </div>\n",
              "  "
            ],
            "text/plain": [
              "   Unnamed: 0  age_at_diagnosis type_of_breast_surgery  \\\n",
              "0           0             75.65             MASTECTOMY   \n",
              "1           1             43.19      BREAST CONSERVING   \n",
              "2           2             48.87             MASTECTOMY   \n",
              "3           3             47.68             MASTECTOMY   \n",
              "4           4             76.97             MASTECTOMY   \n",
              "\n",
              "                        cancer_type_detailed cellularity  chemotherapy  \\\n",
              "0           Breast Invasive Ductal Carcinoma         NaN             0   \n",
              "1           Breast Invasive Ductal Carcinoma        High             0   \n",
              "2           Breast Invasive Ductal Carcinoma        High             1   \n",
              "3  Breast Mixed Ductal and Lobular Carcinoma    Moderate             1   \n",
              "4  Breast Mixed Ductal and Lobular Carcinoma        High             1   \n",
              "\n",
              "  pam50_+_claudin-low_subtype  cohort er_status_measured_by_ihc er_status  \\\n",
              "0                 claudin-low     1.0                   Positve  Positive   \n",
              "1                        LumA     1.0                   Positve  Positive   \n",
              "2                        LumB     1.0                   Positve  Positive   \n",
              "3                        LumB     1.0                   Positve  Positive   \n",
              "4                        LumB     1.0                   Positve  Positive   \n",
              "\n",
              "   ...  lymph_nodes_examined_positive mutation_count  \\\n",
              "0  ...                           10.0       5.697687   \n",
              "1  ...                            0.0       2.000000   \n",
              "2  ...                            1.0       2.000000   \n",
              "3  ...                            3.0       1.000000   \n",
              "4  ...                            8.0       2.000000   \n",
              "\n",
              "  nottingham_prognostic_index oncotree_code  pr_status radio_therapy  \\\n",
              "0                       6.044           IDC   Negative             1   \n",
              "1                       4.020           IDC   Positive             1   \n",
              "2                       4.030           IDC   Positive             0   \n",
              "3                       4.050          MDLC   Positive             1   \n",
              "4                       6.080          MDLC   Positive             1   \n",
              "\n",
              "  3-gene_classifier_subtype tumor_size  tumor_stage  overall_survival  \n",
              "0                 ER-/HER2-       22.0          2.0                 1  \n",
              "1     ER+/HER2- High Prolif       10.0          1.0                 1  \n",
              "2                       NaN       15.0          2.0                 0  \n",
              "3                       NaN       25.0          2.0                 1  \n",
              "4     ER+/HER2- High Prolif       40.0          2.0                 0  \n",
              "\n",
              "[5 rows x 28 columns]"
            ]
          },
          "execution_count": 7,
          "metadata": {},
          "output_type": "execute_result"
        }
      ],
      "source": [
        "df.head(5)"
      ]
    },
    {
      "cell_type": "code",
      "execution_count": 8,
      "metadata": {
        "colab": {
          "base_uri": "https://localhost:8080/",
          "height": 364
        },
        "id": "H0t8uLzpB5RK",
        "outputId": "38f70793-b278-4da0-c5ff-7e9bed80ea66"
      },
      "outputs": [
        {
          "data": {
            "text/html": [
              "\n",
              "  <div id=\"df-372e9709-efeb-4dc1-b583-18ddcf449e6a\">\n",
              "    <div class=\"colab-df-container\">\n",
              "      <div>\n",
              "<style scoped>\n",
              "    .dataframe tbody tr th:only-of-type {\n",
              "        vertical-align: middle;\n",
              "    }\n",
              "\n",
              "    .dataframe tbody tr th {\n",
              "        vertical-align: top;\n",
              "    }\n",
              "\n",
              "    .dataframe thead th {\n",
              "        text-align: right;\n",
              "    }\n",
              "</style>\n",
              "<table border=\"1\" class=\"dataframe\">\n",
              "  <thead>\n",
              "    <tr style=\"text-align: right;\">\n",
              "      <th></th>\n",
              "      <th>Unnamed: 0</th>\n",
              "      <th>age_at_diagnosis</th>\n",
              "      <th>chemotherapy</th>\n",
              "      <th>cohort</th>\n",
              "      <th>neoplasm_histologic_grade</th>\n",
              "      <th>hormone_therapy</th>\n",
              "      <th>lymph_nodes_examined_positive</th>\n",
              "      <th>mutation_count</th>\n",
              "      <th>nottingham_prognostic_index</th>\n",
              "      <th>radio_therapy</th>\n",
              "      <th>tumor_size</th>\n",
              "      <th>tumor_stage</th>\n",
              "      <th>overall_survival</th>\n",
              "    </tr>\n",
              "  </thead>\n",
              "  <tbody>\n",
              "    <tr>\n",
              "      <th>count</th>\n",
              "      <td>1904.000000</td>\n",
              "      <td>1904.000000</td>\n",
              "      <td>1904.000000</td>\n",
              "      <td>1904.000000</td>\n",
              "      <td>1904.000000</td>\n",
              "      <td>1904.000000</td>\n",
              "      <td>1904.000000</td>\n",
              "      <td>1904.000000</td>\n",
              "      <td>1904.000000</td>\n",
              "      <td>1904.000000</td>\n",
              "      <td>1904.000000</td>\n",
              "      <td>1904.000000</td>\n",
              "      <td>1904.000000</td>\n",
              "    </tr>\n",
              "    <tr>\n",
              "      <th>mean</th>\n",
              "      <td>951.500000</td>\n",
              "      <td>61.087054</td>\n",
              "      <td>0.207983</td>\n",
              "      <td>2.643908</td>\n",
              "      <td>2.415939</td>\n",
              "      <td>0.616597</td>\n",
              "      <td>2.002101</td>\n",
              "      <td>5.697687</td>\n",
              "      <td>4.033019</td>\n",
              "      <td>0.597164</td>\n",
              "      <td>26.238726</td>\n",
              "      <td>1.750535</td>\n",
              "      <td>0.420693</td>\n",
              "    </tr>\n",
              "    <tr>\n",
              "      <th>std</th>\n",
              "      <td>549.781775</td>\n",
              "      <td>12.978711</td>\n",
              "      <td>0.405971</td>\n",
              "      <td>1.228615</td>\n",
              "      <td>0.638185</td>\n",
              "      <td>0.486343</td>\n",
              "      <td>4.079993</td>\n",
              "      <td>4.010503</td>\n",
              "      <td>1.144492</td>\n",
              "      <td>0.490597</td>\n",
              "      <td>15.081097</td>\n",
              "      <td>0.539889</td>\n",
              "      <td>0.493800</td>\n",
              "    </tr>\n",
              "    <tr>\n",
              "      <th>min</th>\n",
              "      <td>0.000000</td>\n",
              "      <td>21.930000</td>\n",
              "      <td>0.000000</td>\n",
              "      <td>1.000000</td>\n",
              "      <td>1.000000</td>\n",
              "      <td>0.000000</td>\n",
              "      <td>0.000000</td>\n",
              "      <td>1.000000</td>\n",
              "      <td>1.000000</td>\n",
              "      <td>0.000000</td>\n",
              "      <td>1.000000</td>\n",
              "      <td>0.000000</td>\n",
              "      <td>0.000000</td>\n",
              "    </tr>\n",
              "    <tr>\n",
              "      <th>25%</th>\n",
              "      <td>475.750000</td>\n",
              "      <td>51.375000</td>\n",
              "      <td>0.000000</td>\n",
              "      <td>1.000000</td>\n",
              "      <td>2.000000</td>\n",
              "      <td>0.000000</td>\n",
              "      <td>0.000000</td>\n",
              "      <td>3.000000</td>\n",
              "      <td>3.046000</td>\n",
              "      <td>0.000000</td>\n",
              "      <td>17.000000</td>\n",
              "      <td>1.000000</td>\n",
              "      <td>0.000000</td>\n",
              "    </tr>\n",
              "    <tr>\n",
              "      <th>50%</th>\n",
              "      <td>951.500000</td>\n",
              "      <td>61.770000</td>\n",
              "      <td>0.000000</td>\n",
              "      <td>3.000000</td>\n",
              "      <td>2.415939</td>\n",
              "      <td>1.000000</td>\n",
              "      <td>0.000000</td>\n",
              "      <td>5.000000</td>\n",
              "      <td>4.042000</td>\n",
              "      <td>1.000000</td>\n",
              "      <td>23.000000</td>\n",
              "      <td>1.750535</td>\n",
              "      <td>0.000000</td>\n",
              "    </tr>\n",
              "    <tr>\n",
              "      <th>75%</th>\n",
              "      <td>1427.250000</td>\n",
              "      <td>70.592500</td>\n",
              "      <td>0.000000</td>\n",
              "      <td>3.000000</td>\n",
              "      <td>3.000000</td>\n",
              "      <td>1.000000</td>\n",
              "      <td>2.000000</td>\n",
              "      <td>7.000000</td>\n",
              "      <td>5.040250</td>\n",
              "      <td>1.000000</td>\n",
              "      <td>30.000000</td>\n",
              "      <td>2.000000</td>\n",
              "      <td>1.000000</td>\n",
              "    </tr>\n",
              "    <tr>\n",
              "      <th>max</th>\n",
              "      <td>1903.000000</td>\n",
              "      <td>96.290000</td>\n",
              "      <td>1.000000</td>\n",
              "      <td>5.000000</td>\n",
              "      <td>3.000000</td>\n",
              "      <td>1.000000</td>\n",
              "      <td>45.000000</td>\n",
              "      <td>80.000000</td>\n",
              "      <td>6.360000</td>\n",
              "      <td>1.000000</td>\n",
              "      <td>182.000000</td>\n",
              "      <td>4.000000</td>\n",
              "      <td>1.000000</td>\n",
              "    </tr>\n",
              "  </tbody>\n",
              "</table>\n",
              "</div>\n",
              "      <button class=\"colab-df-convert\" onclick=\"convertToInteractive('df-372e9709-efeb-4dc1-b583-18ddcf449e6a')\"\n",
              "              title=\"Convert this dataframe to an interactive table.\"\n",
              "              style=\"display:none;\">\n",
              "        \n",
              "  <svg xmlns=\"http://www.w3.org/2000/svg\" height=\"24px\"viewBox=\"0 0 24 24\"\n",
              "       width=\"24px\">\n",
              "    <path d=\"M0 0h24v24H0V0z\" fill=\"none\"/>\n",
              "    <path d=\"M18.56 5.44l.94 2.06.94-2.06 2.06-.94-2.06-.94-.94-2.06-.94 2.06-2.06.94zm-11 1L8.5 8.5l.94-2.06 2.06-.94-2.06-.94L8.5 2.5l-.94 2.06-2.06.94zm10 10l.94 2.06.94-2.06 2.06-.94-2.06-.94-.94-2.06-.94 2.06-2.06.94z\"/><path d=\"M17.41 7.96l-1.37-1.37c-.4-.4-.92-.59-1.43-.59-.52 0-1.04.2-1.43.59L10.3 9.45l-7.72 7.72c-.78.78-.78 2.05 0 2.83L4 21.41c.39.39.9.59 1.41.59.51 0 1.02-.2 1.41-.59l7.78-7.78 2.81-2.81c.8-.78.8-2.07 0-2.86zM5.41 20L4 18.59l7.72-7.72 1.47 1.35L5.41 20z\"/>\n",
              "  </svg>\n",
              "      </button>\n",
              "      \n",
              "  <style>\n",
              "    .colab-df-container {\n",
              "      display:flex;\n",
              "      flex-wrap:wrap;\n",
              "      gap: 12px;\n",
              "    }\n",
              "\n",
              "    .colab-df-convert {\n",
              "      background-color: #E8F0FE;\n",
              "      border: none;\n",
              "      border-radius: 50%;\n",
              "      cursor: pointer;\n",
              "      display: none;\n",
              "      fill: #1967D2;\n",
              "      height: 32px;\n",
              "      padding: 0 0 0 0;\n",
              "      width: 32px;\n",
              "    }\n",
              "\n",
              "    .colab-df-convert:hover {\n",
              "      background-color: #E2EBFA;\n",
              "      box-shadow: 0px 1px 2px rgba(60, 64, 67, 0.3), 0px 1px 3px 1px rgba(60, 64, 67, 0.15);\n",
              "      fill: #174EA6;\n",
              "    }\n",
              "\n",
              "    [theme=dark] .colab-df-convert {\n",
              "      background-color: #3B4455;\n",
              "      fill: #D2E3FC;\n",
              "    }\n",
              "\n",
              "    [theme=dark] .colab-df-convert:hover {\n",
              "      background-color: #434B5C;\n",
              "      box-shadow: 0px 1px 3px 1px rgba(0, 0, 0, 0.15);\n",
              "      filter: drop-shadow(0px 1px 2px rgba(0, 0, 0, 0.3));\n",
              "      fill: #FFFFFF;\n",
              "    }\n",
              "  </style>\n",
              "\n",
              "      <script>\n",
              "        const buttonEl =\n",
              "          document.querySelector('#df-372e9709-efeb-4dc1-b583-18ddcf449e6a button.colab-df-convert');\n",
              "        buttonEl.style.display =\n",
              "          google.colab.kernel.accessAllowed ? 'block' : 'none';\n",
              "\n",
              "        async function convertToInteractive(key) {\n",
              "          const element = document.querySelector('#df-372e9709-efeb-4dc1-b583-18ddcf449e6a');\n",
              "          const dataTable =\n",
              "            await google.colab.kernel.invokeFunction('convertToInteractive',\n",
              "                                                     [key], {});\n",
              "          if (!dataTable) return;\n",
              "\n",
              "          const docLinkHtml = 'Like what you see? Visit the ' +\n",
              "            '<a target=\"_blank\" href=https://colab.research.google.com/notebooks/data_table.ipynb>data table notebook</a>'\n",
              "            + ' to learn more about interactive tables.';\n",
              "          element.innerHTML = '';\n",
              "          dataTable['output_type'] = 'display_data';\n",
              "          await google.colab.output.renderOutput(dataTable, element);\n",
              "          const docLink = document.createElement('div');\n",
              "          docLink.innerHTML = docLinkHtml;\n",
              "          element.appendChild(docLink);\n",
              "        }\n",
              "      </script>\n",
              "    </div>\n",
              "  </div>\n",
              "  "
            ],
            "text/plain": [
              "        Unnamed: 0  age_at_diagnosis  chemotherapy       cohort  \\\n",
              "count  1904.000000       1904.000000   1904.000000  1904.000000   \n",
              "mean    951.500000         61.087054      0.207983     2.643908   \n",
              "std     549.781775         12.978711      0.405971     1.228615   \n",
              "min       0.000000         21.930000      0.000000     1.000000   \n",
              "25%     475.750000         51.375000      0.000000     1.000000   \n",
              "50%     951.500000         61.770000      0.000000     3.000000   \n",
              "75%    1427.250000         70.592500      0.000000     3.000000   \n",
              "max    1903.000000         96.290000      1.000000     5.000000   \n",
              "\n",
              "       neoplasm_histologic_grade  hormone_therapy  \\\n",
              "count                1904.000000      1904.000000   \n",
              "mean                    2.415939         0.616597   \n",
              "std                     0.638185         0.486343   \n",
              "min                     1.000000         0.000000   \n",
              "25%                     2.000000         0.000000   \n",
              "50%                     2.415939         1.000000   \n",
              "75%                     3.000000         1.000000   \n",
              "max                     3.000000         1.000000   \n",
              "\n",
              "       lymph_nodes_examined_positive  mutation_count  \\\n",
              "count                    1904.000000     1904.000000   \n",
              "mean                        2.002101        5.697687   \n",
              "std                         4.079993        4.010503   \n",
              "min                         0.000000        1.000000   \n",
              "25%                         0.000000        3.000000   \n",
              "50%                         0.000000        5.000000   \n",
              "75%                         2.000000        7.000000   \n",
              "max                        45.000000       80.000000   \n",
              "\n",
              "       nottingham_prognostic_index  radio_therapy   tumor_size  tumor_stage  \\\n",
              "count                  1904.000000    1904.000000  1904.000000  1904.000000   \n",
              "mean                      4.033019       0.597164    26.238726     1.750535   \n",
              "std                       1.144492       0.490597    15.081097     0.539889   \n",
              "min                       1.000000       0.000000     1.000000     0.000000   \n",
              "25%                       3.046000       0.000000    17.000000     1.000000   \n",
              "50%                       4.042000       1.000000    23.000000     1.750535   \n",
              "75%                       5.040250       1.000000    30.000000     2.000000   \n",
              "max                       6.360000       1.000000   182.000000     4.000000   \n",
              "\n",
              "       overall_survival  \n",
              "count       1904.000000  \n",
              "mean           0.420693  \n",
              "std            0.493800  \n",
              "min            0.000000  \n",
              "25%            0.000000  \n",
              "50%            0.000000  \n",
              "75%            1.000000  \n",
              "max            1.000000  "
            ]
          },
          "execution_count": 8,
          "metadata": {},
          "output_type": "execute_result"
        }
      ],
      "source": [
        "df.describe()"
      ]
    },
    {
      "attachments": {},
      "cell_type": "markdown",
      "metadata": {
        "id": "DE7hEApWB5RK"
      },
      "source": [
        "### Data Preparation\n",
        "#### Creatinging two custom transformers to put on our pipeline:\n",
        "* To split the data into categorical and numerical features and\n",
        "* To preprocess the categorical features. \n",
        "* Create the X feature matrix and the y target vector.\n",
        "* split the data."
      ]
    },
    {
      "cell_type": "code",
      "execution_count": 9,
      "metadata": {
        "id": "EFi20ggUrKFs"
      },
      "outputs": [],
      "source": [
        "class FeatureSelector(BaseEstimator, TransformerMixin):\n",
        "  def __init__(self, f_type=None):\n",
        "    self.f_type = f_type\n",
        "\n",
        "  def fit(self, X, y=None):\n",
        "    return self\n",
        "\n",
        "  def transform(self, X):\n",
        "    columns = []\n",
        "    if self.f_type == 'categorical':\n",
        "      for (i, t) in enumerate(X.dtypes):\n",
        "        if t == 'object':\n",
        "          columns.append(i)\n",
        "    else:\n",
        "      for (i, t) in enumerate(X.dtypes):\n",
        "        if t != 'object':\n",
        "          columns.append(i)\n",
        "    return X.iloc[:, columns]\n",
        "\n",
        "class CategoricalImputer(BaseEstimator, TransformerMixin):\n",
        "  def fit(self, X, y=None):\n",
        "    self.y = y\n",
        "    return self\n",
        "\n",
        "  def transform(self, X):\n",
        "    X.loc[:, 'overall_survival'] = self.y\n",
        "    f = lambda x: x.mode().iloc[0]\n",
        "    X = X.fillna(X.groupby(\"overall_survival\").transform(f))\n",
        "    return X.iloc[:, X.columns != \"overall_survival\"]"
      ]
    },
    {
      "cell_type": "code",
      "execution_count": 10,
      "metadata": {
        "colab": {
          "base_uri": "https://localhost:8080/"
        },
        "id": "GqcLo3X-kW6V",
        "outputId": "cb25fdf0-01a7-4502-8385-e60588c99ada"
      },
      "outputs": [
        {
          "name": "stderr",
          "output_type": "stream",
          "text": [
            "<ipython-input-9-e15589adbe27>:26: SettingWithCopyWarning: \n",
            "A value is trying to be set on a copy of a slice from a DataFrame.\n",
            "Try using .loc[row_indexer,col_indexer] = value instead\n",
            "\n",
            "See the caveats in the documentation: https://pandas.pydata.org/pandas-docs/stable/user_guide/indexing.html#returning-a-view-versus-a-copy\n",
            "  X.loc[:, 'overall_survival'] = self.y\n"
          ]
        }
      ],
      "source": [
        "df = df.drop(columns=['Unnamed: 0'])\n",
        "\n",
        "categorical_transformer = Pipeline(steps=[\n",
        "    ('feature selector', FeatureSelector(f_type='categorical')),\n",
        "    ('imputer', CategoricalImputer()),\n",
        "    ('encoder', OneHotEncoder())\n",
        "])\n",
        "numerical_transformer = Pipeline(steps=[\n",
        "    ('feature selector', FeatureSelector(f_type='numerical')),\n",
        "    ('imputer', SimpleImputer()),\n",
        "    ('scaler', StandardScaler())\n",
        "])\n",
        "\n",
        "preprocess = ColumnTransformer(\n",
        "   transformers=[\n",
        "    ('categorical', categorical_transformer, [_ for _ in range(len(df.columns)-1)]),\n",
        "    ('numerical', numerical_transformer, [_ for _ in range(len(df.columns)-1)])\n",
        "])\n",
        "\n",
        "y = 'overall_survival'\n",
        "x = df.loc[:, df.columns != y].columns\n",
        "data = preprocess.fit_transform(df[x], df[y])\n",
        "\n",
        "x_train, x_test, y_train, y_test = train_test_split(data, df[y], test_size = 0.2, stratify=df[y], random_state=1)"
      ]
    },
    {
      "attachments": {},
      "cell_type": "markdown",
      "metadata": {
        "id": "icoG9xBNC9Xr"
      },
      "source": [
        "# Implementing two different models"
      ]
    },
    {
      "attachments": {},
      "cell_type": "markdown",
      "metadata": {
        "id": "ssH7NCsIB5RL"
      },
      "source": [
        "## Random Forest"
      ]
    },
    {
      "attachments": {},
      "cell_type": "markdown",
      "metadata": {
        "id": "MP7VAAhcB5RL"
      },
      "source": [
        "### train the model"
      ]
    },
    {
      "cell_type": "code",
      "execution_count": null,
      "metadata": {
        "id": "L4KpaB4OB5RL"
      },
      "outputs": [],
      "source": [
        "rfc = RandomForestClassifier()\n",
        "rfc.fit(x_train, y_train)\n",
        "prediction = rfc.predict(x_test)"
      ]
    },
    {
      "attachments": {},
      "cell_type": "markdown",
      "metadata": {
        "id": "TI5qxBKQB5RM"
      },
      "source": [
        "### Model assessment"
      ]
    },
    {
      "cell_type": "code",
      "execution_count": null,
      "metadata": {
        "id": "zGz27IJvB5RM"
      },
      "outputs": [],
      "source": [
        "confusion = confusion_matrix(y_test, prediction)\n",
        "accuracy = accuracy_score(y_test, prediction)\n",
        "f1 = f1_score(y_test, prediction)\n",
        "\n",
        "print('Confusion:\\n', confusion)\n",
        "print('Accuracy:', accuracy)\n",
        "print('F1 Score:', f1)"
      ]
    },
    {
      "attachments": {},
      "cell_type": "markdown",
      "metadata": {
        "id": "GBI9WYd-B5RM"
      },
      "source": [
        "### Hyperparameter tuning :\n",
        "Randomized Search Cross Validation and Grid Search Cross Validation"
      ]
    },
    {
      "cell_type": "code",
      "execution_count": null,
      "metadata": {
        "id": "2FBIJSI-B5RM"
      },
      "outputs": [],
      "source": [
        "model = RandomForestClassifier()\n",
        "params = {\n",
        "    'n_estimators': [50, 100, 150, 200],\n",
        "    'criterion': ['gini', 'entropy'],\n",
        "    'max_depth': [None, 2, 3, 5],\n",
        "    'min_samples_split': [2, 4, 6],\n",
        "    'max_features': ['sqrt', 5, 'log2'],\n",
        "    'bootstrap': [True, False]\n",
        "}\n",
        "\n",
        "cv = RepeatedKFold(random_state=0)\n",
        "\n",
        "search = GridSearchCV(model, params, scoring='f1', n_jobs=-1, cv=cv)\n",
        "\n",
        "result = search.fit(x_train, y_train)\n",
        "\n",
        "print('Best Score:', result.best_score_)\n",
        "print('Best Hyperparameters:', result.best_params_)"
      ]
    },
    {
      "cell_type": "code",
      "execution_count": null,
      "metadata": {
        "id": "WQN64QEpsAqE"
      },
      "outputs": [],
      "source": [
        "model = RandomForestClassifier()\n",
        "params = {\n",
        "    'n_estimators': [150, 200, 250, 300],\n",
        "    'criterion': ['gini', 'entropy'],\n",
        "    'max_depth': [None, 3, 5],\n",
        "    'min_samples_split': [2, 4, 6],\n",
        "    'min_samples_leaf': [1, 3, 5, 6],\n",
        "    'bootstrap': [True, False]\n",
        "}\n",
        "\n",
        "cv = RepeatedKFold(random_state=0)\n",
        "\n",
        "search = RandomizedSearchCV(model, params, n_iter=500, scoring='f1', n_jobs=-1, cv=cv, random_state=0)\n",
        "\n",
        "result = search.fit(x_train, y_train)\n",
        "\n",
        "print('Best Score:', result.best_score_)\n",
        "print('Best Hyperparameters:', result.best_params_)"
      ]
    },
    {
      "attachments": {},
      "cell_type": "markdown",
      "metadata": {
        "id": "fYBJMAWT-XAv"
      },
      "source": [
        "#### Based on Grid and Random search, Training model again"
      ]
    },
    {
      "cell_type": "code",
      "execution_count": null,
      "metadata": {
        "id": "wod-Tlq0-VJq"
      },
      "outputs": [],
      "source": [
        "rfc = RandomForestClassifier(n_estimators=200, min_samples_split=4, criterion='entropy', bootstrap=True)\n",
        "rfc.fit(x_train, y_train)\n",
        "prediction = rfc.predict(x_test)\n",
        "\n",
        "confusion = confusion_matrix(y_test, prediction)\n",
        "accuracy = accuracy_score(y_test, prediction)\n",
        "f1 = f1_score(y_test, prediction)\n",
        "\n",
        "print('Confusion:\\n', confusion)\n",
        "print('Accuracy:', accuracy)\n",
        "print('F1 Score:', f1)"
      ]
    },
    {
      "attachments": {},
      "cell_type": "markdown",
      "metadata": {
        "id": "39cwqDhLB5RM"
      },
      "source": [
        "### Find important features with Random Forest model \n",
        "visualizing feature scores of the features"
      ]
    },
    {
      "cell_type": "code",
      "execution_count": null,
      "metadata": {
        "id": "9G1jOdwGB5RN"
      },
      "outputs": [],
      "source": [
        "importance = pd.DataFrame({\n",
        "    'feature': [_ for _ in range(x_train.shape[1])],\n",
        "    'importance': np.round(rfc.feature_importances_, 4)\n",
        "})\n",
        "importance = importance.sort_values('importance', ascending=False).set_index('feature')\n",
        "\n",
        "importance.plot(kind='bar', figsize=(20, 10))\n",
        "plt.show()"
      ]
    },
    {
      "attachments": {},
      "cell_type": "markdown",
      "metadata": {
        "id": "DdulRxFFDfSS"
      },
      "source": [
        "### Improve Model"
      ]
    },
    {
      "attachments": {},
      "cell_type": "markdown",
      "metadata": {
        "id": "jY_QchqOBzst"
      },
      "source": [
        "Here we're going to only use 6 of the most important features that we got from previous classification \"importance\". As we can see this 6 features helped model not only from bias, but we are getting higher accuracy and F1 score."
      ]
    },
    {
      "cell_type": "code",
      "execution_count": null,
      "metadata": {
        "id": "bm_R_jdT1Dmt"
      },
      "outputs": [],
      "source": [
        "features = list(importance.index[:6])\n",
        "\n",
        "rfc = RandomForestClassifier(n_estimators=200, min_samples_split=4, criterion='entropy', bootstrap=True)\n",
        "rfc.fit(x_train[:, features], y_train)\n",
        "prediction = rfc.predict(x_test[:, features])\n",
        "\n",
        "confusion = confusion_matrix(y_test, prediction)\n",
        "accuracy = accuracy_score(y_test, prediction)\n",
        "f1 = f1_score(y_test, prediction)\n",
        "\n",
        "print('Confusion:\\n', confusion)\n",
        "print('Accuracy:', accuracy)\n",
        "print('F1 Score:', f1)"
      ]
    },
    {
      "attachments": {},
      "cell_type": "markdown",
      "metadata": {
        "id": "IP9y4KlbB5RN"
      },
      "source": [
        "## XGBoost\n",
        "### Train the model"
      ]
    },
    {
      "cell_type": "code",
      "execution_count": 11,
      "metadata": {
        "id": "zlIiW7hVB5RN"
      },
      "outputs": [],
      "source": [
        "model = XGBClassifier()\n",
        "model.fit(x_train, y_train)\n",
        "\n",
        "y_pred = model.predict(x_test)"
      ]
    },
    {
      "attachments": {},
      "cell_type": "markdown",
      "metadata": {
        "id": "PLFSUhl6B5RN"
      },
      "source": [
        "### Model assessment"
      ]
    },
    {
      "cell_type": "code",
      "execution_count": 17,
      "metadata": {
        "colab": {
          "base_uri": "https://localhost:8080/"
        },
        "id": "V51DuD_3B5RN",
        "outputId": "efeed881-e902-4045-eed3-f5bf70e121df"
      },
      "outputs": [
        {
          "name": "stdout",
          "output_type": "stream",
          "text": [
            "Confusion:\n",
            " [[167  54]\n",
            " [ 59 101]]\n",
            "Accuracy: 0.7034120734908137\n",
            "F1 Score: 0.6412698412698413\n",
            "ROC-AUC: 0.6934530542986425\n"
          ]
        }
      ],
      "source": [
        "confusion = confusion_matrix(y_test, y_pred, labels=model.classes_)\n",
        "accuracy = accuracy_score(y_test, y_pred)\n",
        "f1 = f1_score(y_test, y_pred)\n",
        "roc_auc = roc_auc_score(y_test, y_pred)\n",
        "\n",
        "print('Confusion:\\n', confusion)\n",
        "print('Accuracy:', accuracy)\n",
        "print('F1 Score:', f1)\n",
        "print('ROC-AUC:', roc_auc)"
      ]
    },
    {
      "attachments": {},
      "cell_type": "markdown",
      "metadata": {
        "id": "nHjv0Ud3B5RO"
      },
      "source": [
        "### Plot the results"
      ]
    },
    {
      "cell_type": "code",
      "execution_count": 15,
      "metadata": {
        "colab": {
          "base_uri": "https://localhost:8080/",
          "height": 449
        },
        "id": "ndNZvDOQH8fh",
        "outputId": "faec2e81-4e16-403b-8893-54628e1bc468"
      },
      "outputs": [
        {
          "data": {
            "image/png": "[encoded data removed]",
            "text/plain": [
              "<Figure size 640x480 with 1 Axes>"
            ]
          },
          "metadata": {},
          "output_type": "display_data"
        }
      ],
      "source": [
        "fpr, tpr, thresholds = roc_curve(y_test, y_pred)\n",
        "plt.plot(fpr, tpr)\n",
        "plt.xlabel('False Positive Rate')\n",
        "plt.ylabel('True Positive Rate')\n",
        "plt.show()"
      ]
    },
    {
      "cell_type": "code",
      "execution_count": 13,
      "metadata": {
        "colab": {
          "base_uri": "https://localhost:8080/",
          "height": 449
        },
        "id": "kghhayz8B5RO",
        "outputId": "f67e2137-ed4d-42b6-bbb1-6c8379e48375"
      },
      "outputs": [
        {
          "data": {
            "image/png": "[encoded data removed]",
            "text/plain": [
              "<Figure size 640x480 with 2 Axes>"
            ]
          },
          "metadata": {},
          "output_type": "display_data"
        }
      ],
      "source": [
        "disp = ConfusionMatrixDisplay(confusion_matrix=confusion, display_labels=['Survived', 'Died'])\n",
        "disp.plot()\n",
        "plt.show()"
      ]
    },
    {
      "attachments": {},
      "cell_type": "markdown",
      "metadata": {
        "id": "JvzcxNzxB5RO"
      },
      "source": [
        "### Hyperparameter Tuning: Grid Search and Cross Validation"
      ]
    },
    {
      "cell_type": "code",
      "execution_count": null,
      "metadata": {
        "id": "7wZQNavnB5RO"
      },
      "outputs": [],
      "source": [
        "model = XGBClassifier()\n",
        "params = {\n",
        "    'n_estimators': [150, 200, 250, 300],\n",
        "    'learning_rate': [0.1, 0.01, 0.05],\n",
        "    'max_depth': [3, 6],\n",
        "    'min_child_weight': [1, 3, 6]\n",
        "}\n",
        "\n",
        "cv = StratifiedKFold(shuffle=True, random_state=0)\n",
        "\n",
        "search = RandomizedSearchCV(model, params, scoring='roc_auc', n_jobs=-1, cv=cv, random_state=0)\n",
        "\n",
        "result = search.fit(x_train, y_train)\n",
        "\n",
        "print('Best Score:', result.best_score_)\n",
        "print('Best Hyperparameters:', result.best_params_)"
      ]
    },
    {
      "attachments": {},
      "cell_type": "markdown",
      "metadata": {
        "id": "2kSBv8dpB5RO"
      },
      "source": [
        "### Assessing model performance using the best model from grid search"
      ]
    },
    {
      "cell_type": "code",
      "execution_count": null,
      "metadata": {
        "id": "sT7AgRtDB5RO"
      },
      "outputs": [],
      "source": [
        "model = XGBClassifier(n_estimators=150, max_depth=3, learning_rate=0.05)\n",
        "model.fit(x_train, y_train)\n",
        "\n",
        "y_pred = model.predict(x_test)\n",
        "\n",
        "accuracy = accuracy_score(y_test, y_pred)\n",
        "f1 = f1_score(y_test, y_pred)\n",
        "\n",
        "print('Accuracy:', accuracy)\n",
        "print('F1 Score:', f1)"
      ]
    },
    {
      "attachments": {},
      "cell_type": "markdown",
      "metadata": {
        "id": "BNRbwqeFB5RP"
      },
      "source": [
        "### Create the feature importances plot, plot a decision tree from the booster."
      ]
    },
    {
      "cell_type": "code",
      "execution_count": null,
      "metadata": {
        "id": "0uuAhFvPB5RP"
      },
      "outputs": [],
      "source": [
        "importance = pd.DataFrame({\n",
        "    'feature': [_ for _ in range(x_train.shape[1])],\n",
        "    'importance': np.round(model.feature_importances_, 4)\n",
        "})\n",
        "importance = importance.sort_values('importance', ascending=False).set_index('feature')\n",
        "\n",
        "importance.plot(kind='bar', figsize=(12, 8))\n",
        "plt.show()"
      ]
    },
    {
      "cell_type": "code",
      "execution_count": null,
      "metadata": {
        "id": "AkUhOZA3Jc7u"
      },
      "outputs": [],
      "source": [
        "fig, ax = plt.subplots(figsize=(20, 15))\n",
        "plot_tree(model, ax=ax, rankdir='LR')\n",
        "plt.show()"
      ]
    },
    {
      "attachments": {},
      "cell_type": "markdown",
      "metadata": {
        "id": "cJkzsT8rDlk5"
      },
      "source": [
        "### Improve Model"
      ]
    },
    {
      "attachments": {},
      "cell_type": "markdown",
      "metadata": {
        "id": "JKvNQLB_MAfl"
      },
      "source": [
        "#### For improvement we're using features that have `importance > 0`. This will improve time complexity of model (29 feature were redundant), but no improvements for accuracy of the model. For Accuracy improvement we can use GridSearchCV to check all parameters instead of choosing random permutations."
      ]
    },
    {
      "cell_type": "code",
      "execution_count": null,
      "metadata": {
        "id": "4RylEYZJDmPq"
      },
      "outputs": [],
      "source": [
        "features = list(importance.index[:45])\n",
        "\n",
        "model = XGBClassifier(n_estimators=150, max_depth=3, learning_rate=0.05)\n",
        "model.fit(x_train[:, features], y_train)\n",
        "prediction = model.predict(x_test[:, features])\n",
        "\n",
        "accuracy = accuracy_score(y_test, prediction)\n",
        "f1 = f1_score(y_test, prediction)\n",
        "\n",
        "print('Accuracy:', accuracy)\n",
        "print('F1 Score:', f1)"
      ]
    },
    {
      "attachments": {},
      "cell_type": "markdown",
      "metadata": {
        "id": "N7LGvczQ1Dm2"
      },
      "source": [
        "## Comparison between XGBoost and Random Forest Classifier"
      ]
    },
    {
      "attachments": {},
      "cell_type": "markdown",
      "metadata": {
        "id": "Q6rcCNZL1Dm3"
      },
      "source": [
        "Accuracy-wise Random Forest had better accuray and F1 score.\n",
        "Time-wise XGBoost was faster to compute.\n",
        "Parameter tuning is easier for Random Forest. When we preprocess the data and we have a clean one it's better to use Random Forest. \n",
        "In Random Forest we could use only six features (that were the most important) and get better results. However, for XGBoost we must have used all the feature with `importance > 0` to get the maximum accuracy."
      ]
    }
  ],
  "metadata": {
    "colab": {
      "collapsed_sections": [
        "U2sVgR-sB5RG",
        "5zPud3PpB5RJ",
        "DE7hEApWB5RK"
      ],
      "provenance": []
    },
    "kernelspec": {
      "display_name": "Python 3",
      "language": "python",
      "name": "python3"
    },
    "language_info": {
      "codemirror_mode": {
        "name": "ipython",
        "version": 3
      },
      "file_extension": ".py",
      "mimetype": "text/x-python",
      "name": "python",
      "nbconvert_exporter": "python",
      "pygments_lexer": "ipython3",
      "version": "3.8.8"
    },
    "pycharm": {
      "stem_cell": {
        "cell_type": "raw",
        "metadata": {
          "collapsed": false
        },
        "source": []
      }
    }
  },
  "nbformat": 4,
  "nbformat_minor": 0
}
