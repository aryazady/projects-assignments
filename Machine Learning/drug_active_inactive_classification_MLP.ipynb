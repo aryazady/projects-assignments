{
  "cells": [
    {
      "cell_type": "markdown",
      "metadata": {
        "id": "tXkTLH7x_AAB"
      },
      "source": [
        "<font face=\"Times New Roman\">\n",
        "<div dir=ltr align=center>\n",
        "<font color=3C99D size=5>\n",
        "    Multi-Layer Perceptron (MLP)"
      ]
    },
    {
      "cell_type": "markdown",
      "metadata": {
        "id": "Hnkccv8vVT-o"
      },
      "source": [
        "# Description"
      ]
    },
    {
      "cell_type": "markdown",
      "metadata": {
        "id": "A9Itv81cfTG4"
      },
      "source": [
        "**In this notebook we'll be working with Dorothea Dataset.**\n",
        "\n",
        "DOROTHEA is a drug discovery dataset. Chemical compounds represented by structural molecular features must be classified as active (binding to thrombin) or inactive.\n",
        "To find out more about dataset, refer to this link: https://archive.ics.uci.edu/ml/datasets/Dorothea"
      ]
    },
    {
      "cell_type": "markdown",
      "metadata": {
        "id": "zqSzHiJuUh7V"
      },
      "source": [
        "# Importing libraries, modules and Dataset."
      ]
    },
    {
      "cell_type": "code",
      "execution_count": 100,
      "metadata": {
        "id": "WgjSY5BaViF2"
      },
      "outputs": [],
      "source": [
        "import os\n",
        "os.environ['CUDA_LAUNCH_BLOCKING'] = \"1\"\n",
        "import matplotlib.pyplot as plt\n",
        "import random\n",
        "import torch\n",
        "import torch.nn as nn\n",
        "from torch.utils.data import Dataset, DataLoader\n",
        "import numpy as np\n",
        "import pandas as pd\n",
        "from sklearn.preprocessing import StandardScaler\n",
        "from sklearn.decomposition import PCA\n",
        "from sklearn.metrics import confusion_matrix, f1_score, accuracy_score, roc_auc_score, ConfusionMatrixDisplay\n",
        "from imblearn.over_sampling import SMOTE\n",
        "from imblearn.under_sampling import RandomUnderSampler\n",
        "from imblearn.pipeline import Pipeline\n",
        "\n",
        "torch.manual_seed(1)"
      ]
    },
    {
      "cell_type": "code",
      "execution_count": 2,
      "metadata": {
        "colab": {
          "base_uri": "https://localhost:8080/"
        },
        "id": "Yt5FkjdvGCYj",
        "outputId": "a121a387-5141-4efe-c400-04c71dc3054b"
      },
      "outputs": [
        {
          "name": "stdout",
          "output_type": "stream",
          "text": [
            "--2023-05-27 15:50:51--  https://archive.ics.uci.edu/ml/machine-learning-databases/dorothea/DOROTHEA/dorothea_valid.data\n",
            "Resolving archive.ics.uci.edu (archive.ics.uci.edu)... 128.195.10.252\n",
            "Connecting to archive.ics.uci.edu (archive.ics.uci.edu)|128.195.10.252|:443... connected.\n",
            "HTTP request sent, awaiting response... 200 OK\n",
            "Length: 1871651 (1.8M) [application/x-httpd-php]\n",
            "Saving to: ‘dorothea_valid.data’\n",
            "\n",
            "dorothea_valid.data 100%[===================>]   1.78M  1.65MB/s    in 1.1s    \n",
            "\n",
            "2023-05-27 15:50:53 (1.65 MB/s) - ‘dorothea_valid.data’ saved [1871651/1871651]\n",
            "\n",
            "--2023-05-27 15:50:53--  https://archive.ics.uci.edu/ml/machine-learning-databases/dorothea/dorothea_valid.labels\n",
            "Resolving archive.ics.uci.edu (archive.ics.uci.edu)... 128.195.10.252\n",
            "Connecting to archive.ics.uci.edu (archive.ics.uci.edu)|128.195.10.252|:443... connected.\n",
            "HTTP request sent, awaiting response... 200 OK\n",
            "Length: 1016 [application/x-httpd-php]\n",
            "Saving to: ‘dorothea_valid.labels’\n",
            "\n",
            "dorothea_valid.labe 100%[===================>]    1016  --.-KB/s    in 0s      \n",
            "\n",
            "2023-05-27 15:50:54 (43.2 MB/s) - ‘dorothea_valid.labels’ saved [1016/1016]\n",
            "\n",
            "--2023-05-27 15:50:54--  https://archive.ics.uci.edu/ml/machine-learning-databases/dorothea/DOROTHEA/dorothea_train.data\n",
            "Resolving archive.ics.uci.edu (archive.ics.uci.edu)... 128.195.10.252\n",
            "Connecting to archive.ics.uci.edu (archive.ics.uci.edu)|128.195.10.252|:443... connected.\n",
            "HTTP request sent, awaiting response... 200 OK\n",
            "Length: 4287039 (4.1M) [application/x-httpd-php]\n",
            "Saving to: ‘dorothea_train.data’\n",
            "\n",
            "dorothea_train.data 100%[===================>]   4.09M  3.32MB/s    in 1.2s    \n",
            "\n",
            "2023-05-27 15:50:56 (3.32 MB/s) - ‘dorothea_train.data’ saved [4287039/4287039]\n",
            "\n",
            "--2023-05-27 15:50:56--  https://archive.ics.uci.edu/ml/machine-learning-databases/dorothea/DOROTHEA/dorothea_train.labels\n",
            "Resolving archive.ics.uci.edu (archive.ics.uci.edu)... 128.195.10.252\n",
            "Connecting to archive.ics.uci.edu (archive.ics.uci.edu)|128.195.10.252|:443... connected.\n",
            "HTTP request sent, awaiting response... 200 OK\n",
            "Length: 2322 (2.3K) [application/x-httpd-php]\n",
            "Saving to: ‘dorothea_train.labels’\n",
            "\n",
            "dorothea_train.labe 100%[===================>]   2.27K  --.-KB/s    in 0s      \n",
            "\n",
            "2023-05-27 15:50:56 (64.5 MB/s) - ‘dorothea_train.labels’ saved [2322/2322]\n",
            "\n",
            "--2023-05-27 15:50:56--  https://archive.ics.uci.edu/ml/machine-learning-databases/dorothea/DOROTHEA/dorothea.param\n",
            "Resolving archive.ics.uci.edu (archive.ics.uci.edu)... 128.195.10.252\n",
            "Connecting to archive.ics.uci.edu (archive.ics.uci.edu)|128.195.10.252|:443... connected.\n",
            "HTTP request sent, awaiting response... 200 OK\n",
            "Length: 268 [application/x-httpd-php]\n",
            "Saving to: ‘dorothea.param’\n",
            "\n",
            "dorothea.param      100%[===================>]     268  --.-KB/s    in 0s      \n",
            "\n",
            "2023-05-27 15:50:57 (16.3 MB/s) - ‘dorothea.param’ saved [268/268]\n",
            "\n"
          ]
        }
      ],
      "source": [
        "!wget \"https://archive.ics.uci.edu/ml/machine-learning-databases/dorothea/DOROTHEA/dorothea_valid.data\"\n",
        "!wget \"https://archive.ics.uci.edu/ml/machine-learning-databases/dorothea/dorothea_valid.labels\"\n",
        "!wget \"https://archive.ics.uci.edu/ml/machine-learning-databases/dorothea/DOROTHEA/dorothea_train.data\"\n",
        "!wget \"https://archive.ics.uci.edu/ml/machine-learning-databases/dorothea/DOROTHEA/dorothea_train.labels\"\n",
        "# !wget \"https://archive.ics.uci.edu/ml/machine-learning-databases/dorothea/DOROTHEA/dorothea_test.data\"\n",
        "!wget \"https://archive.ics.uci.edu/ml/machine-learning-databases/dorothea/DOROTHEA/dorothea.param\""
      ]
    },
    {
      "cell_type": "code",
      "execution_count": 202,
      "metadata": {
        "id": "jNaH5szYV9Y4"
      },
      "outputs": [],
      "source": [
        "def zero_one(data):\n",
        "  for i, e in enumerate(data):\n",
        "    if e == -1:\n",
        "      data[i] = 0\n",
        "\n",
        "X_train = np.zeros((800, 100000))\n",
        "X_test = np.zeros((350, 100000))\n",
        "with open('./dorothea_train.data', 'r') as f:\n",
        "  lines = f.readlines()\n",
        "  for i, l in enumerate(lines):\n",
        "    for j in l.strip().split(' '):\n",
        "      X_train[i, int(j)-1] = 1\n",
        "with open('./dorothea_valid.data', 'r') as f:\n",
        "  lines = f.readlines()\n",
        "  for i, l in enumerate(lines):\n",
        "    for j in l.strip().split(' '):\n",
        "      X_test[i, int(j)-1] = 1\n",
        "\n",
        "y_train = pd.read_csv(\"./dorothea_train.labels\", header=None)[0]\n",
        "y_test = pd.read_csv(\"./dorothea_valid.labels\", header=None)[0]\n",
        "zero_one(y_train)\n",
        "zero_one(y_test)"
      ]
    },
    {
      "cell_type": "markdown",
      "metadata": {
        "id": "RgEJNhp_UiEa"
      },
      "source": [
        "## Normalizing"
      ]
    },
    {
      "cell_type": "code",
      "execution_count": 203,
      "metadata": {
        "id": "wnkmpnpv_AAI"
      },
      "outputs": [],
      "source": [
        "scaler = StandardScaler()\n",
        "transformer = scaler.fit(X_train)\n",
        "X_train = transformer.transform(X_train)\n",
        "X_test = transformer.transform(X_test)"
      ]
    },
    {
      "cell_type": "markdown",
      "metadata": {
        "id": "pQVOozI3Gjdv"
      },
      "source": [
        "## Dimensionality Reduction"
      ]
    },
    {
      "cell_type": "code",
      "execution_count": 131,
      "metadata": {
        "id": "wrdakV-5ZsRP"
      },
      "outputs": [],
      "source": [
        "pca = PCA(n_components=10)\n",
        "transformer = pca.fit(X_train)\n",
        "X_train = transformer.transform(X_train)\n",
        "X_test = transformer.transform(X_test)"
      ]
    },
    {
      "cell_type": "markdown",
      "metadata": {
        "id": "jFTEH0H23BtL"
      },
      "source": [
        "# Defining Model"
      ]
    },
    {
      "cell_type": "code",
      "execution_count": 197,
      "metadata": {
        "id": "1z8_ahC_3S5f"
      },
      "outputs": [],
      "source": [
        "class ClassifierModel(nn.Module):\n",
        "    def __init__(self, in_dim):\n",
        "      super().__init__()\n",
        "\n",
        "      self.layer_1 = nn.Linear(in_dim, 256) \n",
        "      self.layer_2 = nn.Linear(256, 32)\n",
        "      self.layer_out = nn.Linear(32, 1) \n",
        "      self.relu = nn.ReLU()\n",
        "      self.dropout = nn.Dropout(p=0.5)\n",
        "      self.batchnorm1 = nn.BatchNorm1d(256)\n",
        "      self.batchnorm2 = nn.BatchNorm1d(32)\n",
        "\n",
        "    def forward(self, x):\n",
        "      x = self.dropout(x)\n",
        "      x = self.relu(self.layer_1(x))\n",
        "      x = self.batchnorm1(x)\n",
        "      x = self.dropout(x)\n",
        "      x = self.relu(self.layer_2(x))\n",
        "      x = self.batchnorm2(x)\n",
        "      x = self.dropout(x)\n",
        "      x = self.layer_out(x)\n",
        "\n",
        "      return x"
      ]
    },
    {
      "cell_type": "code",
      "execution_count": 7,
      "metadata": {
        "id": "VZY8bwcuxcpg"
      },
      "outputs": [],
      "source": [
        "class TrainDataset(Dataset):\n",
        "  def __init__(self, x, y):\n",
        "    self.x = torch.tensor(x, dtype=torch.float32)\n",
        "    self.y = torch.tensor(y, dtype=torch.float32)\n",
        "    self.length = self.x.shape[0]\n",
        " \n",
        "  def __getitem__(self, idx):\n",
        "    return self.x[idx], self.y[idx]\n",
        "  \n",
        "  def __len__(self):\n",
        "    return self.length\n",
        "\n",
        "class TestDataset(Dataset):\n",
        "  def __init__(self, x):\n",
        "    self.x = torch.tensor(x, dtype=torch.float32)\n",
        "    self.length = self.x.shape[0]\n",
        " \n",
        "  def __getitem__(self, idx):\n",
        "    return self.x[idx]\n",
        "  \n",
        "  def __len__(self):\n",
        "    return self.length"
      ]
    },
    {
      "cell_type": "markdown",
      "metadata": {
        "id": "IGUFUbsw3n9A"
      },
      "source": [
        "# Train the model"
      ]
    },
    {
      "cell_type": "code",
      "execution_count": 9,
      "metadata": {
        "id": "YV0FgUYc4J-Y"
      },
      "outputs": [],
      "source": [
        "def train(model, optimizer, train_loader, device):\n",
        "  model.train()\n",
        "  train_loss = 0\n",
        "  bce_l = nn.BCEWithLogitsLoss()\n",
        "  for batch_idx, (data, y_test) in enumerate(train_loader):\n",
        "    data, y_test = data.to(device), y_test.to(device)\n",
        "    optimizer.zero_grad()\n",
        "\n",
        "    y_pred = model(data)\n",
        "\n",
        "    loss = bce_l(y_pred, y_test.unsqueeze(1))\n",
        "    loss.backward()\n",
        "    optimizer.step()\n",
        "\n",
        "    train_loss += loss.item()\n",
        "\n",
        "  average_loss = train_loss / len(train_loader)\n",
        "  \n",
        "  return average_loss"
      ]
    },
    {
      "cell_type": "code",
      "execution_count": 209,
      "metadata": {
        "id": "juAV3SzuCvMy"
      },
      "outputs": [],
      "source": [
        "def test(model, test_loader, device):\n",
        "  model.eval()\n",
        "  y_pred_list = []\n",
        "  test_loss = 0\n",
        "  bce_l = nn.BCEWithLogitsLoss()\n",
        "  with torch.no_grad():\n",
        "    for X_batch, y_test in test_loader:\n",
        "      X_batch, y_test = X_batch.to(device), y_test.to(device)\n",
        "      y_pred = model(X_batch)\n",
        "      loss = bce_l(y_pred, y_test.unsqueeze(1))\n",
        "      y_pred = torch.sigmoid(y_pred)\n",
        "      y_pred_r = torch.round(y_pred)\n",
        "      y_pred_list.append(y_pred_r.cpu().numpy())\n",
        "\n",
        "      test_loss += loss.item()\n",
        "\n",
        "  y_pred_list = [a.squeeze().tolist() for a in y_pred_list]\n",
        "  average_loss = test_loss / len(test_loader)\n",
        "  return average_loss, y_pred_list"
      ]
    },
    {
      "cell_type": "code",
      "execution_count": 210,
      "metadata": {
        "colab": {
          "base_uri": "https://localhost:8080/"
        },
        "id": "r2XcR7-Pzw_T",
        "outputId": "7871f921-7764-450c-a9ee-a11680fdc4b2"
      },
      "outputs": [
        {
          "name": "stdout",
          "output_type": "stream",
          "text": [
            "cuda\n",
            "====> Epoch: 2 Train-loss: 0.66331 | Test-loss: 0.64500\n",
            "====> Epoch: 4 Train-loss: 0.57210 | Test-loss: 0.62384\n",
            "====> Epoch: 6 Train-loss: 0.55301 | Test-loss: 0.61468\n",
            "====> Epoch: 8 Train-loss: 0.50438 | Test-loss: 0.59362\n",
            "====> Epoch: 10 Train-loss: 0.47702 | Test-loss: 0.58273\n",
            "====> Epoch: 12 Train-loss: 0.45469 | Test-loss: 0.58009\n",
            "====> Epoch: 14 Train-loss: 0.43995 | Test-loss: 0.56366\n",
            "====> Epoch: 16 Train-loss: 0.40344 | Test-loss: 0.54374\n",
            "====> Epoch: 18 Train-loss: 0.37210 | Test-loss: 0.52430\n",
            "====> Epoch: 20 Train-loss: 0.36862 | Test-loss: 0.49295\n",
            "====> Epoch: 22 Train-loss: 0.35752 | Test-loss: 0.49965\n",
            "====> Epoch: 24 Train-loss: 0.33731 | Test-loss: 0.47808\n",
            "====> Epoch: 26 Train-loss: 0.32509 | Test-loss: 0.45919\n",
            "====> Epoch: 28 Train-loss: 0.29964 | Test-loss: 0.44515\n"
          ]
        }
      ],
      "source": [
        "device = torch.device(\"cuda\" if torch.cuda.is_available() else \"cpu\")\n",
        "print(device)\n",
        "\n",
        "in_dim = 10\n",
        "model = ClassifierModel(in_dim).to(device)\n",
        "\n",
        "optimizer = torch.optim.Adam(model.parameters(), lr=0.0001)\n",
        "\n",
        "train_set = TrainDataset(X_train, y_train)\n",
        "train_loader = DataLoader(train_set, batch_size=32, shuffle=True)\n",
        "\n",
        "test_set = TrainDataset(X_test, y_test)\n",
        "test_loader = DataLoader(test_set, batch_size=1, shuffle=False)\n",
        "\n",
        "epochs = 28\n",
        "\n",
        "train_loss = []\n",
        "test_loss = []\n",
        "y_pred_list = []\n",
        "for epoch in range(1, epochs+1):\n",
        "  train_l = train(model, optimizer, train_loader, device)\n",
        "  test_l, y_pred = test(model, test_loader, device)\n",
        "  y_pred_list.append(y_pred)\n",
        "  train_loss.append(train_l)\n",
        "  test_loss.append(test_l)\n",
        "\n",
        "  if epoch % 2 == 0:\n",
        "    print('====> Epoch: {} Train-loss: {:.5f} | Test-loss: {:.5f}'.format(epoch, train_l, test_l))"
      ]
    },
    {
      "cell_type": "code",
      "execution_count": 211,
      "metadata": {
        "colab": {
          "base_uri": "https://localhost:8080/",
          "height": 619
        },
        "id": "3br2A_3x7tLY",
        "outputId": "809db5c9-eda3-4b86-db19-3a61d55d3f1e"
      },
      "outputs": [
        {
          "data": {
            "image/png": "[encoded data removed]",
            "text/plain": [
              "<Figure size 700x700 with 1 Axes>"
            ]
          },
          "metadata": {},
          "output_type": "display_data"
        }
      ],
      "source": [
        "plt.subplots(1, figsize=(7,7))\n",
        "plt.plot(np.linspace(1, epochs, epochs), train_loss, label=\"train\", color=\"blue\")\n",
        "plt.plot(np.linspace(1, epochs, epochs), test_loss, label=\"test\", color=\"red\")\n",
        "plt.xlabel(\"Epochs\")\n",
        "plt.ylabel(\"Loss\")\n",
        "plt.legend(loc=\"best\")\n",
        "plt.show()"
      ]
    },
    {
      "cell_type": "code",
      "execution_count": 212,
      "metadata": {
        "colab": {
          "base_uri": "https://localhost:8080/",
          "height": 696
        },
        "id": "KEgZebDXgof4",
        "outputId": "b852c740-aec6-4af4-bf23-fcce58703435"
      },
      "outputs": [
        {
          "data": {
            "image/png": "[encoded data removed]",
            "text/plain": [
              "<Figure size 600x800 with 2 Axes>"
            ]
          },
          "metadata": {},
          "output_type": "display_data"
        }
      ],
      "source": [
        "fig, axes = plt.subplots(nrows=2, ncols=1, figsize=(6, 8))\n",
        "acc = [accuracy_score(y_test, y) for y in y_pred_list]\n",
        "f1 = [f1_score(y_test, y) for y in y_pred_list]\n",
        "axes[0].plot(np.linspace(1, epochs, epochs), acc)\n",
        "axes[0].set_ylabel(\"Accuracy\")\n",
        "axes[1].plot(np.linspace(1, epochs, epochs), f1)\n",
        "axes[1].set_ylabel(\"F1-score\")\n",
        "for ax in axes:\n",
        "  ax.set_xlabel(\"Epochs\")\n",
        "\n",
        "plt.show()"
      ]
    },
    {
      "cell_type": "markdown",
      "metadata": {
        "id": "vbwXdL9Ph2jD"
      },
      "source": [
        "# Testing"
      ]
    },
    {
      "cell_type": "code",
      "execution_count": 213,
      "metadata": {
        "colab": {
          "base_uri": "https://localhost:8080/"
        },
        "id": "hzuhWfc3ia5s",
        "outputId": "614edac7-8db0-4096-fd8a-7cc434010565"
      },
      "outputs": [
        {
          "name": "stdout",
          "output_type": "stream",
          "text": [
            "F1-score: 0.6756756756756757\n",
            "Accuracy: 0.9314285714285714\n",
            "ROC_AUC: 0.8439128816083395\n"
          ]
        }
      ],
      "source": [
        "def test(model, test_loader, device):\n",
        "  model.eval()\n",
        "  y_pred_list = []\n",
        "  with torch.no_grad():\n",
        "    for X_batch, _ in test_loader:\n",
        "      X_batch = X_batch.to(device)\n",
        "      y_pred = model(X_batch)\n",
        "      y_pred = torch.sigmoid(y_pred)\n",
        "      y_pred_r = torch.round(y_pred)\n",
        "      y_pred_list.append(y_pred_r.cpu().numpy())\n",
        "\n",
        "  y_pred_list = [a.squeeze().tolist() for a in y_pred_list]\n",
        "  return y_pred_list\n",
        "\n",
        "y_pred = test(model, test_loader, device)\n",
        "\n",
        "print(\"F1-score:\", f1_score(y_test, y_pred))\n",
        "print(\"Accuracy:\", accuracy_score(y_test, y_pred))\n",
        "print(\"ROC_AUC:\", roc_auc_score(y_test, y_pred))"
      ]
    },
    {
      "cell_type": "code",
      "execution_count": 214,
      "metadata": {
        "colab": {
          "base_uri": "https://localhost:8080/",
          "height": 471
        },
        "id": "qvIgzir5enGu",
        "outputId": "fc8a5fb1-a67b-40ea-bc48-c38360899956"
      },
      "outputs": [
        {
          "data": {
            "text/plain": [
              "<sklearn.metrics._plot.confusion_matrix.ConfusionMatrixDisplay at 0x7faa1a548100>"
            ]
          },
          "execution_count": 214,
          "metadata": {},
          "output_type": "execute_result"
        },
        {
          "data": {
            "image/png": "[encoded data removed]",
            "text/plain": [
              "<Figure size 640x480 with 2 Axes>"
            ]
          },
          "metadata": {},
          "output_type": "display_data"
        }
      ],
      "source": [
        "cm = confusion_matrix(y_test, y_pred)\n",
        "disp = ConfusionMatrixDisplay(cm)\n",
        "disp.plot()"
      ]
    },
    {
      "cell_type": "markdown",
      "metadata": {
        "id": "mVS1ov-8Q6YX"
      },
      "source": [
        "# Saving Model"
      ]
    },
    {
      "cell_type": "code",
      "execution_count": 216,
      "metadata": {
        "id": "lqbJXBT-Q5sz"
      },
      "outputs": [],
      "source": [
        "torch.save(model.state_dict(), './mlp_saved.pt')"
      ]
    }
  ],
  "metadata": {
    "accelerator": "GPU",
    "colab": {
      "gpuType": "T4",
      "provenance": []
    },
    "gpuClass": "standard",
    "kernelspec": {
      "display_name": "Python 3",
      "language": "python",
      "name": "python3"
    },
    "language_info": {
      "codemirror_mode": {
        "name": "ipython",
        "version": 3
      },
      "file_extension": ".py",
      "mimetype": "text/x-python",
      "name": "python",
      "nbconvert_exporter": "python",
      "pygments_lexer": "ipython3",
      "version": "3.8.8"
    }
  },
  "nbformat": 4,
  "nbformat_minor": 0
}
